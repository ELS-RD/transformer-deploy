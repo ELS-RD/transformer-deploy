{
 "cells": [
  {
   "cell_type": "markdown",
   "metadata": {
    "collapsed": false,
    "pycharm": {
     "name": "#%% md\n"
    }
   },
   "source": [
    "# Inference acceleration of T5 for large batch size / long sequence length\n",
    "\n",
    "Accelerating autoregressive models for large batches and long sequence length is not easy.\n",
    "\n",
    "\n",
    "TODO : remind our objective\n",
    "\n",
    "* generic (little technical debt)\n",
    "* effective (large speed up on real use cases, large batches, long sequence)\n",
    "* keep quality\n",
    "\n",
    "To be clear, we are not targeting the best performance ever but the right trade off (for us at least) between simplicity and great performances until more performant solutions are matured enough to be used without a second thought.\n",
    "\n",
    "## The challenge\n",
    "\n",
    "In most situations, performing inference with Onnx Runtime or ``TensorRT`` usually bring large improvement over Pytorch implementations.\n",
    "It's very true with `transformer` based models.\n",
    "\n",
    "The main reason is that these tools will perform kernel fusions (merging several operations into a single one) and therefore reduce the number of memory bounded operations.\n",
    "In the very specific case of autoregressive languages, things are a bit more complicated.\n",
    "\n",
    "On most Pytorch implementations of these models, there is a `cache` of K and V values.\n",
    "Let's remind us that in the self-attention block, each token is projected on 3 matrices called Query, Key, and Value.\n",
    "Then, those projections will be used to compute a representation of each token which takes into account all the other tokens of the sequence.\n",
    "\n",
    "As autoregressive models generate the sequence one token at a time, they recompute final representation of all past tokens for each new token to generate.\n",
    "Because each token can only attend to the past, the result of these computations never changes; therefore one easy trick is to just memorize them and reuse them later, avoiding lots of computation.\n",
    "\n",
    "Out of the box, the cache mechanism can't be exported to Onnx from Hugging Face models (and all other Pytorch implementations we are aware of).\n",
    "The reason is that those models are not `torchscript` compliant (it requires Pytorch code to follow some restrictive rules).\n",
    "Because of that, Onnx export is done through `tracing` which erase any control flow (including the `If` instruction to enable or not a cache).\n",
    "\n",
    "## Existing solutions\n",
    "\n",
    "Some projects have tried to work around that:\n",
    "* [TensorRT](https://developer.nvidia.com/blog/optimizing-t5-and-gpt-2-for-real-time-inference-with-`TensorRT`/), which targets `GPU`, heavily optimizes the computation graph, making inference very fast even if it has to redo computation again and again. As many have already found ([1](https://github.com/NVIDIA/TensorRT/issues/1807), [2](https://github.com/NVIDIA/TensorRT/issues/1642), [3](https://github.com/NVIDIA/TensorRT/issues/1799), [4](https://github.com/NVIDIA/TensorRT/issues/1845), ...), this approach doesn't scale to many real-life scenarios (beam search and/or long sequence length);\n",
    "* [FastT5](https://github.com/Ki6an/fastT5), which targets `CPU`, exports 2 versions of the decoder, one with cache and one without. You need the `no cache` version to compute the first token and the first `past state` tensors (aka the cached tensors), and for all the other tokens you use the `cache` version of the computation graph. Basically, it makes the memory foot print 2 times bigger as all weights are duplicated. As generative models tend to be huge, they work around the memory issue by using dynamic `int-8` quantization (which is 2 times smaller than FP16), the final memory foot print is now the same as FP16. This is not perfect for 2 reasons, dynamic quantization only work on `CPU` and they are slow on matrix multiplication even on quantized models, plus according to several reports ([1](https://github.com/huggingface/transformers/issues/2466#issuecomment-572781378), [2](https://github.com/huggingface/transformers/issues/2466#issuecomment-982710520), and [here](https://github.com/microsoft/onnxruntime/issues/6549#issuecomment-1016948837) you can find a report in the `GPT-2` context from a Microsoft engineer: \"*int8 quantization are not recommended due to accuracy loss*\"), dynamic quantization degrades significantly generative model output, to a point where it may make them useless.\n",
    "* [Onnx Runtime T5 export tool](https://github.com/microsoft/onnxruntime/tree/master/onnxruntime/python/tools/transformers/models/t5) targets both GPU and CPU. It works in a similar way than `FastT5`: `decoder` module is exported 2 times. The main difference is that it only outputs 2 files instead of 3: one is doing both encoder and decoder without cache support to init the sequence, and the second file is the decoder part with cache support. Like `FastT5`, the memory footprint of the decoder part is doubled.\n",
    "* [FasterTransformer](https://github.com/NVIDIA/FasterTransformer/blob/main/docs/t5_guide.md#translation-process) targets GPU and is a mix of Pytorch and CUDA/C++ dedicated code. The performance boost is huge on T5 (close to 10X) but it may significantly decrease the accuracy of the model ([here](https://github.com/NVIDIA/FasterTransformer/blob/main/docs/t5_guide.md#translation-process) when sampling is enabled, it reduces BLEU score of translation task by 8 points!). It may be a good idea to read the [objectives of the project](https://github.com/NVIDIA/FasterTransformer/issues/211#issuecomment-1093495810): to make it short, innovations implemented in this project will be included in TensorRT at some point, where it will be highly tested to provide accurate results.\n",
    "\n",
    "\n",
    "La partie decoding est pas heavy en calcul, représente une petite partie des latences, pas une bonne idée de la hard coder, dépendance technique, lenteur pour avoir les derniers algo, manque des features par rapport à HF.\n",
    "-> vérifier comment le sampling peut arriver\n",
    "\n",
    "\n",
    "Dans le notebook de TRT T5\n",
    "You can now compare the output of the original PyTorch model and the TensorRT engine. Notice the speed difference. On an NVIDIA V100 32GB GPU, this results in up to ~10x performance improvement (from 0.0802s to 0.0082s for the T5-small variant).\n",
    "\n",
    "\n",
    "Exemples TRT très courts\n",
    "https://github.com/NVIDIA/FasterTransformer/blob/main/examples/pytorch/decoding/utils/translation/test.en\n",
    "24 tokens on average\n",
    "\n",
    "\n",
    "With the existing solutions, you need to choose one of the following:\n",
    "* double decoder memory footprint (+50%)\n",
    "* be slower than Hugging Face for large sequence length / beam search\n",
    "* degrade output quality\n",
    "\n",
    "In the notebook we will see how we can be much faster and still keep the quality and keep the memory footprint limited.\n",
    "\n",
    "## Our solution\n",
    "\n",
    "Our solution to make autoregressive `transformer` based models several times faster than Hugging Face Pytorch implementation (the base line) is based on 3 key ingredients:\n",
    "\n",
    "* storing 2 computation graph in a single Onnx file: this let us have both cache and no cache support without having any duplicated weights,\n",
    "* `zero copy` to retrieve output from Onnx Runtime: we built over our past work to connect in the most efficient way `Pytorch` tensors (used in the decoding part) and Onnx Runtime. Our previous work was to avoid host <-> `GPU` tensor copy, but it still required a `GPU` <-> `GPU`. It is now part of the official Onnx Runtime documentation (apparently [thanks of our project](https://github.com/microsoft/onnxruntime/pull/10651)!). This time we found out a way to directly expose the internal state of Onnx Runtime through a `Pytorch` tensor in zero copy way. Combined with cache mechanism, this is responsible for most of the speedup we have obtained.\n",
    "* a generic tool to convert any model (whatever the architecture) to `FP16` without any risk of having out of range values: `FP16` is still the way to reduce memory footprint of a model. The main issue is that some nodes may output values outside of FP16 range, resulting in `NaN` output. We have built a tool which detect those nodes so we can keep their precision in `FP32`. It's quite important to reduce memory footprint of these models, not just because they tend to be huge, but also because past states can be even bigger than the weights of the model themselves, and you prefer to store them as FP16 too.\n",
    "\n",
    "## Results\n",
    "\n",
    "As demonstrated at the end of this notebook, **we are able to provide a X2 speedup** whatever the batch size, the sequence length or the model size (we have tested our approach on T5 up to 3 billion parameters). Of course, the speedup for short sequences is even bigger.\n",
    "\n",
    "\n",
    "Unlike our other works, `TensorRT` has not been used as we have found a limitation in the way it manages condition flow (output shapes of subgraphs should be fixed). We are looking for a solution to this issue as we think `TensorRT` is perfectly adapted to the next round of optimizations of autoregressive models based on `transformer` architecture. Integration of this work in Triton will be done when `TensorRT` is fixed."
   ]
  },
  {
   "cell_type": "code",
   "execution_count": 1,
   "metadata": {
    "execution": {
     "iopub.execute_input": "2022-05-13T13:19:00.481638Z",
     "iopub.status.busy": "2022-05-13T13:19:00.481469Z",
     "iopub.status.idle": "2022-05-13T13:19:01.032766Z",
     "shell.execute_reply": "2022-05-13T13:19:01.031733Z"
    },
    "pycharm": {
     "name": "#%%\n"
    }
   },
   "outputs": [
    {
     "name": "stdout",
     "output_type": "stream",
     "text": [
      "Fri May 13 15:19:00 2022       \r\n",
      "+-----------------------------------------------------------------------------+\r\n",
      "| NVIDIA-SMI 515.43.04    Driver Version: 515.43.04    CUDA Version: 11.7     |\r\n",
      "|-------------------------------+----------------------+----------------------+\r\n",
      "| GPU  Name        Persistence-M| Bus-Id        Disp.A | Volatile Uncorr. ECC |\r\n",
      "| Fan  Temp  Perf  Pwr:Usage/Cap|         Memory-Usage | GPU-Util  Compute M. |\r\n",
      "|                               |                      |               MIG M. |\r\n",
      "|===============================+======================+======================|\r\n",
      "|   0  NVIDIA GeForce ...  On   | 00000000:03:00.0  On |                  N/A |\r\n",
      "| 38%   47C    P5    47W / 350W |    349MiB / 24576MiB |      7%      Default |\r\n",
      "|                               |                      |                  N/A |\r\n",
      "+-------------------------------+----------------------+----------------------+\r\n",
      "                                                                               \r\n",
      "+-----------------------------------------------------------------------------+\r\n",
      "| Processes:                                                                  |\r\n",
      "|  GPU   GI   CI        PID   Type   Process name                  GPU Memory |\r\n",
      "|        ID   ID                                                   Usage      |\r\n",
      "|=============================================================================|\r\n",
      "|    0   N/A  N/A      2518      G   /usr/lib/xorg/Xorg                182MiB |\r\n",
      "|    0   N/A  N/A      6186      G   ...ome-remote-desktop-daemon        4MiB |\r\n",
      "|    0   N/A  N/A      8208      G   /usr/bin/gnome-shell               40MiB |\r\n",
      "|    0   N/A  N/A      8991      G   ...on/Bin/AgentConnectix.bin        4MiB |\r\n",
      "|    0   N/A  N/A     10998      G   ...922059752713347013,131072       70MiB |\r\n",
      "|    0   N/A  N/A    502010      G   ...veSuggestionsOnlyOnDemand       43MiB |\r\n",
      "+-----------------------------------------------------------------------------+\r\n"
     ]
    }
   ],
   "source": [
    "! nvidia-smi"
   ]
  },
  {
   "cell_type": "code",
   "execution_count": 2,
   "metadata": {
    "execution": {
     "iopub.execute_input": "2022-05-13T13:19:01.039016Z",
     "iopub.status.busy": "2022-05-13T13:19:01.038627Z",
     "iopub.status.idle": "2022-05-13T13:19:03.531174Z",
     "shell.execute_reply": "2022-05-13T13:19:03.530690Z"
    },
    "pycharm": {
     "name": "#%%\n"
    }
   },
   "outputs": [],
   "source": [
    "import json\n",
    "from time import time\n",
    "from typing import Callable, Dict, Optional, List\n",
    "import matplotlib.pylab as plt\n",
    "from onnxruntime import IOBinding\n",
    "import numpy as np\n",
    "import onnx\n",
    "import torch\n",
    "from onnx import GraphProto, ModelProto, helper\n",
    "from torch.nn import Linear\n",
    "from transformers import AutoModelForSeq2SeqLM, AutoTokenizer, PretrainedConfig, T5ForConditionalGeneration, TensorType\n",
    "from transformers.generation_utils import GenerationMixin\n",
    "from transformers.modeling_outputs import BaseModelOutputWithPastAndCrossAttentions, Seq2SeqLMOutput\n",
    "from transformers.models.t5.modeling_t5 import T5Stack\n",
    "from nvtx import nvtx\n",
    "from copy import copy\n",
    "from pathlib import Path\n",
    "from transformer_deploy.backends.ort_utils import create_model_for_provider, inference_onnx_binding\n",
    "from transformer_deploy.backends.pytorch_utils import convert_to_onnx\n",
    "import operator\n",
    "from collections import defaultdict\n",
    "import seaborn as sns\n",
    "from transformer_deploy.backends.ort_utils import get_keep_fp32_nodes\n",
    "from transformer_deploy.backends.ort_utils import convert_fp16\n",
    "from typing import Tuple"
   ]
  },
  {
   "cell_type": "markdown",
   "metadata": {
    "collapsed": false,
    "pycharm": {
     "name": "#%% md\n"
    }
   },
   "source": [
    "# Loading Hugging Face model / tokenizer\n",
    "\n",
    "We use a specific branch of OnnxRuntime with a better management of if/else/then Onnx node:\n",
    "\n",
    "```shell\n",
    "git clone --recursive https://github.com/Microsoft/onnxruntime\n",
    "cd onnxruntime\n",
    "git checkout -b fix_if e1c04eed29d48f295de1cfbd48713158537cdaa7\n",
    "#git fetch origin hari/location_plan_implicit_inputs\n",
    "#git checkout -b hari/location_plan_implicit_inputs FETCH_HEAD\n",
    "CUDACXX=/usr/local/cuda-11.4/bin/nvcc ./build.sh \\\n",
    "    --config Release \\\n",
    "    --build_wheel \\\n",
    "    --parallel \\\n",
    "    --use_cuda \\\n",
    "    --cuda_home /usr/local/cuda-11.4 \\\n",
    "    --cudnn_home /usr/lib/x86_\n",
    "    -linux-gnu/ \\\n",
    "    --skip_test\n",
    "```\n",
    "\n",
    "> to clear previous compilation, delete content of `./build` folder"
   ]
  },
  {
   "cell_type": "code",
   "execution_count": null,
   "metadata": {
    "collapsed": false,
    "pycharm": {
     "name": "#%%\n"
    }
   },
   "outputs": [],
   "source": [
    "model_name = \"t5-large\"\n",
    "tokenizer = AutoTokenizer.from_pretrained(model_name)\n",
    "input_ids: torch.Tensor = tokenizer(\n",
    "    \"translate English to French: This model is now very fast!\", return_tensors=TensorType.PYTORCH\n",
    ").input_ids\n",
    "model: T5ForConditionalGeneration = AutoModelForSeq2SeqLM.from_pretrained(model_name)\n",
    "model = model.eval()\n",
    "model.config.use_cache = True\n",
    "out_enc: BaseModelOutputWithPastAndCrossAttentions = model.encoder(input_ids=input_ids)\n",
    "out_full: Seq2SeqLMOutput = model(input_ids=input_ids, decoder_input_ids=input_ids)\n",
    "num_layers = model.config.num_layers\n",
    "\n",
    "\n",
    "def prepare_folder(path: str):\n",
    "    Path(path).mkdir(parents=True, exist_ok=True)\n",
    "    [item.unlink() for item in Path(path).glob(\"*\") if item.is_file()]\n",
    "\n",
    "\n",
    "encoder_folder = \"./test-enc\"\n",
    "encoder_model_path = encoder_folder + \"/model.onnx\"\n",
    "prepare_folder(path=encoder_folder)\n",
    "\n",
    "dec_cache_folder = \"./test-dec-cache\"\n",
    "dec_cache_model_path = dec_cache_folder + \"/model.onnx\"\n",
    "dec_cache_fp16_model_path = dec_cache_folder + \"/model_fp16.onnx\"\n",
    "prepare_folder(path=dec_cache_folder)\n",
    "\n",
    "dec_no_cache_folder = \"./test-dec-no-cache\"\n",
    "dec_no_cache_model_path = dec_no_cache_folder + \"/model.onnx\"\n",
    "dec_no_cache_fp16_model_path = dec_no_cache_folder + \"/model_fp16.onnx\"\n",
    "prepare_folder(path=dec_no_cache_folder)\n",
    "\n",
    "# atol depends of the model size, from 1e-3 for t5-small to 5e-1 for large\n",
    "def are_equal(a: torch.Tensor, b: torch.Tensor, atol: float = 5e-1) -> None:\n",
    "    assert np.allclose(a=a.detach().cpu().numpy(), b=b.detach().cpu().numpy(), atol=atol), f\"{a}\\n\\nVS\\n\\n{b}\""
   ]
  },
  {
   "cell_type": "markdown",
   "metadata": {
    "collapsed": false,
    "pycharm": {
     "name": "#%% md\n"
    }
   },
   "source": [
    "# Export to Onnx\n",
    "\n",
    "First step is to export the model to Onnx graph.  \n",
    "`T5` is made of 2 parts, an `encoder` and a decoder.  \n",
    "\n",
    "## Export encoder part\n",
    "\n",
    "The `encoder` part export doesn't imply any specific challenge.  \n",
    "We use export function built for `Bert` like model, exported model is in `FP16`."
   ]
  },
  {
   "cell_type": "code",
   "execution_count": null,
   "metadata": {
    "collapsed": false,
    "pycharm": {
     "name": "#%%\n"
    }
   },
   "outputs": [],
   "source": [
    "convert_to_onnx(\n",
    "    model_pytorch=model.encoder,\n",
    "    output_path=encoder_model_path,\n",
    "    inputs_pytorch={\"input_ids\": input_ids},\n",
    "    var_output_seq=True,\n",
    "    quantization=False,\n",
    ")\n",
    "\n",
    "enc_onnx = create_model_for_provider(encoder_model_path, \"CPUExecutionProvider\")\n",
    "enc_onnx_out = inference_onnx_binding(\n",
    "    model_onnx=enc_onnx,\n",
    "    inputs={\"input_ids\": input_ids},\n",
    "    device=input_ids.device.type,\n",
    ")[\"output\"]\n",
    "\n",
    "are_equal(a=enc_onnx_out, b=out_enc.last_hidden_state)"
   ]
  },
  {
   "cell_type": "markdown",
   "metadata": {
    "collapsed": false,
    "pycharm": {
     "name": "#%% md\n"
    }
   },
   "source": [
    "## Export decoder\n",
    "\n",
    "The decoder export part is more challenging:\n",
    "\n",
    "* we first need to wrap it in a Pytorch model to add the final layer so it's output provide scores for each vocabulary token and can be directly used by the Hugging Face `decoding` algorithm  \n",
    "* then, we need to manipulate the `Onnx` graph to add support of `Key`/`Value` cache \n",
    "\n",
    "The second point is the key ingredient of the observed acceleration of Onnx vs Hugging Face inference.  \n",
    "\n",
    "\n",
    "### Wrapper to include some post-processing on the decoder output\n",
    "\n",
    "The post-processing is mainly a projection of the decoder output on a matrix with one of its dimensions equal to model vocabulary size, so we have scores for each possible token."
   ]
  },
  {
   "cell_type": "code",
   "execution_count": null,
   "metadata": {
    "collapsed": false,
    "pycharm": {
     "name": "#%%\n"
    }
   },
   "outputs": [],
   "source": [
    "class ExportT5(torch.nn.Module):\n",
    "    def __init__(self, decoder: T5Stack, lm_head: Linear):\n",
    "        super(ExportT5, self).__init__()\n",
    "        self.decoder = decoder\n",
    "        self.lm_head = lm_head\n",
    "\n",
    "    def forward(self, input_ids: torch.Tensor, encoder_hidden_states: torch.Tensor, past_key_values: Tuple = None):\n",
    "        out_dec = self.decoder.forward(\n",
    "            input_ids=input_ids, encoder_hidden_states=encoder_hidden_states, past_key_values=past_key_values\n",
    "        )\n",
    "        # Rescale output before projecting on vocab\n",
    "        out_dec[\"last_hidden_state\"] = out_dec[\"last_hidden_state\"] * (model.model_dim**-0.5)\n",
    "        out_dec[\"last_hidden_state\"] = self.lm_head(out_dec[\"last_hidden_state\"])\n",
    "        return out_dec\n",
    "\n",
    "\n",
    "model_decoder = ExportT5(decoder=model.decoder, lm_head=model.lm_head).eval()\n",
    "out_model_export: torch.Tensor = model_decoder(input_ids=input_ids, encoder_hidden_states=out_enc.last_hidden_state)\n",
    "\n",
    "are_equal(a=out_model_export[\"last_hidden_state\"], b=out_full.logits)"
   ]
  },
  {
   "cell_type": "markdown",
   "metadata": {
    "collapsed": false,
    "pycharm": {
     "name": "#%% md\n"
    }
   },
   "source": [
    "### Export decoder part to `Onnx`\n",
    "\n",
    "Below we export 2 versions of the decoder, one without cache support and one with it.\n",
    "\n",
    "Model inputs with past states (cache support):"
   ]
  },
  {
   "cell_type": "code",
   "execution_count": null,
   "metadata": {
    "collapsed": false,
    "pycharm": {
     "name": "#%%\n"
    }
   },
   "outputs": [],
   "source": [
    "# decoder output one step before\n",
    "out_dec_pytorch = model_decoder(input_ids=input_ids[:, :-1], encoder_hidden_states=out_enc.last_hidden_state)\n",
    "\n",
    "model_inputs = {\n",
    "    \"input_ids\": input_ids[:, -1:].type(torch.int32),\n",
    "    \"encoder_hidden_states\": out_enc.last_hidden_state,\n",
    "    \"past_key_values\": out_dec_pytorch.past_key_values,\n",
    "}\n",
    "\n",
    "input_names = [\"input_ids\", \"encoder_hidden_states\"]\n",
    "\n",
    "for i in range(num_layers):\n",
    "    input_names.append(f\"past_key_values.{i}.decoder.key\")\n",
    "    input_names.append(f\"past_key_values.{i}.decoder.value\")\n",
    "    input_names.append(f\"past_key_values.{i}.encoder.key\")\n",
    "    input_names.append(f\"past_key_values.{i}.encoder.value\")\n",
    "\n",
    "output_names = [\"logits\"]\n",
    "\n",
    "for i in range(num_layers):\n",
    "    output_names.append(f\"present.{i}.decoder.key\")\n",
    "    output_names.append(f\"present.{i}.decoder.value\")\n",
    "    output_names.append(f\"present.{i}.encoder.key\")\n",
    "    output_names.append(f\"present.{i}.encoder.value\")\n",
    "\n",
    "dynamic_axis = {\n",
    "    \"input_ids\": {0: \"batch\", 1: \"encoder_sequence\"},\n",
    "    \"encoder_hidden_states\": {0: \"batch\", 1: \"encoder_sequence\"},\n",
    "    \"logits\": {0: \"batch\", 1: \"decoder_sequence\"},\n",
    "}\n",
    "\n",
    "\n",
    "for i in range(num_layers):\n",
    "    dynamic_axis[f\"past_key_values.{i}.decoder.key\"] = {0: \"batch\", 2: \"past_decoder_sequence\"}\n",
    "    dynamic_axis[f\"past_key_values.{i}.decoder.value\"] = {0: \"batch\", 2: \"past_decoder_sequence\"}\n",
    "    dynamic_axis[f\"past_key_values.{i}.encoder.key\"] = {0: \"batch\", 2: \"encoder_sequence_length\"}\n",
    "    dynamic_axis[f\"past_key_values.{i}.encoder.value\"] = {0: \"batch\", 2: \"encoder_sequence_length\"}\n",
    "\n",
    "    dynamic_axis[f\"present.{i}.decoder.key\"] = {0: \"batch\", 2: \"decoder_sequence\"}\n",
    "    dynamic_axis[f\"present.{i}.decoder.value\"] = {0: \"batch\", 2: \"decoder_sequence\"}\n",
    "    dynamic_axis[f\"present.{i}.encoder.key\"] = {0: \"batch\", 2: \"encoder_sequence_length\"}\n",
    "    dynamic_axis[f\"present.{i}.encoder.value\"] = {0: \"batch\", 2: \"encoder_sequence_length\"}"
   ]
  },
  {
   "cell_type": "markdown",
   "metadata": {},
   "source": [
    "Export of the model with cache support:"
   ]
  },
  {
   "cell_type": "code",
   "execution_count": null,
   "metadata": {
    "collapsed": false,
    "pycharm": {
     "name": "#%%\n"
    }
   },
   "outputs": [],
   "source": [
    "with torch.no_grad():\n",
    "    model.config.return_dict = True\n",
    "    model.eval()\n",
    "\n",
    "    # export can works with named args but the dict containing named args as to be last element of the args tuple\n",
    "    torch.onnx.export(\n",
    "        model_decoder,\n",
    "        (model_inputs,),\n",
    "        f=dec_cache_model_path,\n",
    "        input_names=input_names,\n",
    "        output_names=output_names,\n",
    "        dynamic_axes=dynamic_axis,\n",
    "        do_constant_folding=True,\n",
    "        opset_version=13,\n",
    "    )"
   ]
  },
  {
   "cell_type": "markdown",
   "metadata": {},
   "source": [
    "Export of the model computing Key/Values for the whole sequence (we basically just remove past states from the input, the Pytorch code will recompute them):"
   ]
  },
  {
   "cell_type": "code",
   "execution_count": null,
   "metadata": {
    "collapsed": false,
    "pycharm": {
     "name": "#%%\n"
    }
   },
   "outputs": [],
   "source": [
    "model_inputs_no_cache = {\n",
    "    \"input_ids\": input_ids.type(dtype=torch.int32),\n",
    "    \"encoder_hidden_states\": out_enc.last_hidden_state,\n",
    "}\n",
    "\n",
    "with torch.no_grad():\n",
    "    model.config.return_dict = True\n",
    "    model.eval()\n",
    "\n",
    "    # export can works with named args but the dict containing named args as to be last element of the args tuple\n",
    "    torch.onnx.export(\n",
    "        model_decoder,\n",
    "        (model_inputs_no_cache,),\n",
    "        f=dec_no_cache_model_path,\n",
    "        input_names=list(model_inputs_no_cache.keys()),\n",
    "        output_names=output_names,\n",
    "        dynamic_axes={k: v for k, v in dynamic_axis.items() if \"past_key_values\" not in k},\n",
    "        do_constant_folding=True,\n",
    "        opset_version=13,\n",
    "    )"
   ]
  },
  {
   "cell_type": "markdown",
   "metadata": {
    "collapsed": false,
    "pycharm": {
     "name": "#%% md\n"
    }
   },
   "source": [
    "## Conversion to mixed precision\n",
    "\n",
    "### Why mixed precision?\n",
    "\n",
    "As `T5` can have up to 11 billion parameters, it requires lots of computation, and even more important, it takes lots of space in device memory.\n",
    "We convert the decoder to half precision (the encoder part has already been converted).\n",
    "\n",
    "Half precision covers a lower range of values compared to FP32 as we have 2 times fewer bits to encode them.\n",
    "If we just convert everything to FP16, we will have 2 issues:\n",
    "* `overflow`: some nodes, like exponential nodes, will try to output values out of the FP16 range, it will be replaced by infinite value or NaN (depending of the inference engine). \n",
    "* `underflow`: values very close to 0 will be rounded to 0. It may be an issue for some nodes like logarithms (undefined value).\n",
    "\n",
    "### The challenge\n",
    "\n",
    "Mixed precision is done out of the box by Pytorch and follow some strict rules described in https://pytorch.org/docs/stable/amp.html?utm_source=pocket_mylist\n",
    "\n",
    "Those rules are generic and quite conservative. Many nodes will be kept in FP32 even if their output is always in the FP16 range.\n",
    "\n",
    "Other approaches we have found:\n",
    "* `Onnxruntime T5` [demo](https://github.com/microsoft/onnxruntime/blob/master/onnxruntime/python/tools/transformers/models/t5/t5_helper.py): provide a list of operations to keep in FP32 (Pow, ReduceMean, Add, Sqrt, Div, Mul, Softmax, Relu). It has the same effect as Pytorch one, it's very conservative, and it introduces a bunch of casting nodes, meaning lots of memory bound operations. Moreover, according to Onnxruntime maintainers, it may need some tweaking to provide the best results (https://github.com/microsoft/onnxruntime/issues/11119);\n",
    "* `TensorRT T5` [demo](https://github.com/NVIDIA/TensorRT/tree/main/demo/HuggingFace/notebooks): provide the exact pattern of nodes to keep in FP32. This approach is much more effective than the 2 others, but imply lots of code to describe the patterns and may not generalize well, basically what works for a `base` model may not work for 11 billion parameter model. And it does not scale to other models without adaptations, for a library like `transformer-deploy`, it would lead to unmaintainable technical debt.\n",
    "\n",
    "\n",
    "### Our approach\n",
    "\n",
    "We have chosen an architecture agnostic approach: we inject random input sequence and audit the output of each computation graph output; finally we make a list of all nodes that have output values out of the FP16 range.\n",
    "\n",
    "# TODO detect small values too\n",
    "\n",
    "We have chosen to use random values only for the `input_ids` field as the search space is limited: positive integers lower than the vocabulary size.  \n",
    "\n",
    "For other inputs of the model (ouput of encoder, `past_states`), it would a bit more complicated to generate random values.\n",
    "In theory it can be of any value in the FP32 range, but because of how models are initialized and trained, most of them are close to 0.\n",
    "To avoid too  much guessing, we have decided to just take the output of the real model being fed with random `input_ids`.\n",
    "\n",
    "To finish, we provide the list of nodes to keep in FP32 to the conversion function."
   ]
  },
  {
   "cell_type": "code",
   "execution_count": null,
   "metadata": {
    "collapsed": false,
    "pycharm": {
     "name": "#%%\n"
    }
   },
   "outputs": [],
   "source": [
    "enc_onnx = create_model_for_provider(encoder_model_path, \"CUDAExecutionProvider\")\n",
    "\n",
    "\n",
    "def get_random_input_no_cache() -> Dict[str, torch.Tensor]:\n",
    "    batch = 1\n",
    "    seq_len = 512\n",
    "    random_input_ids = torch.randint(\n",
    "        low=2, high=tokenizer.vocab_size, size=(batch, seq_len), dtype=torch.int32, device=\"cuda\"\n",
    "    )\n",
    "    inputs = {\"input_ids\": random_input_ids}\n",
    "    encoder_hidden_states = inference_onnx_binding(\n",
    "        model_onnx=enc_onnx,\n",
    "        inputs=inputs,\n",
    "        device=\"cuda\",\n",
    "        clone_tensor=False,\n",
    "    )[\"output\"]\n",
    "    inputs[\"encoder_hidden_states\"] = encoder_hidden_states\n",
    "    return inputs\n",
    "\n",
    "\n",
    "keep_fp32_no_cache = get_keep_fp32_nodes(\n",
    "    onnx_model_path=dec_no_cache_model_path, get_input=get_random_input_no_cache, nb_try=1  # TODO restore\n",
    ")\n",
    "onnx_model_no_cache_fp16 = convert_fp16(onnx_model=dec_no_cache_model_path, nodes_to_exclude=keep_fp32_no_cache)\n",
    "# TODO check size and save external data\n",
    "onnx.save(onnx_model_no_cache_fp16, dec_no_cache_fp16_model_path)"
   ]
  },
  {
   "cell_type": "code",
   "execution_count": null,
   "metadata": {
    "collapsed": false,
    "pycharm": {
     "name": "#%%\n"
    }
   },
   "outputs": [],
   "source": [
    "dec_no_cache_ort_model = create_model_for_provider(dec_no_cache_model_path, \"CUDAExecutionProvider\")\n",
    "\n",
    "# use info from tokenizer size and max shape provided through the command line\n",
    "def get_random_input_cache() -> Dict[str, torch.Tensor]:\n",
    "    inputs = get_random_input_no_cache()\n",
    "    dec_past_states = inference_onnx_binding(\n",
    "        model_onnx=dec_no_cache_ort_model,\n",
    "        inputs=inputs,\n",
    "        device=\"cuda\",\n",
    "        clone_tensor=False,\n",
    "    )\n",
    "    for k, v in dec_past_states.items():\n",
    "        if k == \"logits\":\n",
    "            continue\n",
    "        new_k = k.replace(\"present\", \"past_key_values\")\n",
    "        inputs[new_k] = v\n",
    "    batch, _ = inputs[\"input_ids\"].shape\n",
    "    complement = torch.randint(low=0, high=tokenizer.vocab_size, size=(batch, 1), dtype=torch.int32, device=\"cuda\")\n",
    "    inputs[\"input_ids\"] = torch.concat(tensors=[inputs[\"input_ids\"], complement], dim=1)\n",
    "    return inputs\n",
    "\n",
    "\n",
    "keep_fp32_cache = get_keep_fp32_nodes(\n",
    "    onnx_model_path=dec_cache_model_path, get_input=get_random_input_cache, nb_try=1  # TODO restore\n",
    ")\n",
    "\n",
    "onnx_model_cache_fp16 = convert_fp16(onnx_model=dec_cache_model_path, nodes_to_exclude=keep_fp32_cache)\n",
    "# TODO check size and save external data\n",
    "onnx.save(onnx_model_cache_fp16, dec_cache_fp16_model_path)\n",
    "del dec_no_cache_ort_model  # free cuda memory"
   ]
  },
  {
   "cell_type": "markdown",
   "metadata": {
    "collapsed": false,
    "pycharm": {
     "name": "#%% md\n"
    }
   },
   "source": [
    "## Merge `Onnx` computation graph to deduplicate weights\n",
    "\n",
    "Finally, we will merge the 2 decoders together.  \n",
    "The idea is simple:\n",
    "\n",
    "* we prefix the node / edge names of one of them to avoid naming collision\n",
    "* we deduplicate the weights (the same weight matrix will have different names in the 2 models)\n",
    "* we join the 2 computation graphs through an `If` node\n",
    "* we generate the Onnx file\n",
    "\n",
    "The new model will take a new input, `enable_cache`. When it contains a `True` value, computation graph with cache support is used."
   ]
  },
  {
   "cell_type": "code",
   "execution_count": null,
   "metadata": {
    "collapsed": false,
    "pycharm": {
     "name": "#%%\n"
    }
   },
   "outputs": [],
   "source": [
    "prefix = \"cache_node_\"\n",
    "mapping_initializer_cache_to_no_cache = dict()\n",
    "to_add = list()\n",
    "for node_cache in onnx_model_cache_fp16.graph.initializer:\n",
    "    found = False\n",
    "    for node_no_cache in onnx_model_no_cache_fp16.graph.initializer:\n",
    "        if node_cache.raw_data == node_no_cache.raw_data:\n",
    "            found = True\n",
    "            mapping_initializer_cache_to_no_cache[node_cache.name] = node_no_cache.name\n",
    "            break\n",
    "    if not found:\n",
    "        node_cache.name = prefix + node_cache.name\n",
    "        to_add.append(node_cache)\n",
    "        mapping_initializer_cache_to_no_cache[node_cache.name] = node_cache.name\n",
    "\n",
    "onnx_model_no_cache_fp16.graph.initializer.extend(to_add)\n",
    "# I/O model names should not be prefixed\n",
    "model_io_names = [n.name for n in list(onnx_model_cache_fp16.graph.input) + list(onnx_model_cache_fp16.graph.output)]\n",
    "\n",
    "for node in onnx_model_cache_fp16.graph.node:\n",
    "    for index, input_name in enumerate(node.input):\n",
    "        if input_name in model_io_names:\n",
    "            continue\n",
    "        node.input[index] = mapping_initializer_cache_to_no_cache.get(input_name, prefix + input_name)\n",
    "    for index, output_name in enumerate(node.output):\n",
    "        if output_name in model_io_names:\n",
    "            continue\n",
    "        node.output[index] = prefix + output_name\n",
    "    node.name = prefix + node.name\n",
    "model_io_names = [n.name for n in list(onnx_model_cache_fp16.graph.input) + list(onnx_model_cache_fp16.graph.output)]\n",
    "\n",
    "prefix = \"init_\"\n",
    "cache = dict()\n",
    "for node in onnx_model_no_cache_fp16.graph.initializer:\n",
    "    if node.name in model_io_names:\n",
    "        new_name = prefix + node.name\n",
    "        cache[node.name] = new_name\n",
    "        node.name = new_name\n",
    "\n",
    "for node in onnx_model_no_cache_fp16.graph.node:\n",
    "    for input_index, n in enumerate(node.input):\n",
    "        node.input[input_index] = cache.get(n, n)\n",
    "\n",
    "# mandatory for subgraph in if/else node\n",
    "assert len(onnx_model_cache_fp16.graph.output) == len(\n",
    "    onnx_model_no_cache_fp16.graph.output\n",
    "), f\"{len(onnx_model_cache_fp16.graph.output)} vs {len(onnx_model_no_cache_fp16.graph.output)}\"\n",
    "\n",
    "graph_cache: onnx.GraphProto = onnx.helper.make_graph(\n",
    "    nodes=list(onnx_model_cache_fp16.graph.node),\n",
    "    name=\"graph-cache\",\n",
    "    inputs=[],\n",
    "    outputs=list(onnx_model_cache_fp16.graph.output),\n",
    "    initializer=[],\n",
    ")\n",
    "\n",
    "graph_no_cache: onnx.GraphProto = onnx.helper.make_graph(\n",
    "    nodes=list(onnx_model_no_cache_fp16.graph.node),\n",
    "    name=\"graph-no-cache\",\n",
    "    inputs=[],\n",
    "    outputs=list(onnx_model_no_cache_fp16.graph.output),\n",
    "    initializer=[],\n",
    ")\n",
    "\n",
    "enable_cache_input = onnx.helper.make_tensor_value_info(name=\"enable_cache\", elem_type=onnx.TensorProto.BOOL, shape=[1])\n",
    "\n",
    "if_node = onnx.helper.make_node(\n",
    "    op_type=\"If\",\n",
    "    inputs=[\"enable_cache\"],\n",
    "    outputs=[o.name for o in list(onnx_model_no_cache_fp16.graph.output)],\n",
    "    then_branch=graph_cache,\n",
    "    else_branch=graph_no_cache,\n",
    ")\n",
    "\n",
    "if_graph_def: GraphProto = helper.make_graph(\n",
    "    nodes=[if_node],\n",
    "    name=\"if-model\",\n",
    "    inputs=list(onnx_model_cache_fp16.graph.input) + [enable_cache_input],\n",
    "    outputs=list(onnx_model_no_cache_fp16.graph.output),\n",
    "    initializer=list(onnx_model_no_cache_fp16.graph.initializer),\n",
    ")\n",
    "\n",
    "\n",
    "model_def: ModelProto = helper.make_model(\n",
    "    if_graph_def, producer_name=\"onnx-example\", opset_imports=[helper.make_opsetid(onnx.defs.ONNX_DOMAIN, 13)]\n",
    ")\n",
    "onnx.save(model_def, \"test-dec-if.onnx\")  # TODO use external data if weights are big, should be a bool set at the beginning of the graph"
   ]
  },
  {
   "cell_type": "markdown",
   "metadata": {
    "collapsed": false,
    "pycharm": {
     "name": "#%% md\n"
    }
   },
   "source": [
    "### Check `Onnx` decoder output\n",
    "\n",
    "Compare `Onnx` output with and without cache, plus compare with Pytorch output."
   ]
  },
  {
   "cell_type": "code",
   "execution_count": 12,
   "metadata": {
    "execution": {
     "iopub.execute_input": "2022-05-13T13:22:30.511158Z",
     "iopub.status.busy": "2022-05-13T13:22:30.510763Z",
     "iopub.status.idle": "2022-05-13T13:22:34.099716Z",
     "shell.execute_reply": "2022-05-13T13:22:34.099219Z"
    },
    "pycharm": {
     "name": "#%%\n"
    }
   },
   "outputs": [],
   "source": [
    "model = model.cuda()\n",
    "model_decoder = model_decoder.cuda()\n",
    "input_ids = input_ids.cuda()\n",
    "model = model.eval()\n",
    "model_decoder = model_decoder.eval()\n",
    "enc_onnx = create_model_for_provider(encoder_model_path, \"CUDAExecutionProvider\")\n",
    "enc_onnx_binding: IOBinding = enc_onnx.io_binding()\n",
    "dec_onnx = create_model_for_provider(model_def.SerializeToString(), \"CUDAExecutionProvider\", log_severity=3)\n",
    "dec_onnx_binding: IOBinding = dec_onnx.io_binding()"
   ]
  },
  {
   "cell_type": "markdown",
   "metadata": {
    "collapsed": false,
    "pycharm": {
     "name": "#%% md\n"
    }
   },
   "source": [
    "## Output testing of the new model\n",
    "\n",
    "Below, we check that the new model output are similar to the ones from `Pytorch`.  "
   ]
  },
  {
   "cell_type": "code",
   "execution_count": 13,
   "metadata": {
    "execution": {
     "iopub.execute_input": "2022-05-13T13:22:34.103003Z",
     "iopub.status.busy": "2022-05-13T13:22:34.102656Z",
     "iopub.status.idle": "2022-05-13T13:22:34.238551Z",
     "shell.execute_reply": "2022-05-13T13:22:34.238120Z"
    },
    "pycharm": {
     "name": "#%%\n"
    }
   },
   "outputs": [],
   "source": [
    "model = model.half()\n",
    "with torch.inference_mode():\n",
    "    out_enc_pytorch: BaseModelOutputWithPastAndCrossAttentions = model.encoder(input_ids=input_ids)\n",
    "    previous_step_pytorch: BaseModelOutputWithPastAndCrossAttentions = model_decoder(\n",
    "        input_ids=input_ids[:, :-1], encoder_hidden_states=out_enc_pytorch.last_hidden_state\n",
    "    )\n",
    "    out_dec_pytorch: BaseModelOutputWithPastAndCrossAttentions = model_decoder(\n",
    "        input_ids=input_ids, encoder_hidden_states=out_enc_pytorch.last_hidden_state\n",
    "    )"
   ]
  },
  {
   "cell_type": "code",
   "execution_count": 14,
   "metadata": {
    "execution": {
     "iopub.execute_input": "2022-05-13T13:22:34.241007Z",
     "iopub.status.busy": "2022-05-13T13:22:34.240850Z",
     "iopub.status.idle": "2022-05-13T13:22:34.438163Z",
     "shell.execute_reply": "2022-05-13T13:22:34.437678Z"
    },
    "pycharm": {
     "name": "#%%\n"
    }
   },
   "outputs": [],
   "source": [
    "def decoder_pytorch_inference(decoder_input_ids: torch.Tensor, encoder_hidden_states: torch.Tensor, **_):\n",
    "    with torch.inference_mode():\n",
    "        return model_decoder(input_ids=decoder_input_ids, encoder_hidden_states=encoder_hidden_states)\n",
    "\n",
    "\n",
    "def decoder_onnx_inference(\n",
    "    decoder_input_ids: torch.Tensor,\n",
    "    encoder_hidden_states: torch.Tensor,\n",
    "    enable_cache: torch.Tensor,\n",
    "    past_key_values: Optional[torch.Tensor],\n",
    "):\n",
    "    inputs_onnx_dict = {\n",
    "        \"input_ids\": decoder_input_ids,\n",
    "        \"encoder_hidden_states\": encoder_hidden_states,\n",
    "        \"enable_cache\": enable_cache,\n",
    "    }\n",
    "\n",
    "    if past_key_values is not None:\n",
    "        for index, (k_dec, v_dec, k_enc, v_enc) in enumerate(past_key_values):\n",
    "            inputs_onnx_dict[f\"past_key_values.{index}.decoder.key\"] = k_dec\n",
    "            inputs_onnx_dict[f\"past_key_values.{index}.decoder.value\"] = v_dec\n",
    "            inputs_onnx_dict[f\"past_key_values.{index}.encoder.key\"] = k_enc\n",
    "            inputs_onnx_dict[f\"past_key_values.{index}.encoder.value\"] = v_enc\n",
    "\n",
    "    result_dict = inference_onnx_binding(\n",
    "        model_onnx=dec_onnx,\n",
    "        inputs=inputs_onnx_dict,\n",
    "        binding=dec_onnx_binding,  # recycle the binding\n",
    "        device=decoder_input_ids.device.type,\n",
    "        clone_tensor=False,  # no memory copy -> best perf and lowest memory footprint!\n",
    "    )\n",
    "    past_states = list()\n",
    "    for index in range(model.config.num_layers):\n",
    "        kv = (\n",
    "            result_dict[f\"present.{index}.decoder.key\"],\n",
    "            result_dict[f\"present.{index}.decoder.value\"],\n",
    "            result_dict[f\"present.{index}.encoder.key\"],\n",
    "            result_dict[f\"present.{index}.encoder.value\"],\n",
    "        )\n",
    "        past_states.append(kv)\n",
    "    return BaseModelOutputWithPastAndCrossAttentions(\n",
    "        last_hidden_state=result_dict[\"logits\"],\n",
    "        past_key_values=past_states,\n",
    "    )\n",
    "\n",
    "\n",
    "out_dec_onnx_no_cache = decoder_onnx_inference(\n",
    "    decoder_input_ids=input_ids,\n",
    "    encoder_hidden_states=out_enc_pytorch.last_hidden_state,\n",
    "    enable_cache=torch.tensor([False], device=\"cuda\", dtype=torch.bool),\n",
    "    past_key_values=None,\n",
    ")\n",
    "are_equal(a=out_dec_onnx_no_cache.last_hidden_state[:, -1:, :], b=out_dec_pytorch.last_hidden_state[:, -1:, :])\n",
    "\n",
    "# check that past states are identical between Onnx and Pytorch\n",
    "assert len(out_dec_onnx_no_cache.past_key_values) == len(out_dec_pytorch.past_key_values)\n",
    "for (o_dec_k, o_dev_v, o_enc_k, o_enc_v), (p_dec_k, p_dev_v, p_enc_k, p_enc_v) in zip(\n",
    "    out_dec_onnx_no_cache.past_key_values, out_dec_pytorch.past_key_values\n",
    "):\n",
    "    are_equal(a=o_dec_k, b=p_dec_k)\n",
    "    are_equal(a=o_dev_v, b=p_dev_v)\n",
    "    are_equal(a=o_enc_k, b=p_enc_k)\n",
    "    are_equal(a=o_enc_v, b=p_enc_v)"
   ]
  },
  {
   "cell_type": "code",
   "execution_count": 15,
   "metadata": {
    "execution": {
     "iopub.execute_input": "2022-05-13T13:22:34.441289Z",
     "iopub.status.busy": "2022-05-13T13:22:34.441143Z",
     "iopub.status.idle": "2022-05-13T13:22:34.635220Z",
     "shell.execute_reply": "2022-05-13T13:22:34.634679Z"
    },
    "pycharm": {
     "name": "#%%\n"
    }
   },
   "outputs": [],
   "source": [
    "out_dec_onnx_cache = decoder_onnx_inference(\n",
    "    decoder_input_ids=input_ids[:, -1:],\n",
    "    encoder_hidden_states=out_enc_pytorch.last_hidden_state,\n",
    "    enable_cache=torch.tensor([True], device=\"cuda\", dtype=torch.bool),\n",
    "    past_key_values=previous_step_pytorch.past_key_values,\n",
    ")\n",
    "\n",
    "are_equal(a=out_dec_onnx_cache.last_hidden_state[:, -1:, :], b=out_dec_pytorch.last_hidden_state[:, -1:, :])\n",
    "\n",
    "# check that past states are identical between Onnx and Pytorch\n",
    "assert len(out_dec_onnx_cache.past_key_values) == len(out_dec_pytorch.past_key_values)\n",
    "for (o_dec_k, o_dev_v, o_enc_k, o_enc_v), (p_dec_k, p_dev_v, p_enc_k, p_enc_v) in zip(\n",
    "    out_dec_onnx_cache.past_key_values, out_dec_pytorch.past_key_values\n",
    "):\n",
    "    are_equal(a=o_dec_k, b=p_dec_k)\n",
    "    are_equal(a=o_dev_v, b=p_dev_v)\n",
    "    are_equal(a=o_enc_k, b=p_enc_k)\n",
    "    are_equal(a=o_enc_v, b=p_enc_v)"
   ]
  },
  {
   "cell_type": "markdown",
   "metadata": {},
   "source": [
    "## Benchmarks!\n",
    "\n",
    "Finally, we will compare the performances of 4 setup in real scenarios:\n",
    "\n",
    "* `Pytorch`\n",
    "* `Pytorch` + cache\n",
    "* `Onnx`\n",
    "* `Onnx` + cache\n",
    "\n",
    "For the comparison, we first do a sanity check by just generating a short sequence (we already have checked that output tensors are OK).  \n",
    "\n",
    "Then we force each model to generate:\n",
    "\n",
    "* 256 tokens + batch size 1 (similar to TensorRT demo) \n",
    "* 1000 tokens + batch size 4\n"
   ]
  },
  {
   "cell_type": "code",
   "execution_count": 16,
   "metadata": {
    "execution": {
     "iopub.execute_input": "2022-05-13T13:22:34.639504Z",
     "iopub.status.busy": "2022-05-13T13:22:34.639336Z",
     "iopub.status.idle": "2022-05-13T13:22:36.433200Z",
     "shell.execute_reply": "2022-05-13T13:22:36.432740Z"
    },
    "pycharm": {
     "name": "#%%\n"
    }
   },
   "outputs": [
    {
     "name": "stdout",
     "output_type": "stream",
     "text": [
      "ONNX:\n",
      "\n",
      "Pytorch:\n",
      "Ce modèle est maintenant très rapide!\n"
     ]
    }
   ],
   "source": [
    "def encoder_onnx_inference(input_ids: torch.Tensor, **_) -> BaseModelOutputWithPastAndCrossAttentions:\n",
    "    last_hidden_state = inference_onnx_binding(\n",
    "        model_onnx=enc_onnx,  # noqa: F821\n",
    "        inputs={\"input_ids\": input_ids},\n",
    "        device=input_ids.device.type,\n",
    "        binding=enc_onnx_binding,\n",
    "    )[\"output\"]\n",
    "    return BaseModelOutputWithPastAndCrossAttentions(last_hidden_state=last_hidden_state.type(torch.float16))\n",
    "\n",
    "\n",
    "def encoder_pytorch_inference(input_ids, **_) -> BaseModelOutputWithPastAndCrossAttentions:\n",
    "    with torch.inference_mode():\n",
    "        res = model.encoder(input_ids=input_ids).type(torch.float16)\n",
    "        return res\n",
    "\n",
    "\n",
    "# https://github.com/NVIDIA/TensorRT/blob/main/demo/HuggingFace/T5/export.py\n",
    "class ExtT5(torch.nn.Module, GenerationMixin):\n",
    "    def __init__(self, config: PretrainedConfig, device: torch.device, encoder_func: Callable, decoder_func: Callable):\n",
    "        super(ExtT5, self).__init__()\n",
    "        self.main_input_name = \"input_ids\"  # https://github.com/huggingface/transformers/pull/14803\n",
    "        self.config: PretrainedConfig = config\n",
    "        self.device: torch.device = device\n",
    "\n",
    "        self.encoder_func = encoder_func\n",
    "        self.decoder_func = decoder_func\n",
    "        self.use_cache = True\n",
    "        self.timings = list()\n",
    "\n",
    "    def get_encoder(self):\n",
    "        return self.encoder_func\n",
    "\n",
    "    def get_decoder(self):\n",
    "        return self.decoder_func\n",
    "\n",
    "    def set_cache(self, enable: bool) -> None:\n",
    "        self.use_cache = enable\n",
    "\n",
    "    # from transformers library (modeling_t5.py)\n",
    "    def _reorder_cache(self, past, beam_idx):\n",
    "        reordered_decoder_past = ()\n",
    "        for layer_past_states in past:\n",
    "            # get the correct batch idx from layer past batch dim\n",
    "            # batch dim of `past` is at 2nd position\n",
    "            reordered_layer_past_states = ()\n",
    "            for layer_past_state in layer_past_states:\n",
    "                # need to set correct `past` for each of the four key / value states\n",
    "                reordered_layer_past_states = reordered_layer_past_states + (\n",
    "                    layer_past_state.index_select(0, beam_idx),\n",
    "                )\n",
    "\n",
    "            assert reordered_layer_past_states[0].shape == layer_past_states[0].shape\n",
    "            assert len(reordered_layer_past_states) == len(layer_past_states)\n",
    "\n",
    "            reordered_decoder_past = reordered_decoder_past + (reordered_layer_past_states,)\n",
    "        return reordered_decoder_past\n",
    "\n",
    "    def prepare_inputs_for_generation(self, input_ids, past=None, use_cache=None, **kwargs) -> Dict[str, torch.Tensor]:\n",
    "        params = {\n",
    "            \"encoder_hidden_states\": kwargs[\"encoder_outputs\"][\"last_hidden_state\"],\n",
    "        }\n",
    "        if past is None:  # this is the 1st inferred token\n",
    "            self.timings = list()\n",
    "        if not self.use_cache:\n",
    "            past = None\n",
    "        if past is None:\n",
    "            params[self.main_input_name] = input_ids\n",
    "            params[\"enable_cache\"] = torch.tensor([False], device=\"cuda\", dtype=torch.bool)\n",
    "        else:\n",
    "            params[self.main_input_name] = input_ids[:, -1:]\n",
    "            params[\"enable_cache\"] = torch.tensor([True], device=\"cuda\", dtype=torch.bool)\n",
    "            params[\"past_key_values\"] = past\n",
    "\n",
    "        return params\n",
    "\n",
    "    def forward(\n",
    "        self,\n",
    "        input_ids: torch.Tensor,\n",
    "        encoder_hidden_states: torch.Tensor,\n",
    "        enable_cache: torch.Tensor,\n",
    "        past_key_values: Optional[torch.Tensor] = None,\n",
    "        **_,\n",
    "    ):\n",
    "        start_timer = time()\n",
    "        dec_output = self.get_decoder()(\n",
    "            decoder_input_ids=input_ids,\n",
    "            encoder_hidden_states=encoder_hidden_states,\n",
    "            enable_cache=enable_cache,\n",
    "            past_key_values=past_key_values,\n",
    "        )\n",
    "        self.timings.append(time() - start_timer)\n",
    "        return Seq2SeqLMOutput(logits=dec_output.last_hidden_state, past_key_values=dec_output.past_key_values)\n",
    "\n",
    "\n",
    "model_gen = (\n",
    "    ExtT5(\n",
    "        config=model.config,\n",
    "        device=model.device,\n",
    "        encoder_func=encoder_onnx_inference,  # encoder_pytorch_inference\n",
    "        decoder_func=decoder_onnx_inference,  # decoder_pytorch_inference\n",
    "    )\n",
    "    .cuda()\n",
    "    .eval()\n",
    ")\n",
    "\n",
    "torch.cuda.synchronize()\n",
    "with torch.inference_mode():\n",
    "    print(\"Onnx:\")\n",
    "    print(\n",
    "        tokenizer.decode(\n",
    "            model_gen.generate(\n",
    "                inputs=input_ids,\n",
    "                min_length=2,\n",
    "                max_length=60,\n",
    "                num_beams=4,\n",
    "                no_repeat_ngram_size=2,\n",
    "            )[0],\n",
    "            skip_special_tokens=True,\n",
    "        )\n",
    "    )\n",
    "    print(\"Pytorch:\")\n",
    "    print(\n",
    "        tokenizer.decode(\n",
    "            model.generate(\n",
    "                input_ids=input_ids,\n",
    "                min_length=2,\n",
    "                max_length=60,\n",
    "                num_beams=4,\n",
    "                no_repeat_ngram_size=2,\n",
    "            )[0],\n",
    "            skip_special_tokens=True,\n",
    "        )\n",
    "    )"
   ]
  },
  {
   "cell_type": "code",
   "execution_count": 17,
   "metadata": {
    "execution": {
     "iopub.execute_input": "2022-05-13T13:22:36.435410Z",
     "iopub.status.busy": "2022-05-13T13:22:36.435279Z",
     "iopub.status.idle": "2022-05-13T13:27:17.982944Z",
     "shell.execute_reply": "2022-05-13T13:27:17.982258Z"
    },
    "pycharm": {
     "name": "#%%\n"
    }
   },
   "outputs": [
    {
     "name": "stdout",
     "output_type": "stream",
     "text": [
      "seq len: 256 / # beam (batch size): 1\n",
      "ONNX: 3.3, including inference: 3.2 (95.9%)\n",
      "ONNX + cache: 4.6, including inference: 4.4 (96.6%)\n",
      "Pytorch: 10.1, including inference: 10.0 (98.9%)\n",
      "Pytorch + cache: 8.2, including inference: 8.1 (98.6%)\n",
      "seq len: 1000 / # beam (batch size): 4\n",
      "ONNX: 48.9, including inference: 46.8 (95.8%)\n",
      "ONNX + cache: 63.3, including inference: 61.0 (96.4%)\n",
      "Pytorch: 102.1, including inference: 101.1 (99.0%)\n",
      "Pytorch + cache: 41.2, including inference: 38.8 (94.2%)\n"
     ]
    }
   ],
   "source": [
    "def print_timings(name: str, total: float, inference: float):\n",
    "    percent_inference = 100 * inference / total\n",
    "    print(f\"{name}: {total:.1f}, including inference: {inference:.1f} ({percent_inference:.1f}%)\")\n",
    "\n",
    "\n",
    "all_timings: Dict[str, Dict[str, List[float]]] = dict()\n",
    "for seq_len, num_beam in [(256, 1), (1000, 4)]:\n",
    "    timings = dict()\n",
    "\n",
    "    print(f\"seq len: {seq_len} / # beam (batch size): {num_beam}\")\n",
    "    task = \"Onnx\"\n",
    "    with nvtx.annotate(task, color=\"red\"):\n",
    "        model_gen.set_cache(enable=False)\n",
    "        start = time()\n",
    "        model_gen.generate(inputs=input_ids, max_length=seq_len, num_beams=num_beam, min_length=seq_len)\n",
    "        print_timings(name=task, total=time() - start, inference=sum(model_gen.timings))\n",
    "        timings[f\"{task}\"] = model_gen.timings\n",
    "\n",
    "    task = \"Onnx + cache\"\n",
    "    with nvtx.annotate(task, color=\"red\"):\n",
    "        model_gen.set_cache(enable=True)\n",
    "        start = time()\n",
    "        model_gen.generate(inputs=input_ids, max_length=seq_len, num_beams=num_beam, min_length=seq_len)\n",
    "        print_timings(name=task, total=time() - start, inference=sum(model_gen.timings))\n",
    "        timings[f\"{task}\"] = model_gen.timings\n",
    "\n",
    "    # monckey patching of forward function to add a timer per generated token\n",
    "    old_fw = model.forward\n",
    "    timing_pytorch = list()\n",
    "\n",
    "    def new_fw(self, *args, **kwargs):\n",
    "        timer_start = time()\n",
    "        res = old_fw(self, *args, **kwargs)\n",
    "        torch.cuda.synchronize()  # makes timings correct without having significant impact on e2e latency\n",
    "        timing_pytorch.append(time() - timer_start)\n",
    "        return res\n",
    "\n",
    "    model.forward = new_fw.__get__(model)\n",
    "    task = \"Pytorch\"\n",
    "    with nvtx.annotate(task, color=\"orange\"):\n",
    "        model.config.use_cache = False\n",
    "        with torch.inference_mode():\n",
    "            with torch.cuda.amp.autocast():\n",
    "                start = time()\n",
    "                model.generate(inputs=input_ids, max_length=seq_len, num_beams=num_beam, min_length=seq_len)\n",
    "                torch.cuda.synchronize()\n",
    "                print_timings(name=\"Pytorch\", total=time() - start, inference=sum(timing_pytorch))\n",
    "        timing_pytorch_no_cache = copy(timing_pytorch)\n",
    "        timings[f\"{task}\"] = copy(timing_pytorch)\n",
    "        timing_pytorch.clear()\n",
    "\n",
    "    task = \"Pytorch + cache\"\n",
    "    with nvtx.annotate(\"Pytorch + cache\", color=\"green\"):\n",
    "        model.config.use_cache = True\n",
    "        with torch.inference_mode():\n",
    "            with torch.cuda.amp.autocast():\n",
    "                start = time()\n",
    "                model.generate(inputs=input_ids, max_length=seq_len, num_beams=num_beam, min_length=seq_len)\n",
    "                torch.cuda.synchronize()\n",
    "                print_timings(name=\"Pytorch + cache\", total=time() - start, inference=sum(timing_pytorch))\n",
    "        timings[f\"{task}\"] = copy(timing_pytorch)\n",
    "        timing_pytorch.clear()\n",
    "    all_timings[f\"{seq_len} / {num_beam}\"] = timings\n",
    "    model.forward = old_fw"
   ]
  },
  {
   "cell_type": "markdown",
   "metadata": {
    "collapsed": false,
    "pycharm": {
     "name": "#%% md\n"
    }
   },
   "source": [
    "## Benchmark analysis\n",
    "\n",
    "Below, we plot for each setup (short and long sequence):\n",
    "\n",
    "* the time spent on each token generation\n",
    "* the full time to generate the sequence (for each length)\n",
    "\n",
    "We can see that for short sequence and batch size of 1, cache or not, latency appear to be stable.  \n",
    "However, for longer sequences, we can see that the no cache approach (being Pytorch or Onnx based) doesn't scale well, and at some point, Onnx is even slower than Hugging Face code with cache support.\n",
    "\n",
    "On the other side, `Onnx` timings are mostly stable whatever the sequence length which is quite remarkable.  \n",
    "It's because we are working one taken at a time and converted a quadratic complexity in the self attention into a linear one."
   ]
  },
  {
   "cell_type": "code",
   "execution_count": 18,
   "metadata": {
    "execution": {
     "iopub.execute_input": "2022-05-13T13:27:17.986234Z",
     "iopub.status.busy": "2022-05-13T13:27:17.986049Z",
     "iopub.status.idle": "2022-05-13T13:27:18.946260Z",
     "shell.execute_reply": "2022-05-13T13:27:18.945727Z"
    },
    "pycharm": {
     "name": "#%%\n"
    }
   },
   "outputs": [
    {
     "data": {
      "image/png": "[encoded data removed]",
      "text/plain": [
       "<Figure size 864x576 with 4 Axes>"
      ]
     },
     "metadata": {},
     "output_type": "display_data"
    }
   ],
   "source": [
    "sns.set_style(\"darkgrid\")  # darkgrid, whitegrid, dark, white and ticks\n",
    "plt.rc(\"axes\", titlesize=15)  # fontsize of the axes title\n",
    "plt.rc(\"axes\", labelsize=14)  # fontsize of the x and y labels\n",
    "plt.rc(\"xtick\", labelsize=13)  # fontsize of the tick labels\n",
    "plt.rc(\"ytick\", labelsize=13)  # fontsize of the tick labels\n",
    "plt.rc(\"legend\", fontsize=15)  # legend fontsize\n",
    "plt.rc(\"font\", size=13)  # controls default text sizes\n",
    "\n",
    "colors = sns.color_palette(\"deep\")\n",
    "fig = plt.figure(constrained_layout=True, figsize=(12, 8))\n",
    "subfigs = fig.subfigures(nrows=2, ncols=1)\n",
    "\n",
    "fig.supxlabel(\"seq len (# tokens)\")\n",
    "fig.supylabel(\"latency (s)\")\n",
    "fig.suptitle(f\"Small seq len and greedy search on {model_name} don't tell the whole (inference) story...\")\n",
    "for row, (plot_name, timings) in enumerate(all_timings.items()):\n",
    "    subfigs[row].suptitle(f\"setup #{1+row}: {plot_name} (seq len / beam search)\")\n",
    "    axs = subfigs[row].subplots(nrows=1, ncols=2)\n",
    "    for col, accumulated in enumerate([False, True]):\n",
    "        plot_axis = axs[col]\n",
    "        for index, (k, v) in enumerate(timings.items()):\n",
    "            axis = range(len(v))\n",
    "            color = colors[index]\n",
    "            v = np.array(v)\n",
    "            # remove extreme values\n",
    "            p99 = np.percentile(v, 99)\n",
    "            v[v > p99] = p99\n",
    "            v = np.cumsum(v) if accumulated else v\n",
    "            plot_axis.scatter(axis, v, label=k, s=2)\n",
    "\n",
    "        title = f\"latency for the full sequence\" if accumulated else f\"latency for each token\"\n",
    "        plot_axis.title.set_text(title)\n",
    "\n",
    "# legend deduplication\n",
    "handles, labels = plt.gca().get_legend_handles_labels()\n",
    "by_label = dict(zip(labels, handles))\n",
    "fig.legend(by_label.values(), by_label.keys(), bbox_to_anchor=(1, 1), loc=\"upper left\", markerscale=5)\n",
    "plt.show()"
   ]
  },
  {
   "cell_type": "markdown",
   "metadata": {
    "collapsed": false,
    "pycharm": {
     "name": "#%% md\n"
    }
   },
   "source": [
    "## Profiling model at the kernel level\n",
    "\n",
    "Below we reload the decoder model with Onnx Runtime kernel profiling enabled.  \n",
    "It will help us to understand on which part of the computation graph the GPU spends its time.  \n",
    "\n",
    "The number of events that Onnx Runtime can save is limited to [1 million](https://github.com/microsoft/onnxruntime/blob/a4b5fa334aa939fb159bdc571ed3d56ca8d31fc7/onnxruntime/core/common/profiler.cc#L10).\n",
    "It is not an issue as we have seen that timings per token are mostly stable, so having only n first token information don't change anything.\n",
    "\n",
    "The main information it gives us is that 30% of the time is spent on matrix multiplication when caching is used.  \n",
    "The rest of the time is spent on mostly memory bound operations:\n",
    "* element-wise operations which require little computation (`add`, `mul`, `div`, etc.)\n",
    "* copy pasting tensors `GPU` <-> `GPU` with little transformation in between (`transpose`, `concat`, `cast`, etc.)\n",
    "\n",
    "It matches the information provided by both `nvidia-smi` and `Nvidia Nsight` (the GPU profiler from Nvidia): the GPU is under utilized.  \n",
    "That's why we think that a tool like `TensorRT` which will perform aggressive kernel fusion, reducing time spent on memory bounded operations, is a good fit for autoregressive models. Unfortunately, so far we have issues to make it work with the `If` operator."
   ]
  },
  {
   "cell_type": "code",
   "execution_count": 19,
   "metadata": {
    "execution": {
     "iopub.execute_input": "2022-05-13T13:27:18.949877Z",
     "iopub.status.busy": "2022-05-13T13:27:18.949651Z",
     "iopub.status.idle": "2022-05-13T13:27:22.971017Z",
     "shell.execute_reply": "2022-05-13T13:27:22.970449Z"
    },
    "pycharm": {
     "name": "#%%\n"
    }
   },
   "outputs": [
    {
     "data": {
      "image/png": "[encoded data removed]",
      "text/plain": [
       "<Figure size 432x288 with 1 Axes>"
      ]
     },
     "metadata": {},
     "output_type": "display_data"
    }
   ],
   "source": [
    "dec_onnx = create_model_for_provider(\n",
    "    model_def.SerializeToString(), \"CUDAExecutionProvider\", enable_profiling=True, log_severity=3\n",
    ")\n",
    "dec_onnx_binding: IOBinding = dec_onnx.io_binding()\n",
    "_ = model_gen.generate(inputs=input_ids, max_length=10, num_beams=num_beam, min_length=10)\n",
    "profile_name = dec_onnx.end_profiling()\n",
    "\n",
    "with open(profile_name) as f:\n",
    "    content = json.load(f)\n",
    "\n",
    "op_timings = defaultdict(lambda: 0)\n",
    "for c in content:\n",
    "    if \"op_name\" not in c[\"args\"]:\n",
    "        continue\n",
    "    op_name = c[\"args\"][\"op_name\"]\n",
    "    if op_name == \"If\":\n",
    "        continue  # subgraph\n",
    "    time_taken = c[\"dur\"]\n",
    "    op_timings[op_name] += time_taken\n",
    "\n",
    "op_timings_filter = dict(sorted(op_timings.items(), key=operator.itemgetter(1), reverse=True)[:10])\n",
    "total_kernel_timing = sum(op_timings.values())\n",
    "op_timings_percent = {k: 100 * v / total_kernel_timing for k, v in op_timings_filter.items()}\n",
    "\n",
    "plt.barh(list(op_timings_percent.keys()), list(op_timings_percent.values()))\n",
    "plt.title(\"Time spent per kernel\\n(top 10 kernels)\")\n",
    "plt.xlabel(\"% total inference time\")\n",
    "plt.show()"
   ]
  }
 ],
 "metadata": {
  "interpreter": {
   "hash": "a58d2af18bf04665c2e2bc4da3b27125657c7fa69776c3ea950f8da535eaaa1e"
  },
  "kernelspec": {
   "display_name": "Python 3.9.12 ('transformer-deploy')",
   "language": "python",
   "name": "python3"
  },
  "language_info": {
   "codemirror_mode": {
    "name": "ipython",
    "version": 3
   },
   "file_extension": ".py",
   "mimetype": "text/x-python",
   "name": "python",
   "nbconvert_exporter": "python",
   "pygments_lexer": "ipython3",
   "version": "3.9.12"
  }
 },
 "nbformat": 4,
 "nbformat_minor": 1
}
