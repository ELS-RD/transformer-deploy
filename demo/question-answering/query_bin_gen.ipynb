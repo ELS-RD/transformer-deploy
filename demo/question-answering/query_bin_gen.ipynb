{
 "cells": [
  {
   "cell_type": "code",
   "execution_count": 1,
   "metadata": {
    "pycharm": {
     "name": "#%%\n"
    }
   },
   "outputs": [],
   "source": [
    "import json\n",
    "import struct"
   ]
  },
  {
   "cell_type": "code",
   "execution_count": 2,
   "metadata": {
    "pycharm": {
     "name": "#%%\n"
    }
   },
   "outputs": [],
   "source": [
    "question: str = \"Where do I live?\"\n",
    "context: str = \"My name is Wolfgang and I live in Berlin\""
   ]
  },
  {
   "cell_type": "code",
   "execution_count": 3,
   "metadata": {
    "pycharm": {
     "name": "#%%\n"
    }
   },
   "outputs": [],
   "source": [
    "question_b: bytes = question.encode(\"UTF-8\")\n",
    "context_b: bytes = context.encode(\"UTF-8\")"
   ]
  },
  {
   "cell_type": "code",
   "execution_count": 4,
   "metadata": {
    "pycharm": {
     "name": "#%%\n"
    }
   },
   "outputs": [],
   "source": [
    "question_b_struct: bytes = struct.pack(\"<I\", len(question_b)) + question_b\n",
    "context_b_struct: bytes = struct.pack(\"<I\", len(context_b)) + context_b\n",
    "\n",
    "len_question_b_struct = len(question_b_struct)\n",
    "len_context_b_struct = len(context_b_struct)\n",
    "\n",
    "data_struct = question_b_struct + context_b_struct"
   ]
  },
  {
   "cell_type": "code",
   "execution_count": 5,
   "metadata": {
    "pycharm": {
     "name": "#%%\n"
    }
   },
   "outputs": [
    {
     "data": {
      "text/plain": [
       "b'\\x10\\x00\\x00\\x00Where do I live?(\\x00\\x00\\x00My name is Wolfgang and I live in Berlin'"
      ]
     },
     "execution_count": 5,
     "metadata": {},
     "output_type": "execute_result"
    }
   ],
   "source": [
    "data_struct"
   ]
  },
  {
   "cell_type": "code",
   "execution_count": 6,
   "metadata": {
    "pycharm": {
     "name": "#%%\n"
    }
   },
   "outputs": [],
   "source": [
    "request_data = {\n",
    "    \"inputs\": [\n",
    "        {\n",
    "            \"name\": \"QUESTION\",\n",
    "            \"shape\": [1],\n",
    "            \"datatype\": \"BYTES\",\n",
    "            \"parameters\": {\"binary_data_size\": len_question_b_struct},\n",
    "        },\n",
    "        {\n",
    "            \"name\": \"CONTEXT\",\n",
    "            \"shape\": [1],\n",
    "            \"datatype\": \"BYTES\",\n",
    "            \"parameters\": {\"binary_data_size\": len_context_b_struct},\n",
    "        },\n",
    "    ],\n",
    "    \"outputs\": [{\"name\": \"output\", \"parameters\": {\"binary_data\": False}}],\n",
    "}"
   ]
  },
  {
   "cell_type": "code",
   "execution_count": 7,
   "metadata": {
    "pycharm": {
     "name": "#%%\n"
    }
   },
   "outputs": [],
   "source": [
    "data = json.dumps(request_data).encode() + data_struct"
   ]
  },
  {
   "cell_type": "code",
   "execution_count": 8,
   "metadata": {
    "pycharm": {
     "name": "#%%\n"
    }
   },
   "outputs": [
    {
     "data": {
      "text/plain": [
       "b'{\"inputs\": [{\"name\": \"QUESTION\", \"shape\": [1], \"datatype\": \"BYTES\", \"parameters\": {\"binary_data_size\": 20}}, {\"name\": \"CONTEXT\", \"shape\": [1], \"datatype\": \"BYTES\", \"parameters\": {\"binary_data_size\": 44}}], \"outputs\": [{\"name\": \"output\", \"parameters\": {\"binary_data\": false}}]}\\x10\\x00\\x00\\x00Where do I live?(\\x00\\x00\\x00My name is Wolfgang and I live in Berlin'"
      ]
     },
     "execution_count": 8,
     "metadata": {},
     "output_type": "execute_result"
    }
   ],
   "source": [
    "data"
   ]
  },
  {
   "cell_type": "code",
   "execution_count": 9,
   "metadata": {
    "pycharm": {
     "name": "#%%\n"
    }
   },
   "outputs": [],
   "source": [
    "with open(\"query_body.bin\", \"wb\") as f:\n",
    "    f.write(data)"
   ]
  },
  {
   "cell_type": "code",
   "execution_count": 10,
   "metadata": {
    "pycharm": {
     "name": "#%%\n"
    }
   },
   "outputs": [
    {
     "name": "stdout",
     "output_type": "stream",
     "text": [
      "\n",
      "curl -X POST  http://localhost:8000/v2/models/transformer_onnx_inference/versions/1/infer   --data-binary \"@demo/question-answering/query_body.bin\"   --header \"Inference-Header-Content-Length: 276\"\n",
      "\n"
     ]
    }
   ],
   "source": [
    "curl = f\"\"\"\n",
    "curl -X POST  http://localhost:8000/v2/models/transformer_onnx_inference/versions/1/infer \\\n",
    "  --data-binary \"@demo/question-answering/query_body.bin\" \\\n",
    "  --header \"Inference-Header-Content-Length: {len(json.dumps(request_data).encode())}\"\n",
    "\"\"\"\n",
    "print(curl)"
   ]
  },
  {
   "cell_type": "code",
   "execution_count": null,
   "metadata": {
    "pycharm": {
     "name": "#%%\n"
    }
   },
   "outputs": [],
   "source": []
  }
 ],
 "metadata": {
  "interpreter": {
   "hash": "0bf275b35325fd759ff746910efb16a877a10edfe78139e6edb05fde77109a14"
  },
  "kernelspec": {
   "display_name": "Python 3.8.10 ('transformer-deploy')",
   "language": "python",
   "name": "python3"
  },
  "language_info": {
   "codemirror_mode": {
    "name": "ipython",
    "version": 3
   },
   "file_extension": ".py",
   "mimetype": "text/x-python",
   "name": "python",
   "nbconvert_exporter": "python",
   "pygments_lexer": "ipython3",
   "version": "3.8.10"
  },
  "orig_nbformat": 4
 },
 "nbformat": 4,
 "nbformat_minor": 2
}