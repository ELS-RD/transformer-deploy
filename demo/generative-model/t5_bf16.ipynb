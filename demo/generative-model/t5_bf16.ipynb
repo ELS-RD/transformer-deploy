{
 "cells": [
  {
   "cell_type": "markdown",
   "metadata": {
    "collapsed": false,
    "pycharm": {
     "name": "#%% md\n"
    }
   },
   "source": [
    "# Inference acceleration of `T5` with `bfloat16`\n",
    "\n",
    "This is a spin-off of the `T5` inference notebook.  \n",
    "We reuse most of the recipes with a notable change: we replace `float16` (`fp16` below) format by `bfloat16` (`bf16` below).  \n",
    "\n",
    "## About `bf16` format\n",
    "\n",
    "Most deep learning models are trained and inferred nowadays in mixed precision.  \n",
    "It means that most operations are done in either half precision (`fp16`) or single precision (`float32`, `fp32` below).  \n",
    "\n",
    "Doing operations in half precision means reducing memory footprint of weights by half but also increasing the speed of big matrix multiplication.\n",
    "\n",
    "Unfortunately, by using only 16 bits instead of 32, we can encode only a part of the original information.  \n",
    "Sometimes it's even impossible to encode numbers, for instance, if their value is above 65K or below -65K.  \n",
    "Also, numbers very close to 0 may be rounded to 0 which may be an issue if the number is then used as the denominator of a division.\n",
    "\n",
    "These limitations are the consequences of how float numbers are encoded. There are 3 parts:\n",
    "\n",
    "* the **sign** (1 bit);\n",
    "* the **mantissa** or **significand** (10 bits in `fp16`, 22 in `fp32`): the number representation before scaling;\n",
    "* the **exponent** (5 bits in `fp16`, 8 in `fp32`): it's used to scale the mantissa, basically it decides where is the coma.\n",
    "\n",
    "`float number = sign X base^exponent X significand`\n",
    "\n",
    "The mix precision setup implies some complexity explained in the `t5.ipynb` (available in the same folder that this notebook).\n",
    "\n",
    "Recently, Google Brain has created a new format, `bfloat16` (the `b` stands for brain).\n",
    "\n",
    "To make it short, a `bf16` number is just the 16 most significant bits of a `fp32` number, aka 8 bits for the exponent and 8 for the mantissa. Therefore it has the same range as `fp32` but a much lower precision.\n",
    "\n",
    "To convert a number from `fp32` to `bf16`, we just take the 16 most significant bits, it's called the truncation approach.\n",
    "To get the most exact result, you need a second step, which is called the rounding to nearest even to retrieve a part of the information of the original number.\n",
    "\n",
    "Because we have the same range as `fp32`, in theory, we do not need anymore the complex mechanic to make it work in mixed precision.\n",
    "\n",
    "There are 2 shortcomings:\n",
    "- this format is not supported by all the GPUs (since Nvidia Ampere generation) and CPUs\n",
    "- accuracy of `bfloat16` is lower than `fp16` (when in `fp16` range): usually when this format is used for some computation, the accumulation is still done with `fp32` for maximum precision. To get the best results below, we do not use any mixed precision mechanism. It appeared that the tolerance needs to be set 10X higher than in the mixed precision notebook for the same model size.\n",
    "\n",
    "More about this format can be found in this [paper](https://arxiv.org/pdf/1905.12322.pdf).\n"
   ]
  },
  {
   "cell_type": "code",
   "execution_count": 1,
   "metadata": {
    "execution": {
     "iopub.execute_input": "2022-07-01T16:06:25.155428Z",
     "iopub.status.busy": "2022-07-01T16:06:25.154762Z",
     "iopub.status.idle": "2022-07-01T16:06:25.720135Z",
     "shell.execute_reply": "2022-07-01T16:06:25.718633Z"
    },
    "pycharm": {
     "name": "#%%\n"
    }
   },
   "outputs": [
    {
     "name": "stdout",
     "output_type": "stream",
     "text": [
      "Sun Jul  3 20:37:18 2022       \r\n",
      "+-----------------------------------------------------------------------------+\r\n",
      "| NVIDIA-SMI 515.48.07    Driver Version: 515.48.07    CUDA Version: 11.7     |\r\n",
      "|-------------------------------+----------------------+----------------------+\r\n",
      "| GPU  Name        Persistence-M| Bus-Id        Disp.A | Volatile Uncorr. ECC |\r\n",
      "| Fan  Temp  Perf  Pwr:Usage/Cap|         Memory-Usage | GPU-Util  Compute M. |\r\n",
      "|                               |                      |               MIG M. |\r\n",
      "|===============================+======================+======================|\r\n",
      "|   0  NVIDIA GeForce ...  On   | 00000000:03:00.0  On |                  N/A |\r\n",
      "| 55%   55C    P5    49W / 350W |   1055MiB / 24576MiB |      6%      Default |\r\n",
      "|                               |                      |                  N/A |\r\n",
      "+-------------------------------+----------------------+----------------------+\r\n",
      "                                                                               \r\n",
      "+-----------------------------------------------------------------------------+\r\n",
      "| Processes:                                                                  |\r\n",
      "|  GPU   GI   CI        PID   Type   Process name                  GPU Memory |\r\n",
      "|        ID   ID                                                   Usage      |\r\n",
      "|=============================================================================|\r\n",
      "|    0   N/A  N/A      2317      G   /usr/lib/xorg/Xorg                 97MiB |\r\n",
      "|    0   N/A  N/A      7571      G   /usr/bin/gnome-shell               35MiB |\r\n",
      "|    0   N/A  N/A      9177      G   ...on/Bin/AgentConnectix.bin        4MiB |\r\n",
      "|    0   N/A  N/A     26231      G   ...164143431494779369,131072      107MiB |\r\n",
      "|    0   N/A  N/A    315590      C   ...st_transformer/bin/python      805MiB |\r\n",
      "+-----------------------------------------------------------------------------+\r\n"
     ]
    }
   ],
   "source": [
    "! nvidia-smi"
   ]
  },
  {
   "cell_type": "markdown",
   "metadata": {
    "collapsed": false,
    "pycharm": {
     "name": "#%% md\n"
    }
   },
   "source": [
    "## `ONNX Runtime` compilation\n",
    "\n",
    "You need at least version 1.12 of `ONNX Runtime` which is not yet released at the time of this writing. If not yet the case, it will require you to compile it."
   ]
  },
  {
   "cell_type": "code",
   "execution_count": 2,
   "metadata": {
    "execution": {
     "iopub.execute_input": "2022-07-01T16:06:25.726247Z",
     "iopub.status.busy": "2022-07-01T16:06:25.725753Z",
     "iopub.status.idle": "2022-07-01T16:06:27.901495Z",
     "shell.execute_reply": "2022-07-01T16:06:27.900846Z"
    },
    "pycharm": {
     "name": "#%%\n"
    }
   },
   "outputs": [],
   "source": [
    "import json\n",
    "import random\n",
    "from transformer_deploy.backends.ort_utils import get_keep_fp32_nodes\n",
    "from transformer_deploy.backends.ort_utils import convert_fp16\n",
    "import time\n",
    "from typing import Callable, Dict, Optional, List\n",
    "import matplotlib.pylab as plt\n",
    "from onnxruntime import IOBinding\n",
    "import numpy as np\n",
    "import torch\n",
    "from pathlib import Path\n",
    "from typing import Tuple\n",
    "from transformer_deploy.backends.onnx_utils import save_onnx, merge_autoregressive_model_graphs\n",
    "from transformer_deploy.backends.ort_utils import search_fp32_nodes\n",
    "from transformer_deploy.backends.ort_utils import add_output_nodes\n",
    "import onnx\n",
    "\n",
    "from torch.nn import Linear\n",
    "from transformers import AutoModelForSeq2SeqLM, AutoTokenizer, PretrainedConfig, T5ForConditionalGeneration, TensorType\n",
    "from transformers.generation_utils import GenerationMixin\n",
    "from transformers.modeling_outputs import BaseModelOutputWithPastAndCrossAttentions, Seq2SeqLMOutput\n",
    "from transformers.models.t5.modeling_t5 import T5Stack\n",
    "from nvtx import nvtx\n",
    "from copy import copy\n",
    "\n",
    "from transformer_deploy.backends.ort_utils import create_model_for_provider, inference_onnx_binding\n",
    "from transformer_deploy.backends.pytorch_utils import convert_to_onnx\n",
    "import seaborn as sns\n",
    "import operator\n",
    "from collections import defaultdict\n",
    "import gc\n",
    "from transformer_deploy.backends.onnx_utils import patch_constant_node_bf16"
   ]
  },
  {
   "cell_type": "markdown",
   "metadata": {
    "collapsed": false,
    "pycharm": {
     "name": "#%% md\n"
    }
   },
   "source": [
    "## Loading `Hugging Face` model / tokenizer\n",
    "\n",
    "Below we load the model and set global variables of this notebook."
   ]
  },
  {
   "cell_type": "code",
   "execution_count": 3,
   "metadata": {
    "execution": {
     "iopub.execute_input": "2022-07-01T16:06:27.908115Z",
     "iopub.status.busy": "2022-07-01T16:06:27.907443Z",
     "iopub.status.idle": "2022-07-01T16:07:45.726098Z",
     "shell.execute_reply": "2022-07-01T16:07:45.725449Z"
    },
    "pycharm": {
     "name": "#%%\n"
    }
   },
   "outputs": [],
   "source": [
    "np.random.seed(123)\n",
    "torch.random.manual_seed(123)\n",
    "# other possible values: t5-small, t5-base, t5-large. t5-3b should work when ORT library is fixed\n",
    "model_name = \"t5-small\"\n",
    "# shape of output generation for benchmarks (seqlen, batch).\n",
    "# You can provide 2 tasks to benchmark.\n",
    "# On 3b model, 128 tokens with batch 2 is the maximum without OOM Exception on GPU with 24Gb of RAM.\n",
    "# On smaller models/more ram GPUs, use bigger values like [(1024, 1), (1024, 4)]\n",
    "benchmark_tasks = [(1024, 1), (1024, 4)]\n",
    "# T5 has no max len\n",
    "# https://github.com/huggingface/transformers/issues/5204\n",
    "tokenizer = AutoTokenizer.from_pretrained(model_name, model_max_length=512)\n",
    "input_ids: torch.Tensor = tokenizer(\n",
    "    'translate English to French: Transfer learning, where a model is first pre-trained on a data-rich task before being fine-tuned on a downstream task, has emerged as a powerful technique in natural language processing (NLP). The effectiveness of transfer learning has given rise to a diversity of approaches, methodology, and practice. In this paper, we explore the landscape of transfer learning techniques for NLP by introducing a unified framework that converts all text-based language problems into a text-to-text format. Our systematic study compares pre-training objectives, architectures, unlabeled data sets, transfer approaches, and other factors on dozens of language understanding tasks. By combining the insights from our exploration with scale and our new \"Colossal Clean Crawled Corpus\", we achieve state-of-the-art results on many benchmarks covering summarization, question answering, text classification, and more. To facilitate future work on transfer learning for NLP, we release our data set, pre-trained models, and code.',\n",
    "    return_tensors=TensorType.PYTORCH,\n",
    ").input_ids\n",
    "input_ids = input_ids.type(torch.int32)\n",
    "pytorch_model: T5ForConditionalGeneration = AutoModelForSeq2SeqLM.from_pretrained(model_name)\n",
    "pytorch_model = pytorch_model.eval()\n",
    "pytorch_model = pytorch_model.to(torch.bfloat16)  # bf16 is the new format\n",
    "\n",
    "\n",
    "pytorch_model.config.use_cache = True  # not really needed, just to make things obvious\n",
    "num_layers = pytorch_model.config.num_layers\n",
    "# tolerance between ONNX FP16 and Pytorch FP32.\n",
    "# expect a 10X bigger tolerance compared to mix precision!\n",
    "fp16_default_tolerance = 1\n",
    "\n",
    "\n",
    "def are_equal(a: torch.Tensor, b: torch.Tensor, atol: float = fp16_default_tolerance) -> None:\n",
    "    assert np.allclose(\n",
    "        a=a.type(torch.float32).detach().cpu().numpy(), b=b.type(torch.float32).detach().cpu().numpy(), atol=atol\n",
    "    ), f\"{a}\\n\\nVS\\n\\n{b}\"\n",
    "\n",
    "\n",
    "def prepare_folder(path: str) -> Tuple[str, str]:\n",
    "    p = Path(path)\n",
    "    p.mkdir(parents=True, exist_ok=True)\n",
    "    [item.unlink() for item in Path(path).glob(\"*\") if item.is_file()]\n",
    "    return path + \"/model.onnx\", path + \"/model_fp16.onnx\"\n",
    "\n",
    "\n",
    "# create/clean folders where each model will be stored.\n",
    "# as multiple files will be saved for T5-3B and 11B, we use different folders for the encoder and the decoders.\n",
    "encoder_model_path, encoder_fp16_model_path = prepare_folder(path=\"./test-enc\")\n",
    "dec_cache_model_path, dec_cache_fp16_model_path = prepare_folder(path=\"./test-dec-cache\")\n",
    "dec_no_cache_model_path, dec_no_cache_fp16_model_path = prepare_folder(path=\"./test-dec-no-cache\")\n",
    "dec_if_model_path, dec_if_fp16_model_path = prepare_folder(path=\"./test-dec-if\")\n",
    "\n",
    "# some outputs to compare with\n",
    "out_enc: BaseModelOutputWithPastAndCrossAttentions = pytorch_model.encoder(input_ids=input_ids)\n",
    "out_full: Seq2SeqLMOutput = pytorch_model(input_ids=input_ids, decoder_input_ids=input_ids)"
   ]
  },
  {
   "cell_type": "markdown",
   "metadata": {
    "collapsed": false,
    "pycharm": {
     "name": "#%% md\n"
    }
   },
   "source": [
    "# Export to ONNX\n",
    "\n",
    "## Export encoder part\n"
   ]
  },
  {
   "cell_type": "code",
   "execution_count": 4,
   "metadata": {
    "execution": {
     "iopub.execute_input": "2022-07-01T16:07:45.729937Z",
     "iopub.status.busy": "2022-07-01T16:07:45.729459Z",
     "iopub.status.idle": "2022-07-01T16:08:04.399210Z",
     "shell.execute_reply": "2022-07-01T16:08:04.398381Z"
    },
    "pycharm": {
     "name": "#%%\n"
    }
   },
   "outputs": [],
   "source": [
    "convert_to_onnx(\n",
    "    model_pytorch=pytorch_model.encoder,\n",
    "    output_path=encoder_model_path,\n",
    "    inputs_pytorch={\"input_ids\": input_ids},\n",
    "    var_output_seq=True,\n",
    "    quantization=False,\n",
    "    output_names=[\"output\"],\n",
    ")"
   ]
  },
  {
   "cell_type": "code",
   "execution_count": 5,
   "metadata": {
    "execution": {
     "iopub.execute_input": "2022-07-01T16:08:04.402291Z",
     "iopub.status.busy": "2022-07-01T16:08:04.402076Z",
     "iopub.status.idle": "2022-07-01T16:08:04.665456Z",
     "shell.execute_reply": "2022-07-01T16:08:04.664654Z"
    },
    "pycharm": {
     "name": "#%%\n"
    }
   },
   "outputs": [],
   "source": [
    "model_onnx = onnx.load(encoder_model_path, load_external_data=False)\n",
    "patched_model_onnx = patch_constant_node_bf16(model=model_onnx)\n",
    "save_onnx(patched_model_onnx, encoder_model_path)"
   ]
  },
  {
   "cell_type": "markdown",
   "metadata": {
    "collapsed": false,
    "pycharm": {
     "name": "#%% md\n"
    }
   },
   "source": [
    "## Export decoder\n",
    "\n",
    "### Wrapper to include some post-processing on the decoder output\n"
   ]
  },
  {
   "cell_type": "code",
   "execution_count": 6,
   "metadata": {
    "execution": {
     "iopub.execute_input": "2022-07-01T16:08:04.671558Z",
     "iopub.status.busy": "2022-07-01T16:08:04.671209Z",
     "iopub.status.idle": "2022-07-01T16:08:41.055430Z",
     "shell.execute_reply": "2022-07-01T16:08:41.054659Z"
    },
    "pycharm": {
     "name": "#%%\n"
    }
   },
   "outputs": [],
   "source": [
    "class ExportT5(torch.nn.Module):\n",
    "    def __init__(self, decoder: T5Stack, lm_head: Linear):\n",
    "        super(ExportT5, self).__init__()\n",
    "        self.decoder = decoder\n",
    "        self.lm_head = lm_head\n",
    "\n",
    "    def forward(self, input_ids: torch.Tensor, encoder_hidden_states: torch.Tensor, past_key_values: Tuple = None):\n",
    "        # cast fp16 inputs to bfloat16 as ORT does not support bf16 inputs...\n",
    "        encoder_hidden_states = encoder_hidden_states.type(torch.bfloat16)\n",
    "\n",
    "        if past_key_values is not None:\n",
    "            past_key_values_bfloat16 = list()\n",
    "            for tensor_tuple in past_key_values:\n",
    "                res = tuple([tensor.type(torch.bfloat16) for tensor in tensor_tuple])\n",
    "                past_key_values_bfloat16.append(res)\n",
    "            past_key_values_bfloat16 = list(past_key_values_bfloat16)\n",
    "        else:\n",
    "            past_key_values_bfloat16 = None\n",
    "\n",
    "        out_dec = self.decoder.forward(\n",
    "            input_ids=input_ids, encoder_hidden_states=encoder_hidden_states, past_key_values=past_key_values_bfloat16\n",
    "        )\n",
    "        # weight tying -> rescale output before projecting on vocab\n",
    "        # to comment for T0 for instance\n",
    "        out_dec[\"last_hidden_state\"] = out_dec[\"last_hidden_state\"] * (pytorch_model.model_dim**-0.5)\n",
    "        out_dec[\"last_hidden_state\"] = self.lm_head(out_dec[\"last_hidden_state\"])\n",
    "        out_dec[\"last_hidden_state\"] = out_dec[\"last_hidden_state\"].half()\n",
    "        past_key_values_tuples = list()\n",
    "        for tensor_tuple in out_dec[\"past_key_values\"]:\n",
    "            res = tuple([tensor.half() for tensor in tensor_tuple])\n",
    "            past_key_values_tuples.append(res)\n",
    "        out_dec[\"past_key_values\"] = tuple(past_key_values_tuples)\n",
    "        return out_dec\n",
    "\n",
    "\n",
    "model_decoder = ExportT5(decoder=pytorch_model.decoder, lm_head=pytorch_model.lm_head).eval()\n",
    "out_model_export: torch.Tensor = model_decoder(input_ids=input_ids, encoder_hidden_states=out_enc.last_hidden_state)\n",
    "\n",
    "are_equal(a=out_model_export[\"last_hidden_state\"], b=out_full.logits)"
   ]
  },
  {
   "cell_type": "markdown",
   "metadata": {
    "collapsed": false,
    "pycharm": {
     "name": "#%% md\n"
    }
   },
   "source": [
    "### Export decoder part to `ONNX`"
   ]
  },
  {
   "cell_type": "code",
   "execution_count": 7,
   "metadata": {
    "execution": {
     "iopub.execute_input": "2022-07-01T16:08:41.059613Z",
     "iopub.status.busy": "2022-07-01T16:08:41.059296Z",
     "iopub.status.idle": "2022-07-01T16:09:17.501345Z",
     "shell.execute_reply": "2022-07-01T16:09:17.500697Z"
    },
    "pycharm": {
     "name": "#%%\n"
    }
   },
   "outputs": [],
   "source": [
    "# decoder output one step before\n",
    "out_dec_pytorch = model_decoder(input_ids=input_ids[:, :-1], encoder_hidden_states=out_enc.last_hidden_state)\n",
    "\n",
    "model_inputs = {\n",
    "    \"input_ids\": input_ids[:, -1:].type(torch.int32),\n",
    "    \"encoder_hidden_states\": out_enc.last_hidden_state.half(),\n",
    "    \"past_key_values\": out_dec_pytorch.past_key_values,\n",
    "}\n",
    "\n",
    "input_names = [\"input_ids\", \"encoder_hidden_states\"]\n",
    "\n",
    "for i in range(num_layers):\n",
    "    input_names.append(f\"past_key_values.{i}.decoder.key\")\n",
    "    input_names.append(f\"past_key_values.{i}.decoder.value\")\n",
    "    input_names.append(f\"past_key_values.{i}.encoder.key\")\n",
    "    input_names.append(f\"past_key_values.{i}.encoder.value\")\n",
    "\n",
    "output_names = [\"logits\"]\n",
    "\n",
    "for i in range(num_layers):\n",
    "    output_names.append(f\"present.{i}.decoder.key\")\n",
    "    output_names.append(f\"present.{i}.decoder.value\")\n",
    "    output_names.append(f\"present.{i}.encoder.key\")\n",
    "    output_names.append(f\"present.{i}.encoder.value\")\n",
    "\n",
    "dynamic_axis = {\n",
    "    \"input_ids\": {0: \"batch\", 1: \"encoder_sequence\"},\n",
    "    \"encoder_hidden_states\": {0: \"batch\", 1: \"encoder_sequence\"},\n",
    "    \"logits\": {0: \"batch\", 1: \"decoder_sequence\"},\n",
    "}\n",
    "\n",
    "\n",
    "for i in range(num_layers):\n",
    "    dynamic_axis[f\"past_key_values.{i}.decoder.key\"] = {0: \"batch\", 2: \"past_decoder_sequence\"}\n",
    "    dynamic_axis[f\"past_key_values.{i}.decoder.value\"] = {0: \"batch\", 2: \"past_decoder_sequence\"}\n",
    "    dynamic_axis[f\"past_key_values.{i}.encoder.key\"] = {0: \"batch\", 2: \"encoder_sequence_length\"}\n",
    "    dynamic_axis[f\"past_key_values.{i}.encoder.value\"] = {0: \"batch\", 2: \"encoder_sequence_length\"}\n",
    "\n",
    "    dynamic_axis[f\"present.{i}.decoder.key\"] = {0: \"batch\", 2: \"decoder_sequence\"}\n",
    "    dynamic_axis[f\"present.{i}.decoder.value\"] = {0: \"batch\", 2: \"decoder_sequence\"}\n",
    "    dynamic_axis[f\"present.{i}.encoder.key\"] = {0: \"batch\", 2: \"encoder_sequence_length\"}\n",
    "    dynamic_axis[f\"present.{i}.encoder.value\"] = {0: \"batch\", 2: \"encoder_sequence_length\"}"
   ]
  },
  {
   "cell_type": "markdown",
   "metadata": {
    "collapsed": false,
    "pycharm": {
     "name": "#%% md\n"
    }
   },
   "source": [
    "Export of the model with cache support:"
   ]
  },
  {
   "cell_type": "code",
   "execution_count": 8,
   "metadata": {
    "execution": {
     "iopub.execute_input": "2022-07-01T16:09:17.505944Z",
     "iopub.status.busy": "2022-07-01T16:09:17.505344Z",
     "iopub.status.idle": "2022-07-01T16:09:22.956971Z",
     "shell.execute_reply": "2022-07-01T16:09:22.956345Z"
    },
    "pycharm": {
     "name": "#%%\n"
    }
   },
   "outputs": [
    {
     "name": "stderr",
     "output_type": "stream",
     "text": [
      "/home/geantvert/.local/share/virtualenvs/fast_transformer/lib/python3.9/site-packages/transformers/modeling_utils.py:781: TracerWarning: Converting a tensor to a Python boolean might cause the trace to be incorrect. We can't record the data flow of Python values, so this value will be treated as a constant in the future. This means that the trace might not generalize to other inputs!\n",
      "  if causal_mask.shape[1] < attention_mask.shape[1]:\n",
      "In-place op on output of tensor.shape. See https://pytorch.org/docs/master/onnx.html#avoid-inplace-operations-when-using-tensor-shape-in-tracing-mode\n",
      "In-place op on output of tensor.shape. See https://pytorch.org/docs/master/onnx.html#avoid-inplace-operations-when-using-tensor-shape-in-tracing-mode\n"
     ]
    }
   ],
   "source": [
    "with torch.no_grad():\n",
    "    pytorch_model.config.return_dict = True\n",
    "    pytorch_model.eval()\n",
    "\n",
    "    # export can works with named args but the dict containing named args as to be last element of the args tuple\n",
    "    torch.onnx.export(\n",
    "        model_decoder,\n",
    "        (model_inputs,),\n",
    "        f=dec_cache_model_path,\n",
    "        input_names=input_names,\n",
    "        output_names=output_names,\n",
    "        dynamic_axes=dynamic_axis,\n",
    "        do_constant_folding=True,\n",
    "        opset_version=13,\n",
    "    )"
   ]
  },
  {
   "cell_type": "markdown",
   "metadata": {
    "pycharm": {
     "name": "#%% md\n"
    }
   },
   "source": [
    "The graph generated by Pytorch being illegal (includes some operators with unsupported attributes), we fix it manually below."
   ]
  },
  {
   "cell_type": "code",
   "execution_count": 9,
   "metadata": {
    "execution": {
     "iopub.execute_input": "2022-07-01T16:09:22.961604Z",
     "iopub.status.busy": "2022-07-01T16:09:22.961112Z",
     "iopub.status.idle": "2022-07-01T16:09:23.358172Z",
     "shell.execute_reply": "2022-07-01T16:09:23.357006Z"
    },
    "pycharm": {
     "name": "#%%\n"
    }
   },
   "outputs": [],
   "source": [
    "model_onnx = onnx.load(dec_cache_model_path, load_external_data=False)\n",
    "model_onnx = patch_constant_node_bf16(model=model_onnx)\n",
    "save_onnx(model_onnx, dec_cache_model_path)"
   ]
  },
  {
   "cell_type": "code",
   "execution_count": 10,
   "metadata": {
    "execution": {
     "iopub.execute_input": "2022-07-01T16:09:23.364298Z",
     "iopub.status.busy": "2022-07-01T16:09:23.363763Z",
     "iopub.status.idle": "2022-07-01T16:10:04.272285Z",
     "shell.execute_reply": "2022-07-01T16:10:04.271664Z"
    },
    "pycharm": {
     "name": "#%%\n"
    }
   },
   "outputs": [],
   "source": [
    "model_inputs_no_cache = {\n",
    "    \"input_ids\": input_ids,\n",
    "    \"encoder_hidden_states\": out_enc.last_hidden_state.half(),\n",
    "}\n",
    "\n",
    "with torch.no_grad():\n",
    "    pytorch_model.config.return_dict = False\n",
    "    pytorch_model.eval()\n",
    "\n",
    "    # export can works with named args but the dict containing named args as to be last element of the args tuple\n",
    "    torch.onnx.export(\n",
    "        model_decoder,\n",
    "        (model_inputs_no_cache,),\n",
    "        f=dec_no_cache_model_path,\n",
    "        input_names=list(model_inputs_no_cache.keys()),\n",
    "        output_names=output_names,\n",
    "        dynamic_axes={k: v for k, v in dynamic_axis.items() if \"past_key_values\" not in k},\n",
    "        do_constant_folding=True,\n",
    "        opset_version=13,\n",
    "        export_modules_as_functions=False,\n",
    "    )"
   ]
  },
  {
   "cell_type": "code",
   "execution_count": 11,
   "metadata": {
    "execution": {
     "iopub.execute_input": "2022-07-01T16:10:04.277101Z",
     "iopub.status.busy": "2022-07-01T16:10:04.276910Z",
     "iopub.status.idle": "2022-07-01T16:10:04.702396Z",
     "shell.execute_reply": "2022-07-01T16:10:04.701023Z"
    },
    "pycharm": {
     "name": "#%%\n"
    }
   },
   "outputs": [],
   "source": [
    "model_onnx = onnx.load(dec_no_cache_model_path, load_external_data=False)\n",
    "model_onnx = patch_constant_node_bf16(model=model_onnx)\n",
    "save_onnx(model_onnx, dec_no_cache_model_path)"
   ]
  },
  {
   "cell_type": "markdown",
   "metadata": {
    "collapsed": false,
    "pycharm": {
     "name": "#%% md\n"
    }
   },
   "source": [
    "## Merge `ONNX` computation graph to deduplicate weights"
   ]
  },
  {
   "cell_type": "code",
   "execution_count": 12,
   "metadata": {
    "execution": {
     "iopub.execute_input": "2022-07-01T16:10:04.709130Z",
     "iopub.status.busy": "2022-07-01T16:10:04.708589Z",
     "iopub.status.idle": "2022-07-01T16:10:06.339197Z",
     "shell.execute_reply": "2022-07-01T16:10:06.338545Z"
    },
    "pycharm": {
     "name": "#%%\n"
    }
   },
   "outputs": [
    {
     "name": "stdout",
     "output_type": "stream",
     "text": [
      "\n"
     ]
    },
    {
     "data": {
      "text/plain": "0"
     },
     "execution_count": 12,
     "metadata": {},
     "output_type": "execute_result"
    }
   ],
   "source": [
    "merge_autoregressive_model_graphs(\n",
    "    model_cache_path=dec_cache_model_path,\n",
    "    model_no_cache_path=dec_no_cache_model_path,\n",
    "    output_path=dec_if_model_path,\n",
    ")\n",
    "\n",
    "torch.cuda.empty_cache()\n",
    "gc.collect()"
   ]
  },
  {
   "cell_type": "markdown",
   "metadata": {
    "collapsed": false,
    "pycharm": {
     "name": "#%% md\n"
    }
   },
   "source": [
    "### Check `ONNX` decoder output\n",
    "\n",
    "Compare `ONNX` output with and without cache, plus compare with `Pytorch` output."
   ]
  },
  {
   "cell_type": "code",
   "execution_count": 13,
   "metadata": {
    "execution": {
     "iopub.execute_input": "2022-07-01T16:10:06.345756Z",
     "iopub.status.busy": "2022-07-01T16:10:06.345276Z",
     "iopub.status.idle": "2022-07-01T16:10:07.635199Z",
     "shell.execute_reply": "2022-07-01T16:10:07.634561Z"
    },
    "pycharm": {
     "name": "#%%\n"
    }
   },
   "outputs": [],
   "source": [
    "pytorch_model = pytorch_model.cuda()\n",
    "model_decoder = model_decoder.cuda()\n",
    "input_ids = input_ids.cuda()\n",
    "pytorch_model = pytorch_model.eval()\n",
    "model_decoder = model_decoder.eval()"
   ]
  },
  {
   "cell_type": "markdown",
   "metadata": {
    "collapsed": false,
    "pycharm": {
     "name": "#%% md\n"
    }
   },
   "source": [
    "## Zero copy output"
   ]
  },
  {
   "cell_type": "code",
   "execution_count": 14,
   "metadata": {
    "execution": {
     "iopub.execute_input": "2022-07-01T16:10:07.640175Z",
     "iopub.status.busy": "2022-07-01T16:10:07.639903Z",
     "iopub.status.idle": "2022-07-01T16:10:08.503187Z",
     "shell.execute_reply": "2022-07-01T16:10:08.502567Z"
    },
    "pycharm": {
     "name": "#%%\n"
    }
   },
   "outputs": [],
   "source": [
    "with torch.inference_mode():\n",
    "    out_enc_pytorch: BaseModelOutputWithPastAndCrossAttentions = pytorch_model.encoder(input_ids=input_ids)\n",
    "    previous_step_pytorch: BaseModelOutputWithPastAndCrossAttentions = model_decoder(\n",
    "        input_ids=input_ids[:, :-1], encoder_hidden_states=out_enc_pytorch.last_hidden_state\n",
    "    )\n",
    "    out_dec_pytorch: BaseModelOutputWithPastAndCrossAttentions = model_decoder(\n",
    "        input_ids=input_ids, encoder_hidden_states=out_enc_pytorch.last_hidden_state\n",
    "    )\n",
    "pytorch_model = pytorch_model.cpu()\n",
    "model_decoder = model_decoder.cpu()\n",
    "torch.cuda.empty_cache()"
   ]
  },
  {
   "cell_type": "code",
   "execution_count": 15,
   "metadata": {
    "execution": {
     "iopub.execute_input": "2022-07-01T16:10:08.506058Z",
     "iopub.status.busy": "2022-07-01T16:10:08.505778Z",
     "iopub.status.idle": "2022-07-01T16:10:09.262085Z",
     "shell.execute_reply": "2022-07-01T16:10:09.261261Z"
    },
    "pycharm": {
     "name": "#%%\n"
    }
   },
   "outputs": [],
   "source": [
    "enc_fp16_onnx = create_model_for_provider(encoder_model_path, \"CUDAExecutionProvider\", log_severity=3)\n",
    "enc_fp16_onnx_binding: IOBinding = enc_fp16_onnx.io_binding()\n",
    "dec_onnx = create_model_for_provider(dec_if_model_path, \"CUDAExecutionProvider\", log_severity=3)\n",
    "dec_onnx_binding: IOBinding = dec_onnx.io_binding()"
   ]
  },
  {
   "cell_type": "code",
   "execution_count": 16,
   "metadata": {
    "execution": {
     "iopub.execute_input": "2022-07-01T16:10:09.266537Z",
     "iopub.status.busy": "2022-07-01T16:10:09.266351Z",
     "iopub.status.idle": "2022-07-01T16:10:09.297567Z",
     "shell.execute_reply": "2022-07-01T16:10:09.296969Z"
    },
    "pycharm": {
     "name": "#%%\n"
    }
   },
   "outputs": [],
   "source": [
    "fp16_default_tolerance = 100\n",
    "def decoder_pytorch_inference(decoder_input_ids: torch.Tensor, encoder_hidden_states: torch.Tensor, **_):\n",
    "    with torch.inference_mode():\n",
    "        return model_decoder(input_ids=decoder_input_ids, encoder_hidden_states=encoder_hidden_states)\n",
    "\n",
    "\n",
    "def decoder_onnx_inference(\n",
    "    decoder_input_ids: torch.Tensor,\n",
    "    encoder_hidden_states: torch.Tensor,\n",
    "    enable_cache: torch.Tensor,\n",
    "    past_key_values: Optional[torch.Tensor],\n",
    "):\n",
    "    inputs_onnx_dict = {\n",
    "        \"input_ids\": decoder_input_ids,\n",
    "        \"encoder_hidden_states\": encoder_hidden_states,\n",
    "        \"enable_cache\": enable_cache,\n",
    "    }\n",
    "\n",
    "    if past_key_values is not None:\n",
    "        for index, (k_dec, v_dec, k_enc, v_enc) in enumerate(past_key_values):\n",
    "            inputs_onnx_dict[f\"past_key_values.{index}.decoder.key\"] = k_dec\n",
    "            inputs_onnx_dict[f\"past_key_values.{index}.decoder.value\"] = v_dec\n",
    "            inputs_onnx_dict[f\"past_key_values.{index}.encoder.key\"] = k_enc\n",
    "            inputs_onnx_dict[f\"past_key_values.{index}.encoder.value\"] = v_enc\n",
    "\n",
    "    result_dict = inference_onnx_binding(\n",
    "        model_onnx=dec_onnx,\n",
    "        inputs=inputs_onnx_dict,\n",
    "        binding=dec_onnx_binding,  # recycle the binding\n",
    "        device=decoder_input_ids.device.type,\n",
    "        clone_tensor=False,  # no memory copy -> best perf and lowest memory footprint!\n",
    "    )\n",
    "    past_states = list()\n",
    "    for index in range(pytorch_model.config.num_layers):\n",
    "        kv = (\n",
    "            result_dict[f\"present.{index}.decoder.key\"],\n",
    "            result_dict[f\"present.{index}.decoder.value\"],\n",
    "            result_dict[f\"present.{index}.encoder.key\"],\n",
    "            result_dict[f\"present.{index}.encoder.value\"],\n",
    "        )\n",
    "        past_states.append(kv)\n",
    "    return BaseModelOutputWithPastAndCrossAttentions(\n",
    "        last_hidden_state=result_dict[\"logits\"],\n",
    "        past_key_values=past_states,\n",
    "    )\n",
    "\n",
    "\n",
    "out_dec_onnx_no_cache = decoder_onnx_inference(\n",
    "    decoder_input_ids=input_ids,\n",
    "    encoder_hidden_states=out_enc_pytorch.last_hidden_state.half(),\n",
    "    enable_cache=torch.tensor([False], device=\"cuda\", dtype=torch.bool),\n",
    "    past_key_values=None,\n",
    ")\n",
    "are_equal(a=out_dec_onnx_no_cache.last_hidden_state[:, -1:, :], b=out_dec_pytorch.last_hidden_state[:, -1:, :])\n",
    "\n",
    "# check that past states are identical between ONNX and Pytorch\n",
    "assert len(out_dec_onnx_no_cache.past_key_values) == len(out_dec_pytorch.past_key_values)\n",
    "for (o_dec_k, o_dev_v, o_enc_k, o_enc_v), (p_dec_k, p_dev_v, p_enc_k, p_enc_v) in zip(\n",
    "    out_dec_onnx_no_cache.past_key_values, out_dec_pytorch.past_key_values\n",
    "):\n",
    "    are_equal(a=o_dec_k, b=p_dec_k)\n",
    "    are_equal(a=o_dev_v, b=p_dev_v)\n",
    "    are_equal(a=o_enc_k, b=p_enc_k)\n",
    "    are_equal(a=o_enc_v, b=p_enc_v)"
   ]
  },
  {
   "cell_type": "code",
   "execution_count": 17,
   "metadata": {
    "execution": {
     "iopub.execute_input": "2022-07-01T16:10:09.301940Z",
     "iopub.status.busy": "2022-07-01T16:10:09.301736Z",
     "iopub.status.idle": "2022-07-01T16:10:09.327946Z",
     "shell.execute_reply": "2022-07-01T16:10:09.327267Z"
    },
    "pycharm": {
     "name": "#%%\n"
    }
   },
   "outputs": [],
   "source": [
    "# convert ONNX inputs to FP16\n",
    "previous_step_pytorch.past_key_values = tuple(\n",
    "    [tuple([past.half() for past in layer_state]) for layer_state in previous_step_pytorch.past_key_values]\n",
    ")\n",
    "out_enc_pytorch.last_hidden_state = out_enc_pytorch.last_hidden_state.half()\n",
    "\n",
    "out_dec_onnx_cache = decoder_onnx_inference(\n",
    "    decoder_input_ids=input_ids[:, -1:],\n",
    "    encoder_hidden_states=out_enc_pytorch.last_hidden_state,\n",
    "    enable_cache=torch.tensor([True], device=\"cuda\", dtype=torch.bool),\n",
    "    past_key_values=previous_step_pytorch.past_key_values,\n",
    ")\n",
    "\n",
    "are_equal(a=out_dec_onnx_cache.last_hidden_state[:, -1:, :], b=out_dec_pytorch.last_hidden_state[:, -1:, :])\n",
    "\n",
    "# check that past states are identical between ONNX and Pytorch\n",
    "assert len(out_dec_onnx_cache.past_key_values) == len(out_dec_pytorch.past_key_values)\n",
    "for (o_dec_k, o_dev_v, o_enc_k, o_enc_v), (p_dec_k, p_dev_v, p_enc_k, p_enc_v) in zip(\n",
    "    out_dec_onnx_cache.past_key_values, out_dec_pytorch.past_key_values\n",
    "):\n",
    "    are_equal(a=o_dec_k, b=p_dec_k)\n",
    "    are_equal(a=o_dev_v, b=p_dev_v)\n",
    "    are_equal(a=o_enc_k, b=p_enc_k)\n",
    "    are_equal(a=o_enc_v, b=p_enc_v)"
   ]
  },
  {
   "cell_type": "markdown",
   "metadata": {
    "collapsed": false,
    "pycharm": {
     "name": "#%% md\n"
    }
   },
   "source": [
    "## Benchmarks!\n",
    "\n",
    "Finally, we will compare the performances of 4 setup in end-to-end scenarii:\n",
    "\n",
    "* `Pytorch`\n",
    "* `Pytorch` + cache\n",
    "* `ONNX`\n",
    "* `ONNX` + cache\n",
    "\n",
    "For the comparison, we first do a sanity check by just generating a short sequence (we already have checked that output tensors are OK).\n",
    "\n",
    "Then we force each model to generate:\n",
    "\n",
    "* 256 tokens + batch size 1 (similar to `TensorRT` demo)\n",
    "* 1000 tokens + batch size 4\n"
   ]
  },
  {
   "cell_type": "code",
   "execution_count": 18,
   "metadata": {
    "execution": {
     "iopub.execute_input": "2022-07-01T16:10:09.332647Z",
     "iopub.status.busy": "2022-07-01T16:10:09.332463Z",
     "iopub.status.idle": "2022-07-01T16:10:09.875038Z",
     "shell.execute_reply": "2022-07-01T16:10:09.874408Z"
    },
    "pycharm": {
     "name": "#%%\n"
    }
   },
   "outputs": [
    {
     "name": "stdout",
     "output_type": "stream",
     "text": [
      "text generated by ONNX:\n",
      "L'apprentissage en transfert, où un modèle est d'abord préscolaire à une tâche riche de données avant de l'être ajusté et de la mettre au point, est devenue une technique puissante dans le traitement des langages naturels (PNL). Cette efficacité s'est traduite par diverses approches, méthodologies ou pratiques. Dans le présent document, nous étudions le paysage des techniques \n",
      "\n",
      "\n"
     ]
    }
   ],
   "source": [
    "def encoder_onnx_inference(input_ids: torch.Tensor, **_) -> BaseModelOutputWithPastAndCrossAttentions:\n",
    "    last_hidden_state = inference_onnx_binding(\n",
    "        model_onnx=enc_fp16_onnx,  # noqa: F821\n",
    "        inputs={\"input_ids\": input_ids},\n",
    "        device=input_ids.device.type,\n",
    "        binding=enc_fp16_onnx_binding,\n",
    "    )[\"output\"]\n",
    "    return BaseModelOutputWithPastAndCrossAttentions(last_hidden_state=last_hidden_state.type(torch.float16))\n",
    "\n",
    "\n",
    "def encoder_pytorch_inference(input_ids, **_) -> BaseModelOutputWithPastAndCrossAttentions:\n",
    "    with torch.inference_mode():\n",
    "        res = pytorch_model.encoder(input_ids=input_ids).type(torch.float16)\n",
    "        return res\n",
    "\n",
    "\n",
    "# https://github.com/NVIDIA/TensorRT/blob/main/demo/HuggingFace/T5/export.py\n",
    "class ExtT5(torch.nn.Module, GenerationMixin):\n",
    "    def __init__(self, config: PretrainedConfig, device: torch.device, encoder_func: Callable, decoder_func: Callable):\n",
    "        super(ExtT5, self).__init__()\n",
    "        self.main_input_name = \"input_ids\"  # https://github.com/huggingface/transformers/pull/14803\n",
    "        self.config: PretrainedConfig = config\n",
    "        self.device: torch.device = device\n",
    "\n",
    "        self.encoder_func = encoder_func\n",
    "        self.decoder_func = decoder_func\n",
    "        self.use_cache = True\n",
    "        self.timings = list()\n",
    "\n",
    "    def get_encoder(self):\n",
    "        return self.encoder_func\n",
    "\n",
    "    def get_decoder(self):\n",
    "        return self.decoder_func\n",
    "\n",
    "    def set_cache(self, enable: bool) -> None:\n",
    "        self.use_cache = enable\n",
    "\n",
    "    # from transformers library (modeling_t5.py)\n",
    "    def _reorder_cache(self, past, beam_idx):\n",
    "        reordered_decoder_past = ()\n",
    "        for layer_past_states in past:\n",
    "            # get the correct batch idx from layer past batch dim\n",
    "            # batch dim of `past` is at 2nd position\n",
    "            reordered_layer_past_states = ()\n",
    "            for layer_past_state in layer_past_states:\n",
    "                # need to set correct `past` for each of the four key / value states\n",
    "                reordered_layer_past_states = reordered_layer_past_states + (\n",
    "                    layer_past_state.index_select(0, beam_idx),\n",
    "                )\n",
    "\n",
    "            assert reordered_layer_past_states[0].shape == layer_past_states[0].shape\n",
    "            assert len(reordered_layer_past_states) == len(layer_past_states)\n",
    "\n",
    "            reordered_decoder_past = reordered_decoder_past + (reordered_layer_past_states,)\n",
    "        return reordered_decoder_past\n",
    "\n",
    "    def prepare_inputs_for_generation(self, input_ids, past=None, use_cache=None, **kwargs) -> Dict[str, torch.Tensor]:\n",
    "        params = {\n",
    "            \"encoder_hidden_states\": kwargs[\"encoder_outputs\"][\"last_hidden_state\"],\n",
    "        }\n",
    "        if past is None:  # this is the 1st inferred token\n",
    "            self.timings = list()\n",
    "        if not self.use_cache:\n",
    "            past = None\n",
    "        if past is None:\n",
    "            params[self.main_input_name] = input_ids\n",
    "            params[\"enable_cache\"] = torch.tensor([False], device=\"cuda\", dtype=torch.bool)\n",
    "        else:\n",
    "            params[self.main_input_name] = input_ids[:, -1:]\n",
    "            params[\"enable_cache\"] = torch.tensor([True], device=\"cuda\", dtype=torch.bool)\n",
    "            params[\"past_key_values\"] = past\n",
    "\n",
    "        return params\n",
    "\n",
    "    def forward(\n",
    "        self,\n",
    "        input_ids: torch.Tensor,\n",
    "        encoder_hidden_states: torch.Tensor,\n",
    "        enable_cache: torch.Tensor,\n",
    "        past_key_values: Optional[torch.Tensor] = None,\n",
    "        **_,\n",
    "    ):\n",
    "        start_timer = time.monotonic()\n",
    "        dec_output = self.get_decoder()(\n",
    "            decoder_input_ids=input_ids,\n",
    "            encoder_hidden_states=encoder_hidden_states,\n",
    "            enable_cache=enable_cache,\n",
    "            past_key_values=past_key_values,\n",
    "        )\n",
    "        self.timings.append(time.monotonic() - start_timer)\n",
    "        return Seq2SeqLMOutput(logits=dec_output.last_hidden_state, past_key_values=dec_output.past_key_values)\n",
    "\n",
    "\n",
    "model_gen = (\n",
    "    ExtT5(\n",
    "        config=pytorch_model.config,\n",
    "        device=pytorch_model.device,\n",
    "        encoder_func=encoder_onnx_inference,  # encoder_pytorch_inference\n",
    "        decoder_func=decoder_onnx_inference,  # decoder_pytorch_inference\n",
    "    )\n",
    "    .cuda()\n",
    "    .eval()\n",
    ")\n",
    "\n",
    "torch.cuda.synchronize()\n",
    "with torch.inference_mode():\n",
    "    print(\"text generated by ONNX:\")\n",
    "    onnx_tokens = model_gen.generate(\n",
    "        inputs=input_ids,\n",
    "        min_length=10,\n",
    "        max_length=128,\n",
    "        num_beams=2,\n",
    "        no_repeat_ngram_size=2,\n",
    "    )[0]\n",
    "    print(tokenizer.decode(onnx_tokens, skip_special_tokens=True, clean_up_tokenization_spaces=True))\n",
    "    print(\"\\n\")"
   ]
  },
  {
   "cell_type": "code",
   "execution_count": 19,
   "metadata": {
    "execution": {
     "iopub.execute_input": "2022-07-01T16:10:09.879424Z",
     "iopub.status.busy": "2022-07-01T16:10:09.879232Z",
     "iopub.status.idle": "2022-07-01T16:10:11.976198Z",
     "shell.execute_reply": "2022-07-01T16:10:11.974991Z"
    },
    "pycharm": {
     "name": "#%%\n"
    }
   },
   "outputs": [
    {
     "name": "stdout",
     "output_type": "stream",
     "text": [
      "seq len: 128 / # beam (batch size): 1\n",
      "ONNX: 0.5, including inference: 0.4 (89.4%)\n",
      "ONNX + cache: 0.4, including inference: 0.4 (88.7%)\n",
      "seq len: 128 / # beam (batch size): 2\n",
      "ONNX: 0.6, including inference: 0.4 (77.3%)\n",
      "ONNX + cache: 0.6, including inference: 0.5 (77.3%)\n"
     ]
    }
   ],
   "source": [
    "def print_timings(name: str, total: float, inference: float):\n",
    "    percent_inference = 100 * inference / total\n",
    "    print(f\"{name}: {total:.1f}, including inference: {inference:.1f} ({percent_inference:.1f}%)\")\n",
    "\n",
    "\n",
    "all_timings: Dict[str, Dict[str, List[float]]] = defaultdict(dict)\n",
    "for seq_len, num_beam in benchmark_tasks:\n",
    "    timings_key = f\"{seq_len} / {num_beam}\"\n",
    "\n",
    "    print(f\"seq len: {seq_len} / # beam (batch size): {num_beam}\")\n",
    "    task = \"ONNX\"\n",
    "    with nvtx.annotate(\n",
    "        task, color=\"red\"\n",
    "    ):  # nvtx is for Nvidia nsight profiler, you can remove the line or install the library\n",
    "        model_gen.set_cache(enable=False)\n",
    "        # warmup\n",
    "        model_gen.generate(inputs=input_ids, max_length=10, num_beams=num_beam, min_length=10)\n",
    "        start = time.monotonic()\n",
    "        model_gen.generate(inputs=input_ids, max_length=seq_len, num_beams=num_beam, min_length=seq_len)\n",
    "        total_time = time.monotonic() - start\n",
    "        print_timings(name=task, total=total_time, inference=sum(model_gen.timings))\n",
    "        all_timings[timings_key][f\"{task}\"] = model_gen.timings\n",
    "\n",
    "    task = \"ONNX + cache\"\n",
    "    with nvtx.annotate(task, color=\"red\"):\n",
    "        model_gen.set_cache(enable=True)\n",
    "        # warmup\n",
    "        model_gen.generate(inputs=input_ids, max_length=10, num_beams=num_beam, min_length=10)\n",
    "        start = time.monotonic()\n",
    "        model_gen.generate(inputs=input_ids, max_length=seq_len, num_beams=num_beam, min_length=seq_len)\n",
    "        total_time = time.monotonic() - start\n",
    "        print_timings(name=task, total=total_time, inference=sum(model_gen.timings))\n",
    "        all_timings[timings_key][f\"{task}\"] = model_gen.timings"
   ]
  },
  {
   "cell_type": "code",
   "execution_count": 20,
   "metadata": {
    "execution": {
     "iopub.execute_input": "2022-07-01T16:10:11.979420Z",
     "iopub.status.busy": "2022-07-01T16:10:11.979224Z",
     "iopub.status.idle": "2022-07-01T16:10:12.031384Z",
     "shell.execute_reply": "2022-07-01T16:10:12.030741Z"
    },
    "pycharm": {
     "name": "#%%\n"
    }
   },
   "outputs": [],
   "source": [
    "del enc_fp16_onnx, enc_fp16_onnx_binding, dec_onnx, dec_onnx_binding\n",
    "\n",
    "pytorch_model = pytorch_model.cuda()\n",
    "model_decoder = model_decoder.cuda()"
   ]
  },
  {
   "cell_type": "code",
   "execution_count": 21,
   "metadata": {
    "execution": {
     "iopub.execute_input": "2022-07-01T16:10:12.035842Z",
     "iopub.status.busy": "2022-07-01T16:10:12.035624Z",
     "iopub.status.idle": "2022-07-01T16:10:12.949942Z",
     "shell.execute_reply": "2022-07-01T16:10:12.949379Z"
    },
    "pycharm": {
     "name": "#%%\n"
    }
   },
   "outputs": [
    {
     "name": "stdout",
     "output_type": "stream",
     "text": [
      "text generated by Pytorch:\n",
      "L'apprentissage de transfert, où un modèle est d'abord pré-instruit sur une tâche riche en données avant de l'adapter à une task aval, est devenue une technique puissante dans le traitement des langues naturelles (LPN). L’efficacité de cet apprentissage s’est traduite par une diversité et il y avait toutes les approches, les méthodologies ou la pratique. Dans ce document, nous \n",
      "\n",
      "\n"
     ]
    }
   ],
   "source": [
    "torch.cuda.synchronize()\n",
    "with torch.inference_mode():\n",
    "    print(\"text generated by Pytorch:\")\n",
    "    pytorch_tokens = pytorch_model.generate(\n",
    "        inputs=input_ids,\n",
    "        min_length=10,\n",
    "        max_length=128,\n",
    "        num_beams=2,\n",
    "        no_repeat_ngram_size=2,\n",
    "    )[0]\n",
    "    print(tokenizer.decode(pytorch_tokens, skip_special_tokens=True, clean_up_tokenization_spaces=True))\n",
    "    print(\"\\n\")"
   ]
  },
  {
   "cell_type": "code",
   "execution_count": 22,
   "metadata": {
    "execution": {
     "iopub.execute_input": "2022-07-01T16:10:12.954392Z",
     "iopub.status.busy": "2022-07-01T16:10:12.954209Z",
     "iopub.status.idle": "2022-07-01T16:10:17.651350Z",
     "shell.execute_reply": "2022-07-01T16:10:17.650735Z"
    },
    "pycharm": {
     "name": "#%%\n"
    }
   },
   "outputs": [
    {
     "name": "stdout",
     "output_type": "stream",
     "text": [
      "Pytorch: 1.2, including inference: 1.1 (96.5%)\n",
      "Pytorch + cache: 1.0, including inference: 1.0 (95.5%)\n",
      "Pytorch: 1.4, including inference: 1.3 (92.3%)\n",
      "Pytorch + cache: 1.1, including inference: 1.0 (89.5%)\n"
     ]
    }
   ],
   "source": [
    "for seq_len, num_beam in benchmark_tasks:\n",
    "    timings_key = f\"{seq_len} / {num_beam}\"\n",
    "\n",
    "    # monckey patching of forward function to add a timer per generated token\n",
    "    old_fw = pytorch_model.forward\n",
    "    timing_pytorch = list()\n",
    "\n",
    "    def new_fw(self, *args, **kwargs):\n",
    "        timer_start = time.monotonic()\n",
    "        res = old_fw(self, *args, **kwargs)\n",
    "        torch.cuda.synchronize()  # makes timings correct without having significant impact on e2e latency\n",
    "        total_time = time.monotonic() - timer_start\n",
    "        timing_pytorch.append(total_time)\n",
    "        return res\n",
    "\n",
    "    task = \"Pytorch\"\n",
    "    with nvtx.annotate(task, color=\"orange\"):\n",
    "        pytorch_model.config.use_cache = False\n",
    "        with torch.inference_mode():\n",
    "            with torch.cuda.amp.autocast():\n",
    "                # warmup\n",
    "                pytorch_model.generate(inputs=input_ids, max_length=10, num_beams=num_beam, min_length=10)\n",
    "                pytorch_model.forward = new_fw.__get__(pytorch_model)\n",
    "                start = time.monotonic()\n",
    "                pytorch_model.generate(inputs=input_ids, max_length=seq_len, num_beams=num_beam, min_length=seq_len)\n",
    "                total_time = time.monotonic() - start\n",
    "                pytorch_model.forward = old_fw\n",
    "                inference_time = np.sum(timing_pytorch)\n",
    "                print_timings(name=\"Pytorch\", total=total_time, inference=inference_time)\n",
    "        timing_pytorch_no_cache = copy(timing_pytorch)\n",
    "        all_timings[timings_key][f\"{task}\"] = copy(timing_pytorch)\n",
    "        timing_pytorch.clear()\n",
    "    torch.cuda.empty_cache()\n",
    "\n",
    "    task = \"Pytorch + cache\"\n",
    "    with nvtx.annotate(\"Pytorch + cache\", color=\"green\"):\n",
    "        pytorch_model.config.use_cache = True\n",
    "        with torch.inference_mode():\n",
    "            with torch.cuda.amp.autocast():\n",
    "                # warmup\n",
    "                pytorch_model.generate(inputs=input_ids, max_length=10, num_beams=num_beam, min_length=10)\n",
    "                pytorch_model.forward = new_fw.__get__(pytorch_model)\n",
    "                start = time.monotonic()\n",
    "                pytorch_model.generate(inputs=input_ids, max_length=seq_len, num_beams=num_beam, min_length=seq_len)\n",
    "                total_time = time.monotonic() - start\n",
    "                pytorch_model.forward = old_fw\n",
    "                print_timings(name=\"Pytorch + cache\", total=total_time, inference=sum(timing_pytorch))\n",
    "        all_timings[timings_key][f\"{task}\"] = copy(timing_pytorch)\n",
    "        timing_pytorch.clear()\n",
    "    torch.cuda.empty_cache()\n",
    "\n",
    "pytorch_model = pytorch_model.cpu()\n",
    "model_decoder = model_decoder.cpu()\n",
    "torch.cuda.empty_cache()"
   ]
  },
  {
   "cell_type": "markdown",
   "metadata": {
    "collapsed": false,
    "pycharm": {
     "name": "#%% md\n"
    }
   },
   "source": [
    "## Benchmark analysis\n"
   ]
  },
  {
   "cell_type": "code",
   "execution_count": 23,
   "metadata": {
    "execution": {
     "iopub.execute_input": "2022-07-01T16:10:17.657077Z",
     "iopub.status.busy": "2022-07-01T16:10:17.656486Z",
     "iopub.status.idle": "2022-07-01T16:10:18.591997Z",
     "shell.execute_reply": "2022-07-01T16:10:18.591253Z"
    },
    "pycharm": {
     "name": "#%%\n"
    }
   },
   "outputs": [
    {
     "data": {
      "text/plain": "<Figure size 864x576 with 4 Axes>",
      "image/png": "[encoded data removed]"
     },
     "metadata": {
      "needs_background": "light"
     },
     "output_type": "display_data"
    }
   ],
   "source": [
    "sns.set_style(\"darkgrid\")  # darkgrid, whitegrid, dark, white and ticks\n",
    "plt.rc(\"axes\", titlesize=15)  # fontsize of the axes title\n",
    "plt.rc(\"axes\", labelsize=14)  # fontsize of the x and y labels\n",
    "plt.rc(\"xtick\", labelsize=13)  # fontsize of the tick labels\n",
    "plt.rc(\"ytick\", labelsize=13)  # fontsize of the tick labels\n",
    "plt.rc(\"legend\", fontsize=15)  # legend fontsize\n",
    "plt.rc(\"font\", size=13)  # controls default text sizes\n",
    "\n",
    "colors = sns.color_palette(\"deep\")\n",
    "fig = plt.figure(constrained_layout=True, figsize=(12, 8))\n",
    "subfigs = fig.subfigures(nrows=2, ncols=1)\n",
    "\n",
    "fig.supxlabel(\"seq len (# tokens)\")\n",
    "fig.supylabel(\"latency (s)\")\n",
    "fig.suptitle(f\"Small seq len and greedy search on {model_name} don't tell the whole (inference) story...\")\n",
    "for row, (plot_name, timings) in enumerate(all_timings.items()):\n",
    "    subfigs[row].suptitle(f\"setup #{1+row}: {plot_name} (seq len / beam search)\")\n",
    "    axs = subfigs[row].subplots(nrows=1, ncols=2)\n",
    "    for col, accumulated in enumerate([False, True]):\n",
    "        plot_axis = axs[col]\n",
    "        for index, (k, v) in enumerate(timings.items()):\n",
    "            axis = range(len(v))\n",
    "            color = colors[index]\n",
    "            v = np.array(v)\n",
    "            # remove extreme values\n",
    "            p99 = np.percentile(v, 99)\n",
    "            v[v > p99] = p99\n",
    "            v = np.cumsum(v) if accumulated else v\n",
    "            plot_axis.scatter(axis, v, label=k, s=2)\n",
    "\n",
    "        title = f\"latency for the full sequence\" if accumulated else f\"latency for each token\"\n",
    "        plot_axis.title.set_text(title)\n",
    "\n",
    "# legend deduplication\n",
    "handles, labels = plt.gca().get_legend_handles_labels()\n",
    "by_label = dict(zip(labels, handles))\n",
    "fig.legend(by_label.values(), by_label.keys(), bbox_to_anchor=(1, 1), loc=\"upper left\", markerscale=5)\n",
    "plt.show()"
   ]
  },
  {
   "cell_type": "markdown",
   "metadata": {
    "collapsed": false,
    "pycharm": {
     "name": "#%% md\n"
    }
   },
   "source": [
    "## Profiling model at the kernel level\n"
   ]
  },
  {
   "cell_type": "code",
   "execution_count": 24,
   "metadata": {
    "execution": {
     "iopub.execute_input": "2022-07-01T16:10:18.594960Z",
     "iopub.status.busy": "2022-07-01T16:10:18.594654Z",
     "iopub.status.idle": "2022-07-01T16:10:19.583408Z",
     "shell.execute_reply": "2022-07-01T16:10:19.582609Z"
    },
    "pycharm": {
     "name": "#%%\n"
    }
   },
   "outputs": [
    {
     "data": {
      "text/plain": "<Figure size 432x288 with 1 Axes>",
      "image/png": "[encoded data removed]"
     },
     "metadata": {
      "needs_background": "light"
     },
     "output_type": "display_data"
    }
   ],
   "source": [
    "enc_fp16_onnx = create_model_for_provider(encoder_model_path, \"CUDAExecutionProvider\", log_severity=3)\n",
    "enc_fp16_onnx_binding: IOBinding = enc_fp16_onnx.io_binding()\n",
    "dec_onnx = create_model_for_provider(dec_if_model_path, \"CUDAExecutionProvider\", enable_profiling=True, log_severity=3)\n",
    "dec_onnx_binding: IOBinding = dec_onnx.io_binding()\n",
    "_ = model_gen.generate(inputs=input_ids, max_length=10, min_length=10)\n",
    "profile_name = dec_onnx.end_profiling()\n",
    "\n",
    "with open(profile_name) as f:\n",
    "    content = json.load(f)\n",
    "\n",
    "op_timings = defaultdict(lambda: 0)\n",
    "for c in content:\n",
    "    if \"op_name\" not in c[\"args\"]:\n",
    "        continue\n",
    "    op_name = c[\"args\"][\"op_name\"]\n",
    "    if op_name == \"If\":\n",
    "        continue  # subgraph\n",
    "    time_taken = c[\"dur\"]\n",
    "    op_timings[op_name] += time_taken\n",
    "\n",
    "op_timings_filter = dict(sorted(op_timings.items(), key=operator.itemgetter(1), reverse=True)[:10])\n",
    "total_kernel_timing = sum(op_timings.values())\n",
    "op_timings_percent = {k: 100 * v / total_kernel_timing for k, v in op_timings_filter.items()}\n",
    "\n",
    "plt.barh(list(op_timings_percent.keys()), list(op_timings_percent.values()))\n",
    "plt.title(\"Time spent per kernel\\n(top 10 kernels)\")\n",
    "plt.xlabel(\"% total inference time\")\n",
    "plt.show()"
   ]
  },
  {
   "cell_type": "code",
   "execution_count": 24,
   "metadata": {
    "pycharm": {
     "name": "#%%\n"
    }
   },
   "outputs": [],
   "source": []
  }
 ],
 "metadata": {
  "interpreter": {
   "hash": "366de2154be95d5d8dfb409ee394df3294ef97f2f15d871b0df4dd91a89cdb4b"
  },
  "kernelspec": {
   "display_name": "Python 3.9.12 ('fast_transformer')",
   "language": "python",
   "name": "python3"
  },
  "language_info": {
   "codemirror_mode": {
    "name": "ipython",
    "version": 3
   },
   "file_extension": ".py",
   "mimetype": "text/x-python",
   "name": "python",
   "nbconvert_exporter": "python",
   "pygments_lexer": "ipython3",
   "version": "3.9.13"
  }
 },
 "nbformat": 4,
 "nbformat_minor": 1
}