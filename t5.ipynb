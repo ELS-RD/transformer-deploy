{
 "cells": [
  {
   "cell_type": "code",
   "execution_count": 1,
   "metadata": {
    "execution": {
     "iopub.execute_input": "2022-05-02T15:36:53.161050Z",
     "iopub.status.busy": "2022-05-02T15:36:53.160666Z",
     "iopub.status.idle": "2022-05-02T15:36:53.823007Z",
     "shell.execute_reply": "2022-05-02T15:36:53.821807Z"
    },
    "pycharm": {
     "name": "#%%\n"
    }
   },
   "outputs": [
    {
     "name": "stdout",
     "output_type": "stream",
     "text": [
      "Mon May  2 17:36:53 2022       \r\n",
      "+-----------------------------------------------------------------------------+\r\n",
      "| NVIDIA-SMI 510.60.02    Driver Version: 510.60.02    CUDA Version: 11.6     |\r\n",
      "|-------------------------------+----------------------+----------------------+\r\n",
      "| GPU  Name        Persistence-M| Bus-Id        Disp.A | Volatile Uncorr. ECC |\r\n",
      "| Fan  Temp  Perf  Pwr:Usage/Cap|         Memory-Usage | GPU-Util  Compute M. |\r\n",
      "|                               |                      |               MIG M. |\r\n",
      "|===============================+======================+======================|\r\n",
      "|   0  NVIDIA GeForce ...  Off  | 00000000:03:00.0  On |                  N/A |\r\n",
      "| 43%   48C    P5    45W / 350W |    286MiB / 24576MiB |      0%      Default |\r\n",
      "|                               |                      |                  N/A |\r\n",
      "+-------------------------------+----------------------+----------------------+\r\n",
      "                                                                               \r\n",
      "+-----------------------------------------------------------------------------+\r\n",
      "| Processes:                                                                  |\r\n",
      "|  GPU   GI   CI        PID   Type   Process name                  GPU Memory |\r\n",
      "|        ID   ID                                                   Usage      |\r\n",
      "|=============================================================================|\r\n",
      "|    0   N/A  N/A      1695      G   /usr/lib/xorg/Xorg                164MiB |\r\n",
      "|    0   N/A  N/A      4803      G   ...ome-remote-desktop-daemon        4MiB |\r\n",
      "|    0   N/A  N/A      7675      G   /usr/bin/gnome-shell               39MiB |\r\n",
      "|    0   N/A  N/A      9824      G   ...on/Bin/AgentConnectix.bin        4MiB |\r\n",
      "|    0   N/A  N/A    222765      G   ...veSuggestionsOnlyOnDemand       40MiB |\r\n",
      "|    0   N/A  N/A    272712      G   ...755637562372037661,131072       28MiB |\r\n",
      "+-----------------------------------------------------------------------------+\r\n"
     ]
    }
   ],
   "source": [
    "from onnxruntime import IOBinding\n",
    "\n",
    "! nvidia-smi"
   ]
  },
  {
   "cell_type": "code",
   "execution_count": 2,
   "metadata": {
    "execution": {
     "iopub.execute_input": "2022-05-02T15:36:53.828423Z",
     "iopub.status.busy": "2022-05-02T15:36:53.828043Z",
     "iopub.status.idle": "2022-05-02T15:36:55.182039Z",
     "shell.execute_reply": "2022-05-02T15:36:55.181196Z"
    },
    "pycharm": {
     "name": "#%%\n"
    }
   },
   "outputs": [],
   "source": [
    "from time import time\n",
    "from typing import Callable, Dict, Optional\n",
    "\n",
    "import numpy as np\n",
    "import onnx\n",
    "import torch\n",
    "from onnx import GraphProto, ModelProto, helper\n",
    "from torch.nn import Linear\n",
    "from transformers import AutoModelForSeq2SeqLM, AutoTokenizer, PretrainedConfig, T5ForConditionalGeneration, TensorType\n",
    "from transformers.generation_utils import GenerationMixin\n",
    "from transformers.modeling_outputs import BaseModelOutputWithPastAndCrossAttentions, Seq2SeqLMOutput\n",
    "from transformers.models.t5.modeling_t5 import T5Stack\n",
    "\n",
    "from transformer_deploy.backends.ort_utils import create_model_for_provider, inference_onnx_binding\n",
    "from transformer_deploy.backends.pytorch_utils import convert_to_onnx"
   ]
  },
  {
   "cell_type": "markdown",
   "metadata": {
    "pycharm": {
     "name": "#%% md\n"
    }
   },
   "source": [
    "# Loading Hugging Face model / tokenizer\n",
    "\n",
    "We use a specific branch of OnnxRuntime with a better management of if/else/then ONNX node:\n",
    "\n",
    "```shell\n",
    "git clone --recursive https://github.com/Microsoft/onnxruntime\n",
    "cd onnxruntime\n",
    "git fetch origin hari/location_plan_implicit_inputs\n",
    "git checkout -b hari/location_plan_implicit_inputs FETCH_HEAD\n",
    "CUDACXX=/usr/local/cuda-11.4/bin/nvcc ./build.sh \\\n",
    "    --config Release \\\n",
    "    --build_wheel \\\n",
    "    --parallel \\\n",
    "    --use_cuda \\\n",
    "    --cuda_home /usr/local/cuda-11.4 \\\n",
    "    --cudnn_home /usr/lib/x86_\n",
    "    -linux-gnu/ \\\n",
    "    --skip_test\n",
    "```\n",
    "\n",
    "> to clear previous compilation, delete content of `./build` folder"
   ]
  },
  {
   "cell_type": "code",
   "execution_count": 3,
   "metadata": {
    "execution": {
     "iopub.execute_input": "2022-05-02T15:36:55.187827Z",
     "iopub.status.busy": "2022-05-02T15:36:55.186451Z",
     "iopub.status.idle": "2022-05-02T15:37:05.217859Z",
     "shell.execute_reply": "2022-05-02T15:37:05.217339Z"
    },
    "pycharm": {
     "name": "#%%\n"
    }
   },
   "outputs": [],
   "source": [
    "model_name = \"t5-small\"\n",
    "tokenizer = AutoTokenizer.from_pretrained(model_name)\n",
    "input_ids: torch.Tensor = tokenizer(\"Studies show that\", return_tensors=TensorType.PYTORCH).input_ids\n",
    "input_ids = input_ids.to(\"cuda\")\n",
    "model: T5ForConditionalGeneration = AutoModelForSeq2SeqLM.from_pretrained(model_name)\n",
    "model = model.eval()\n",
    "model = model.to(\"cuda\")\n",
    "model.config.use_cache = True\n",
    "out_enc: BaseModelOutputWithPastAndCrossAttentions = model.encoder(input_ids=input_ids)\n",
    "out_full: Seq2SeqLMOutput = model(input_ids=input_ids, decoder_input_ids=input_ids)\n",
    "num_layers = model.config.num_layers\n",
    "\n",
    "\n",
    "def are_equal(a: torch.Tensor, b: torch.Tensor, atol: float = 1e-2) -> None:\n",
    "    assert np.allclose(a=a.detach().cpu().numpy(), b=b.detach().cpu().numpy(), atol=atol), f\"{a}\\n\\nVS\\n\\n{b}\""
   ]
  },
  {
   "cell_type": "markdown",
   "metadata": {
    "pycharm": {
     "name": "#%% md\n"
    }
   },
   "source": [
    "# Export to ONNX\n",
    "\n",
    "## Export encoder part"
   ]
  },
  {
   "cell_type": "code",
   "execution_count": 4,
   "metadata": {
    "execution": {
     "iopub.execute_input": "2022-05-02T15:37:05.222016Z",
     "iopub.status.busy": "2022-05-02T15:37:05.221816Z",
     "iopub.status.idle": "2022-05-02T15:37:08.503217Z",
     "shell.execute_reply": "2022-05-02T15:37:08.502713Z"
    },
    "pycharm": {
     "name": "#%%\n"
    }
   },
   "outputs": [],
   "source": [
    "model = model.to(\"cuda\")\n",
    "\n",
    "convert_to_onnx(\n",
    "    model_pytorch=model.encoder,\n",
    "    output_path=\"test-enc.onnx\",\n",
    "    inputs_pytorch={\"input_ids\": input_ids},\n",
    "    var_output_seq=True,\n",
    "    quantization=False,\n",
    ")\n",
    "\n",
    "enc_onnx = create_model_for_provider(\"test-enc.onnx\", \"CUDAExecutionProvider\")\n",
    "enc_onnx_out = inference_onnx_binding(\n",
    "    model_onnx=enc_onnx,\n",
    "    inputs={\"input_ids\": input_ids},\n",
    "    device=input_ids.device.type,\n",
    ")[\"output\"]\n",
    "\n",
    "are_equal(a=enc_onnx_out, b=out_enc.last_hidden_state)"
   ]
  },
  {
   "cell_type": "markdown",
   "metadata": {
    "pycharm": {
     "name": "#%% md\n"
    }
   },
   "source": [
    "## Export decoder\n",
    "\n",
    "### Wrapper to include some post processing on the decoder output\n",
    "\n",
    "The post processing is mainly a projection of the decoder output on a matrix with one of its dimension equal to model vocabulary size, so we have scores for each possible token."
   ]
  },
  {
   "cell_type": "code",
   "execution_count": 5,
   "metadata": {
    "execution": {
     "iopub.execute_input": "2022-05-02T15:37:08.507313Z",
     "iopub.status.busy": "2022-05-02T15:37:08.506867Z",
     "iopub.status.idle": "2022-05-02T15:37:08.525628Z",
     "shell.execute_reply": "2022-05-02T15:37:08.525194Z"
    },
    "pycharm": {
     "name": "#%%\n"
    }
   },
   "outputs": [],
   "source": [
    "from typing import Tuple\n",
    "\n",
    "\n",
    "class ExportT5(torch.nn.Module):\n",
    "    def __init__(self, decoder: T5Stack, lm_head: Linear):\n",
    "        super(ExportT5, self).__init__()\n",
    "        self.decoder = decoder\n",
    "        self.lm_head = lm_head\n",
    "\n",
    "    def forward(self, input_ids: torch.Tensor, encoder_hidden_states: torch.Tensor, past_key_values: Tuple = None):\n",
    "        out_dec = self.decoder.forward(\n",
    "            input_ids=input_ids, encoder_hidden_states=encoder_hidden_states, past_key_values=past_key_values\n",
    "        )\n",
    "        # Rescale output before projecting on vocab\n",
    "        out_dec[\"last_hidden_state\"] = out_dec[\"last_hidden_state\"] * (model.model_dim**-0.5)\n",
    "        out_dec[\"last_hidden_state\"] = self.lm_head(out_dec[\"last_hidden_state\"])\n",
    "        return out_dec\n",
    "\n",
    "\n",
    "model.cuda()\n",
    "model_decoder = ExportT5(decoder=model.decoder, lm_head=model.lm_head).eval()\n",
    "out_model_export: torch.Tensor = model_decoder(input_ids=input_ids, encoder_hidden_states=out_enc.last_hidden_state)\n",
    "\n",
    "are_equal(a=out_model_export[\"last_hidden_state\"], b=out_full.logits)"
   ]
  },
  {
   "cell_type": "markdown",
   "metadata": {
    "pycharm": {
     "name": "#%% md\n"
    }
   },
   "source": [
    "### Export decoder part to ONNX\n",
    "\n",
    "Export 2 versions of the decoder, one without cache support and one with it.\n",
    "Both models share most of their weights."
   ]
  },
  {
   "cell_type": "code",
   "execution_count": 6,
   "metadata": {
    "execution": {
     "iopub.execute_input": "2022-05-02T15:37:08.530313Z",
     "iopub.status.busy": "2022-05-02T15:37:08.530087Z",
     "iopub.status.idle": "2022-05-02T15:37:18.001720Z",
     "shell.execute_reply": "2022-05-02T15:37:18.001087Z"
    },
    "pycharm": {
     "name": "#%%\n"
    }
   },
   "outputs": [
    {
     "name": "stderr",
     "output_type": "stream",
     "text": [
      "/home/geantvert/.local/share/virtualenvs/fast_transformer/lib/python3.9/site-packages/transformers/modeling_utils.py:529: TracerWarning: Converting a tensor to a Python boolean might cause the trace to be incorrect. We can't record the data flow of Python values, so this value will be treated as a constant in the future. This means that the trace might not generalize to other inputs!\n",
      "  if causal_mask.shape[1] < attention_mask.shape[1]:\n",
      "In-place op on output of tensor.shape. See https://pytorch.org/docs/master/onnx.html#avoid-inplace-operations-when-using-tensor-shape-in-tracing-mode\n",
      "In-place op on output of tensor.shape. See https://pytorch.org/docs/master/onnx.html#avoid-inplace-operations-when-using-tensor-shape-in-tracing-mode\n"
     ]
    }
   ],
   "source": [
    "model_decoder.cuda()\n",
    "# decoder output one step before\n",
    "out_dec_pytorch = model_decoder(input_ids=input_ids[:, :-1], encoder_hidden_states=out_enc.last_hidden_state)\n",
    "\n",
    "model_inputs = {\n",
    "    \"input_ids\": input_ids[:, -1:].type(torch.int32),\n",
    "    \"encoder_hidden_states\": out_enc.last_hidden_state,\n",
    "    \"past_key_values\": out_dec_pytorch.past_key_values,\n",
    "}\n",
    "\n",
    "# TODO replace hard coded axis names by generated one when generation works as expected\n",
    "input_names = [\"input_ids\", \"encoder_hidden_states\"]\n",
    "\n",
    "for i in range(num_layers):\n",
    "    input_names.append(f\"past_key_values.{i}.decoder.key\")\n",
    "    input_names.append(f\"past_key_values.{i}.decoder.value\")\n",
    "    input_names.append(f\"past_key_values.{i}.encoder.key\")\n",
    "    input_names.append(f\"past_key_values.{i}.encoder.value\")\n",
    "\n",
    "output_names = [\"logits\"]\n",
    "\n",
    "for i in range(num_layers):\n",
    "    output_names.append(f\"present.{i}.decoder.key\")\n",
    "    output_names.append(f\"present.{i}.decoder.value\")\n",
    "    output_names.append(f\"present.{i}.encoder.key\")\n",
    "    output_names.append(f\"present.{i}.encoder.value\")\n",
    "\n",
    "dynamic_axis = {\n",
    "    \"input_ids\": {0: \"batch\", 1: \"encoder_sequence\"},\n",
    "    \"encoder_hidden_states\": {0: \"batch\", 1: \"encoder_sequence\"},\n",
    "    \"logits\": {0: \"batch\", 1: \"decoder_sequence\"},\n",
    "}\n",
    "\n",
    "\n",
    "for i in range(num_layers):\n",
    "    dynamic_axis[f\"past_key_values.{i}.decoder.key\"] = {0: \"batch\", 2: \"past_decoder_sequence\"}\n",
    "    dynamic_axis[f\"past_key_values.{i}.decoder.value\"] = {0: \"batch\", 2: \"past_decoder_sequence\"}\n",
    "    dynamic_axis[f\"past_key_values.{i}.encoder.key\"] = {0: \"batch\", 2: \"past_encoder_sequence\"}\n",
    "    dynamic_axis[f\"past_key_values.{i}.encoder.value\"] = {0: \"batch\", 2: \"past_encoder_sequence\"}\n",
    "\n",
    "    dynamic_axis[f\"present.{i}.decoder.key\"] = {0: \"batch\", 2: \"past_decoder_sequence + sequence\"}\n",
    "    dynamic_axis[f\"present.{i}.decoder.value\"] = {0: \"batch\", 2: \"past_decoder_sequence + sequence\"}\n",
    "    dynamic_axis[f\"present.{i}.encoder.key\"] = {0: \"batch\", 2: \"past_encoder_sequence\"}\n",
    "    dynamic_axis[f\"present.{i}.encoder.value\"] = {0: \"batch\", 2: \"past_encoder_sequence\"}\n",
    "\n",
    "\n",
    "with torch.no_grad():\n",
    "    model.config.return_dict = True\n",
    "    model.eval()\n",
    "\n",
    "    # export can works with named args but the dict containing named args as to be last element of the args tuple\n",
    "    torch.onnx.export(\n",
    "        model_decoder,\n",
    "        (model_inputs,),\n",
    "        f=\"test-dec-cache.onnx\",\n",
    "        input_names=input_names,\n",
    "        output_names=output_names,\n",
    "        dynamic_axes=dynamic_axis,\n",
    "        do_constant_folding=True,\n",
    "        opset_version=13,\n",
    "    )\n",
    "\n",
    "model_inputs_no_cache = {\n",
    "    \"input_ids\": input_ids.type(dtype=torch.int32),\n",
    "    \"encoder_hidden_states\": out_enc.last_hidden_state,\n",
    "}\n",
    "\n",
    "with torch.no_grad():\n",
    "    model.config.return_dict = True\n",
    "    model.eval()\n",
    "\n",
    "    # export can works with named args but the dict containing named args as to be last element of the args tuple\n",
    "    torch.onnx.export(\n",
    "        model_decoder,\n",
    "        (model_inputs_no_cache,),\n",
    "        f=\"test-dec-no-cache.onnx\",\n",
    "        input_names=list(model_inputs_no_cache.keys()),\n",
    "        output_names=output_names,\n",
    "        dynamic_axes={k: v for k, v in dynamic_axis.items() if \"past_key_values\" not in k},\n",
    "        do_constant_folding=True,\n",
    "        opset_version=13,\n",
    "    )"
   ]
  },
  {
   "cell_type": "markdown",
   "metadata": {
    "collapsed": false,
    "pycharm": {
     "name": "#%% md\n"
    }
   },
   "source": [
    "### Merge ONNX computation graph to deduplicate weights\n",
    "\n",
    "TODO remove unecessary initializer to avoid warning messages"
   ]
  },
  {
   "cell_type": "code",
   "execution_count": 7,
   "metadata": {
    "execution": {
     "iopub.execute_input": "2022-05-02T15:37:18.005935Z",
     "iopub.status.busy": "2022-05-02T15:37:18.005761Z",
     "iopub.status.idle": "2022-05-02T15:37:32.129645Z",
     "shell.execute_reply": "2022-05-02T15:37:32.129187Z"
    },
    "pycharm": {
     "name": "#%%\n"
    }
   },
   "outputs": [
    {
     "name": "stdout",
     "output_type": "stream",
     "text": [
      "name: cache_node_onnx::Slice_1256 - size: 0.01\n",
      "name: cache_node_onnx::Slice_1257 - size: 0.01\n",
      "name: cache_node_onnx::Slice_1267 - size: 0.01\n",
      "name: cache_node_onnx::Slice_1268 - size: 0.01\n"
     ]
    }
   ],
   "source": [
    "onnx_model_cache = onnx.load(\"test-dec-cache.onnx\")\n",
    "onnx_model_no_cache = onnx.load(\"test-dec-no-cache.onnx\")\n",
    "\n",
    "prefix = \"cache_node_\"\n",
    "mapping_initializer_cache_to_no_cache = dict()\n",
    "to_add = list()\n",
    "for node_cache in onnx_model_cache.graph.initializer:\n",
    "    found = False\n",
    "    for node_no_cache in onnx_model_no_cache.graph.initializer:\n",
    "        if node_cache.raw_data == node_no_cache.raw_data:\n",
    "            found = True\n",
    "            mapping_initializer_cache_to_no_cache[node_cache.name] = node_no_cache.name\n",
    "            break\n",
    "    if not found:\n",
    "        node_cache.name = prefix + node_cache.name\n",
    "        to_add.append(node_cache)\n",
    "        mapping_initializer_cache_to_no_cache[node_cache.name] = node_cache.name\n",
    "        print(f\"name: {node_cache.name} - size: {len(node_cache.raw_data)/1024:.2f}\")\n",
    "\n",
    "onnx_model_no_cache.graph.initializer.extend(to_add)\n",
    "# I/O model names should not be prefixed\n",
    "model_io_names = [n.name for n in list(onnx_model_cache.graph.input) + list(onnx_model_cache.graph.output)]\n",
    "\n",
    "for node in onnx_model_cache.graph.node:\n",
    "    for index, input_name in enumerate(node.input):\n",
    "        if input_name in model_io_names:\n",
    "            continue\n",
    "        node.input[index] = mapping_initializer_cache_to_no_cache.get(input_name, prefix + input_name)\n",
    "    for index, output_name in enumerate(node.output):\n",
    "        if output_name in model_io_names:\n",
    "            continue\n",
    "        node.output[index] = prefix + output_name\n",
    "    node.name = prefix + node.name\n",
    "model_io_names = [n.name for n in list(onnx_model_cache.graph.input) + list(onnx_model_cache.graph.output)]\n",
    "\n",
    "prefix = \"init_\"\n",
    "cache = dict()\n",
    "for node in onnx_model_no_cache.graph.initializer:\n",
    "    if node.name in model_io_names:\n",
    "        new_name = prefix + node.name\n",
    "        cache[node.name] = new_name\n",
    "        node.name = new_name\n",
    "\n",
    "for node in onnx_model_no_cache.graph.node:\n",
    "    for index, n in enumerate(node.input):\n",
    "        node.input[index] = cache.get(n, n)\n",
    "\n",
    "# mandatory for subgraph in if/else node\n",
    "assert len(onnx_model_cache.graph.output) == len(onnx_model_no_cache.graph.output)\n",
    "\n",
    "graph_cache: onnx.GraphProto = onnx.helper.make_graph(\n",
    "    nodes=list(onnx_model_cache.graph.node),\n",
    "    name=\"graph-cache\",\n",
    "    inputs=[],\n",
    "    outputs=list(onnx_model_cache.graph.output),\n",
    "    initializer=[],\n",
    ")\n",
    "\n",
    "graph_no_cache: onnx.GraphProto = onnx.helper.make_graph(\n",
    "    nodes=list(onnx_model_no_cache.graph.node),\n",
    "    name=\"graph-no-cache\",\n",
    "    inputs=[],\n",
    "    outputs=list(onnx_model_no_cache.graph.output),\n",
    "    initializer=[],\n",
    ")\n",
    "\n",
    "enable_cache_input = onnx.helper.make_tensor_value_info(name=\"enable_cache\", elem_type=onnx.TensorProto.BOOL, shape=[1])\n",
    "\n",
    "if_node = onnx.helper.make_node(\n",
    "    op_type=\"If\",\n",
    "    inputs=[\"enable_cache\"],\n",
    "    outputs=[o.name for o in list(onnx_model_no_cache.graph.output)],\n",
    "    then_branch=graph_cache,\n",
    "    else_branch=graph_no_cache,\n",
    ")\n",
    "\n",
    "if_graph_def: GraphProto = helper.make_graph(\n",
    "    nodes=[if_node],\n",
    "    name=\"if-model\",\n",
    "    inputs=list(onnx_model_cache.graph.input) + [enable_cache_input],\n",
    "    outputs=list(onnx_model_no_cache.graph.output),\n",
    "    initializer=list(onnx_model_no_cache.graph.initializer),\n",
    ")\n",
    "\n",
    "\n",
    "model_def: ModelProto = helper.make_model(\n",
    "    if_graph_def, producer_name=\"onnx-example\", opset_imports=[helper.make_opsetid(onnx.defs.ONNX_DOMAIN, 13)]\n",
    ")\n",
    "# import onnx_graphsurgeon as gs\n",
    "#\n",
    "# graph = gs.import_onnx(model_def)\n",
    "# graph.cleanup()\n",
    "# graph.toposort()\n",
    "# model_def = gs.export_onnx(graph)\n",
    "# onnx.checker.check_model(model_def)"
   ]
  },
  {
   "cell_type": "code",
   "execution_count": 8,
   "metadata": {
    "execution": {
     "iopub.execute_input": "2022-05-02T15:37:32.133734Z",
     "iopub.status.busy": "2022-05-02T15:37:32.133586Z",
     "iopub.status.idle": "2022-05-02T15:37:32.136164Z",
     "shell.execute_reply": "2022-05-02T15:37:32.135798Z"
    },
    "pycharm": {
     "name": "#%%\n"
    }
   },
   "outputs": [],
   "source": [
    "# from onnxruntime import InferenceSession\n",
    "# import onnxruntime\n",
    "#\n",
    "#\n",
    "# def clean_model(model: ModelProto) -> ModelProto:\n",
    "#     so = onnxruntime.SessionOptions()\n",
    "#     so.log_severity_level = 3\n",
    "#     so.log_verbosity_level = 3\n",
    "#     so.graph_optimization_level = onnxruntime.GraphOptimizationLevel.ORT_ENABLE_ALL\n",
    "#     ort_model: InferenceSession = onnxruntime.InferenceSession(model.SerializeToString(), sess_options=so, providers=[\"CPUExecutionProvider\"])\n",
    "#     return onnx.load_model_from_string(s=ort_model._model_bytes)"
   ]
  },
  {
   "cell_type": "markdown",
   "metadata": {
    "collapsed": false,
    "pycharm": {
     "name": "#%% md\n"
    }
   },
   "source": [
    "When a name appears in both the initializer list and the graph input list, a runtime MAY allow a caller to specify a value for this (input) name overriding the value specified in the initializer and a runtime MAY allow users to omit specifying a value for this (input) name, choosing the value specified in the initializer. Names of constants that are not meant to be overridden by the caller should appear only in the initializer list and not in the graph input list. In models with IR version >= 4, in nested subgraphs used as attribute values, users MUST NOT use the same name as both a subgraph initializer and subgraph input unless the corresponding op's specification explicitly allows it. In models with IR version <= 3, users MAY use the same name as both a subgraph initializer and subgraph input, but this is restricted to support constants via initializers that are not intended to correspond to any actual inputs passed from the node into the subgraph. In particular, the control-flow operator semantics determines the set of inputs supplied to the execution of the subgraph, and these input names MUST NOT appear as subgraph initializers. Subgraph initializer names must appear in the graph input list after the actual inputs. This allows the actual inputs and formal inputs to be matched positionally.\n",
    "https://github.com/onnx/onnx/blob/ee4888c24510787bb8c61ebcba43ef252744e648/docs/IR.md"
   ]
  },
  {
   "cell_type": "markdown",
   "metadata": {
    "collapsed": false,
    "pycharm": {
     "name": "#%% md\n"
    }
   },
   "source": [
    "### Check ONNX decoder output\n",
    "\n",
    "Compare ONNX output with and without cache, plus compare with Pytorch output."
   ]
  },
  {
   "cell_type": "code",
   "execution_count": 9,
   "metadata": {
    "execution": {
     "iopub.execute_input": "2022-05-02T15:37:32.138055Z",
     "iopub.status.busy": "2022-05-02T15:37:32.137927Z",
     "iopub.status.idle": "2022-05-02T15:37:32.974948Z",
     "shell.execute_reply": "2022-05-02T15:37:32.973077Z"
    },
    "pycharm": {
     "name": "#%%\n"
    }
   },
   "outputs": [
    {
     "name": "stderr",
     "output_type": "stream",
     "text": [
      "2022-05-02 16:37:32.689545028 [W:onnxruntime:, graph.cc:3515 CleanUnusedInitializersAndNodeArgs] Removing initializer 'cache_node_onnx::Div_1221'. It is not used by any node and should be removed from the model.\n",
      "2022-05-02 16:37:32.689561442 [W:onnxruntime:, graph.cc:3515 CleanUnusedInitializersAndNodeArgs] Removing initializer 'cache_node_onnx::Div_1154'. It is not used by any node and should be removed from the model.\n",
      "2022-05-02 16:37:32.689566230 [W:onnxruntime:, graph.cc:3515 CleanUnusedInitializersAndNodeArgs] Removing initializer 'cache_node_onnx::Div_1003'. It is not used by any node and should be removed from the model.\n",
      "2022-05-02 16:37:32.689570255 [W:onnxruntime:, graph.cc:3515 CleanUnusedInitializersAndNodeArgs] Removing initializer 'cache_node_onnx::Div_919'. It is not used by any node and should be removed from the model.\n",
      "2022-05-02 16:37:32.689575785 [W:onnxruntime:, graph.cc:3515 CleanUnusedInitializersAndNodeArgs] Removing initializer 'cache_node_onnx::Div_1070'. It is not used by any node and should be removed from the model.\n",
      "2022-05-02 16:37:32.689579215 [W:onnxruntime:, graph.cc:3515 CleanUnusedInitializersAndNodeArgs] Removing initializer 'cache_node_onnx::Div_218'. It is not used by any node and should be removed from the model.\n",
      "2022-05-02 16:37:32.689582747 [W:onnxruntime:, graph.cc:3515 CleanUnusedInitializersAndNodeArgs] Removing initializer 'cache_node_onnx::Div_617'. It is not used by any node and should be removed from the model.\n",
      "2022-05-02 16:37:32.689589477 [W:onnxruntime:, graph.cc:3515 CleanUnusedInitializersAndNodeArgs] Removing initializer 'cache_node_onnx::Div_852'. It is not used by any node and should be removed from the model.\n",
      "2022-05-02 16:37:32.689595988 [W:onnxruntime:, graph.cc:3515 CleanUnusedInitializersAndNodeArgs] Removing initializer 'cache_node_onnx::Div_1204'. It is not used by any node and should be removed from the model.\n",
      "2022-05-02 16:37:32.689599804 [W:onnxruntime:, graph.cc:3515 CleanUnusedInitializersAndNodeArgs] Removing initializer 'cache_node_onnx::Div_1053'. It is not used by any node and should be removed from the model.\n",
      "2022-05-02 16:37:32.689604568 [W:onnxruntime:, graph.cc:3515 CleanUnusedInitializersAndNodeArgs] Removing initializer 'cache_node_onnx::Div_449'. It is not used by any node and should be removed from the model.\n",
      "2022-05-02 16:37:32.689608243 [W:onnxruntime:, graph.cc:3515 CleanUnusedInitializersAndNodeArgs] Removing initializer 'cache_node_onnx::Div_365'. It is not used by any node and should be removed from the model.\n",
      "2022-05-02 16:37:32.689611515 [W:onnxruntime:, graph.cc:3515 CleanUnusedInitializersAndNodeArgs] Removing initializer 'cache_node_onnx::Div_466'. It is not used by any node and should be removed from the model.\n",
      "2022-05-02 16:37:32.689616197 [W:onnxruntime:, graph.cc:3515 CleanUnusedInitializersAndNodeArgs] Removing initializer 'cache_node_onnx::Div_550'. It is not used by any node and should be removed from the model.\n",
      "2022-05-02 16:37:32.689620391 [W:onnxruntime:, graph.cc:3515 CleanUnusedInitializersAndNodeArgs] Removing initializer 'cache_node_onnx::Div_600'. It is not used by any node and should be removed from the model.\n",
      "2022-05-02 16:37:32.689623782 [W:onnxruntime:, graph.cc:3515 CleanUnusedInitializersAndNodeArgs] Removing initializer 'cache_node_onnx::Div_701'. It is not used by any node and should be removed from the model.\n",
      "2022-05-02 16:37:32.689627190 [W:onnxruntime:, graph.cc:3515 CleanUnusedInitializersAndNodeArgs] Removing initializer 'cache_node_onnx::Div_751'. It is not used by any node and should be removed from the model.\n",
      "2022-05-02 16:37:32.689631556 [W:onnxruntime:, graph.cc:3515 CleanUnusedInitializersAndNodeArgs] Removing initializer 'cache_node_onnx::Div_768'. It is not used by any node and should be removed from the model.\n",
      "2022-05-02 16:37:32.689636258 [W:onnxruntime:, graph.cc:3515 CleanUnusedInitializersAndNodeArgs] Removing initializer 'cache_node_onnx::Div_902'. It is not used by any node and should be removed from the model.\n",
      "2022-05-02 16:37:32.689806861 [W:onnxruntime:, graph.cc:3515 CleanUnusedInitializersAndNodeArgs] Removing initializer 'onnx::Div_1321'. It is not used by any node and should be removed from the model.\n",
      "2022-05-02 16:37:32.689813592 [W:onnxruntime:, graph.cc:3515 CleanUnusedInitializersAndNodeArgs] Removing initializer 'onnx::Div_1304'. It is not used by any node and should be removed from the model.\n",
      "2022-05-02 16:37:32.689818180 [W:onnxruntime:, graph.cc:3515 CleanUnusedInitializersAndNodeArgs] Removing initializer 'onnx::Div_1140'. It is not used by any node and should be removed from the model.\n",
      "2022-05-02 16:37:32.689822745 [W:onnxruntime:, graph.cc:3515 CleanUnusedInitializersAndNodeArgs] Removing initializer 'onnx::Div_298'. It is not used by any node and should be removed from the model.\n",
      "2022-05-02 16:37:32.689826310 [W:onnxruntime:, graph.cc:3515 CleanUnusedInitializersAndNodeArgs] Removing initializer 'onnx::Div_399'. It is not used by any node and should be removed from the model.\n",
      "2022-05-02 16:37:32.689833147 [W:onnxruntime:, graph.cc:3515 CleanUnusedInitializersAndNodeArgs] Removing initializer 'onnx::Div_761'. It is not used by any node and should be removed from the model.\n",
      "2022-05-02 16:37:32.689837792 [W:onnxruntime:, graph.cc:3515 CleanUnusedInitializersAndNodeArgs] Removing initializer 'onnx::Div_174'. It is not used by any node and should be removed from the model.\n",
      "2022-05-02 16:37:32.689841392 [W:onnxruntime:, graph.cc:3515 CleanUnusedInitializersAndNodeArgs] Removing initializer 'onnx::Div_959'. It is not used by any node and should be removed from the model.\n",
      "2022-05-02 16:37:32.689845030 [W:onnxruntime:, graph.cc:3515 CleanUnusedInitializersAndNodeArgs] Removing initializer 'onnx::Div_1041'. It is not used by any node and should be removed from the model.\n",
      "2022-05-02 16:37:32.689863698 [W:onnxruntime:, graph.cc:3515 CleanUnusedInitializersAndNodeArgs] Removing initializer 'onnx::Div_580'. It is not used by any node and should be removed from the model.\n",
      "2022-05-02 16:37:32.689868257 [W:onnxruntime:, graph.cc:3515 CleanUnusedInitializersAndNodeArgs] Removing initializer 'onnx::Div_1222'. It is not used by any node and should be removed from the model.\n",
      "2022-05-02 16:37:32.689871713 [W:onnxruntime:, graph.cc:3515 CleanUnusedInitializersAndNodeArgs] Removing initializer 'onnx::Div_498'. It is not used by any node and should be removed from the model.\n",
      "2022-05-02 16:37:32.689877587 [W:onnxruntime:, graph.cc:3515 CleanUnusedInitializersAndNodeArgs] Removing initializer 'onnx::Div_416'. It is not used by any node and should be removed from the model.\n",
      "2022-05-02 16:37:32.689881366 [W:onnxruntime:, graph.cc:3515 CleanUnusedInitializersAndNodeArgs] Removing initializer 'onnx::Div_778'. It is not used by any node and should be removed from the model.\n",
      "2022-05-02 16:37:32.689884654 [W:onnxruntime:, graph.cc:3515 CleanUnusedInitializersAndNodeArgs] Removing initializer 'onnx::Div_1123'. It is not used by any node and should be removed from the model.\n",
      "2022-05-02 16:37:32.689887864 [W:onnxruntime:, graph.cc:3515 CleanUnusedInitializersAndNodeArgs] Removing initializer 'onnx::Div_597'. It is not used by any node and should be removed from the model.\n",
      "2022-05-02 16:37:32.689891136 [W:onnxruntime:, graph.cc:3515 CleanUnusedInitializersAndNodeArgs] Removing initializer 'onnx::Div_679'. It is not used by any node and should be removed from the model.\n",
      "2022-05-02 16:37:32.689895778 [W:onnxruntime:, graph.cc:3515 CleanUnusedInitializersAndNodeArgs] Removing initializer 'onnx::Div_860'. It is not used by any node and should be removed from the model.\n",
      "2022-05-02 16:37:32.689899474 [W:onnxruntime:, graph.cc:3515 CleanUnusedInitializersAndNodeArgs] Removing initializer 'onnx::Div_942'. It is not used by any node and should be removed from the model.\n",
      "2022-05-02 16:37:32.715397910 [W:onnxruntime:, graph.cc:3515 CleanUnusedInitializersAndNodeArgs] Removing initializer 'cache_node_onnx::Unsqueeze_152'. It is not used by any node and should be removed from the model.\n",
      "2022-05-02 16:37:32.715407260 [W:onnxruntime:, graph.cc:3515 CleanUnusedInitializersAndNodeArgs] Removing initializer 'cache_node_onnx::Unsqueeze_150'. It is not used by any node and should be removed from the model.\n",
      "2022-05-02 16:37:32.715414974 [W:onnxruntime:, graph.cc:3515 CleanUnusedInitializersAndNodeArgs] Removing initializer 'cache_node_onnx::ConstantOfShape_164'. It is not used by any node and should be removed from the model.\n",
      "2022-05-02 16:37:32.715575501 [W:onnxruntime:, graph.cc:3515 CleanUnusedInitializersAndNodeArgs] Removing initializer 'onnx::ConstantOfShape_136'. It is not used by any node and should be removed from the model.\n",
      "2022-05-02 16:37:32.715581059 [W:onnxruntime:, graph.cc:3515 CleanUnusedInitializersAndNodeArgs] Removing initializer 'onnx::Unsqueeze_122'. It is not used by any node and should be removed from the model.\n",
      "2022-05-02 16:37:32.715601270 [W:onnxruntime:, graph.cc:3515 CleanUnusedInitializersAndNodeArgs] Removing initializer 'onnx::Unsqueeze_124'. It is not used by any node and should be removed from the model.\n",
      "2022-05-02 16:37:32.741320260 [W:onnxruntime:, graph.cc:3515 CleanUnusedInitializersAndNodeArgs] Removing initializer 'cache_node_onnx::Expand_165'. It is not used by any node and should be removed from the model.\n",
      "2022-05-02 16:37:32.741475271 [W:onnxruntime:, graph.cc:3515 CleanUnusedInitializersAndNodeArgs] Removing initializer 'onnx::Expand_137'. It is not used by any node and should be removed from the model.\n",
      "2022-05-02 16:37:32.783007747 [W:onnxruntime:, graph.cc:3515 CleanUnusedInitializersAndNodeArgs] Removing initializer 'cache_node_onnx::Add_1218'. It is not used by any node and should be removed from the model.\n",
      "2022-05-02 16:37:32.783016332 [W:onnxruntime:, graph.cc:3515 CleanUnusedInitializersAndNodeArgs] Removing initializer 'cache_node_onnx::Add_1201'. It is not used by any node and should be removed from the model.\n",
      "2022-05-02 16:37:32.783019871 [W:onnxruntime:, graph.cc:3515 CleanUnusedInitializersAndNodeArgs] Removing initializer 'cache_node_onnx::Pow_1198'. It is not used by any node and should be removed from the model.\n",
      "2022-05-02 16:37:32.783023654 [W:onnxruntime:, graph.cc:3515 CleanUnusedInitializersAndNodeArgs] Removing initializer 'cache_node_onnx::Add_1067'. It is not used by any node and should be removed from the model.\n",
      "2022-05-02 16:37:32.783026935 [W:onnxruntime:, graph.cc:3515 CleanUnusedInitializersAndNodeArgs] Removing initializer 'cache_node_onnx::Add_1050'. It is not used by any node and should be removed from the model.\n",
      "2022-05-02 16:37:32.783030524 [W:onnxruntime:, graph.cc:3515 CleanUnusedInitializersAndNodeArgs] Removing initializer 'cache_node_onnx::Pow_997'. It is not used by any node and should be removed from the model.\n",
      "2022-05-02 16:37:32.783034385 [W:onnxruntime:, graph.cc:3515 CleanUnusedInitializersAndNodeArgs] Removing initializer 'cache_node_onnx::Add_916'. It is not used by any node and should be removed from the model.\n",
      "2022-05-02 16:37:32.783039201 [W:onnxruntime:, graph.cc:3515 CleanUnusedInitializersAndNodeArgs] Removing initializer 'cache_node_onnx::Pow_896'. It is not used by any node and should be removed from the model.\n",
      "2022-05-02 16:37:32.783042633 [W:onnxruntime:, graph.cc:3515 CleanUnusedInitializersAndNodeArgs] Removing initializer 'cache_node_onnx::Add_1151'. It is not used by any node and should be removed from the model.\n",
      "2022-05-02 16:37:32.783045875 [W:onnxruntime:, graph.cc:3515 CleanUnusedInitializersAndNodeArgs] Removing initializer 'cache_node_onnx::Pow_1148'. It is not used by any node and should be removed from the model.\n",
      "2022-05-02 16:37:32.783049864 [W:onnxruntime:, graph.cc:3515 CleanUnusedInitializersAndNodeArgs] Removing initializer 'cache_node_onnx::Add_597'. It is not used by any node and should be removed from the model.\n",
      "2022-05-02 16:37:32.783054523 [W:onnxruntime:, graph.cc:3515 CleanUnusedInitializersAndNodeArgs] Removing initializer 'cache_node_onnx::Pow_594'. It is not used by any node and should be removed from the model.\n",
      "2022-05-02 16:37:32.783059283 [W:onnxruntime:, graph.cc:3515 CleanUnusedInitializersAndNodeArgs] Removing initializer 'cache_node_onnx::Pow_1064'. It is not used by any node and should be removed from the model.\n",
      "2022-05-02 16:37:32.783064287 [W:onnxruntime:, graph.cc:3515 CleanUnusedInitializersAndNodeArgs] Removing initializer 'cache_node_onnx::Add_748'. It is not used by any node and should be removed from the model.\n",
      "2022-05-02 16:37:32.783067991 [W:onnxruntime:, graph.cc:3515 CleanUnusedInitializersAndNodeArgs] Removing initializer 'cache_node_onnx::Pow_212'. It is not used by any node and should be removed from the model.\n",
      "2022-05-02 16:37:32.783072082 [W:onnxruntime:, graph.cc:3515 CleanUnusedInitializersAndNodeArgs] Removing initializer 'cache_node_onnx::Pow_745'. It is not used by any node and should be removed from the model.\n",
      "2022-05-02 16:37:32.783076013 [W:onnxruntime:, graph.cc:3515 CleanUnusedInitializersAndNodeArgs] Removing initializer 'cache_node_onnx::Pow_359'. It is not used by any node and should be removed from the model.\n",
      "2022-05-02 16:37:32.783079909 [W:onnxruntime:, graph.cc:3515 CleanUnusedInitializersAndNodeArgs] Removing initializer 'cache_node_onnx::Pow_611'. It is not used by any node and should be removed from the model.\n",
      "2022-05-02 16:37:32.783083153 [W:onnxruntime:, graph.cc:3515 CleanUnusedInitializersAndNodeArgs] Removing initializer 'cache_node_onnx::Add_849'. It is not used by any node and should be removed from the model.\n",
      "2022-05-02 16:37:32.783086499 [W:onnxruntime:, graph.cc:3515 CleanUnusedInitializersAndNodeArgs] Removing initializer 'cache_node_onnx::Pow_443'. It is not used by any node and should be removed from the model.\n",
      "2022-05-02 16:37:32.783090112 [W:onnxruntime:, graph.cc:3515 CleanUnusedInitializersAndNodeArgs] Removing initializer 'cache_node_onnx::Add_446'. It is not used by any node and should be removed from the model.\n",
      "2022-05-02 16:37:32.783093408 [W:onnxruntime:, graph.cc:3515 CleanUnusedInitializersAndNodeArgs] Removing initializer 'cache_node_onnx::Pow_1047'. It is not used by any node and should be removed from the model.\n",
      "2022-05-02 16:37:32.783096787 [W:onnxruntime:, graph.cc:3515 CleanUnusedInitializersAndNodeArgs] Removing initializer 'cache_node_onnx::Pow_460'. It is not used by any node and should be removed from the model.\n",
      "2022-05-02 16:37:32.783100092 [W:onnxruntime:, graph.cc:3515 CleanUnusedInitializersAndNodeArgs] Removing initializer 'cache_node_onnx::Pow_913'. It is not used by any node and should be removed from the model.\n",
      "2022-05-02 16:37:32.783103613 [W:onnxruntime:, graph.cc:3515 CleanUnusedInitializersAndNodeArgs] Removing initializer 'cache_node_onnx::Add_215'. It is not used by any node and should be removed from the model.\n",
      "2022-05-02 16:37:32.783106794 [W:onnxruntime:, graph.cc:3515 CleanUnusedInitializersAndNodeArgs] Removing initializer 'cache_node_onnx::Add_698'. It is not used by any node and should be removed from the model.\n",
      "2022-05-02 16:37:32.783110375 [W:onnxruntime:, graph.cc:3515 CleanUnusedInitializersAndNodeArgs] Removing initializer 'cache_node_onnx::Pow_544'. It is not used by any node and should be removed from the model.\n",
      "2022-05-02 16:37:32.783113619 [W:onnxruntime:, graph.cc:3515 CleanUnusedInitializersAndNodeArgs] Removing initializer 'cache_node_onnx::Add_547'. It is not used by any node and should be removed from the model.\n",
      "2022-05-02 16:37:32.783116963 [W:onnxruntime:, graph.cc:3515 CleanUnusedInitializersAndNodeArgs] Removing initializer 'cache_node_onnx::Add_362'. It is not used by any node and should be removed from the model.\n",
      "2022-05-02 16:37:32.783120383 [W:onnxruntime:, graph.cc:3515 CleanUnusedInitializersAndNodeArgs] Removing initializer 'cache_node_onnx::Add_463'. It is not used by any node and should be removed from the model.\n",
      "2022-05-02 16:37:32.783124260 [W:onnxruntime:, graph.cc:3515 CleanUnusedInitializersAndNodeArgs] Removing initializer 'cache_node_onnx::Add_765'. It is not used by any node and should be removed from the model.\n",
      "2022-05-02 16:37:32.783127624 [W:onnxruntime:, graph.cc:3515 CleanUnusedInitializersAndNodeArgs] Removing initializer 'cache_node_onnx::Add_1000'. It is not used by any node and should be removed from the model.\n",
      "2022-05-02 16:37:32.783131386 [W:onnxruntime:, graph.cc:3515 CleanUnusedInitializersAndNodeArgs] Removing initializer 'cache_node_onnx::Pow_846'. It is not used by any node and should be removed from the model.\n",
      "2022-05-02 16:37:32.783135034 [W:onnxruntime:, graph.cc:3515 CleanUnusedInitializersAndNodeArgs] Removing initializer 'cache_node_onnx::Add_614'. It is not used by any node and should be removed from the model.\n",
      "2022-05-02 16:37:32.783138266 [W:onnxruntime:, graph.cc:3515 CleanUnusedInitializersAndNodeArgs] Removing initializer 'cache_node_onnx::Pow_762'. It is not used by any node and should be removed from the model.\n",
      "2022-05-02 16:37:32.783142466 [W:onnxruntime:, graph.cc:3515 CleanUnusedInitializersAndNodeArgs] Removing initializer 'cache_node_onnx::Add_899'. It is not used by any node and should be removed from the model.\n",
      "2022-05-02 16:37:32.783145886 [W:onnxruntime:, graph.cc:3515 CleanUnusedInitializersAndNodeArgs] Removing initializer 'cache_node_onnx::Pow_1215'. It is not used by any node and should be removed from the model.\n",
      "2022-05-02 16:37:32.783149114 [W:onnxruntime:, graph.cc:3515 CleanUnusedInitializersAndNodeArgs] Removing initializer 'cache_node_onnx::Pow_695'. It is not used by any node and should be removed from the model.\n",
      "2022-05-02 16:37:32.783287105 [W:onnxruntime:, graph.cc:3515 CleanUnusedInitializersAndNodeArgs] Removing initializer 'onnx::Pow_1315'. It is not used by any node and should be removed from the model.\n",
      "2022-05-02 16:37:32.783292631 [W:onnxruntime:, graph.cc:3515 CleanUnusedInitializersAndNodeArgs] Removing initializer 'onnx::Add_1219'. It is not used by any node and should be removed from the model.\n",
      "2022-05-02 16:37:32.783295941 [W:onnxruntime:, graph.cc:3515 CleanUnusedInitializersAndNodeArgs] Removing initializer 'onnx::Pow_1216'. It is not used by any node and should be removed from the model.\n",
      "2022-05-02 16:37:32.783299303 [W:onnxruntime:, graph.cc:3515 CleanUnusedInitializersAndNodeArgs] Removing initializer 'onnx::Pow_1134'. It is not used by any node and should be removed from the model.\n",
      "2022-05-02 16:37:32.783302443 [W:onnxruntime:, graph.cc:3515 CleanUnusedInitializersAndNodeArgs] Removing initializer 'onnx::Pow_1298'. It is not used by any node and should be removed from the model.\n",
      "2022-05-02 16:37:32.783305713 [W:onnxruntime:, graph.cc:3515 CleanUnusedInitializersAndNodeArgs] Removing initializer 'onnx::Add_1120'. It is not used by any node and should be removed from the model.\n",
      "2022-05-02 16:37:32.783309321 [W:onnxruntime:, graph.cc:3515 CleanUnusedInitializersAndNodeArgs] Removing initializer 'onnx::Add_1038'. It is not used by any node and should be removed from the model.\n",
      "2022-05-02 16:37:32.783312546 [W:onnxruntime:, graph.cc:3515 CleanUnusedInitializersAndNodeArgs] Removing initializer 'onnx::Pow_1035'. It is not used by any node and should be removed from the model.\n",
      "2022-05-02 16:37:32.783316235 [W:onnxruntime:, graph.cc:3515 CleanUnusedInitializersAndNodeArgs] Removing initializer 'onnx::Add_295'. It is not used by any node and should be removed from the model.\n",
      "2022-05-02 16:37:32.783319912 [W:onnxruntime:, graph.cc:3515 CleanUnusedInitializersAndNodeArgs] Removing initializer 'onnx::Add_171'. It is not used by any node and should be removed from the model.\n",
      "2022-05-02 16:37:32.783323255 [W:onnxruntime:, graph.cc:3515 CleanUnusedInitializersAndNodeArgs] Removing initializer 'onnx::Add_1301'. It is not used by any node and should be removed from the model.\n",
      "2022-05-02 16:37:32.783326582 [W:onnxruntime:, graph.cc:3515 CleanUnusedInitializersAndNodeArgs] Removing initializer 'onnx::Add_1137'. It is not used by any node and should be removed from the model.\n",
      "2022-05-02 16:37:32.783330624 [W:onnxruntime:, graph.cc:3515 CleanUnusedInitializersAndNodeArgs] Removing initializer 'onnx::Add_758'. It is not used by any node and should be removed from the model.\n",
      "2022-05-02 16:37:32.783333796 [W:onnxruntime:, graph.cc:3515 CleanUnusedInitializersAndNodeArgs] Removing initializer 'onnx::Pow_936'. It is not used by any node and should be removed from the model.\n",
      "2022-05-02 16:37:32.783338084 [W:onnxruntime:, graph.cc:3515 CleanUnusedInitializersAndNodeArgs] Removing initializer 'onnx::Add_1318'. It is not used by any node and should be removed from the model.\n",
      "2022-05-02 16:37:32.783342044 [W:onnxruntime:, graph.cc:3515 CleanUnusedInitializersAndNodeArgs] Removing initializer 'onnx::Add_956'. It is not used by any node and should be removed from the model.\n",
      "2022-05-02 16:37:32.783345801 [W:onnxruntime:, graph.cc:3515 CleanUnusedInitializersAndNodeArgs] Removing initializer 'onnx::Pow_772'. It is not used by any node and should be removed from the model.\n",
      "2022-05-02 16:37:32.783351949 [W:onnxruntime:, graph.cc:3515 CleanUnusedInitializersAndNodeArgs] Removing initializer 'onnx::Pow_168'. It is not used by any node and should be removed from the model.\n",
      "2022-05-02 16:37:32.783355152 [W:onnxruntime:, graph.cc:3515 CleanUnusedInitializersAndNodeArgs] Removing initializer 'onnx::Pow_393'. It is not used by any node and should be removed from the model.\n",
      "2022-05-02 16:37:32.783358432 [W:onnxruntime:, graph.cc:3515 CleanUnusedInitializersAndNodeArgs] Removing initializer 'onnx::Pow_492'. It is not used by any node and should be removed from the model.\n",
      "2022-05-02 16:37:32.783373709 [W:onnxruntime:, graph.cc:3515 CleanUnusedInitializersAndNodeArgs] Removing initializer 'onnx::Add_396'. It is not used by any node and should be removed from the model.\n",
      "2022-05-02 16:37:32.783377430 [W:onnxruntime:, graph.cc:3515 CleanUnusedInitializersAndNodeArgs] Removing initializer 'onnx::Pow_410'. It is not used by any node and should be removed from the model.\n",
      "2022-05-02 16:37:32.783380823 [W:onnxruntime:, graph.cc:3515 CleanUnusedInitializersAndNodeArgs] Removing initializer 'onnx::Add_413'. It is not used by any node and should be removed from the model.\n",
      "2022-05-02 16:37:32.783384266 [W:onnxruntime:, graph.cc:3515 CleanUnusedInitializersAndNodeArgs] Removing initializer 'onnx::Add_775'. It is not used by any node and should be removed from the model.\n",
      "2022-05-02 16:37:32.783387990 [W:onnxruntime:, graph.cc:3515 CleanUnusedInitializersAndNodeArgs] Removing initializer 'onnx::Pow_854'. It is not used by any node and should be removed from the model.\n",
      "2022-05-02 16:37:32.783391915 [W:onnxruntime:, graph.cc:3515 CleanUnusedInitializersAndNodeArgs] Removing initializer 'onnx::Add_495'. It is not used by any node and should be removed from the model.\n",
      "2022-05-02 16:37:32.783395996 [W:onnxruntime:, graph.cc:3515 CleanUnusedInitializersAndNodeArgs] Removing initializer 'onnx::Pow_574'. It is not used by any node and should be removed from the model.\n",
      "2022-05-02 16:37:32.783399560 [W:onnxrunt"
     ]
    }
   ],
   "source": [
    "model = model.cuda()\n",
    "model_decoder = model_decoder.cuda()\n",
    "input_ids = input_ids.cuda()\n",
    "model = model.eval()\n",
    "model_decoder = model_decoder.eval()\n",
    "enc_onnx = create_model_for_provider(\"test-enc.onnx\", \"CUDAExecutionProvider\")\n",
    "enc_onnx_binding: IOBinding = enc_onnx.io_binding()\n",
    "dec_onnx = create_model_for_provider(model_def.SerializeToString(), \"CUDAExecutionProvider\")\n",
    "dec_onnx_binding: IOBinding = dec_onnx.io_binding()"
   ]
  },
  {
   "cell_type": "markdown",
   "metadata": {
    "collapsed": false,
    "pycharm": {
     "name": "#%% md\n"
    }
   },
   "source": [
    "## Benchmark new model on real scenario\n",
    "\n",
    "TODO: print graph of cache / no cache latency for each seq len + show how to justify what we measure\n",
    "TODO: convert the model to FP16 + add some explanation regarding aggressive conversion https://pytorch.org/docs/stable/amp.html?utm_source=pocket_mylist\n",
    "TODO: add experiment with TensorRT in mixed precision\n",
    "TODO: try https://github.com/microsoft/onnxruntime/pull/11320 + https://github.com/microsoft/onnxruntime/pull/8702 + https://github.com/microsoft/onnxruntime/issues/11254"
   ]
  },
  {
   "cell_type": "code",
   "execution_count": 10,
   "metadata": {
    "execution": {
     "iopub.execute_input": "2022-05-02T15:37:32.981151Z",
     "iopub.status.busy": "2022-05-02T15:37:32.981005Z",
     "iopub.status.idle": "2022-05-02T15:37:33.006210Z",
     "shell.execute_reply": "2022-05-02T15:37:33.005343Z"
    },
    "pycharm": {
     "name": "#%%\n"
    }
   },
   "outputs": [
    {
     "name": "stderr",
     "output_type": "stream",
     "text": [
      "ime:, graph.cc:3515 CleanUnusedInitializersAndNodeArgs] Removing initializer 'onnx::Add_577'. It is not used by any node and should be removed from the model.\n",
      "2022-05-02 16:37:32.783402919 [W:onnxruntime:, graph.cc:3515 CleanUnusedInitializersAndNodeArgs] Removing initializer 'onnx::Pow_591'. It is not used by any node and should be removed from the model.\n",
      "2022-05-02 16:37:32.783406486 [W:onnxruntime:, graph.cc:3515 CleanUnusedInitializersAndNodeArgs] Removing initializer 'onnx::Add_594'. It is not used by any node and should be removed from the model.\n",
      "2022-05-02 16:37:32.783409923 [W:onnxruntime:, graph.cc:3515 CleanUnusedInitializersAndNodeArgs] Removing initializer 'onnx::Pow_292'. It is not used by any node and should be removed from the model.\n",
      "2022-05-02 16:37:32.783413781 [W:onnxruntime:, graph.cc:3515 CleanUnusedInitializersAndNodeArgs] Removing initializer 'onnx::Add_676'. It is not used by any node and should be removed from the model.\n",
      "2022-05-02 16:37:32.783417681 [W:onnxruntime:, graph.cc:3515 CleanUnusedInitializersAndNodeArgs] Removing initializer 'onnx::Pow_755'. It is not used by any node and should be removed from the model.\n",
      "2022-05-02 16:37:32.783421676 [W:onnxruntime:, graph.cc:3515 CleanUnusedInitializersAndNodeArgs] Removing initializer 'onnx::Add_857'. It is not used by any node and should be removed from the model.\n",
      "2022-05-02 16:37:32.783425549 [W:onnxruntime:, graph.cc:3515 CleanUnusedInitializersAndNodeArgs] Removing initializer 'onnx::Pow_673'. It is not used by any node and should be removed from the model.\n",
      "2022-05-02 16:37:32.783429203 [W:onnxruntime:, graph.cc:3515 CleanUnusedInitializersAndNodeArgs] Removing initializer 'onnx::Pow_1117'. It is not used by any node and should be removed from the model.\n",
      "2022-05-02 16:37:32.783432794 [W:onnxruntime:, graph.cc:3515 CleanUnusedInitializersAndNodeArgs] Removing initializer 'onnx::Add_939'. It is not used by any node and should be removed from the model.\n",
      "2022-05-02 16:37:32.783436429 [W:onnxruntime:, graph.cc:3515 CleanUnusedInitializersAndNodeArgs] Removing initializer 'onnx::Pow_953'. It is not used by any node and should be removed from the model.\n"
     ]
    }
   ],
   "source": [
    "with torch.inference_mode():\n",
    "    out_enc_pytorch: BaseModelOutputWithPastAndCrossAttentions = model.encoder(input_ids=input_ids)\n",
    "    previous_step_pytorch: BaseModelOutputWithPastAndCrossAttentions = model_decoder(\n",
    "        input_ids=input_ids[:, :-1], encoder_hidden_states=out_enc_pytorch.last_hidden_state\n",
    "    )\n",
    "    out_dec_pytorch: BaseModelOutputWithPastAndCrossAttentions = model_decoder(\n",
    "        input_ids=input_ids, encoder_hidden_states=out_enc_pytorch.last_hidden_state\n",
    "    )"
   ]
  },
  {
   "cell_type": "code",
   "execution_count": 11,
   "metadata": {
    "execution": {
     "iopub.execute_input": "2022-05-02T15:37:33.009195Z",
     "iopub.status.busy": "2022-05-02T15:37:33.008952Z",
     "iopub.status.idle": "2022-05-02T15:37:33.026457Z",
     "shell.execute_reply": "2022-05-02T15:37:33.025994Z"
    },
    "pycharm": {
     "name": "#%%\n"
    }
   },
   "outputs": [],
   "source": [
    "def decoder_pytorch_inference(decoder_input_ids: torch.Tensor, encoder_hidden_states: torch.Tensor, **_):\n",
    "    with torch.inference_mode():\n",
    "        return model_decoder(input_ids=decoder_input_ids, encoder_hidden_states=encoder_hidden_states)\n",
    "\n",
    "\n",
    "def decoder_onnx_inference(\n",
    "    decoder_input_ids: torch.Tensor,\n",
    "    encoder_hidden_states: torch.Tensor,\n",
    "    enable_cache: torch.Tensor,\n",
    "    past_key_values: Optional[torch.Tensor],\n",
    "):\n",
    "    inputs_onnx_dict = {\n",
    "        \"input_ids\": decoder_input_ids,\n",
    "        \"encoder_hidden_states\": encoder_hidden_states,\n",
    "        \"enable_cache\": enable_cache,\n",
    "    }\n",
    "\n",
    "    if past_key_values is not None:\n",
    "        for index, (k_dec, v_dec, k_enc, v_enc) in enumerate(past_key_values):\n",
    "            inputs_onnx_dict[f\"past_key_values.{index}.decoder.key\"] = k_dec\n",
    "            inputs_onnx_dict[f\"past_key_values.{index}.decoder.value\"] = v_dec\n",
    "            inputs_onnx_dict[f\"past_key_values.{index}.encoder.key\"] = k_enc\n",
    "            inputs_onnx_dict[f\"past_key_values.{index}.encoder.value\"] = v_enc\n",
    "\n",
    "    result_dict = inference_onnx_binding(\n",
    "        model_onnx=dec_onnx,\n",
    "        inputs=inputs_onnx_dict,\n",
    "        binding=dec_onnx_binding,  # recycle the binding\n",
    "        device=decoder_input_ids.device.type,\n",
    "        clone_tensor=False,  # no memory copy -> best perf and lowest memory footprint!\n",
    "    )\n",
    "    past_states = list()\n",
    "    for i in range(model.config.num_layers):\n",
    "        kv = (\n",
    "            result_dict[f\"present.{i}.decoder.key\"],\n",
    "            result_dict[f\"present.{i}.decoder.value\"],\n",
    "            result_dict[f\"present.{i}.encoder.key\"],\n",
    "            result_dict[f\"present.{i}.encoder.value\"],\n",
    "        )\n",
    "        past_states.append(kv)\n",
    "    torch.cuda.synchronize()\n",
    "    return BaseModelOutputWithPastAndCrossAttentions(\n",
    "        last_hidden_state=result_dict[\"logits\"],\n",
    "        past_key_values=past_states,\n",
    "    )\n",
    "\n",
    "\n",
    "out_dec_onnx_no_cache = decoder_onnx_inference(\n",
    "    decoder_input_ids=input_ids,\n",
    "    encoder_hidden_states=out_enc_pytorch.last_hidden_state,\n",
    "    enable_cache=torch.tensor([False], device=\"cuda\", dtype=torch.bool),\n",
    "    past_key_values=None,\n",
    ")\n",
    "are_equal(a=out_dec_onnx_no_cache.last_hidden_state[:, -1:, :], b=out_dec_pytorch.last_hidden_state[:, -1:, :])\n",
    "\n",
    "# check that past states are identical between ONNX and Pytorch\n",
    "assert len(out_dec_onnx_no_cache.past_key_values) == len(out_dec_pytorch.past_key_values)\n",
    "for (o_dec_k, o_dev_v, o_enc_k, o_enc_v), (p_dec_k, p_dev_v, p_enc_k, p_enc_v) in zip(\n",
    "    out_dec_onnx_no_cache.past_key_values, out_dec_pytorch.past_key_values\n",
    "):\n",
    "    are_equal(a=o_dec_k, b=p_dec_k)\n",
    "    are_equal(a=o_dev_v, b=p_dev_v)\n",
    "    are_equal(a=o_enc_k, b=p_enc_k)\n",
    "    are_equal(a=o_enc_v, b=p_enc_v)"
   ]
  },
  {
   "cell_type": "code",
   "execution_count": 12,
   "metadata": {
    "execution": {
     "iopub.execute_input": "2022-05-02T15:37:33.029972Z",
     "iopub.status.busy": "2022-05-02T15:37:33.029750Z",
     "iopub.status.idle": "2022-05-02T15:37:33.051930Z",
     "shell.execute_reply": "2022-05-02T15:37:33.051458Z"
    },
    "pycharm": {
     "name": "#%%\n"
    }
   },
   "outputs": [],
   "source": [
    "out_dec_onnx_cache = decoder_onnx_inference(\n",
    "    decoder_input_ids=input_ids[:, -1:],\n",
    "    encoder_hidden_states=out_enc_pytorch.last_hidden_state,\n",
    "    enable_cache=torch.tensor([True], device=\"cuda\", dtype=torch.bool),\n",
    "    past_key_values=previous_step_pytorch.past_key_values,\n",
    ")\n",
    "\n",
    "are_equal(a=out_dec_onnx_cache.last_hidden_state[:, -1:, :], b=out_dec_pytorch.last_hidden_state[:, -1:, :])\n",
    "\n",
    "# check that past states are identical between ONNX and Pytorch\n",
    "assert len(out_dec_onnx_cache.past_key_values) == len(out_dec_pytorch.past_key_values)\n",
    "for (o_dec_k, o_dev_v, o_enc_k, o_enc_v), (p_dec_k, p_dev_v, p_enc_k, p_enc_v) in zip(\n",
    "    out_dec_onnx_cache.past_key_values, out_dec_pytorch.past_key_values\n",
    "):\n",
    "    are_equal(a=o_dec_k, b=p_dec_k)\n",
    "    are_equal(a=o_dev_v, b=p_dev_v)\n",
    "    are_equal(a=o_enc_k, b=p_enc_k)\n",
    "    are_equal(a=o_enc_v, b=p_enc_v)"
   ]
  },
  {
   "cell_type": "code",
   "execution_count": 13,
   "metadata": {
    "execution": {
     "iopub.execute_input": "2022-05-02T15:37:33.054750Z",
     "iopub.status.busy": "2022-05-02T15:37:33.054612Z",
     "iopub.status.idle": "2022-05-02T15:37:33.429985Z",
     "shell.execute_reply": "2022-05-02T15:37:33.429021Z"
    },
    "pycharm": {
     "name": "#%%\n"
    }
   },
   "outputs": [
    {
     "name": "stdout",
     "output_type": "stream",
     "text": [
      "Studies show that</s>.. ; studies studies show, :; –;; (;);;.; études -</s>\n",
      "Studies show that</s>.. ; studies studies show, :; –;; (;);;.; études -</s>\n"
     ]
    }
   ],
   "source": [
    "def encoder_onnx_inference(input_ids: torch.Tensor, **_) -> BaseModelOutputWithPastAndCrossAttentions:\n",
    "    last_hidden_state = inference_onnx_binding(\n",
    "        model_onnx=enc_onnx,  # noqa: F821\n",
    "        inputs={\"input_ids\": input_ids},\n",
    "        device=input_ids.device.type,\n",
    "        binding=enc_onnx_binding,\n",
    "    )[\"output\"]\n",
    "    return BaseModelOutputWithPastAndCrossAttentions(last_hidden_state=last_hidden_state.type(torch.float32))\n",
    "\n",
    "\n",
    "def encoder_pytorch_inference(input_ids, **_) -> BaseModelOutputWithPastAndCrossAttentions:\n",
    "    with torch.inference_mode():\n",
    "        res = model.encoder(input_ids=input_ids).type(torch.float32)\n",
    "        return res\n",
    "\n",
    "\n",
    "# https://github.com/NVIDIA/TensorRT/blob/main/demo/HuggingFace/T5/export.py\n",
    "class ExtT5(torch.nn.Module, GenerationMixin):\n",
    "    def __init__(self, config: PretrainedConfig, device: torch.device, encoder_func: Callable, decoder_func: Callable):\n",
    "        super(ExtT5, self).__init__()\n",
    "        self.main_input_name = \"input_ids\"  # https://github.com/huggingface/transformers/pull/14803\n",
    "        self.config: PretrainedConfig = config\n",
    "        self.device: torch.device = device\n",
    "\n",
    "        self.encoder_func = encoder_func\n",
    "        self.decoder_func = decoder_func\n",
    "        self.use_cache = True\n",
    "        self.timings = list()\n",
    "\n",
    "    def get_encoder(self):\n",
    "        return self.encoder_func\n",
    "\n",
    "    def get_decoder(self):\n",
    "        return self.decoder_func\n",
    "\n",
    "    def set_cache(self, enable: bool) -> None:\n",
    "        self.use_cache = enable\n",
    "\n",
    "    # from transformers library (modeling_t5.py)\n",
    "    def _reorder_cache(self, past, beam_idx):\n",
    "        reordered_decoder_past = ()\n",
    "        for layer_past_states in past:\n",
    "            # get the correct batch idx from layer past batch dim\n",
    "            # batch dim of `past` is at 2nd position\n",
    "            reordered_layer_past_states = ()\n",
    "            for layer_past_state in layer_past_states:\n",
    "                # need to set correct `past` for each of the four key / value states\n",
    "                reordered_layer_past_states = reordered_layer_past_states + (\n",
    "                    layer_past_state.index_select(0, beam_idx),\n",
    "                )\n",
    "\n",
    "            assert reordered_layer_past_states[0].shape == layer_past_states[0].shape\n",
    "            assert len(reordered_layer_past_states) == len(layer_past_states)\n",
    "\n",
    "            reordered_decoder_past = reordered_decoder_past + (reordered_layer_past_states,)\n",
    "        return reordered_decoder_past\n",
    "\n",
    "    def prepare_inputs_for_generation(self, input_ids, past=None, use_cache=None, **kwargs) -> Dict[str, torch.Tensor]:\n",
    "        params = {\n",
    "            \"encoder_hidden_states\": kwargs[\"encoder_outputs\"][\"last_hidden_state\"],\n",
    "        }\n",
    "        if past is None:  # this is the 1st inferred token\n",
    "            self.timings = list()\n",
    "        if not self.use_cache:\n",
    "            past = None\n",
    "        if past is None:\n",
    "            params[self.main_input_name] = input_ids\n",
    "            params[\"enable_cache\"] = torch.tensor([False], device=\"cuda\", dtype=torch.bool)\n",
    "        else:\n",
    "            params[self.main_input_name] = input_ids[:, -1:]\n",
    "            params[\"enable_cache\"] = torch.tensor([True], device=\"cuda\", dtype=torch.bool)\n",
    "            params[\"past_key_values\"] = past\n",
    "\n",
    "        return params\n",
    "\n",
    "    def forward(\n",
    "        self,\n",
    "        input_ids: torch.Tensor,\n",
    "        encoder_hidden_states: torch.Tensor,\n",
    "        enable_cache: torch.Tensor,\n",
    "        past_key_values: Optional[torch.Tensor] = None,\n",
    "        **_,\n",
    "    ):\n",
    "        start_timer = time()\n",
    "        dec_output = self.get_decoder()(\n",
    "            decoder_input_ids=input_ids,\n",
    "            encoder_hidden_states=encoder_hidden_states,\n",
    "            enable_cache=enable_cache,\n",
    "            past_key_values=past_key_values,\n",
    "        )\n",
    "        self.timings.append(time() - start_timer)\n",
    "        return Seq2SeqLMOutput(logits=dec_output.last_hidden_state, past_key_values=dec_output.past_key_values)\n",
    "\n",
    "\n",
    "model_gen = (\n",
    "    ExtT5(\n",
    "        config=model.config,\n",
    "        device=model.device,\n",
    "        encoder_func=encoder_onnx_inference,  # encoder_pytorch_inference\n",
    "        decoder_func=decoder_onnx_inference,  # decoder_pytorch_inference\n",
    "    )\n",
    "    .cuda()\n",
    "    .eval()\n",
    ")\n",
    "\n",
    "torch.cuda.synchronize()\n",
    "with torch.inference_mode():\n",
    "    print(\n",
    "        tokenizer.decode(\n",
    "            model_gen.generate(\n",
    "                inputs=input_ids,\n",
    "                decoder_input_ids=input_ids,\n",
    "                min_length=30,\n",
    "                max_length=60,\n",
    "                num_beams=4,\n",
    "                no_repeat_ngram_size=2,\n",
    "            )[0],\n",
    "            skip_special_tokens=False,\n",
    "        )\n",
    "    )\n",
    "    print(\n",
    "        tokenizer.decode(\n",
    "            model.generate(\n",
    "                input_ids=input_ids,\n",
    "                decoder_input_ids=input_ids,\n",
    "                min_length=30,\n",
    "                max_length=60,\n",
    "                num_beams=4,\n",
    "                no_repeat_ngram_size=2,\n",
    "            )[0],\n",
    "            skip_special_tokens=False,\n",
    "        )\n",
    "    )"
   ]
  },
  {
   "cell_type": "code",
   "execution_count": 14,
   "metadata": {
    "execution": {
     "iopub.execute_input": "2022-05-02T15:37:33.433132Z",
     "iopub.status.busy": "2022-05-02T15:37:33.432892Z",
     "iopub.status.idle": "2022-05-02T15:40:06.693038Z",
     "shell.execute_reply": "2022-05-02T15:40:06.692621Z"
    },
    "pycharm": {
     "is_executing": true,
     "name": "#%%\n"
    }
   },
   "outputs": [
    {
     "name": "stdout",
     "output_type": "stream",
     "text": [
      "ONNX: 60.57461428642273\n",
      "model: 57.35991954803467\n",
      "ONNX + cache: 9.707590579986572\n",
      "model: 7.2320475578308105\n",
      "Pytorch: 66.95095705986023\n",
      "model: 65.2707028388977\n",
      "Pytorch + cache: 16.015754222869873\n",
      "model: 13.972633123397827\n"
     ]
    }
   ],
   "source": [
    "from nvtx import nvtx\n",
    "from copy import copy\n",
    "\n",
    "model_gen.set_cache(enable=False)\n",
    "\n",
    "with nvtx.annotate(\"ONNX\", color=\"red\"):\n",
    "    start = time()\n",
    "    model_gen.generate(inputs=input_ids, max_length=2000, num_beams=4, min_length=2000)\n",
    "    print(f\"ONNX: {time() - start}\")\n",
    "    print(f\"model: {sum(model_gen.timings)}\")\n",
    "    model_gen.set_cache(enable=True)\n",
    "    timing_onnx_no_cache = model_gen.timings\n",
    "\n",
    "with nvtx.annotate(\"ONNX\", color=\"red\"):\n",
    "    model_gen.set_cache(enable=True)\n",
    "    start = time()\n",
    "    model_gen.generate(inputs=input_ids, max_length=2000, num_beams=4, min_length=2000)\n",
    "    print(f\"ONNX + cache: {time() - start}\")\n",
    "    print(f\"model: {sum(model_gen.timings)}\")\n",
    "    timing_onnx_cache = model_gen.timings\n",
    "\n",
    "# monckey patching of forward function to add a timer per generated token\n",
    "old_fw = model.forward\n",
    "timing_pytorch = list()\n",
    "\n",
    "\n",
    "def new_fw(self, *args, **kwargs):\n",
    "    timer_start = time()\n",
    "    res = old_fw(self, *args, **kwargs)\n",
    "    torch.cuda.synchronize()  # makes timings correct without having significant impact on e2e latency\n",
    "    timing_pytorch.append(time() - timer_start)\n",
    "    return res\n",
    "\n",
    "\n",
    "model.forward = new_fw.__get__(model)\n",
    "\n",
    "with nvtx.annotate(\"Pytorch\", color=\"orange\"):\n",
    "    model.config.use_cache = False\n",
    "    with torch.inference_mode():\n",
    "        with torch.cuda.amp.autocast():\n",
    "            start = time()\n",
    "            model.generate(inputs=input_ids, max_length=2000, num_beams=4, min_length=2000)\n",
    "            torch.cuda.synchronize()\n",
    "            print(f\"Pytorch: {time() - start}\")\n",
    "            print(f\"model: {sum(timing_pytorch)}\")\n",
    "    timing_pytorch_no_cache = copy(timing_pytorch)\n",
    "    timing_pytorch.clear()\n",
    "\n",
    "with nvtx.annotate(\"Pytorch + cache\", color=\"green\"):\n",
    "    model.config.use_cache = True\n",
    "    with torch.inference_mode():\n",
    "        with torch.cuda.amp.autocast():\n",
    "            start = time()\n",
    "            model.generate(inputs=input_ids, max_length=2000, num_beams=4, min_length=2000)\n",
    "            torch.cuda.synchronize()\n",
    "            print(f\"Pytorch + cache: {time() - start}\")\n",
    "            print(f\"model: {sum(timing_pytorch)}\")\n",
    "    timing_pytorch_cache = copy(timing_pytorch)\n",
    "    timing_pytorch.clear()\n",
    "model.forward = old_fw"
   ]
  },
  {
   "cell_type": "code",
   "execution_count": 15,
   "metadata": {
    "execution": {
     "iopub.execute_input": "2022-05-02T15:40:06.697089Z",
     "iopub.status.busy": "2022-05-02T15:40:06.696953Z",
     "iopub.status.idle": "2022-05-02T15:40:07.449961Z",
     "shell.execute_reply": "2022-05-02T15:40:07.449523Z"
    },
    "pycharm": {
     "is_executing": true,
     "name": "#%%\n"
    }
   },
   "outputs": [
    {
     "data": {
      "text/plain": [
       "<matplotlib.legend.Legend at 0x7fad51fa4280>"
      ]
     },
     "execution_count": 15,
     "metadata": {},
     "output_type": "execute_result"
    },
    {
     "data": {
      "image/png": "[encoded data removed]",
      "text/plain": [
       "<Figure size 432x288 with 1 Axes>"
      ]
     },
     "metadata": {
      "needs_background": "light"
     },
     "output_type": "display_data"
    }
   ],
   "source": [
    "import matplotlib.pylab as plt\n",
    "\n",
    "axis = range(len(timing_onnx_no_cache))\n",
    "plt.scatter(axis, timing_onnx_no_cache, marker=\"o\", color=\"red\", label=\"ONNX\", s=1)\n",
    "plt.scatter(axis, timing_onnx_cache, marker=\"o\", color=\"purple\", label=\"ONNX + cache\", s=1)\n",
    "plt.scatter(axis, timing_pytorch_no_cache, marker=\"o\", color=\"cyan\", label=\"Pytroch\", s=1)\n",
    "plt.scatter(axis, timing_pytorch_cache, marker=\"o\", color=\"green\", label=\"Pytroch + cache\", s=1)\n",
    "plt.legend()"
   ]
  },
  {
   "cell_type": "code",
   "execution_count": 16,
   "metadata": {
    "execution": {
     "iopub.execute_input": "2022-05-02T15:40:07.454638Z",
     "iopub.status.busy": "2022-05-02T15:40:07.454480Z",
     "iopub.status.idle": "2022-05-02T15:40:07.670971Z",
     "shell.execute_reply": "2022-05-02T15:40:07.670524Z"
    },
    "pycharm": {
     "is_executing": true,
     "name": "#%%\n"
    }
   },
   "outputs": [
    {
     "data": {
      "text/plain": [
       "<matplotlib.legend.Legend at 0x7fad51bb7730>"
      ]
     },
     "execution_count": 16,
     "metadata": {},
     "output_type": "execute_result"
    },
    {
     "data": {
      "image/png": "[encoded data removed]",
      "text/plain": [
       "<Figure size 432x288 with 1 Axes>"
      ]
     },
     "metadata": {
      "needs_background": "light"
     },
     "output_type": "display_data"
    }
   ],
   "source": [
    "axis = range(len(timing_onnx_no_cache))\n",
    "plt.scatter(axis, np.cumsum(timing_onnx_no_cache), marker=\"o\", color=\"red\", label=\"ONNX\", s=1)\n",
    "plt.scatter(axis, np.cumsum(timing_onnx_cache), marker=\"o\", color=\"purple\", label=\"ONNX + cache\", s=1)\n",
    "plt.scatter(axis, np.cumsum(timing_pytorch_no_cache), marker=\"o\", color=\"cyan\", label=\"Pytroch\", s=1)\n",
    "plt.scatter(axis, np.cumsum(timing_pytorch_cache), marker=\"o\", color=\"green\", label=\"Pytroch + cache\", s=1)\n",
    "plt.legend()"
   ]
  },
  {
   "cell_type": "markdown",
   "metadata": {
    "collapsed": false,
    "pycharm": {
     "name": "#%% md\n"
    }
   },
   "source": [
    "# TODO change axis name to better describe what they are, in particular manage encoder and decoder models with common names\n",
    "\n",
    "\n",
    "link to https://github.com/microsoft/onnxruntime/pull/10651 !"
   ]
  }
 ],
 "metadata": {
  "kernelspec": {
   "display_name": "Python 3 (ipykernel)",
   "language": "python",
   "name": "python3"
  },
  "language_info": {
   "codemirror_mode": {
    "name": "ipython",
    "version": 3
   },
   "file_extension": ".py",
   "mimetype": "text/x-python",
   "name": "python",
   "nbconvert_exporter": "python",
   "pygments_lexer": "ipython3",
   "version": "3.9.12"
  }
 },
 "nbformat": 4,
 "nbformat_minor": 1
}