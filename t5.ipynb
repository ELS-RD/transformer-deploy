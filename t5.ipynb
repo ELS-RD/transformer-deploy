{
 "cells": [
  {
   "cell_type": "markdown",
   "metadata": {
    "collapsed": false,
    "pycharm": {
     "name": "#%% md\n"
    }
   },
   "source": [
    "# Inference acceleration of `T5` for large batch size / long sequence length / > large models\n",
    "\n",
    "Every week or so, a new impressive few shots learning work taking advantage of autoregressive models is released by some team around the world.  \n",
    "Still `LLM` inference is rarely discussed and few projects are focusing on this aspect.  \n",
    "In this notebook, we describe our take to significantly improve autoregressive model latency.\n",
    "\n",
    "We plan to intensively test large autoregressive models, so we want something:\n",
    "\n",
    "* which **scales**: the improvement exists on small and large models, for short and long sequences, in greedy and beam search;\n",
    "    * This is very important in a few shots learning where sequences are most of the time hundreds or thousands tokens long and beam search is used to improve text quality.\n",
    "* that has **no hidden cost**: no big increase in memory usage, no degradation in quality of generated text, support state-of-the-art decoding algorithms;\n",
    "* that is **generic**: works for any transformer based architecture, and not specific to an inference engine;\n",
    "* that is **easy to maintain**: no hard-coded behaviors or other technical debt if it doesn't bring a clear advantage.\n",
    "\n",
    "To be clear, **we are not targeting the best performance ever but the right trade off** (for us at least) between simplicity to use/maintain and acceptable latency.\n",
    "\n",
    "## The challenge\n",
    "\n",
    "In most situations, performing inference with `Onnx Runtime` or `TensorRT` usually bring large improvement over `Pytorch` implementations.\n",
    "It's very true with `transformer` based models.\n",
    "\n",
    "The main reason is that these tools will perform `kernel fusions` (merging several operations into a single one) and therefore reduce the number of memory bounded operations. Sometimes they also replace some operations by a much faster approximation.\n",
    "In the very specific case of autoregressive languages, things are a bit more complicated.\n",
    "\n",
    "On most `Pytorch` implementations of these models, there is a `cache` of `K` and `V` values.\n",
    "Let's remind us that in attention blocks, each token is projected on 3 matrices called `Query`, `Key`, and `Value`.\n",
    "Then, those projections will be used to compute a representation of each token which takes into account the information from the related other tokens of the sequence.\n",
    "\n",
    "As autoregressive models generate the sequence one token at a time, they should recompute final representation of all past tokens for each new token to generate.\n",
    "Because each token can only attend to the past, the result of these computations never changes; therefore one simple trick to reduce latency is to just memorize them and reuse them later, avoiding lots of computation.\n",
    "\n",
    "Out of the box, the cache mechanism can't be exported to `Onnx` from `Hugging Face` models (and all other `Pytorch` implementations we are aware of).\n",
    "The reason is that those models are not `torchscript` scripting compliant (it requires `Pytorch` code to follow some [restrictive rules](https://pytorch.org/docs/stable/jit_builtin_functions.html)).\n",
    "Because of that, `Onnx` export is done through `tracing` which erases any control flow instructions (including the `If` instruction to enable or not a cache).\n",
    "\n",
    "## Existing solutions\n",
    "\n",
    "Some interesting solutions targeting inference latency that we have considered and/or tested:\n",
    "\n",
    "* [TensorRT](https://developer.nvidia.com/blog/optimizing-t5-and-gpt-2-for-real-time-inference-with-`TensorRT`/), which targets `GPU`, heavily optimizes the computation graph, making `T5` inference very fast (they report X10 speedup on `small-T5`). The trick is that it doesn't use any cache (see below for more details), so it's very fast on short sequence and small models, as it avoids many memory bounded operations by redoing full computation again and again... but as several users have already found ([1](https://github.com/NVIDIA/TensorRT/issues/1807), [2](https://github.com/NVIDIA/TensorRT/issues/1642), [3](https://github.com/NVIDIA/TensorRT/issues/1799), [4](https://github.com/NVIDIA/TensorRT/issues/1845), ...), this approach doesn't scale when the computation intensity increases, i.e., when base or large models are used instead of a small one, when generation is done on moderately long sequence of few hundred of tokens or if beam search is used instead of a greedy search;\n",
    "* [FastT5](https://github.com/Ki6an/fastT5), which targets `CPU`, exports 2 versions of the decoder, one with cache and one without. You need the `no cache` version to compute the first token and the first `past state` tensors (aka the cached tensors), and for all the other tokens you use the `cache` version of the computation graph. Basically, it makes the memory foot print 2 times bigger as all weights are duplicated. As generative models tend to be huge, they work around the memory issue by using dynamic `int-8` quantization, the final memory foot print of the decoders is now the same as `Hugging Face` in `FP16`... but 1/ dynamic quantization only works on `CPU`, and 2/ according to several reports dynamic quantization degrades significantly generative model output, to a point where it may make them useless ([1](https://github.com/huggingface/transformers/issues/2466#issuecomment-572781378), [2](https://github.com/huggingface/transformers/issues/2466#issuecomment-982710520), and [here](https://github.com/microsoft/onnxruntime/issues/6549#issuecomment-1016948837) you can find a report in the `GPT-2` context from a Microsoft engineer: \"*int8 quantization are not recommended due to accuracy loss*\").\n",
    "* [Onnx Runtime T5 export tool](https://github.com/microsoft/onnxruntime/tree/master/onnxruntime/python/tools/transformers/models/t5) targets both `GPU` and `CPU`. It works in a similar way than `FastT5`: `decoder` module is exported 2 times. Like `FastT5`, the memory footprint of the decoder part is doubled (this time there is no `int-8` quantization).\n",
    "* [FasterTransformer](https://github.com/NVIDIA/FasterTransformer/blob/main/docs/t5_guide.md#translation-process) targets `GPU` and is a mix of `Pytorch` and `CUDA`/`C++` dedicated code. The performance boost is huge on `T5`, they report a 10X speedup like `TensorRT`. However, it may significantly decrease the accuracy of the model ([here](https://github.com/NVIDIA/FasterTransformer/blob/main/docs/t5_guide.md#translation-process) when sampling is enabled, it reduces BLEU score of translation task by 8 points, the cause may be a bug in the decoding algorithm or an approximation a bit too aggressive) plus the speedup is computed on a [translation task](https://github.com/NVIDIA/FasterTransformer/blob/main/examples/pytorch/decoding/utils/translation/test.en) where sequences are 25 tokens long on average. In our experience, improvement on very short sequences tends to decrease by large margins on longer sequences. It seems to us that their objectives are different from ours.\n",
    "\n",
    "With the existing solutions, you need to choose one or two items of the following:\n",
    "\n",
    "* double decoder memory footprint;\n",
    "* be slower than `Hugging Face` for moderately long sequence length / beam search;\n",
    "* degrade output quality.\n",
    "\n",
    "## Our approach\n",
    "\n",
    "Our approach to make autoregressive `transformer` based models 2X faster than `Hugging Face` `Pytorch` implementation (the base line) is based on 3 key ingredients:\n",
    "\n",
    "* storing 2 computation graphs in a single `Onnx` file: this let us have both cache and no cache support without having any duplicated weights,\n",
    "* `zero copy` to retrieve output from `Onnx Runtime`: we built over our past work to connect in the most efficient way `Pytorch` tensors (used in the decoding part) and `Onnx Runtime`. Our previous work was to avoid `host` <-> `GPU` tensor copy, but it still required a `GPU` <-> `GPU`. It is now part of the official `Onnx Runtime` documentation (apparently [thanks of our project](https://github.com/microsoft/onnxruntime/pull/10651)!). This time we found out a way to directly expose the internal state of `Onnx Runtime` through a `Pytorch` tensor in zero copy way. Combined with cache mechanism, this is responsible for most of the speedup we have obtained.\n",
    "* a generic tool to convert any model (whatever the architecture) to `FP16` without any risk of having out of range values or rounding to zero: `FP16` is still the way to reduce memory footprint of a model. The main issue is that some nodes may output values outside of `FP16` range or round others to zero, resulting in `NaN` output; moreover, very small values may be rounded to zero which is an issue for log and div operations. We have built a tool which detect those nodes so we can keep their precision in `FP32`. It's quite important to reduce memory footprint of these models, not just because they tend to be huge, but also because past states (that we cache) and internal buffers can be even bigger than the weights of the model itself.\n",
    "\n",
    "## Results\n",
    "\n",
    "As demonstrated at the end of this notebook, **we are able to provide a X2 speedup** whatever the batch size, the sequence length or the model size.\n",
    "\n",
    "> For `TensorRT` we have our own implementation of our approach described above which helps to provide similar latency to `Onnx Runtime`. It's in a Python script in the same folder as this notebook. We had to work around a documented limitation. Because of that the code is slightly more complex and we wanted to keep this notebook easy to follow.\n"
   ]
  },
  {
   "cell_type": "code",
   "execution_count": 1,
   "metadata": {
    "execution": {
     "iopub.execute_input": "2022-05-23T19:22:55.394481Z",
     "iopub.status.busy": "2022-05-23T19:22:55.393908Z",
     "iopub.status.idle": "2022-05-23T19:22:55.573065Z",
     "shell.execute_reply": "2022-05-23T19:22:55.571282Z"
    },
    "pycharm": {
     "name": "#%%\n"
    }
   },
   "outputs": [
    {
     "name": "stdout",
     "output_type": "stream",
     "text": [
      "Mon May 23 21:22:55 2022       \r\n",
      "+-----------------------------------------------------------------------------+\r\n",
      "| NVIDIA-SMI 515.43.04    Driver Version: 515.43.04    CUDA Version: 11.7     |\r\n",
      "|-------------------------------+----------------------+----------------------+\r\n",
      "| GPU  Name        Persistence-M| Bus-Id        Disp.A | Volatile Uncorr. ECC |\r\n",
      "| Fan  Temp  Perf  Pwr:Usage/Cap|         Memory-Usage | GPU-Util  Compute M. |\r\n",
      "|                               |                      |               MIG M. |\r\n",
      "|===============================+======================+======================|\r\n",
      "|   0  NVIDIA GeForce ...  On   | 00000000:03:00.0  On |                  N/A |\r\n",
      "| 39%   47C    P8    41W / 350W |    263MiB / 24576MiB |      0%      Default |\r\n",
      "|                               |                      |                  N/A |\r\n",
      "+-------------------------------+----------------------+----------------------+\r\n",
      "                                                                               \r\n",
      "+-----------------------------------------------------------------------------+\r\n",
      "| Processes:                                                                  |\r\n",
      "|  GPU   GI   CI        PID   Type   Process name                  GPU Memory |\r\n",
      "|        ID   ID                                                   Usage      |\r\n",
      "|=============================================================================|\r\n",
      "|    0   N/A  N/A      2366      G   /usr/lib/xorg/Xorg                160MiB |\r\n",
      "|    0   N/A  N/A      6173      G   ...ome-remote-desktop-daemon        4MiB |\r\n",
      "|    0   N/A  N/A      8174      G   /usr/bin/gnome-shell               44MiB |\r\n",
      "|    0   N/A  N/A      8918      G   ...on/Bin/AgentConnectix.bin        4MiB |\r\n",
      "|    0   N/A  N/A    393472      G   ...176700596390776551,131072       47MiB |\r\n",
      "+-----------------------------------------------------------------------------+\r\n"
     ]
    }
   ],
   "source": [
    "! nvidia-smi"
   ]
  },
  {
   "cell_type": "markdown",
   "metadata": {
    "collapsed": false,
    "pycharm": {
     "name": "#%% md\n"
    }
   },
   "source": [
    "## `Onnx Runtime` compilation\n",
    "\n",
    "Version 1.11.1 of `Onnx Runtime` and older have a bug which makes them much slower when most inputs are used by subgraphs of an `If` node.\n",
    "Unfortunately, it's exactly what will do below, so we need to compile our own version of `Onnx Runtime` until the version 1.12 is released (in June 2022).\n",
    "Code below has been tested on Ubuntu 22.04 and supposes that your machine has `CUDA` 11.4 installed.\n",
    "If not, use the Docker image of this library.\n",
    "\n",
    "We use a specific commit of `Onnx Runtime` with a better management of `If`/`Else`/`Then` `Onnx` nodes:\n",
    "\n",
    "```shell\n",
    "git clone --recursive https://github.com/Microsoft/onnxruntime\n",
    "cd onnxruntime\n",
    "git checkout -b fix_if e1c04eed29d48f295de1cfbd48713158537cdaa7\n",
    "CUDACXX=/usr/local/cuda-11.4/bin/nvcc ./build.sh \\\n",
    "    --config Release \\\n",
    "    --build_wheel \\\n",
    "    --parallel \\\n",
    "    --use_cuda \\\n",
    "    --cuda_home /usr/local/cuda-11.4 \\\n",
    "    --cudnn_home /usr/lib/x86_\n",
    "    -linux-gnu/ \\\n",
    "    --skip_test\n",
    "# pip install ...\n",
    "# other required dependencies\n",
    "# pip install nvtx seaborn\n",
    "```\n",
    "\n",
    "On our machine, it takes around 20 minutes.\n",
    "\n",
    "> to clear previous compilation, delete content of `./build` folder"
   ]
  },
  {
   "cell_type": "code",
   "execution_count": 2,
   "metadata": {
    "execution": {
     "iopub.execute_input": "2022-05-23T19:22:55.578136Z",
     "iopub.status.busy": "2022-05-23T19:22:55.577589Z",
     "iopub.status.idle": "2022-05-23T19:22:57.707557Z",
     "shell.execute_reply": "2022-05-23T19:22:57.706928Z"
    },
    "pycharm": {
     "name": "#%%\n"
    }
   },
   "outputs": [],
   "source": [
    "import json\n",
    "import random\n",
    "from transformer_deploy.backends.ort_utils import get_keep_fp32_nodes\n",
    "from transformer_deploy.backends.ort_utils import convert_fp16\n",
    "import time\n",
    "from typing import Callable, Dict, Optional, List\n",
    "import matplotlib.pylab as plt\n",
    "from onnxruntime import IOBinding\n",
    "import numpy as np\n",
    "import onnx\n",
    "import torch\n",
    "from pathlib import Path\n",
    "from typing import Tuple\n",
    "from onnx import GraphProto, ModelProto, helper\n",
    "from torch.nn import Linear\n",
    "from transformers import AutoModelForSeq2SeqLM, AutoTokenizer, PretrainedConfig, T5ForConditionalGeneration, TensorType\n",
    "from transformers.generation_utils import GenerationMixin\n",
    "from transformers.modeling_outputs import BaseModelOutputWithPastAndCrossAttentions, Seq2SeqLMOutput\n",
    "from transformers.models.t5.modeling_t5 import T5Stack\n",
    "from nvtx import nvtx\n",
    "from copy import copy\n",
    "\n",
    "from transformer_deploy.backends.ort_utils import create_model_for_provider, inference_onnx_binding\n",
    "from transformer_deploy.backends.pytorch_utils import convert_to_onnx\n",
    "import seaborn as sns\n",
    "import operator\n",
    "from collections import defaultdict\n",
    "import gc"
   ]
  },
  {
   "cell_type": "markdown",
   "metadata": {
    "collapsed": false,
    "pycharm": {
     "name": "#%% md\n"
    }
   },
   "source": [
    "## Loading `Hugging Face` model / tokenizer\n",
    "\n",
    "Below we load the model and set global variables of this notebook."
   ]
  },
  {
   "cell_type": "code",
   "execution_count": 3,
   "metadata": {
    "execution": {
     "iopub.execute_input": "2022-05-23T19:22:57.711371Z",
     "iopub.status.busy": "2022-05-23T19:22:57.711083Z",
     "iopub.status.idle": "2022-05-23T19:23:17.557142Z",
     "shell.execute_reply": "2022-05-23T19:23:17.556617Z"
    },
    "pycharm": {
     "name": "#%%\n"
    }
   },
   "outputs": [
    {
     "name": "stderr",
     "output_type": "stream",
     "text": [
      "/home/geantvert/.local/share/virtualenvs/fast_transformer/lib/python3.9/site-packages/transformers/models/t5/tokenization_t5_fast.py:155: FutureWarning: This tokenizer was incorrectly instantiated with a model max length of 512 which will be corrected in Transformers v5.\n",
      "For now, this behavior is kept to avoid breaking backwards compatibility when padding/encoding with `truncation is True`.\n",
      "- Be aware that you SHOULD NOT rely on t5-large automatically truncating your input to 512 when padding/encoding.\n",
      "- If you want to encode/pad to sequences longer than 512 you can either instantiate this tokenizer with `model_max_length` or pass `max_length` when encoding/padding.\n",
      "- To avoid this warning, please instantiate this tokenizer with `model_max_length` set to your preferred value.\n",
      "  warnings.warn(\n"
     ]
    }
   ],
   "source": [
    "np.random.seed(123)\n",
    "torch.random.manual_seed(123)\n",
    "# other possible values: t5-small, t5-base, t5-large. t5-3b should work when ORT library is fixed\n",
    "model_name = \"t5-large\"\n",
    "tokenizer = AutoTokenizer.from_pretrained(model_name)\n",
    "input_ids: torch.Tensor = tokenizer(\n",
    "    \"translate English to French: This model is now very fast!\", return_tensors=TensorType.PYTORCH\n",
    ").input_ids\n",
    "input_ids = input_ids.type(torch.int32).to(\"cuda\")\n",
    "pytorch_model: T5ForConditionalGeneration = AutoModelForSeq2SeqLM.from_pretrained(model_name)\n",
    "pytorch_model = pytorch_model.eval()\n",
    "pytorch_model = pytorch_model.cuda()\n",
    "pytorch_model.config.use_cache = True  # not really needed, just to make things obvious\n",
    "num_layers = pytorch_model.config.num_layers\n",
    "# tolerance between Onnx FP16 and Pytorch FP32.\n",
    "# Rounding errors increase with number of layers: 1e-1 for t5-small, 5e-1 for large, 3 for 3b. 11b not tested.\n",
    "# Do not impact final quality\n",
    "fp16_default_tolerance = 5e-1\n",
    "\n",
    "\n",
    "def are_equal(a: torch.Tensor, b: torch.Tensor, atol: float = fp16_default_tolerance) -> None:\n",
    "    assert np.allclose(a=a.detach().cpu().numpy(), b=b.detach().cpu().numpy(), atol=atol), f\"{a}\\n\\nVS\\n\\n{b}\"\n",
    "\n",
    "\n",
    "def save_onnx(proto: onnx.ModelProto, model_path: str) -> None:\n",
    "    # protobuff doesn't support files > 2Gb, in this case, weights are stored in another binary file\n",
    "    save_external_data: bool = proto.ByteSize() > 2 * 1024**3\n",
    "    filename = Path(model_path).name\n",
    "    onnx.save_model(\n",
    "        proto=proto,\n",
    "        f=model_path,\n",
    "        save_as_external_data=save_external_data,\n",
    "        all_tensors_to_one_file=True,\n",
    "        location=filename + \".data\",\n",
    "    )\n",
    "\n",
    "\n",
    "def prepare_folder(path: str) -> Tuple[str, str]:\n",
    "    p = Path(path)\n",
    "    p.mkdir(parents=True, exist_ok=True)\n",
    "    [item.unlink() for item in Path(path).glob(\"*\") if item.is_file()]\n",
    "    return path + \"/model.onnx\", path + \"/model_fp16.onnx\"\n",
    "\n",
    "\n",
    "# create/clean folders where each model will be stored.\n",
    "# as multiple files will be saved for T5-3B and 11B, we use different folders for the encoder and the decoders.\n",
    "encoder_model_path, encoder_fp16_model_path = prepare_folder(path=\"./test-enc\")\n",
    "dec_cache_model_path, dec_cache_fp16_model_path = prepare_folder(path=\"./test-dec-cache\")\n",
    "dec_no_cache_model_path, dec_no_cache_fp16_model_path = prepare_folder(path=\"./test-dec-no-cache\")\n",
    "_, dec_if_fp16_model_path = prepare_folder(path=\"./test-dec-if\")\n",
    "\n",
    "# some outputs to compare with\n",
    "out_enc: BaseModelOutputWithPastAndCrossAttentions = pytorch_model.encoder(input_ids=input_ids)\n",
    "out_full: Seq2SeqLMOutput = pytorch_model(input_ids=input_ids, decoder_input_ids=input_ids)"
   ]
  },
  {
   "cell_type": "markdown",
   "metadata": {
    "collapsed": false,
    "pycharm": {
     "name": "#%% md\n"
    }
   },
   "source": [
    "# Export to Onnx\n",
    "\n",
    "First step is to export the model to `Onnx` graph.\n",
    "`T5` is made of 2 parts, an `encoder` and a `decoder`.\n",
    "\n",
    "## Export encoder part\n",
    "\n",
    "The `encoder` part export doesn't imply any specific challenge.\n",
    "We use export function built for `Bert` like model, exported model is in `FP16`."
   ]
  },
  {
   "cell_type": "code",
   "execution_count": 4,
   "metadata": {
    "execution": {
     "iopub.execute_input": "2022-05-23T19:23:17.561749Z",
     "iopub.status.busy": "2022-05-23T19:23:17.561565Z",
     "iopub.status.idle": "2022-05-23T19:23:30.292558Z",
     "shell.execute_reply": "2022-05-23T19:23:30.291974Z"
    },
    "pycharm": {
     "name": "#%%\n"
    }
   },
   "outputs": [],
   "source": [
    "pytorch_model = pytorch_model.to(\"cuda\")\n",
    "\n",
    "convert_to_onnx(\n",
    "    model_pytorch=pytorch_model.encoder,\n",
    "    output_path=encoder_model_path,\n",
    "    inputs_pytorch={\"input_ids\": input_ids},\n",
    "    var_output_seq=True,\n",
    "    quantization=False,\n",
    ")"
   ]
  },
  {
   "cell_type": "markdown",
   "metadata": {
    "collapsed": false,
    "pycharm": {
     "name": "#%% md\n"
    }
   },
   "source": [
    "## Conversion to mixed precision\n",
    "\n",
    "### Why mixed precision?\n",
    "\n",
    "As `T5` can have up to 11 billion parameters, it requires lots of computation, and even more important, it takes lots of space in device memory.\n",
    "We convert the `encoder` to half precision.\n",
    "\n",
    "If we blindly convert the whole graph to `FP16`, we will have 2 issues:\n",
    "* `overflow`: some nodes, like exponential nodes, will try to output values out of the `FP16` range, at the end you get some `NaN`.\n",
    "* `underflow`: values very close to 0 will be rounded to 0, which may be an issue for some operations like `Div` and `Log` .\n",
    "\n",
    "### The challenge\n",
    "\n",
    "Mixed precision is done out of the box by `Pytorch` and follow some strict rules described in https://pytorch.org/docs/stable/amp.html\n",
    "\n",
    "Those rules are generic and quite conservative. Many nodes will be kept in `FP32` even if their output is always in the `FP16` range.\n",
    "\n",
    "Other approaches we have found:\n",
    "* `Onnx Runtime T5` [demo](https://github.com/microsoft/onnxruntime/blob/master/onnxruntime/python/tools/transformers/models/t5/t5_helper.py): provide a list of operations to keep in `FP32` (Pow, ReduceMean, Add, Sqrt, Div, Mul, Softmax, Relu). We have found this approach to need more an more tweaking on larger networks and encoder part (decoder part seems simpler to manage, https://github.com/microsoft/onnxruntime/issues/11119);\n",
    "* `TensorRT T5` [demo](https://github.com/NVIDIA/TensorRT/tree/main/demo/HuggingFace/notebooks): provide the exact pattern of nodes to keep in `FP32`. This approach is much more effective, but imply lots of code to describe the patterns and may not generalize well, basically what works for a `base` model may not work for 11 billion parameters model. And it does not scale to other architectures without adaptations, for a library like `transformer-deploy`, it would lead to unmaintainable technical debt.\n",
    "\n",
    "\n",
    "### Our approach\n",
    "\n",
    "We have chosen an architecture agnostic approach: we inject random input sequences and audit the output of each computation graph node; finally, we make a list of all nodes that have output values out of the `FP16` range /close to zero values and perform some cleaning (to avoid unnecessary casting).\n",
    "\n",
    "We have chosen to use random values only for the `input_ids` field as the search space is limited: positive integers lower than the vocabulary size.\n",
    "You can also decide to send real data from a dataset you want to work on.\n",
    "\n",
    "To finish, we provide the list of nodes to keep in `FP32` to the conversion function."
   ]
  },
  {
   "cell_type": "code",
   "execution_count": 5,
   "metadata": {
    "execution": {
     "iopub.execute_input": "2022-05-23T19:23:30.296988Z",
     "iopub.status.busy": "2022-05-23T19:23:30.296788Z",
     "iopub.status.idle": "2022-05-23T19:27:05.692221Z",
     "shell.execute_reply": "2022-05-23T19:27:05.691623Z"
    },
    "pycharm": {
     "name": "#%%\n"
    }
   },
   "outputs": [
    {
     "data": {
      "text/plain": [
       "3772"
      ]
     },
     "execution_count": 5,
     "metadata": {},
     "output_type": "execute_result"
    }
   ],
   "source": [
    "def get_random_input_encoder() -> Dict[str, torch.Tensor]:\n",
    "    max_seq = 512\n",
    "    seq_len = random.randint(a=1, b=max_seq)\n",
    "    batch = max_seq // seq_len\n",
    "    random_input_ids = torch.randint(\n",
    "        low=0, high=tokenizer.vocab_size, size=(batch, seq_len), dtype=torch.int32, device=\"cuda\"\n",
    "    )\n",
    "    inputs = {\"input_ids\": random_input_ids}\n",
    "    return inputs\n",
    "\n",
    "\n",
    "keep_fp32_encoder = get_keep_fp32_nodes(onnx_model_path=encoder_model_path, get_input=get_random_input_encoder)\n",
    "assert len(keep_fp32_encoder) > 0\n",
    "enc_model_onnx = convert_fp16(onnx_model=encoder_model_path, nodes_to_exclude=keep_fp32_encoder)\n",
    "save_onnx(proto=enc_model_onnx, model_path=encoder_fp16_model_path)\n",
    "\n",
    "del enc_model_onnx\n",
    "torch.cuda.empty_cache()\n",
    "gc.collect()"
   ]
  },
  {
   "cell_type": "code",
   "execution_count": 6,
   "metadata": {
    "execution": {
     "iopub.execute_input": "2022-05-23T19:27:05.694509Z",
     "iopub.status.busy": "2022-05-23T19:27:05.694275Z",
     "iopub.status.idle": "2022-05-23T19:27:05.699201Z",
     "shell.execute_reply": "2022-05-23T19:27:05.698666Z"
    },
    "pycharm": {
     "name": "#%%\n"
    }
   },
   "outputs": [
    {
     "name": "stdout",
     "output_type": "stream",
     "text": [
      "20 first nodes to keep in FP32 (total 1247):\n"
     ]
    },
    {
     "data": {
      "text/plain": [
       "['MatMul_62',\n",
       " 'Log_89',\n",
       " 'Div_91',\n",
       " 'Mul_93',\n",
       " 'Softmax_109',\n",
       " 'Pow_120',\n",
       " 'MatMul_129',\n",
       " 'Relu_130',\n",
       " 'Softmax_168',\n",
       " 'Pow_194',\n",
       " 'Mul_202',\n",
       " 'Softmax_227',\n",
       " 'Pow_238',\n",
       " 'Pow_253',\n",
       " 'Softmax_286',\n",
       " 'Pow_297',\n",
       " 'Pow_312',\n",
       " 'Softmax_345',\n",
       " 'Pow_356',\n",
       " 'Pow_371']"
      ]
     },
     "execution_count": 6,
     "metadata": {},
     "output_type": "execute_result"
    }
   ],
   "source": [
    "print(f\"20 first nodes to keep in FP32 (total {len(keep_fp32_encoder)}):\")\n",
    "keep_fp32_encoder[:20]"
   ]
  },
  {
   "cell_type": "markdown",
   "metadata": {
    "collapsed": false,
    "pycharm": {
     "name": "#%% md\n"
    }
   },
   "source": [
    "Compare the output of the `Onnx` `FP16` model with `Pytorch` one"
   ]
  },
  {
   "cell_type": "code",
   "execution_count": 7,
   "metadata": {
    "execution": {
     "iopub.execute_input": "2022-05-23T19:27:05.703731Z",
     "iopub.status.busy": "2022-05-23T19:27:05.703407Z",
     "iopub.status.idle": "2022-05-23T19:27:06.501010Z",
     "shell.execute_reply": "2022-05-23T19:27:06.500393Z"
    },
    "pycharm": {
     "name": "#%%\n"
    }
   },
   "outputs": [],
   "source": [
    "enc_fp16_onnx = create_model_for_provider(encoder_fp16_model_path, \"CUDAExecutionProvider\")\n",
    "enc_fp16_onnx_binding: IOBinding = enc_fp16_onnx.io_binding()\n",
    "enc_onnx_out = inference_onnx_binding(\n",
    "    model_onnx=enc_fp16_onnx,\n",
    "    binding=enc_fp16_onnx_binding,\n",
    "    inputs={\"input_ids\": input_ids},\n",
    "    device=input_ids.device.type,\n",
    ")[\"output\"]\n",
    "are_equal(a=enc_onnx_out, b=out_enc.last_hidden_state)"
   ]
  },
  {
   "cell_type": "markdown",
   "metadata": {
    "collapsed": false,
    "pycharm": {
     "name": "#%% md\n"
    }
   },
   "source": [
    "## Export decoder\n",
    "\n",
    "The decoder export part is more challenging:\n",
    "\n",
    "* we first need to wrap it in a `Pytorch` model to add the final layer so it's output provide scores for each vocabulary token and can be directly used by the `Hugging Face` `decoding` algorithm\n",
    "* then, we need to manipulate the `Onnx` graph to add support of `Key`/`Value` cache\n",
    "\n",
    "The second point is the key ingredient of the observed acceleration of `Onnx` vs `Hugging Face` inference.\n",
    "\n",
    "\n",
    "### Wrapper to include some post-processing on the decoder output\n",
    "\n",
    "The post-processing is mainly a projection of the decoder output on a matrix with one of its dimensions equal to model vocabulary size, so we have scores for each possible token."
   ]
  },
  {
   "cell_type": "code",
   "execution_count": 8,
   "metadata": {
    "execution": {
     "iopub.execute_input": "2022-05-23T19:27:06.505280Z",
     "iopub.status.busy": "2022-05-23T19:27:06.505094Z",
     "iopub.status.idle": "2022-05-23T19:27:06.557703Z",
     "shell.execute_reply": "2022-05-23T19:27:06.556770Z"
    },
    "pycharm": {
     "name": "#%%\n"
    }
   },
   "outputs": [],
   "source": [
    "class ExportT5(torch.nn.Module):\n",
    "    def __init__(self, decoder: T5Stack, lm_head: Linear):\n",
    "        super(ExportT5, self).__init__()\n",
    "        self.decoder = decoder\n",
    "        self.lm_head = lm_head\n",
    "\n",
    "    def forward(self, input_ids: torch.Tensor, encoder_hidden_states: torch.Tensor, past_key_values: Tuple = None):\n",
    "        out_dec = self.decoder.forward(\n",
    "            input_ids=input_ids, encoder_hidden_states=encoder_hidden_states, past_key_values=past_key_values\n",
    "        )\n",
    "        # Rescale output before projecting on vocab\n",
    "        out_dec[\"last_hidden_state\"] = out_dec[\"last_hidden_state\"] * (pytorch_model.model_dim**-0.5)\n",
    "        out_dec[\"last_hidden_state\"] = self.lm_head(out_dec[\"last_hidden_state\"])\n",
    "        return out_dec\n",
    "\n",
    "\n",
    "pytorch_model.cuda()\n",
    "model_decoder = ExportT5(decoder=pytorch_model.decoder, lm_head=pytorch_model.lm_head).eval()\n",
    "out_model_export: torch.Tensor = model_decoder(input_ids=input_ids, encoder_hidden_states=out_enc.last_hidden_state)\n",
    "\n",
    "are_equal(a=out_model_export[\"last_hidden_state\"], b=out_full.logits)"
   ]
  },
  {
   "cell_type": "markdown",
   "metadata": {
    "collapsed": false,
    "pycharm": {
     "name": "#%% md\n"
    }
   },
   "source": [
    "### Export decoder part to `Onnx`\n",
    "\n",
    "Below we export 2 versions of the decoder, one without cache support and one with it.\n",
    "\n",
    "Model inputs with past states (cache support):"
   ]
  },
  {
   "cell_type": "code",
   "execution_count": 9,
   "metadata": {
    "execution": {
     "iopub.execute_input": "2022-05-23T19:27:06.562414Z",
     "iopub.status.busy": "2022-05-23T19:27:06.562199Z",
     "iopub.status.idle": "2022-05-23T19:27:06.613788Z",
     "shell.execute_reply": "2022-05-23T19:27:06.613017Z"
    },
    "pycharm": {
     "name": "#%%\n"
    }
   },
   "outputs": [],
   "source": [
    "model_decoder.cuda()\n",
    "# decoder output one step before\n",
    "out_dec_pytorch = model_decoder(input_ids=input_ids[:, :-1], encoder_hidden_states=out_enc.last_hidden_state)\n",
    "\n",
    "model_inputs = {\n",
    "    \"input_ids\": input_ids[:, -1:].type(torch.int32),\n",
    "    \"encoder_hidden_states\": out_enc.last_hidden_state,\n",
    "    \"past_key_values\": out_dec_pytorch.past_key_values,\n",
    "}\n",
    "\n",
    "input_names = [\"input_ids\", \"encoder_hidden_states\"]\n",
    "\n",
    "for i in range(num_layers):\n",
    "    input_names.append(f\"past_key_values.{i}.decoder.key\")\n",
    "    input_names.append(f\"past_key_values.{i}.decoder.value\")\n",
    "    input_names.append(f\"past_key_values.{i}.encoder.key\")\n",
    "    input_names.append(f\"past_key_values.{i}.encoder.value\")\n",
    "\n",
    "output_names = [\"logits\"]\n",
    "\n",
    "for i in range(num_layers):\n",
    "    output_names.append(f\"present.{i}.decoder.key\")\n",
    "    output_names.append(f\"present.{i}.decoder.value\")\n",
    "    output_names.append(f\"present.{i}.encoder.key\")\n",
    "    output_names.append(f\"present.{i}.encoder.value\")\n",
    "\n",
    "dynamic_axis = {\n",
    "    \"input_ids\": {0: \"batch\", 1: \"encoder_sequence\"},\n",
    "    \"encoder_hidden_states\": {0: \"batch\", 1: \"encoder_sequence\"},\n",
    "    \"logits\": {0: \"batch\", 1: \"decoder_sequence\"},\n",
    "}\n",
    "\n",
    "\n",
    "for i in range(num_layers):\n",
    "    dynamic_axis[f\"past_key_values.{i}.decoder.key\"] = {0: \"batch\", 2: \"past_decoder_sequence\"}\n",
    "    dynamic_axis[f\"past_key_values.{i}.decoder.value\"] = {0: \"batch\", 2: \"past_decoder_sequence\"}\n",
    "    dynamic_axis[f\"past_key_values.{i}.encoder.key\"] = {0: \"batch\", 2: \"encoder_sequence_length\"}\n",
    "    dynamic_axis[f\"past_key_values.{i}.encoder.value\"] = {0: \"batch\", 2: \"encoder_sequence_length\"}\n",
    "\n",
    "    dynamic_axis[f\"present.{i}.decoder.key\"] = {0: \"batch\", 2: \"decoder_sequence\"}\n",
    "    dynamic_axis[f\"present.{i}.decoder.value\"] = {0: \"batch\", 2: \"decoder_sequence\"}\n",
    "    dynamic_axis[f\"present.{i}.encoder.key\"] = {0: \"batch\", 2: \"encoder_sequence_length\"}\n",
    "    dynamic_axis[f\"present.{i}.encoder.value\"] = {0: \"batch\", 2: \"encoder_sequence_length\"}"
   ]
  },
  {
   "cell_type": "markdown",
   "metadata": {
    "collapsed": false,
    "pycharm": {
     "name": "#%% md\n"
    }
   },
   "source": [
    "Export of the model with cache support:"
   ]
  },
  {
   "cell_type": "code",
   "execution_count": 10,
   "metadata": {
    "execution": {
     "iopub.execute_input": "2022-05-23T19:27:06.618118Z",
     "iopub.status.busy": "2022-05-23T19:27:06.617837Z",
     "iopub.status.idle": "2022-05-23T19:27:37.618975Z",
     "shell.execute_reply": "2022-05-23T19:27:37.617721Z"
    },
    "pycharm": {
     "name": "#%%\n"
    }
   },
   "outputs": [
    {
     "name": "stderr",
     "output_type": "stream",
     "text": [
      "/home/geantvert/.local/share/virtualenvs/fast_transformer/lib/python3.9/site-packages/transformers/modeling_utils.py:668: TracerWarning: Converting a tensor to a Python boolean might cause the trace to be incorrect. We can't record the data flow of Python values, so this value will be treated as a constant in the future. This means that the trace might not generalize to other inputs!\n",
      "  if causal_mask.shape[1] < attention_mask.shape[1]:\n",
      "In-place op on output of tensor.shape. See https://pytorch.org/docs/master/onnx.html#avoid-inplace-operations-when-using-tensor-shape-in-tracing-mode\n",
      "In-place op on output of tensor.shape. See https://pytorch.org/docs/master/onnx.html#avoid-inplace-operations-when-using-tensor-shape-in-tracing-mode\n"
     ]
    }
   ],
   "source": [
    "with torch.no_grad():\n",
    "    pytorch_model.config.return_dict = True\n",
    "    pytorch_model.eval()\n",
    "\n",
    "    # export can works with named args but the dict containing named args as to be last element of the args tuple\n",
    "    torch.onnx.export(\n",
    "        model_decoder,\n",
    "        (model_inputs,),\n",
    "        f=dec_cache_model_path,\n",
    "        input_names=input_names,\n",
    "        output_names=output_names,\n",
    "        dynamic_axes=dynamic_axis,\n",
    "        do_constant_folding=True,\n",
    "        opset_version=13,\n",
    "    )"
   ]
  },
  {
   "cell_type": "markdown",
   "metadata": {
    "collapsed": false,
    "pycharm": {
     "name": "#%% md\n"
    }
   },
   "source": [
    "Export of the model computing Key/Values for the whole sequence (we basically just remove past states from the input, the `Pytorch` code will recompute them):"
   ]
  },
  {
   "cell_type": "code",
   "execution_count": 11,
   "metadata": {
    "execution": {
     "iopub.execute_input": "2022-05-23T19:27:37.623765Z",
     "iopub.status.busy": "2022-05-23T19:27:37.623568Z",
     "iopub.status.idle": "2022-05-23T19:28:10.565049Z",
     "shell.execute_reply": "2022-05-23T19:28:10.564503Z"
    },
    "pycharm": {
     "name": "#%%\n"
    }
   },
   "outputs": [],
   "source": [
    "model_inputs_no_cache = {\n",
    "    \"input_ids\": input_ids,\n",
    "    \"encoder_hidden_states\": out_enc.last_hidden_state,\n",
    "}\n",
    "\n",
    "with torch.no_grad():\n",
    "    pytorch_model.config.return_dict = True\n",
    "    pytorch_model.eval()\n",
    "\n",
    "    # export can works with named args but the dict containing named args as to be last element of the args tuple\n",
    "    torch.onnx.export(\n",
    "        model_decoder,\n",
    "        (model_inputs_no_cache,),\n",
    "        f=dec_no_cache_model_path,\n",
    "        input_names=list(model_inputs_no_cache.keys()),\n",
    "        output_names=output_names,\n",
    "        dynamic_axes={k: v for k, v in dynamic_axis.items() if \"past_key_values\" not in k},\n",
    "        do_constant_folding=True,\n",
    "        opset_version=13,\n",
    "    )\n",
    "_ = pytorch_model.cpu()  # free cuda memory\n",
    "torch.cuda.empty_cache()"
   ]
  },
  {
   "cell_type": "markdown",
   "metadata": {
    "collapsed": false,
    "pycharm": {
     "name": "#%% md\n"
    }
   },
   "source": [
    "## Conversion to mixed precision\n",
    "\n",
    "Decoder module has different kinds of inputs, `input_ids` but also some float tensors.\n",
    "It would a bit more complicated to generate random values for those tensors: in theory it can be of any value in the FP32 range, but because of how models are initialized and trained, most of them are close to 0.\n",
    "\n",
    "To avoid too  much guessing, we have decided to just take the output of the real model being fed with random `input_ids`.\n"
   ]
  },
  {
   "cell_type": "code",
   "execution_count": 12,
   "metadata": {
    "execution": {
     "iopub.execute_input": "2022-05-23T19:28:10.571374Z",
     "iopub.status.busy": "2022-05-23T19:28:10.570787Z",
     "iopub.status.idle": "2022-05-23T19:47:55.432421Z",
     "shell.execute_reply": "2022-05-23T19:47:55.431609Z"
    },
    "pycharm": {
     "name": "#%%\n"
    }
   },
   "outputs": [],
   "source": [
    "def get_random_input_no_cache() -> Dict[str, torch.Tensor]:\n",
    "    inputs = get_random_input_encoder()\n",
    "    encoder_hidden_states = inference_onnx_binding(\n",
    "        model_onnx=enc_fp16_onnx,\n",
    "        binding=enc_fp16_onnx_binding,\n",
    "        inputs=inputs,\n",
    "        device=\"cuda\",\n",
    "        clone_tensor=False,\n",
    "    )[\"output\"]\n",
    "    # it will serve as input of a FP32 model\n",
    "    inputs[\"encoder_hidden_states\"] = encoder_hidden_states.type(torch.float32)\n",
    "    return inputs\n",
    "\n",
    "\n",
    "keep_fp32_no_cache = get_keep_fp32_nodes(onnx_model_path=dec_no_cache_model_path, get_input=get_random_input_no_cache)\n",
    "\n",
    "onnx_model_no_cache_fp16 = convert_fp16(onnx_model=dec_no_cache_model_path, nodes_to_exclude=keep_fp32_no_cache)\n",
    "save_onnx(proto=onnx_model_no_cache_fp16, model_path=dec_no_cache_fp16_model_path)"
   ]
  },
  {
   "cell_type": "code",
   "execution_count": 13,
   "metadata": {
    "execution": {
     "iopub.execute_input": "2022-05-23T19:47:55.436332Z",
     "iopub.status.busy": "2022-05-23T19:47:55.435733Z",
     "iopub.status.idle": "2022-05-23T19:47:55.442166Z",
     "shell.execute_reply": "2022-05-23T19:47:55.441409Z"
    },
    "pycharm": {
     "name": "#%%\n"
    }
   },
   "outputs": [
    {
     "name": "stdout",
     "output_type": "stream",
     "text": [
      "20 first nodes to keep in FP32 (total 2340):\n"
     ]
    },
    {
     "data": {
      "text/plain": [
       "['Constant_74',\n",
       " 'Pow_78',\n",
       " 'Log_135',\n",
       " 'Div_137',\n",
       " 'Mul_139',\n",
       " 'Softmax_154',\n",
       " 'Pow_165',\n",
       " 'MatMul_183',\n",
       " 'Reshape_187',\n",
       " 'Transpose_188',\n",
       " 'Softmax_212',\n",
       " 'Pow_223',\n",
       " 'Pow_238',\n",
       " 'Softmax_272',\n",
       " 'Pow_283',\n",
       " 'Softmax_317',\n",
       " 'Pow_328',\n",
       " 'Pow_343',\n",
       " 'Softmax_377',\n",
       " 'Pow_388']"
      ]
     },
     "execution_count": 13,
     "metadata": {},
     "output_type": "execute_result"
    }
   ],
   "source": [
    "print(f\"20 first nodes to keep in FP32 (total {len(keep_fp32_no_cache)}):\")\n",
    "keep_fp32_no_cache[:20]"
   ]
  },
  {
   "cell_type": "code",
   "execution_count": 14,
   "metadata": {
    "execution": {
     "iopub.execute_input": "2022-05-23T19:47:55.444387Z",
     "iopub.status.busy": "2022-05-23T19:47:55.444134Z",
     "iopub.status.idle": "2022-05-23T20:08:59.529350Z",
     "shell.execute_reply": "2022-05-23T20:08:59.528665Z"
    },
    "pycharm": {
     "name": "#%%\n"
    }
   },
   "outputs": [],
   "source": [
    "dec_no_cache_ort_model = create_model_for_provider(dec_no_cache_model_path, \"CUDAExecutionProvider\")\n",
    "\n",
    "# use info from tokenizer size and max shape provided through the command line\n",
    "def get_random_input_cache() -> Dict[str, torch.Tensor]:\n",
    "    inputs = get_random_input_no_cache()\n",
    "    dec_past_states = inference_onnx_binding(\n",
    "        model_onnx=dec_no_cache_ort_model,\n",
    "        inputs=inputs,\n",
    "        device=\"cuda\",\n",
    "        clone_tensor=False,\n",
    "    )\n",
    "    for k, v in dec_past_states.items():\n",
    "        if k == \"logits\":\n",
    "            continue\n",
    "        new_k = k.replace(\"present\", \"past_key_values\")\n",
    "        inputs[new_k] = v\n",
    "    batch, _ = inputs[\"input_ids\"].shape\n",
    "    complement = torch.randint(low=0, high=tokenizer.vocab_size, size=(batch, 1), dtype=torch.int32, device=\"cuda\")\n",
    "    inputs[\"input_ids\"] = torch.concat(tensors=[inputs[\"input_ids\"], complement], dim=1)\n",
    "    return inputs\n",
    "\n",
    "\n",
    "keep_fp32_cache = get_keep_fp32_nodes(onnx_model_path=dec_cache_model_path, get_input=get_random_input_cache)\n",
    "del dec_no_cache_ort_model  # free cuda memory\n",
    "torch.cuda.empty_cache()\n",
    "gc.collect()\n",
    "\n",
    "onnx_model_cache_fp16 = convert_fp16(onnx_model=dec_cache_model_path, nodes_to_exclude=keep_fp32_cache)\n",
    "save_onnx(proto=onnx_model_cache_fp16, model_path=dec_cache_fp16_model_path)"
   ]
  },
  {
   "cell_type": "code",
   "execution_count": 15,
   "metadata": {
    "execution": {
     "iopub.execute_input": "2022-05-23T20:08:59.532397Z",
     "iopub.status.busy": "2022-05-23T20:08:59.532212Z",
     "iopub.status.idle": "2022-05-23T20:08:59.537170Z",
     "shell.execute_reply": "2022-05-23T20:08:59.536667Z"
    },
    "pycharm": {
     "name": "#%%\n"
    }
   },
   "outputs": [
    {
     "name": "stdout",
     "output_type": "stream",
     "text": [
      "20 first nodes to keep in FP32 (total 2240):\n"
     ]
    },
    {
     "data": {
      "text/plain": [
       "['Constant_94',\n",
       " 'Pow_98',\n",
       " 'Log_161',\n",
       " 'Div_163',\n",
       " 'Mul_165',\n",
       " 'Softmax_188',\n",
       " 'MatMul_189',\n",
       " 'Transpose_190',\n",
       " 'Reshape_194',\n",
       " 'Pow_202',\n",
       " 'MatMul_221',\n",
       " 'Reshape_225',\n",
       " 'Transpose_226',\n",
       " 'Softmax_246',\n",
       " 'MatMul_247',\n",
       " 'Transpose_248',\n",
       " 'Reshape_252',\n",
       " 'Pow_257',\n",
       " 'Pow_272',\n",
       " 'Softmax_308']"
      ]
     },
     "execution_count": 15,
     "metadata": {},
     "output_type": "execute_result"
    }
   ],
   "source": [
    "print(f\"20 first nodes to keep in FP32 (total {len(keep_fp32_cache)}):\")\n",
    "keep_fp32_cache[:20]"
   ]
  },
  {
   "cell_type": "markdown",
   "metadata": {
    "collapsed": false,
    "pycharm": {
     "name": "#%% md\n"
    }
   },
   "source": [
    "## Merge `Onnx` computation graph to deduplicate weights\n",
    "\n",
    "Finally, we will merge the 2 decoders together.\n",
    "The idea is simple:\n",
    "\n",
    "* we prefix the node / edge names of one of them to avoid naming collision\n",
    "* we deduplicate the weights (the same weight matrix will have different names in the 2 models)\n",
    "* we join the 2 computation graphs through an `If` node\n",
    "* we generate the `Onnx` file\n",
    "\n",
    "The new model will take a new input, `enable_cache`. When it contains a `True` value, computation graph with cache support is used.\n",
    "\n",
    "> code below is written to be easy to read, but could be made much faster to run"
   ]
  },
  {
   "cell_type": "code",
   "execution_count": 16,
   "metadata": {
    "execution": {
     "iopub.execute_input": "2022-05-23T20:08:59.541336Z",
     "iopub.status.busy": "2022-05-23T20:08:59.541125Z",
     "iopub.status.idle": "2022-05-23T20:10:05.556421Z",
     "shell.execute_reply": "2022-05-23T20:10:05.555792Z"
    },
    "pycharm": {
     "name": "#%%\n"
    }
   },
   "outputs": [
    {
     "data": {
      "text/plain": [
       "6366"
      ]
     },
     "execution_count": 16,
     "metadata": {},
     "output_type": "execute_result"
    }
   ],
   "source": [
    "prefix = \"cache_node_\"\n",
    "mapping_initializer_cache_to_no_cache = dict()\n",
    "\n",
    "# search for not-duplicated weights, called initializer in Onnx\n",
    "to_add = list()\n",
    "for node_cache in onnx_model_cache_fp16.graph.initializer:\n",
    "    found = False\n",
    "    for node_no_cache in onnx_model_no_cache_fp16.graph.initializer:\n",
    "        if node_cache.raw_data == node_no_cache.raw_data:\n",
    "            found = True\n",
    "            mapping_initializer_cache_to_no_cache[node_cache.name] = node_no_cache.name\n",
    "            break\n",
    "    if not found:\n",
    "        node_cache.name = prefix + node_cache.name\n",
    "        to_add.append(node_cache)\n",
    "        mapping_initializer_cache_to_no_cache[node_cache.name] = node_cache.name\n",
    "\n",
    "onnx_model_no_cache_fp16.graph.initializer.extend(to_add)\n",
    "# I/O model names should not be prefixed\n",
    "model_io_names = [n.name for n in list(onnx_model_cache_fp16.graph.input) + list(onnx_model_cache_fp16.graph.output)]\n",
    "\n",
    "# replace pointers to duplicated weights to their deduplicated version\n",
    "for node in onnx_model_cache_fp16.graph.node:\n",
    "    for index, input_name in enumerate(node.input):\n",
    "        if input_name in model_io_names:\n",
    "            continue\n",
    "        node.input[index] = mapping_initializer_cache_to_no_cache.get(input_name, prefix + input_name)\n",
    "    for index, output_name in enumerate(node.output):\n",
    "        if output_name in model_io_names:\n",
    "            continue\n",
    "        node.output[index] = prefix + output_name\n",
    "    node.name = prefix + node.name\n",
    "model_io_names = [n.name for n in list(onnx_model_cache_fp16.graph.input) + list(onnx_model_cache_fp16.graph.output)]\n",
    "\n",
    "# prefix nodes to avoid naming collision\n",
    "prefix = \"init_\"\n",
    "cache = dict()\n",
    "for node in onnx_model_no_cache_fp16.graph.initializer:\n",
    "    if node.name in model_io_names:\n",
    "        new_name = prefix + node.name\n",
    "        cache[node.name] = new_name\n",
    "        node.name = new_name\n",
    "\n",
    "for node in onnx_model_no_cache_fp16.graph.node:\n",
    "    for input_index, n in enumerate(node.input):\n",
    "        node.input[input_index] = cache.get(n, n)\n",
    "\n",
    "# mandatory for subgraph in if/else node\n",
    "assert len(onnx_model_cache_fp16.graph.output) == len(\n",
    "    onnx_model_no_cache_fp16.graph.output\n",
    "), f\"{len(onnx_model_cache_fp16.graph.output)} vs {len(onnx_model_no_cache_fp16.graph.output)}\"\n",
    "\n",
    "# build a computation graph with cache support\n",
    "graph_cache: onnx.GraphProto = onnx.helper.make_graph(\n",
    "    nodes=list(onnx_model_cache_fp16.graph.node),\n",
    "    name=\"graph-cache\",\n",
    "    inputs=[],\n",
    "    outputs=list(onnx_model_cache_fp16.graph.output),\n",
    "    initializer=[],\n",
    ")\n",
    "\n",
    "# build a computation which doesn't need past states to run\n",
    "graph_no_cache: onnx.GraphProto = onnx.helper.make_graph(\n",
    "    nodes=list(onnx_model_no_cache_fp16.graph.node),\n",
    "    name=\"graph-no-cache\",\n",
    "    inputs=[],\n",
    "    outputs=list(onnx_model_no_cache_fp16.graph.output),\n",
    "    initializer=[],\n",
    ")\n",
    "\n",
    "# a new input to decide if we use past state or not\n",
    "enable_cache_input = onnx.helper.make_tensor_value_info(name=\"enable_cache\", elem_type=onnx.TensorProto.BOOL, shape=[1])\n",
    "\n",
    "if_node = onnx.helper.make_node(\n",
    "    op_type=\"If\",\n",
    "    inputs=[\"enable_cache\"],\n",
    "    outputs=[o.name for o in list(onnx_model_no_cache_fp16.graph.output)],\n",
    "    then_branch=graph_cache,\n",
    "    else_branch=graph_no_cache,\n",
    ")\n",
    "\n",
    "# final model which can disable its cache\n",
    "if_graph_def: GraphProto = helper.make_graph(\n",
    "    nodes=[if_node],\n",
    "    name=\"if-model\",\n",
    "    inputs=list(onnx_model_cache_fp16.graph.input) + [enable_cache_input],\n",
    "    outputs=list(onnx_model_no_cache_fp16.graph.output),\n",
    "    initializer=list(onnx_model_no_cache_fp16.graph.initializer),\n",
    ")\n",
    "\n",
    "# serialization and cleaning\n",
    "model_if: ModelProto = helper.make_model(\n",
    "    if_graph_def, producer_name=\"onnx-example\", opset_imports=[helper.make_opsetid(onnx.defs.ONNX_DOMAIN, 13)]\n",
    ")\n",
    "save_onnx(proto=model_if, model_path=dec_if_fp16_model_path)\n",
    "del model_if\n",
    "torch.cuda.empty_cache()\n",
    "gc.collect()"
   ]
  },
  {
   "cell_type": "markdown",
   "metadata": {
    "collapsed": false,
    "pycharm": {
     "name": "#%% md\n"
    }
   },
   "source": [
    "### Check `Onnx` decoder output\n",
    "\n",
    "Compare `Onnx` output with and without cache, plus compare with `Pytorch` output."
   ]
  },
  {
   "cell_type": "code",
   "execution_count": 17,
   "metadata": {
    "execution": {
     "iopub.execute_input": "2022-05-23T20:10:05.560285Z",
     "iopub.status.busy": "2022-05-23T20:10:05.559804Z",
     "iopub.status.idle": "2022-05-23T20:10:08.562157Z",
     "shell.execute_reply": "2022-05-23T20:10:08.561534Z"
    },
    "pycharm": {
     "name": "#%%\n"
    }
   },
   "outputs": [],
   "source": [
    "pytorch_model = pytorch_model.cuda()\n",
    "model_decoder = model_decoder.cuda()\n",
    "input_ids = input_ids.cuda()\n",
    "pytorch_model = pytorch_model.eval()\n",
    "model_decoder = model_decoder.eval()\n",
    "dec_onnx = create_model_for_provider(dec_if_fp16_model_path, \"CUDAExecutionProvider\", log_severity=3)\n",
    "dec_onnx_binding: IOBinding = dec_onnx.io_binding()"
   ]
  },
  {
   "cell_type": "markdown",
   "metadata": {
    "collapsed": false,
    "pycharm": {
     "name": "#%% md\n"
    }
   },
   "source": [
    "## Zero copy output\n",
    "\n",
    "Below, we check that the new model output is similar to the ones from `Pytorch`.\n",
    "\n",
    "We use our new implementation of inference call.  \n",
    "The idea is the following:\n",
    "\n",
    "* we ask `Onnx Runtime` to output a pointer to the `CUDA` array containing the result of the inference;\n",
    "* we use `Cupy` API to wrap the array and provide information regarding tensor shape and type. `Cupy` doesn't own the data;\n",
    "* we use `Dlpack` support to convert the `Cupy` tensor to `Pytorch`, another zero copy process.\n",
    "\n",
    "This pipeline is unsafe, as the content of the tensor may change or disappear silently: only `Onnx Runtime` has the control of the array containing the data. It will happen at the next inference call. Because we know that during the text generation we discard each output before recalling `Onnx Runtime`, it works well in our case.\n",
    "\n",
    "A second benefit of this approach is that we do not have anymore to guess the output shape.  \n",
    "Before using this approach, to avoid the output to be stored on host memory (RAM) which made inference slower, we had to provide `Onnx Runtime` with a pointer to `Pytorch` tensor with the right size. As the size change with the sequence length (so it changes for each generated token), we had to store the logic to guess the size somewhere in the code. The new approach frees us from this burden."
   ]
  },
  {
   "cell_type": "code",
   "execution_count": 18,
   "metadata": {
    "execution": {
     "iopub.execute_input": "2022-05-23T20:10:08.566868Z",
     "iopub.status.busy": "2022-05-23T20:10:08.566683Z",
     "iopub.status.idle": "2022-05-23T20:10:08.683388Z",
     "shell.execute_reply": "2022-05-23T20:10:08.682723Z"
    },
    "pycharm": {
     "name": "#%%\n"
    }
   },
   "outputs": [],
   "source": [
    "pytorch_model = pytorch_model.half()\n",
    "with torch.inference_mode():\n",
    "    out_enc_pytorch: BaseModelOutputWithPastAndCrossAttentions = pytorch_model.encoder(input_ids=input_ids)\n",
    "    previous_step_pytorch: BaseModelOutputWithPastAndCrossAttentions = model_decoder(\n",
    "        input_ids=input_ids[:, :-1], encoder_hidden_states=out_enc_pytorch.last_hidden_state\n",
    "    )\n",
    "    out_dec_pytorch: BaseModelOutputWithPastAndCrossAttentions = model_decoder(\n",
    "        input_ids=input_ids, encoder_hidden_states=out_enc_pytorch.last_hidden_state\n",
    "    )"
   ]
  },
  {
   "cell_type": "code",
   "execution_count": 19,
   "metadata": {
    "execution": {
     "iopub.execute_input": "2022-05-23T20:10:08.686450Z",
     "iopub.status.busy": "2022-05-23T20:10:08.686199Z",
     "iopub.status.idle": "2022-05-23T20:10:08.864627Z",
     "shell.execute_reply": "2022-05-23T20:10:08.863865Z"
    },
    "pycharm": {
     "name": "#%%\n"
    }
   },
   "outputs": [],
   "source": [
    "def decoder_pytorch_inference(decoder_input_ids: torch.Tensor, encoder_hidden_states: torch.Tensor, **_):\n",
    "    with torch.inference_mode():\n",
    "        return model_decoder(input_ids=decoder_input_ids, encoder_hidden_states=encoder_hidden_states)\n",
    "\n",
    "\n",
    "def decoder_onnx_inference(\n",
    "    decoder_input_ids: torch.Tensor,\n",
    "    encoder_hidden_states: torch.Tensor,\n",
    "    enable_cache: torch.Tensor,\n",
    "    past_key_values: Optional[torch.Tensor],\n",
    "):\n",
    "    inputs_onnx_dict = {\n",
    "        \"input_ids\": decoder_input_ids,\n",
    "        \"encoder_hidden_states\": encoder_hidden_states,\n",
    "        \"enable_cache\": enable_cache,\n",
    "    }\n",
    "\n",
    "    if past_key_values is not None:\n",
    "        for index, (k_dec, v_dec, k_enc, v_enc) in enumerate(past_key_values):\n",
    "            inputs_onnx_dict[f\"past_key_values.{index}.decoder.key\"] = k_dec\n",
    "            inputs_onnx_dict[f\"past_key_values.{index}.decoder.value\"] = v_dec\n",
    "            inputs_onnx_dict[f\"past_key_values.{index}.encoder.key\"] = k_enc\n",
    "            inputs_onnx_dict[f\"past_key_values.{index}.encoder.value\"] = v_enc\n",
    "\n",
    "    result_dict = inference_onnx_binding(\n",
    "        model_onnx=dec_onnx,\n",
    "        inputs=inputs_onnx_dict,\n",
    "        binding=dec_onnx_binding,  # recycle the binding\n",
    "        device=decoder_input_ids.device.type,\n",
    "        clone_tensor=False,  # no memory copy -> best perf and lowest memory footprint!\n",
    "    )\n",
    "    past_states = list()\n",
    "    for index in range(pytorch_model.config.num_layers):\n",
    "        kv = (\n",
    "            result_dict[f\"present.{index}.decoder.key\"],\n",
    "            result_dict[f\"present.{index}.decoder.value\"],\n",
    "            result_dict[f\"present.{index}.encoder.key\"],\n",
    "            result_dict[f\"present.{index}.encoder.value\"],\n",
    "        )\n",
    "        past_states.append(kv)\n",
    "    return BaseModelOutputWithPastAndCrossAttentions(\n",
    "        last_hidden_state=result_dict[\"logits\"],\n",
    "        past_key_values=past_states,\n",
    "    )\n",
    "\n",
    "\n",
    "out_dec_onnx_no_cache = decoder_onnx_inference(\n",
    "    decoder_input_ids=input_ids,\n",
    "    encoder_hidden_states=out_enc_pytorch.last_hidden_state,\n",
    "    enable_cache=torch.tensor([False], device=\"cuda\", dtype=torch.bool),\n",
    "    past_key_values=None,\n",
    ")\n",
    "are_equal(a=out_dec_onnx_no_cache.last_hidden_state[:, -1:, :], b=out_dec_pytorch.last_hidden_state[:, -1:, :])\n",
    "\n",
    "# check that past states are identical between Onnx and Pytorch\n",
    "assert len(out_dec_onnx_no_cache.past_key_values) == len(out_dec_pytorch.past_key_values)\n",
    "for (o_dec_k, o_dev_v, o_enc_k, o_enc_v), (p_dec_k, p_dev_v, p_enc_k, p_enc_v) in zip(\n",
    "    out_dec_onnx_no_cache.past_key_values, out_dec_pytorch.past_key_values\n",
    "):\n",
    "    are_equal(a=o_dec_k, b=p_dec_k)\n",
    "    are_equal(a=o_dev_v, b=p_dev_v)\n",
    "    are_equal(a=o_enc_k, b=p_enc_k)\n",
    "    are_equal(a=o_enc_v, b=p_enc_v)"
   ]
  },
  {
   "cell_type": "code",
   "execution_count": 20,
   "metadata": {
    "execution": {
     "iopub.execute_input": "2022-05-23T20:10:08.868837Z",
     "iopub.status.busy": "2022-05-23T20:10:08.868651Z",
     "iopub.status.idle": "2022-05-23T20:10:09.044030Z",
     "shell.execute_reply": "2022-05-23T20:10:09.043356Z"
    },
    "pycharm": {
     "name": "#%%\n"
    }
   },
   "outputs": [],
   "source": [
    "out_dec_onnx_cache = decoder_onnx_inference(\n",
    "    decoder_input_ids=input_ids[:, -1:],\n",
    "    encoder_hidden_states=out_enc_pytorch.last_hidden_state,\n",
    "    enable_cache=torch.tensor([True], device=\"cuda\", dtype=torch.bool),\n",
    "    past_key_values=previous_step_pytorch.past_key_values,\n",
    ")\n",
    "\n",
    "are_equal(a=out_dec_onnx_cache.last_hidden_state[:, -1:, :], b=out_dec_pytorch.last_hidden_state[:, -1:, :])\n",
    "\n",
    "# check that past states are identical between Onnx and Pytorch\n",
    "assert len(out_dec_onnx_cache.past_key_values) == len(out_dec_pytorch.past_key_values)\n",
    "for (o_dec_k, o_dev_v, o_enc_k, o_enc_v), (p_dec_k, p_dev_v, p_enc_k, p_enc_v) in zip(\n",
    "    out_dec_onnx_cache.past_key_values, out_dec_pytorch.past_key_values\n",
    "):\n",
    "    are_equal(a=o_dec_k, b=p_dec_k)\n",
    "    are_equal(a=o_dev_v, b=p_dev_v)\n",
    "    are_equal(a=o_enc_k, b=p_enc_k)\n",
    "    are_equal(a=o_enc_v, b=p_enc_v)"
   ]
  },
  {
   "cell_type": "markdown",
   "metadata": {
    "collapsed": false,
    "pycharm": {
     "name": "#%% md\n"
    }
   },
   "source": [
    "## Benchmarks!\n",
    "\n",
    "Finally, we will compare the performances of 4 setup in end-to-end scenarii:\n",
    "\n",
    "* `Pytorch`\n",
    "* `Pytorch` + cache\n",
    "* `Onnx`\n",
    "* `Onnx` + cache\n",
    "\n",
    "For the comparison, we first do a sanity check by just generating a short sequence (we already have checked that output tensors are OK).\n",
    "\n",
    "Then we force each model to generate:\n",
    "\n",
    "* 256 tokens + batch size 1 (similar to `TensorRT` demo)\n",
    "* 1000 tokens + batch size 4\n"
   ]
  },
  {
   "cell_type": "code",
   "execution_count": 21,
   "metadata": {
    "execution": {
     "iopub.execute_input": "2022-05-23T20:10:09.048950Z",
     "iopub.status.busy": "2022-05-23T20:10:09.048754Z",
     "iopub.status.idle": "2022-05-23T20:10:09.684514Z",
     "shell.execute_reply": "2022-05-23T20:10:09.683631Z"
    },
    "pycharm": {
     "name": "#%%\n"
    }
   },
   "outputs": [
    {
     "name": "stdout",
     "output_type": "stream",
     "text": [
      "Onnx:\n",
      "Ce modèle est maintenant très rapide!\n",
      "Pytorch:\n",
      "Ce modèle est maintenant très rapide!\n"
     ]
    }
   ],
   "source": [
    "def encoder_onnx_inference(input_ids: torch.Tensor, **_) -> BaseModelOutputWithPastAndCrossAttentions:\n",
    "    last_hidden_state = inference_onnx_binding(\n",
    "        model_onnx=enc_fp16_onnx,  # noqa: F821\n",
    "        inputs={\"input_ids\": input_ids},\n",
    "        device=input_ids.device.type,\n",
    "        binding=enc_fp16_onnx_binding,\n",
    "    )[\"output\"]\n",
    "    return BaseModelOutputWithPastAndCrossAttentions(last_hidden_state=last_hidden_state.type(torch.float16))\n",
    "\n",
    "\n",
    "def encoder_pytorch_inference(input_ids, **_) -> BaseModelOutputWithPastAndCrossAttentions:\n",
    "    with torch.inference_mode():\n",
    "        res = pytorch_model.encoder(input_ids=input_ids).type(torch.float16)\n",
    "        return res\n",
    "\n",
    "\n",
    "# https://github.com/NVIDIA/TensorRT/blob/main/demo/HuggingFace/T5/export.py\n",
    "class ExtT5(torch.nn.Module, GenerationMixin):\n",
    "    def __init__(self, config: PretrainedConfig, device: torch.device, encoder_func: Callable, decoder_func: Callable):\n",
    "        super(ExtT5, self).__init__()\n",
    "        self.main_input_name = \"input_ids\"  # https://github.com/huggingface/transformers/pull/14803\n",
    "        self.config: PretrainedConfig = config\n",
    "        self.device: torch.device = device\n",
    "\n",
    "        self.encoder_func = encoder_func\n",
    "        self.decoder_func = decoder_func\n",
    "        self.use_cache = True\n",
    "        self.timings = list()\n",
    "\n",
    "    def get_encoder(self):\n",
    "        return self.encoder_func\n",
    "\n",
    "    def get_decoder(self):\n",
    "        return self.decoder_func\n",
    "\n",
    "    def set_cache(self, enable: bool) -> None:\n",
    "        self.use_cache = enable\n",
    "\n",
    "    # from transformers library (modeling_t5.py)\n",
    "    def _reorder_cache(self, past, beam_idx):\n",
    "        reordered_decoder_past = ()\n",
    "        for layer_past_states in past:\n",
    "            # get the correct batch idx from layer past batch dim\n",
    "            # batch dim of `past` is at 2nd position\n",
    "            reordered_layer_past_states = ()\n",
    "            for layer_past_state in layer_past_states:\n",
    "                # need to set correct `past` for each of the four key / value states\n",
    "                reordered_layer_past_states = reordered_layer_past_states + (\n",
    "                    layer_past_state.index_select(0, beam_idx),\n",
    "                )\n",
    "\n",
    "            assert reordered_layer_past_states[0].shape == layer_past_states[0].shape\n",
    "            assert len(reordered_layer_past_states) == len(layer_past_states)\n",
    "\n",
    "            reordered_decoder_past = reordered_decoder_past + (reordered_layer_past_states,)\n",
    "        return reordered_decoder_past\n",
    "\n",
    "    def prepare_inputs_for_generation(self, input_ids, past=None, use_cache=None, **kwargs) -> Dict[str, torch.Tensor]:\n",
    "        params = {\n",
    "            \"encoder_hidden_states\": kwargs[\"encoder_outputs\"][\"last_hidden_state\"],\n",
    "        }\n",
    "        if past is None:  # this is the 1st inferred token\n",
    "            self.timings = list()\n",
    "        if not self.use_cache:\n",
    "            past = None\n",
    "        if past is None:\n",
    "            params[self.main_input_name] = input_ids\n",
    "            params[\"enable_cache\"] = torch.tensor([False], device=\"cuda\", dtype=torch.bool)\n",
    "        else:\n",
    "            params[self.main_input_name] = input_ids[:, -1:]\n",
    "            params[\"enable_cache\"] = torch.tensor([True], device=\"cuda\", dtype=torch.bool)\n",
    "            params[\"past_key_values\"] = past\n",
    "\n",
    "        return params\n",
    "\n",
    "    def forward(\n",
    "        self,\n",
    "        input_ids: torch.Tensor,\n",
    "        encoder_hidden_states: torch.Tensor,\n",
    "        enable_cache: torch.Tensor,\n",
    "        past_key_values: Optional[torch.Tensor] = None,\n",
    "        **_,\n",
    "    ):\n",
    "        start_timer = time.monotonic()\n",
    "        dec_output = self.get_decoder()(\n",
    "            decoder_input_ids=input_ids,\n",
    "            encoder_hidden_states=encoder_hidden_states,\n",
    "            enable_cache=enable_cache,\n",
    "            past_key_values=past_key_values,\n",
    "        )\n",
    "        self.timings.append(time.monotonic() - start_timer)\n",
    "        return Seq2SeqLMOutput(logits=dec_output.last_hidden_state, past_key_values=dec_output.past_key_values)\n",
    "\n",
    "\n",
    "model_gen = (\n",
    "    ExtT5(\n",
    "        config=pytorch_model.config,\n",
    "        device=pytorch_model.device,\n",
    "        encoder_func=encoder_onnx_inference,  # encoder_pytorch_inference\n",
    "        decoder_func=decoder_onnx_inference,  # decoder_pytorch_inference\n",
    "    )\n",
    "    .cuda()\n",
    "    .eval()\n",
    ")\n",
    "\n",
    "torch.cuda.synchronize()\n",
    "with torch.inference_mode():\n",
    "    print(\"Onnx:\")\n",
    "    print(\n",
    "        tokenizer.decode(\n",
    "            model_gen.generate(\n",
    "                inputs=input_ids,\n",
    "                min_length=3,\n",
    "                max_length=60,\n",
    "                num_beams=4,\n",
    "                no_repeat_ngram_size=2,\n",
    "            )[0],\n",
    "            skip_special_tokens=True,\n",
    "        )\n",
    "    )\n",
    "    print(\"Pytorch:\")\n",
    "    print(\n",
    "        tokenizer.decode(\n",
    "            pytorch_model.generate(\n",
    "                input_ids=input_ids,\n",
    "                min_length=3,\n",
    "                max_length=60,\n",
    "                num_beams=4,\n",
    "                no_repeat_ngram_size=2,\n",
    "            )[0],\n",
    "            skip_special_tokens=True,\n",
    "        )\n",
    "    )"
   ]
  },
  {
   "cell_type": "code",
   "execution_count": 22,
   "metadata": {
    "execution": {
     "iopub.execute_input": "2022-05-23T20:10:09.689084Z",
     "iopub.status.busy": "2022-05-23T20:10:09.688826Z",
     "iopub.status.idle": "2022-05-23T20:14:47.462995Z",
     "shell.execute_reply": "2022-05-23T20:14:47.462318Z"
    },
    "pycharm": {
     "name": "#%%\n"
    }
   },
   "outputs": [
    {
     "name": "stdout",
     "output_type": "stream",
     "text": [
      "seq len: 256 / # beam (batch size): 1\n",
      "Onnx: 3.9, including inference: 3.8 (96.9%)\n",
      "Onnx + cache: 3.3, including inference: 3.1 (96.3%)\n",
      "Pytorch: 9.8, including inference: 9.7 (99.0%)\n",
      "Pytorch + cache: 8.2, including inference: 8.1 (98.7%)\n",
      "seq len: 1000 / # beam (batch size): 4\n",
      "Onnx: 99.4, including inference: 97.1 (97.7%)\n",
      "Onnx + cache: 17.7, including inference: 15.6 (87.8%)\n",
      "Pytorch: 96.3, including inference: 95.5 (99.1%)\n",
      "Pytorch + cache: 37.0, including inference: 35.0 (94.6%)\n"
     ]
    }
   ],
   "source": [
    "def print_timings(name: str, total: float, inference: float):\n",
    "    percent_inference = 100 * inference / total\n",
    "    print(f\"{name}: {total:.1f}, including inference: {inference:.1f} ({percent_inference:.1f}%)\")\n",
    "\n",
    "\n",
    "all_timings: Dict[str, Dict[str, List[float]]] = dict()\n",
    "for seq_len, num_beam in [(256, 1), (1000, 4)]:\n",
    "    timings = dict()\n",
    "\n",
    "    print(f\"seq len: {seq_len} / # beam (batch size): {num_beam}\")\n",
    "    task = \"Onnx\"\n",
    "    with nvtx.annotate(\n",
    "        task, color=\"red\"\n",
    "    ):  # nvtx is for Nvidia nsight profiler, you can remove the line or install the library\n",
    "        model_gen.set_cache(enable=False)\n",
    "        # warmup\n",
    "        model_gen.generate(inputs=input_ids, max_length=10, num_beams=num_beam, min_length=10)\n",
    "        start = time.monotonic()\n",
    "        model_gen.generate(inputs=input_ids, max_length=seq_len, num_beams=num_beam, min_length=seq_len)\n",
    "        total_time = time.monotonic() - start\n",
    "        print_timings(name=task, total=total_time, inference=sum(model_gen.timings))\n",
    "        timings[f\"{task}\"] = model_gen.timings\n",
    "\n",
    "    task = \"Onnx + cache\"\n",
    "    with nvtx.annotate(task, color=\"red\"):\n",
    "        model_gen.set_cache(enable=True)\n",
    "        # warmup\n",
    "        model_gen.generate(inputs=input_ids, max_length=10, num_beams=num_beam, min_length=10)\n",
    "        start = time.monotonic()\n",
    "        model_gen.generate(inputs=input_ids, max_length=seq_len, num_beams=num_beam, min_length=seq_len)\n",
    "        total_time = time.monotonic() - start\n",
    "        print_timings(name=task, total=total_time, inference=sum(model_gen.timings))\n",
    "        timings[f\"{task}\"] = model_gen.timings\n",
    "\n",
    "    # monckey patching of forward function to add a timer per generated token\n",
    "    old_fw = pytorch_model.forward\n",
    "    timing_pytorch = list()\n",
    "\n",
    "    def new_fw(self, *args, **kwargs):\n",
    "        timer_start = time.monotonic()\n",
    "        res = old_fw(self, *args, **kwargs)\n",
    "        torch.cuda.synchronize()  # makes timings correct without having significant impact on e2e latency\n",
    "        total_time = time.monotonic() - timer_start\n",
    "        timing_pytorch.append(total_time)\n",
    "        return res\n",
    "\n",
    "    task = \"Pytorch\"\n",
    "    with nvtx.annotate(task, color=\"orange\"):\n",
    "        pytorch_model.config.use_cache = False\n",
    "        with torch.inference_mode():\n",
    "            with torch.cuda.amp.autocast():\n",
    "                # warmup\n",
    "                pytorch_model.generate(inputs=input_ids, max_length=10, num_beams=num_beam, min_length=10)\n",
    "                pytorch_model.forward = new_fw.__get__(pytorch_model)\n",
    "                start = time.monotonic()\n",
    "                pytorch_model.generate(inputs=input_ids, max_length=seq_len, num_beams=num_beam, min_length=seq_len)\n",
    "                total_time = time.monotonic() - start\n",
    "                pytorch_model.forward = old_fw\n",
    "                inference_time = np.sum(timing_pytorch)\n",
    "                print_timings(name=\"Pytorch\", total=total_time, inference=inference_time)\n",
    "        timing_pytorch_no_cache = copy(timing_pytorch)\n",
    "        timings[f\"{task}\"] = copy(timing_pytorch)\n",
    "        timing_pytorch.clear()\n",
    "    torch.cuda.empty_cache()\n",
    "\n",
    "    task = \"Pytorch + cache\"\n",
    "    with nvtx.annotate(\"Pytorch + cache\", color=\"green\"):\n",
    "        pytorch_model.config.use_cache = True\n",
    "        with torch.inference_mode():\n",
    "            with torch.cuda.amp.autocast():\n",
    "                # warmup\n",
    "                pytorch_model.generate(inputs=input_ids, max_length=10, num_beams=num_beam, min_length=10)\n",
    "                pytorch_model.forward = new_fw.__get__(pytorch_model)\n",
    "                start = time.monotonic()\n",
    "                pytorch_model.generate(inputs=input_ids, max_length=seq_len, num_beams=num_beam, min_length=seq_len)\n",
    "                total_time = time.monotonic() - start\n",
    "                pytorch_model.forward = old_fw\n",
    "                print_timings(name=\"Pytorch + cache\", total=total_time, inference=sum(timing_pytorch))\n",
    "        timings[f\"{task}\"] = copy(timing_pytorch)\n",
    "        timing_pytorch.clear()\n",
    "    all_timings[f\"{seq_len} / {num_beam}\"] = timings\n",
    "    torch.cuda.empty_cache()"
   ]
  },
  {
   "cell_type": "markdown",
   "metadata": {
    "collapsed": false,
    "pycharm": {
     "name": "#%% md\n"
    }
   },
   "source": [
    "## Benchmark analysis\n",
    "\n",
    "Below, we plot for each setup (short and long sequence):\n",
    "\n",
    "* the time spent on each token generation\n",
    "* the full time to generate the sequence (for each length)\n",
    "\n",
    "We can see that for short sequence and batch size of 1, cache or not, latency appears to be stable.\n",
    "However, for longer sequences, we can see that the no cache approach (being `Pytorch` or `Onnx` based) doesn't scale well, and at some point, `Onnx` is even slower than `Hugging Face` code with cache support.\n",
    "\n",
    "On the other side, `Onnx` timings are mostly stable whatever the sequence length which is quite remarkable.\n",
    "It's because we are working one token at a time and converted a quadratic complexity in the attention layer into a linear one."
   ]
  },
  {
   "cell_type": "code",
   "execution_count": 23,
   "metadata": {
    "execution": {
     "iopub.execute_input": "2022-05-23T20:14:47.467297Z",
     "iopub.status.busy": "2022-05-23T20:14:47.467111Z",
     "iopub.status.idle": "2022-05-23T20:14:48.298591Z",
     "shell.execute_reply": "2022-05-23T20:14:48.297585Z"
    },
    "pycharm": {
     "name": "#%%\n"
    }
   },
   "outputs": [
    {
     "data": {
      "image/png": "[encoded data removed]",
      "text/plain": [
       "<Figure size 864x576 with 4 Axes>"
      ]
     },
     "metadata": {
      "needs_background": "light"
     },
     "output_type": "display_data"
    }
   ],
   "source": [
    "sns.set_style(\"darkgrid\")  # darkgrid, whitegrid, dark, white and ticks\n",
    "plt.rc(\"axes\", titlesize=15)  # fontsize of the axes title\n",
    "plt.rc(\"axes\", labelsize=14)  # fontsize of the x and y labels\n",
    "plt.rc(\"xtick\", labelsize=13)  # fontsize of the tick labels\n",
    "plt.rc(\"ytick\", labelsize=13)  # fontsize of the tick labels\n",
    "plt.rc(\"legend\", fontsize=15)  # legend fontsize\n",
    "plt.rc(\"font\", size=13)  # controls default text sizes\n",
    "\n",
    "colors = sns.color_palette(\"deep\")\n",
    "fig = plt.figure(constrained_layout=True, figsize=(12, 8))\n",
    "subfigs = fig.subfigures(nrows=2, ncols=1)\n",
    "\n",
    "fig.supxlabel(\"seq len (# tokens)\")\n",
    "fig.supylabel(\"latency (s)\")\n",
    "fig.suptitle(f\"Small seq len and greedy search on {model_name} don't tell the whole (inference) story...\")\n",
    "for row, (plot_name, timings) in enumerate(all_timings.items()):\n",
    "    subfigs[row].suptitle(f\"setup #{1+row}: {plot_name} (seq len / beam search)\")\n",
    "    axs = subfigs[row].subplots(nrows=1, ncols=2)\n",
    "    for col, accumulated in enumerate([False, True]):\n",
    "        plot_axis = axs[col]\n",
    "        for index, (k, v) in enumerate(timings.items()):\n",
    "            axis = range(len(v))\n",
    "            color = colors[index]\n",
    "            v = np.array(v)\n",
    "            # remove extreme values\n",
    "            p99 = np.percentile(v, 99)\n",
    "            v[v > p99] = p99\n",
    "            v = np.cumsum(v) if accumulated else v\n",
    "            plot_axis.scatter(axis, v, label=k, s=2)\n",
    "\n",
    "        title = f\"latency for the full sequence\" if accumulated else f\"latency for each token\"\n",
    "        plot_axis.title.set_text(title)\n",
    "\n",
    "# legend deduplication\n",
    "handles, labels = plt.gca().get_legend_handles_labels()\n",
    "by_label = dict(zip(labels, handles))\n",
    "fig.legend(by_label.values(), by_label.keys(), bbox_to_anchor=(1, 1), loc=\"upper left\", markerscale=5)\n",
    "plt.show()"
   ]
  },
  {
   "cell_type": "markdown",
   "metadata": {
    "collapsed": false,
    "pycharm": {
     "name": "#%% md\n"
    }
   },
   "source": [
    "## Profiling model at the kernel level\n",
    "\n",
    "Below we reload the decoder model with `Onnx Runtime` kernel profiling enabled.\n",
    "It will help us to understand on which part of the computation graph the GPU spends its time.  \n",
    "\n",
    "The number of events that `Onnx Runtime` can save is limited to [1 million](https://github.com/microsoft/onnxruntime/blob/a4b5fa334aa939fb159bdc571ed3d56ca8d31fc7/onnxruntime/core/common/profiler.cc#L10).\n",
    "It is not an issue as we have seen that timings per token are mostly stable, so having only n first token information don't change anything.\n",
    "\n",
    "The main information it gives us is that 30% of the time is spent on matrix multiplication when caching is used.  \n",
    "The rest of the time is spent on mostly memory bound operations:\n",
    "* element-wise operations which require little computation (`add`, `mul`, `div`, etc.)\n",
    "* copy pasting tensors `GPU` <-> `GPU` with little transformation in between (`transpose`, `concat`, `cast`, etc.)\n",
    "\n",
    "It matches the information provided by both `nvidia-smi` and `Nvidia Nsight` (the GPU profiler from Nvidia): the GPU is under utilized.  \n",
    "That's why we think that a tool like `TensorRT` which will perform aggressive kernel fusion, reducing time spent on memory bounded operations, should be a good fit for autoregressive models.\n",
    "\n",
    "> there is a nice opportunity to increase the speedup by reducing the number of casting operations. We keep this work for the future."
   ]
  },
  {
   "cell_type": "code",
   "execution_count": 24,
   "metadata": {
    "execution": {
     "iopub.execute_input": "2022-05-23T20:14:48.301154Z",
     "iopub.status.busy": "2022-05-23T20:14:48.300894Z",
     "iopub.status.idle": "2022-05-23T20:14:52.464176Z",
     "shell.execute_reply": "2022-05-23T20:14:52.463669Z"
    },
    "pycharm": {
     "name": "#%%\n"
    }
   },
   "outputs": [
    {
     "data": {
      "image/png": "[encoded data removed]",
      "text/plain": [
       "<Figure size 432x288 with 1 Axes>"
      ]
     },
     "metadata": {
      "needs_background": "light"
     },
     "output_type": "display_data"
    }
   ],
   "source": [
    "dec_onnx = create_model_for_provider(\n",
    "    dec_if_fp16_model_path, \"CUDAExecutionProvider\", enable_profiling=True, log_severity=3\n",
    ")\n",
    "dec_onnx_binding: IOBinding = dec_onnx.io_binding()\n",
    "_ = model_gen.generate(inputs=input_ids, max_length=10, num_beams=4, min_length=10)\n",
    "profile_name = dec_onnx.end_profiling()\n",
    "\n",
    "with open(profile_name) as f:\n",
    "    content = json.load(f)\n",
    "\n",
    "op_timings = defaultdict(lambda: 0)\n",
    "for c in content:\n",
    "    if \"op_name\" not in c[\"args\"]:\n",
    "        continue\n",
    "    op_name = c[\"args\"][\"op_name\"]\n",
    "    if op_name == \"If\":\n",
    "        continue  # subgraph\n",
    "    time_taken = c[\"dur\"]\n",
    "    op_timings[op_name] += time_taken\n",
    "\n",
    "op_timings_filter = dict(sorted(op_timings.items(), key=operator.itemgetter(1), reverse=True)[:10])\n",
    "total_kernel_timing = sum(op_timings.values())\n",
    "op_timings_percent = {k: 100 * v / total_kernel_timing for k, v in op_timings_filter.items()}\n",
    "\n",
    "plt.barh(list(op_timings_percent.keys()), list(op_timings_percent.values()))\n",
    "plt.title(\"Time spent per kernel\\n(top 10 kernels)\")\n",
    "plt.xlabel(\"% total inference time\")\n",
    "plt.show()"
   ]
  }
 ],
 "metadata": {
  "interpreter": {
   "hash": "366de2154be95d5d8dfb409ee394df3294ef97f2f15d871b0df4dd91a89cdb4b"
  },
  "kernelspec": {
   "display_name": "Python 3.9.12 ('fast_transformer')",
   "language": "python",
   "name": "python3"
  },
  "language_info": {
   "codemirror_mode": {
    "name": "ipython",
    "version": 3
   },
   "file_extension": ".py",
   "mimetype": "text/x-python",
   "name": "python",
   "nbconvert_exporter": "python",
   "pygments_lexer": "ipython3",
   "version": "3.9.12"
  }
 },
 "nbformat": 4,
 "nbformat_minor": 1
}
