{
 "cells": [
  {
   "cell_type": "code",
   "execution_count": 1,
   "metadata": {
    "execution": {
     "iopub.execute_input": "2022-05-06T11:29:00.488037Z",
     "iopub.status.busy": "2022-05-06T11:29:00.487377Z",
     "iopub.status.idle": "2022-05-06T11:29:03.010150Z",
     "shell.execute_reply": "2022-05-06T11:29:03.009445Z"
    },
    "pycharm": {
     "name": "#%%\n"
    }
   },
   "outputs": [
    {
     "name": "stdout",
     "output_type": "stream",
     "text": [
      "Looking in indexes: https://pypi.org/simple, https://pypi.ngc.nvidia.com\r\n",
      "Requirement already satisfied: seaborn in /home/geantvert/.local/share/virtualenvs/fast_transformer/lib/python3.9/site-packages (0.11.2)\r\n",
      "Requirement already satisfied: numpy>=1.15 in /home/geantvert/.local/share/virtualenvs/fast_transformer/lib/python3.9/site-packages (from seaborn) (1.22.3)\r\n",
      "Requirement already satisfied: scipy>=1.0 in /home/geantvert/.local/share/virtualenvs/fast_transformer/lib/python3.9/site-packages (from seaborn) (1.8.0)\r\n",
      "Requirement already satisfied: matplotlib>=2.2 in /home/geantvert/.local/share/virtualenvs/fast_transformer/lib/python3.9/site-packages (from seaborn) (3.5.1)\r\n",
      "Requirement already satisfied: pandas>=0.23 in /home/geantvert/.local/share/virtualenvs/fast_transformer/lib/python3.9/site-packages (from seaborn) (1.4.2)\r\n",
      "Requirement already satisfied: kiwisolver>=1.0.1 in /home/geantvert/.local/share/virtualenvs/fast_transformer/lib/python3.9/site-packages (from matplotlib>=2.2->seaborn) (1.4.2)\r\n",
      "Requirement already satisfied: pillow>=6.2.0 in /home/geantvert/.local/share/virtualenvs/fast_transformer/lib/python3.9/site-packages (from matplotlib>=2.2->seaborn) (9.1.0)\r\n",
      "Requirement already satisfied: pyparsing>=2.2.1 in /home/geantvert/.local/share/virtualenvs/fast_transformer/lib/python3.9/site-packages (from matplotlib>=2.2->seaborn) (3.0.8)\r\n",
      "Requirement already satisfied: packaging>=20.0 in /home/geantvert/.local/share/virtualenvs/fast_transformer/lib/python3.9/site-packages (from matplotlib>=2.2->seaborn) (21.3)\r\n",
      "Requirement already satisfied: cycler>=0.10 in /home/geantvert/.local/share/virtualenvs/fast_transformer/lib/python3.9/site-packages (from matplotlib>=2.2->seaborn) (0.11.0)\r\n",
      "Requirement already satisfied: python-dateutil>=2.7 in /home/geantvert/.local/share/virtualenvs/fast_transformer/lib/python3.9/site-packages (from matplotlib>=2.2->seaborn) (2.8.2)\r\n",
      "Requirement already satisfied: fonttools>=4.22.0 in /home/geantvert/.local/share/virtualenvs/fast_transformer/lib/python3.9/site-packages (from matplotlib>=2.2->seaborn) (4.33.3)\r\n",
      "Requirement already satisfied: pytz>=2020.1 in /home/geantvert/.local/share/virtualenvs/fast_transformer/lib/python3.9/site-packages (from pandas>=0.23->seaborn) (2022.1)\r\n",
      "Requirement already satisfied: six>=1.5 in /home/geantvert/.local/share/virtualenvs/fast_transformer/lib/python3.9/site-packages (from python-dateutil>=2.7->matplotlib>=2.2->seaborn) (1.16.0)\r\n"
     ]
    }
   ],
   "source": [
    "!pip install seaborn"
   ]
  },
  {
   "cell_type": "code",
   "execution_count": 2,
   "metadata": {
    "execution": {
     "iopub.execute_input": "2022-05-06T11:29:03.013818Z",
     "iopub.status.busy": "2022-05-06T11:29:03.013624Z",
     "iopub.status.idle": "2022-05-06T11:29:03.562451Z",
     "shell.execute_reply": "2022-05-06T11:29:03.561307Z"
    },
    "pycharm": {
     "name": "#%%\n"
    }
   },
   "outputs": [
    {
     "name": "stdout",
     "output_type": "stream",
     "text": [
      "Fri May  6 13:29:03 2022       \r\n",
      "+-----------------------------------------------------------------------------+\r\n",
      "| NVIDIA-SMI 510.60.02    Driver Version: 510.60.02    CUDA Version: 11.6     |\r\n",
      "|-------------------------------+----------------------+----------------------+\r\n",
      "| GPU  Name        Persistence-M| Bus-Id        Disp.A | Volatile Uncorr. ECC |\r\n",
      "| Fan  Temp  Perf  Pwr:Usage/Cap|         Memory-Usage | GPU-Util  Compute M. |\r\n",
      "|                               |                      |               MIG M. |\r\n",
      "|===============================+======================+======================|\r\n",
      "|   0  NVIDIA GeForce ...  Off  | 00000000:03:00.0  On |                  N/A |\r\n",
      "| 53%   51C    P8    57W / 350W |    468MiB / 24576MiB |      0%      Default |\r\n",
      "|                               |                      |                  N/A |\r\n",
      "+-------------------------------+----------------------+----------------------+\r\n",
      "                                                                               \r\n",
      "+-----------------------------------------------------------------------------+\r\n",
      "| Processes:                                                                  |\r\n",
      "|  GPU   GI   CI        PID   Type   Process name                  GPU Memory |\r\n",
      "|        ID   ID                                                   Usage      |\r\n",
      "|=============================================================================|\r\n",
      "|    0   N/A  N/A      1700      G   /usr/lib/xorg/Xorg                181MiB |\r\n",
      "|    0   N/A  N/A      4727      G   ...ome-remote-desktop-daemon        4MiB |\r\n",
      "|    0   N/A  N/A      7245      G   /usr/bin/gnome-shell               44MiB |\r\n",
      "|    0   N/A  N/A      8926      G   ...on/Bin/AgentConnectix.bin        4MiB |\r\n",
      "|    0   N/A  N/A     62370      G   ...811023271605574714,131072      122MiB |\r\n",
      "|    0   N/A  N/A    863876      G   ...veSuggestionsOnlyOnDemand       40MiB |\r\n",
      "|    0   N/A  N/A   2456829      G   ...RendererForSitePerProcess       67MiB |\r\n",
      "+-----------------------------------------------------------------------------+\r\n"
     ]
    }
   ],
   "source": [
    "! nvidia-smi"
   ]
  },
  {
   "cell_type": "code",
   "execution_count": 3,
   "metadata": {
    "execution": {
     "iopub.execute_input": "2022-05-06T11:29:03.568305Z",
     "iopub.status.busy": "2022-05-06T11:29:03.567919Z",
     "iopub.status.idle": "2022-05-06T11:29:05.416411Z",
     "shell.execute_reply": "2022-05-06T11:29:05.415470Z"
    },
    "pycharm": {
     "name": "#%%\n"
    }
   },
   "outputs": [],
   "source": [
    "import json\n",
    "from time import time\n",
    "from typing import Callable, Dict, Optional, List\n",
    "import matplotlib.pylab as plt\n",
    "from onnxruntime import IOBinding\n",
    "import numpy as np\n",
    "import onnx\n",
    "import torch\n",
    "from onnx import GraphProto, ModelProto, helper\n",
    "from torch.nn import Linear\n",
    "from transformers import AutoModelForSeq2SeqLM, AutoTokenizer, PretrainedConfig, T5ForConditionalGeneration, TensorType\n",
    "from transformers.generation_utils import GenerationMixin\n",
    "from transformers.modeling_outputs import BaseModelOutputWithPastAndCrossAttentions, Seq2SeqLMOutput\n",
    "from transformers.models.t5.modeling_t5 import T5Stack\n",
    "from nvtx import nvtx\n",
    "from copy import copy\n",
    "\n",
    "from transformer_deploy.backends.ort_utils import create_model_for_provider, inference_onnx_binding\n",
    "from transformer_deploy.backends.pytorch_utils import convert_to_onnx"
   ]
  },
  {
   "cell_type": "markdown",
   "metadata": {
    "collapsed": false,
    "pycharm": {
     "name": "#%% md\n"
    }
   },
   "source": [
    "# Loading Hugging Face model / tokenizer\n",
    "\n",
    "We use a specific branch of OnnxRuntime with a better management of if/else/then ONNX node:\n",
    "\n",
    "```shell\n",
    "git clone --recursive https://github.com/Microsoft/onnxruntime\n",
    "cd onnxruntime\n",
    "git fetch origin hari/location_plan_implicit_inputs\n",
    "git checkout -b hari/location_plan_implicit_inputs FETCH_HEAD\n",
    "CUDACXX=/usr/local/cuda-11.4/bin/nvcc ./build.sh \\\n",
    "    --config Release \\\n",
    "    --build_wheel \\\n",
    "    --parallel \\\n",
    "    --use_cuda \\\n",
    "    --cuda_home /usr/local/cuda-11.4 \\\n",
    "    --cudnn_home /usr/lib/x86_\n",
    "    -linux-gnu/ \\\n",
    "    --skip_test\n",
    "```\n",
    "\n",
    "> to clear previous compilation, delete content of `./build` folder"
   ]
  },
  {
   "cell_type": "code",
   "execution_count": 4,
   "metadata": {
    "execution": {
     "iopub.execute_input": "2022-05-06T11:29:05.421077Z",
     "iopub.status.busy": "2022-05-06T11:29:05.420573Z",
     "iopub.status.idle": "2022-05-06T11:29:18.636118Z",
     "shell.execute_reply": "2022-05-06T11:29:18.635560Z"
    },
    "pycharm": {
     "name": "#%%\n"
    }
   },
   "outputs": [],
   "source": [
    "model_name = \"t5-base\"\n",
    "tokenizer = AutoTokenizer.from_pretrained(model_name)\n",
    "input_ids: torch.Tensor = tokenizer(\"translate English to French: This model is fast!\", return_tensors=TensorType.PYTORCH).input_ids\n",
    "input_ids = input_ids.to(\"cuda\")\n",
    "model: T5ForConditionalGeneration = AutoModelForSeq2SeqLM.from_pretrained(model_name)\n",
    "model = model.eval()\n",
    "model = model.to(\"cuda\")\n",
    "model.config.use_cache = True\n",
    "out_enc: BaseModelOutputWithPastAndCrossAttentions = model.encoder(input_ids=input_ids)\n",
    "out_full: Seq2SeqLMOutput = model(input_ids=input_ids, decoder_input_ids=input_ids)\n",
    "num_layers = model.config.num_layers\n",
    "\n",
    "\n",
    "def are_equal(a: torch.Tensor, b: torch.Tensor, atol: float = 2e-1) -> None:\n",
    "    assert np.allclose(a=a.detach().cpu().numpy(), b=b.detach().cpu().numpy(), atol=atol), f\"{a}\\n\\nVS\\n\\n{b}\""
   ]
  },
  {
   "cell_type": "markdown",
   "metadata": {
    "collapsed": false,
    "pycharm": {
     "name": "#%% md\n"
    }
   },
   "source": [
    "# Export to ONNX\n",
    "\n",
    "## Export encoder part"
   ]
  },
  {
   "cell_type": "code",
   "execution_count": 5,
   "metadata": {
    "execution": {
     "iopub.execute_input": "2022-05-06T11:29:18.641108Z",
     "iopub.status.busy": "2022-05-06T11:29:18.640871Z",
     "iopub.status.idle": "2022-05-06T11:29:24.898448Z",
     "shell.execute_reply": "2022-05-06T11:29:24.897957Z"
    },
    "pycharm": {
     "name": "#%%\n"
    }
   },
   "outputs": [],
   "source": [
    "model = model.to(\"cuda\")\n",
    "\n",
    "convert_to_onnx(\n",
    "    model_pytorch=model.encoder,\n",
    "    output_path=\"test-enc.onnx\",\n",
    "    inputs_pytorch={\"input_ids\": input_ids},\n",
    "    var_output_seq=True,\n",
    "    quantization=False,\n",
    ")\n",
    "\n",
    "enc_onnx = create_model_for_provider(\"test-enc.onnx\", \"CUDAExecutionProvider\")\n",
    "enc_onnx_out = inference_onnx_binding(\n",
    "    model_onnx=enc_onnx,\n",
    "    inputs={\"input_ids\": input_ids},\n",
    "    device=input_ids.device.type,\n",
    ")[\"output\"]\n",
    "\n",
    "are_equal(a=enc_onnx_out, b=out_enc.last_hidden_state)"
   ]
  },
  {
   "cell_type": "markdown",
   "metadata": {
    "collapsed": false,
    "pycharm": {
     "name": "#%% md\n"
    }
   },
   "source": [
    "## Export decoder\n",
    "\n",
    "### Wrapper to include some post processing on the decoder output\n",
    "\n",
    "The post processing is mainly a projection of the decoder output on a matrix with one of its dimension equal to model vocabulary size, so we have scores for each possible token."
   ]
  },
  {
   "cell_type": "code",
   "execution_count": 6,
   "metadata": {
    "execution": {
     "iopub.execute_input": "2022-05-06T11:29:24.900858Z",
     "iopub.status.busy": "2022-05-06T11:29:24.900705Z",
     "iopub.status.idle": "2022-05-06T11:29:24.932530Z",
     "shell.execute_reply": "2022-05-06T11:29:24.932040Z"
    },
    "pycharm": {
     "name": "#%%\n"
    }
   },
   "outputs": [],
   "source": [
    "from typing import Tuple\n",
    "\n",
    "\n",
    "class ExportT5(torch.nn.Module):\n",
    "    def __init__(self, decoder: T5Stack, lm_head: Linear):\n",
    "        super(ExportT5, self).__init__()\n",
    "        self.decoder = decoder\n",
    "        self.lm_head = lm_head\n",
    "\n",
    "    def forward(self, input_ids: torch.Tensor, encoder_hidden_states: torch.Tensor, past_key_values: Tuple = None):\n",
    "        out_dec = self.decoder.forward(\n",
    "            input_ids=input_ids, encoder_hidden_states=encoder_hidden_states, past_key_values=past_key_values\n",
    "        )\n",
    "        # Rescale output before projecting on vocab\n",
    "        out_dec[\"last_hidden_state\"] = out_dec[\"last_hidden_state\"] * (model.model_dim**-0.5)\n",
    "        out_dec[\"last_hidden_state\"] = self.lm_head(out_dec[\"last_hidden_state\"])\n",
    "        return out_dec\n",
    "\n",
    "\n",
    "model.cuda()\n",
    "model_decoder = ExportT5(decoder=model.decoder, lm_head=model.lm_head).eval()\n",
    "out_model_export: torch.Tensor = model_decoder(input_ids=input_ids, encoder_hidden_states=out_enc.last_hidden_state)\n",
    "\n",
    "are_equal(a=out_model_export[\"last_hidden_state\"], b=out_full.logits)"
   ]
  },
  {
   "cell_type": "markdown",
   "metadata": {
    "collapsed": false,
    "pycharm": {
     "name": "#%% md\n"
    }
   },
   "source": [
    "### Export decoder part to ONNX\n",
    "\n",
    "Export 2 versions of the decoder, one without cache support and one with it.\n",
    "Both models share most of their weights."
   ]
  },
  {
   "cell_type": "code",
   "execution_count": 7,
   "metadata": {
    "execution": {
     "iopub.execute_input": "2022-05-06T11:29:24.935530Z",
     "iopub.status.busy": "2022-05-06T11:29:24.935323Z",
     "iopub.status.idle": "2022-05-06T11:29:49.301514Z",
     "shell.execute_reply": "2022-05-06T11:29:49.301047Z"
    },
    "pycharm": {
     "name": "#%%\n"
    }
   },
   "outputs": [
    {
     "name": "stderr",
     "output_type": "stream",
     "text": [
      "/home/geantvert/.local/share/virtualenvs/fast_transformer/lib/python3.9/site-packages/transformers/modeling_utils.py:529: TracerWarning: Converting a tensor to a Python boolean might cause the trace to be incorrect. We can't record the data flow of Python values, so this value will be treated as a constant in the future. This means that the trace might not generalize to other inputs!\n",
      "  if causal_mask.shape[1] < attention_mask.shape[1]:\n",
      "In-place op on output of tensor.shape. See https://pytorch.org/docs/master/onnx.html#avoid-inplace-operations-when-using-tensor-shape-in-tracing-mode\n",
      "In-place op on output of tensor.shape. See https://pytorch.org/docs/master/onnx.html#avoid-inplace-operations-when-using-tensor-shape-in-tracing-mode\n"
     ]
    }
   ],
   "source": [
    "model_decoder.cuda()\n",
    "# decoder output one step before\n",
    "out_dec_pytorch = model_decoder(input_ids=input_ids[:, :-1], encoder_hidden_states=out_enc.last_hidden_state)\n",
    "\n",
    "model_inputs = {\n",
    "    \"input_ids\": input_ids[:, -1:].type(torch.int32),\n",
    "    \"encoder_hidden_states\": out_enc.last_hidden_state,\n",
    "    \"past_key_values\": out_dec_pytorch.past_key_values,\n",
    "}\n",
    "\n",
    "# TODO replace hard coded axis names by generated one when generation works as expected\n",
    "input_names = [\"input_ids\", \"encoder_hidden_states\"]\n",
    "\n",
    "for i in range(num_layers):\n",
    "    input_names.append(f\"past_key_values.{i}.decoder.key\")\n",
    "    input_names.append(f\"past_key_values.{i}.decoder.value\")\n",
    "    input_names.append(f\"past_key_values.{i}.encoder.key\")\n",
    "    input_names.append(f\"past_key_values.{i}.encoder.value\")\n",
    "\n",
    "output_names = [\"logits\"]\n",
    "\n",
    "for i in range(num_layers):\n",
    "    output_names.append(f\"present.{i}.decoder.key\")\n",
    "    output_names.append(f\"present.{i}.decoder.value\")\n",
    "    output_names.append(f\"present.{i}.encoder.key\")\n",
    "    output_names.append(f\"present.{i}.encoder.value\")\n",
    "\n",
    "dynamic_axis = {\n",
    "    \"input_ids\": {0: \"batch\", 1: \"encoder_sequence\"},\n",
    "    \"encoder_hidden_states\": {0: \"batch\", 1: \"encoder_sequence\"},\n",
    "    \"logits\": {0: \"batch\", 1: \"decoder_sequence\"},\n",
    "}\n",
    "\n",
    "\n",
    "for i in range(num_layers):\n",
    "    dynamic_axis[f\"past_key_values.{i}.decoder.key\"] = {0: \"batch\", 2: \"past_decoder_sequence\"}\n",
    "    dynamic_axis[f\"past_key_values.{i}.decoder.value\"] = {0: \"batch\", 2: \"past_decoder_sequence\"}\n",
    "    dynamic_axis[f\"past_key_values.{i}.encoder.key\"] = {0: \"batch\", 2: \"past_encoder_sequence\"}\n",
    "    dynamic_axis[f\"past_key_values.{i}.encoder.value\"] = {0: \"batch\", 2: \"past_encoder_sequence\"}\n",
    "\n",
    "    dynamic_axis[f\"present.{i}.decoder.key\"] = {0: \"batch\", 2: \"past_decoder_sequence + sequence\"}\n",
    "    dynamic_axis[f\"present.{i}.decoder.value\"] = {0: \"batch\", 2: \"past_decoder_sequence + sequence\"}\n",
    "    dynamic_axis[f\"present.{i}.encoder.key\"] = {0: \"batch\", 2: \"past_encoder_sequence\"}\n",
    "    dynamic_axis[f\"present.{i}.encoder.value\"] = {0: \"batch\", 2: \"past_encoder_sequence\"}\n",
    "\n",
    "\n",
    "with torch.no_grad():\n",
    "    model.config.return_dict = True\n",
    "    model.eval()\n",
    "\n",
    "    # export can works with named args but the dict containing named args as to be last element of the args tuple\n",
    "    torch.onnx.export(\n",
    "        model_decoder,\n",
    "        (model_inputs,),\n",
    "        f=\"test-dec-cache.onnx\",\n",
    "        input_names=input_names,\n",
    "        output_names=output_names,\n",
    "        dynamic_axes=dynamic_axis,\n",
    "        do_constant_folding=True,\n",
    "        opset_version=13,\n",
    "    )\n",
    "\n",
    "model_inputs_no_cache = {\n",
    "    \"input_ids\": input_ids.type(dtype=torch.int32),\n",
    "    \"encoder_hidden_states\": out_enc.last_hidden_state,\n",
    "}\n",
    "\n",
    "with torch.no_grad():\n",
    "    model.config.return_dict = True\n",
    "    model.eval()\n",
    "\n",
    "    # export can works with named args but the dict containing named args as to be last element of the args tuple\n",
    "    torch.onnx.export(\n",
    "        model_decoder,\n",
    "        (model_inputs_no_cache,),\n",
    "        f=\"test-dec-no-cache.onnx\",\n",
    "        input_names=list(model_inputs_no_cache.keys()),\n",
    "        output_names=output_names,\n",
    "        dynamic_axes={k: v for k, v in dynamic_axis.items() if \"past_key_values\" not in k},\n",
    "        do_constant_folding=True,\n",
    "        opset_version=13,\n",
    "    )\n",
    "_ = model_decoder.cpu()  # free cuda memory"
   ]
  },
  {
   "cell_type": "markdown",
   "metadata": {
    "collapsed": false,
    "pycharm": {
     "name": "#%% md\n"
    }
   },
   "source": [
    "# Conversion to FP16\n",
    "\n",
    "The only truly random input is `input ids` (aka token ids).\n",
    "The range of realistic values of `input ids` is known: each dimension can only be a positive integer lower than the vocabulary size.\n",
    "For other inputs of the model (ouput of encoder, past states), it's a bit more complicated.\n",
    "In theory it can be any value in the FP32 range, but because of how models are initialized and trained, most of them are close to 0.\n",
    "To avoid too  much guessing, we have decided to just take the output of the real model being fed random `input ids`."
   ]
  },
  {
   "cell_type": "code",
   "execution_count": 8,
   "metadata": {
    "execution": {
     "iopub.execute_input": "2022-05-06T11:29:49.305807Z",
     "iopub.status.busy": "2022-05-06T11:29:49.305565Z",
     "iopub.status.idle": "2022-05-06T11:32:06.129960Z",
     "shell.execute_reply": "2022-05-06T11:32:06.128751Z"
    },
    "pycharm": {
     "name": "#%%\n"
    }
   },
   "outputs": [],
   "source": [
    "from transformer_deploy.backends.ort_utils import get_keep_fp32_nodes\n",
    "from transformer_deploy.backends.ort_utils import convert_fp16\n",
    "\n",
    "\n",
    "def get_random_input_no_cache() -> Dict[str, torch.Tensor]:\n",
    "    batch = 1\n",
    "    seq_len = 512\n",
    "    random_input_ids = torch.randint(\n",
    "        low=2, high=tokenizer.vocab_size, size=(batch, seq_len), dtype=torch.int32, device=\"cuda\"\n",
    "    )\n",
    "    inputs = {\"input_ids\": random_input_ids}\n",
    "    encoder_hidden_states = inference_onnx_binding(\n",
    "        model_onnx=enc_onnx,\n",
    "        inputs=inputs,\n",
    "        device=\"cuda\",\n",
    "        clone_tensor=False,\n",
    "    )[\"output\"]\n",
    "    inputs[\"encoder_hidden_states\"] = encoder_hidden_states\n",
    "    return inputs\n",
    "\n",
    "\n",
    "keep_fp32_no_cache = get_keep_fp32_nodes(\n",
    "    onnx_model_path=\"test-dec-no-cache.onnx\", get_input=get_random_input_no_cache, nb_try=1000\n",
    ")\n",
    "\n",
    "onnx_model_no_cache_fp16 = onnx.load(\"test-dec-no-cache.onnx\")\n",
    "onnx_model_no_cache_fp16 = convert_fp16(onnx_model=onnx_model_no_cache_fp16, nodes_to_exclude=keep_fp32_no_cache)\n",
    "onnx.save(onnx_model_no_cache_fp16, \"test-dec-no-cache-fp16.onnx\")"
   ]
  },
  {
   "cell_type": "code",
   "execution_count": 9,
   "metadata": {
    "execution": {
     "iopub.execute_input": "2022-05-06T11:32:06.134632Z",
     "iopub.status.busy": "2022-05-06T11:32:06.134150Z",
     "iopub.status.idle": "2022-05-06T11:34:30.779946Z",
     "shell.execute_reply": "2022-05-06T11:34:30.779130Z"
    },
    "pycharm": {
     "name": "#%%\n"
    }
   },
   "outputs": [],
   "source": [
    "dec_no_cache_ort_model = create_model_for_provider(\"test-dec-no-cache.onnx\", \"CUDAExecutionProvider\")\n",
    "\n",
    "# thread sur FP16 marche pas\n",
    "# https://github.com/microsoft/onnxruntime/issues/11119=\n",
    "# use info from tokenizer size and max shape provided through the command line\n",
    "def get_random_input_cache() -> Dict[str, torch.Tensor]:\n",
    "    inputs = get_random_input_no_cache()\n",
    "    dec_past_states = inference_onnx_binding(\n",
    "        model_onnx=dec_no_cache_ort_model,\n",
    "        inputs=inputs,\n",
    "        device=\"cuda\",\n",
    "        clone_tensor=False,\n",
    "    )\n",
    "    for k, v in dec_past_states.items():\n",
    "        if k == \"logits\":\n",
    "            continue\n",
    "        new_k = k.replace(\"present\", \"past_key_values\")\n",
    "        inputs[new_k] = v\n",
    "    batch, _ = inputs[\"input_ids\"].shape\n",
    "    complement = torch.randint(low=0, high=tokenizer.vocab_size, size=(batch, 1), dtype=torch.int32, device=\"cuda\")\n",
    "    inputs[\"input_ids\"] = torch.concat(tensors=[inputs[\"input_ids\"], complement], dim=1)\n",
    "    return inputs\n",
    "\n",
    "\n",
    "keep_fp32_cache = get_keep_fp32_nodes(\n",
    "    onnx_model_path=\"test-dec-cache.onnx\", get_input=get_random_input_cache, nb_try=1000\n",
    ")\n",
    "\n",
    "onnx_model_cache_fp16 = onnx.load(\"test-dec-cache.onnx\")\n",
    "onnx_model_cache_fp16 = convert_fp16(onnx_model=onnx_model_cache_fp16, nodes_to_exclude=keep_fp32_cache)\n",
    "onnx.save(onnx_model_cache_fp16, \"test-dec-cache-fp16.onnx\")\n",
    "del dec_no_cache_ort_model  # free cuda memory"
   ]
  },
  {
   "cell_type": "markdown",
   "metadata": {
    "collapsed": false,
    "pycharm": {
     "name": "#%% md\n"
    }
   },
   "source": [
    "### Merge ONNX computation graph to deduplicate weights\n",
    "\n",
    "TODO remove unecessary initializer to avoid warning messages"
   ]
  },
  {
   "cell_type": "code",
   "execution_count": 10,
   "metadata": {
    "execution": {
     "iopub.execute_input": "2022-05-06T11:34:30.784841Z",
     "iopub.status.busy": "2022-05-06T11:34:30.784651Z",
     "iopub.status.idle": "2022-05-06T11:34:38.771154Z",
     "shell.execute_reply": "2022-05-06T11:34:38.770009Z"
    },
    "pycharm": {
     "name": "#%%\n"
    }
   },
   "outputs": [
    {
     "name": "stdout",
     "output_type": "stream",
     "text": [
      "name: cache_node_onnx::Slice_2276 - size: 0.01\n",
      "name: cache_node_onnx::Slice_2277 - size: 0.01\n",
      "name: cache_node_onnx::Slice_2287 - size: 0.01\n",
      "name: cache_node_onnx::Slice_2288 - size: 0.01\n"
     ]
    }
   ],
   "source": [
    "prefix = \"cache_node_\"\n",
    "mapping_initializer_cache_to_no_cache = dict()\n",
    "to_add = list()\n",
    "for node_cache in onnx_model_cache_fp16.graph.initializer:\n",
    "    found = False\n",
    "    for node_no_cache in onnx_model_no_cache_fp16.graph.initializer:\n",
    "        if node_cache.raw_data == node_no_cache.raw_data:\n",
    "            found = True\n",
    "            mapping_initializer_cache_to_no_cache[node_cache.name] = node_no_cache.name\n",
    "            break\n",
    "    if not found:\n",
    "        node_cache.name = prefix + node_cache.name\n",
    "        to_add.append(node_cache)\n",
    "        mapping_initializer_cache_to_no_cache[node_cache.name] = node_cache.name\n",
    "        print(f\"name: {node_cache.name} - size: {len(node_cache.raw_data)/1024:.2f}\")\n",
    "\n",
    "onnx_model_no_cache_fp16.graph.initializer.extend(to_add)\n",
    "# I/O model names should not be prefixed\n",
    "model_io_names = [n.name for n in list(onnx_model_cache_fp16.graph.input) + list(onnx_model_cache_fp16.graph.output)]\n",
    "\n",
    "for node in onnx_model_cache_fp16.graph.node:\n",
    "    for index, input_name in enumerate(node.input):\n",
    "        if input_name in model_io_names:\n",
    "            continue\n",
    "        node.input[index] = mapping_initializer_cache_to_no_cache.get(input_name, prefix + input_name)\n",
    "    for index, output_name in enumerate(node.output):\n",
    "        if output_name in model_io_names:\n",
    "            continue\n",
    "        node.output[index] = prefix + output_name\n",
    "    node.name = prefix + node.name\n",
    "model_io_names = [n.name for n in list(onnx_model_cache_fp16.graph.input) + list(onnx_model_cache_fp16.graph.output)]\n",
    "\n",
    "prefix = \"init_\"\n",
    "cache = dict()\n",
    "for node in onnx_model_no_cache_fp16.graph.initializer:\n",
    "    if node.name in model_io_names:\n",
    "        new_name = prefix + node.name\n",
    "        cache[node.name] = new_name\n",
    "        node.name = new_name\n",
    "\n",
    "for node in onnx_model_no_cache_fp16.graph.node:\n",
    "    for input_index, n in enumerate(node.input):\n",
    "        node.input[input_index] = cache.get(n, n)\n",
    "\n",
    "# mandatory for subgraph in if/else node\n",
    "assert len(onnx_model_cache_fp16.graph.output) == len(onnx_model_no_cache_fp16.graph.output)\n",
    "\n",
    "graph_cache: onnx.GraphProto = onnx.helper.make_graph(\n",
    "    nodes=list(onnx_model_cache_fp16.graph.node),\n",
    "    name=\"graph-cache\",\n",
    "    inputs=[],\n",
    "    outputs=list(onnx_model_cache_fp16.graph.output),\n",
    "    initializer=[],\n",
    ")\n",
    "\n",
    "graph_no_cache: onnx.GraphProto = onnx.helper.make_graph(\n",
    "    nodes=list(onnx_model_no_cache_fp16.graph.node),\n",
    "    name=\"graph-no-cache\",\n",
    "    inputs=[],\n",
    "    outputs=list(onnx_model_no_cache_fp16.graph.output),\n",
    "    initializer=[],\n",
    ")\n",
    "\n",
    "enable_cache_input = onnx.helper.make_tensor_value_info(name=\"enable_cache\", elem_type=onnx.TensorProto.BOOL, shape=[1])\n",
    "\n",
    "if_node = onnx.helper.make_node(\n",
    "    op_type=\"If\",\n",
    "    inputs=[\"enable_cache\"],\n",
    "    outputs=[o.name for o in list(onnx_model_no_cache_fp16.graph.output)],\n",
    "    then_branch=graph_cache,\n",
    "    else_branch=graph_no_cache,\n",
    ")\n",
    "\n",
    "if_graph_def: GraphProto = helper.make_graph(\n",
    "    nodes=[if_node],\n",
    "    name=\"if-model\",\n",
    "    inputs=list(onnx_model_cache_fp16.graph.input) + [enable_cache_input],\n",
    "    outputs=list(onnx_model_no_cache_fp16.graph.output),\n",
    "    initializer=list(onnx_model_no_cache_fp16.graph.initializer),\n",
    ")\n",
    "\n",
    "\n",
    "model_def: ModelProto = helper.make_model(\n",
    "    if_graph_def, producer_name=\"onnx-example\", opset_imports=[helper.make_opsetid(onnx.defs.ONNX_DOMAIN, 13)]\n",
    ")\n",
    "onnx.save(model_def, \"test-dec-if.onnx\")"
   ]
  },
  {
   "cell_type": "markdown",
   "metadata": {
    "collapsed": false,
    "pycharm": {
     "name": "#%% md\n"
    }
   },
   "source": [
    "When a name appears in both the initializer list and the graph input list, a runtime MAY allow a caller to specify a value for this (input) name overriding the value specified in the initializer and a runtime MAY allow users to omit specifying a value for this (input) name, choosing the value specified in the initializer. Names of constants that are not meant to be overridden by the caller should appear only in the initializer list and not in the graph input list. In models with IR version >= 4, in nested subgraphs used as attribute values, users MUST NOT use the same name as both a subgraph initializer and subgraph input unless the corresponding op's specification explicitly allows it. In models with IR version <= 3, users MAY use the same name as both a subgraph initializer and subgraph input, but this is restricted to support constants via initializers that are not intended to correspond to any actual inputs passed from the node into the subgraph. In particular, the control-flow operator semantics determines the set of inputs supplied to the execution of the subgraph, and these input names MUST NOT appear as subgraph initializers. Subgraph initializer names must appear in the graph input list after the actual inputs. This allows the actual inputs and formal inputs to be matched positionally.\n",
    "https://github.com/onnx/onnx/blob/ee4888c24510787bb8c61ebcba43ef252744e648/docs/IR.md"
   ]
  },
  {
   "cell_type": "markdown",
   "metadata": {
    "collapsed": false,
    "pycharm": {
     "name": "#%% md\n"
    }
   },
   "source": [
    "### Check ONNX decoder output\n",
    "\n",
    "Compare ONNX output with and without cache, plus compare with Pytorch output."
   ]
  },
  {
   "cell_type": "code",
   "execution_count": 11,
   "metadata": {
    "execution": {
     "iopub.execute_input": "2022-05-06T11:34:38.776783Z",
     "iopub.status.busy": "2022-05-06T11:34:38.776426Z",
     "iopub.status.idle": "2022-05-06T11:34:40.255384Z",
     "shell.execute_reply": "2022-05-06T11:34:40.254135Z"
    },
    "pycharm": {
     "name": "#%%\n"
    }
   },
   "outputs": [
    {
     "name": "stderr",
     "output_type": "stream",
     "text": [
      "2022-05-06 12:34:39.603730142 [W:onnxruntime:, graph.cc:3515 CleanUnusedInitializersAndNodeArgs] Removing initializer 'cache_node_onnx::Div_803'. It is not used by any node and should be removed from the model.\n",
      "2022-05-06 12:34:39.603754490 [W:onnxruntime:, graph.cc:3515 CleanUnusedInitializersAndNodeArgs] Removing initializer 'cache_node_onnx::Div_954'. It is not used by any node and should be removed from the model.\n",
      "2022-05-06 12:34:39.603758952 [W:onnxruntime:, graph.cc:3515 CleanUnusedInitializersAndNodeArgs] Removing initializer 'cache_node_onnx::Div_702'. It is not used by any node and should be removed from the model.\n",
      "2022-05-06 12:34:39.603762737 [W:onnxruntime:, graph.cc:3515 CleanUnusedInitializersAndNodeArgs] Removing initializer 'cache_node_onnx::Div_1709'. It is not used by any node and should be removed from the model.\n",
      "2022-05-06 12:34:39.603766486 [W:onnxruntime:, graph.cc:3515 CleanUnusedInitializersAndNodeArgs] Removing initializer 'cache_node_onnx::Div_652'. It is not used by any node and should be removed from the model.\n",
      "2022-05-06 12:34:39.603779980 [W:onnxruntime:, graph.cc:3515 CleanUnusedInitializersAndNodeArgs] Removing initializer 'cache_node_onnx::Div_2212'. It is not used by any node and should be removed from the model.\n",
      "2022-05-06 12:34:39.603785295 [W:onnxruntime:, graph.cc:3515 CleanUnusedInitializersAndNodeArgs] Removing initializer 'cache_node_onnx::Div_1004'. It is not used by any node and should be removed from the model.\n",
      "2022-05-06 12:34:39.603790172 [W:onnxruntime:, graph.cc:3515 CleanUnusedInitializersAndNodeArgs] Removing initializer 'cache_node_onnx::Div_1457'. It is not used by any node and should be removed from the model.\n",
      "2022-05-06 12:34:39.603800853 [W:onnxruntime:, graph.cc:3515 CleanUnusedInitializersAndNodeArgs] Removing initializer 'cache_node_onnx::Div_2061'. It is not used by any node and should be removed from the model.\n",
      "2022-05-06 12:34:39.603805298 [W:onnxruntime:, graph.cc:3515 CleanUnusedInitializersAndNodeArgs] Removing initializer 'cache_node_onnx::Div_870'. It is not used by any node and should be removed from the model.\n",
      "2022-05-06 12:34:39.603810071 [W:onnxruntime:, graph.cc:3515 CleanUnusedInitializersAndNodeArgs] Removing initializer 'cache_node_onnx::Div_1323'. It is not used by any node and should be removed from the model.\n",
      "2022-05-06 12:34:39.603815444 [W:onnxruntime:, graph.cc:3515 CleanUnusedInitializersAndNodeArgs] Removing initializer 'cache_node_onnx::Div_853'. It is not used by any node and should be removed from the model.\n",
      "2022-05-06 12:34:39.603819701 [W:onnxruntime:, graph.cc:3515 CleanUnusedInitializersAndNodeArgs] Removing initializer 'cache_node_onnx::Div_1155'. It is not used by any node and should be removed from the model.\n",
      "2022-05-06 12:34:39.603827451 [W:onnxruntime:, graph.cc:3515 CleanUnusedInitializersAndNodeArgs] Removing initializer 'cache_node_onnx::Div_1625'. It is not used by any node and should be removed from the model.\n",
      "2022-05-06 12:34:39.603831213 [W:onnxruntime:, graph.cc:3515 CleanUnusedInitializersAndNodeArgs] Removing initializer 'cache_node_onnx::Div_1910'. It is not used by any node and should be removed from the model.\n",
      "2022-05-06 12:34:39.603836228 [W:onnxruntime:, graph.cc:3515 CleanUnusedInitializersAndNodeArgs] Removing initializer 'cache_node_onnx::Div_568'. It is not used by any node and should be removed from the model.\n",
      "2022-05-06 12:34:39.603840046 [W:onnxruntime:, graph.cc:3515 CleanUnusedInitializersAndNodeArgs] Removing initializer 'cache_node_onnx::Div_320'. It is not used by any node and should be removed from the model.\n",
      "2022-05-06 12:34:39.603846949 [W:onnxruntime:, graph.cc:3515 CleanUnusedInitializersAndNodeArgs] Removing initializer 'cache_node_onnx::Div_2229'. It is not used by any node and should be removed from the model.\n",
      "2022-05-06 12:34:39.603851301 [W:onnxruntime:, graph.cc:3515 CleanUnusedInitializersAndNodeArgs] Removing initializer 'cache_node_onnx::Div_1407'. It is not used by any node and should be removed from the model.\n",
      "2022-05-06 12:34:39.603861257 [W:onnxruntime:, graph.cc:3515 CleanUnusedInitializersAndNodeArgs] Removing initializer 'cache_node_onnx::Div_1021'. It is not used by any node and should be removed from the model.\n",
      "2022-05-06 12:34:39.603866810 [W:onnxruntime:, graph.cc:3515 CleanUnusedInitializersAndNodeArgs] Removing initializer 'cache_node_onnx::Div_1105'. It is not used by any node and should be removed from the model.\n",
      "2022-05-06 12:34:39.603872127 [W:onnxruntime:, graph.cc:3515 CleanUnusedInitializersAndNodeArgs] Removing initializer 'cache_node_onnx::Div_1172'. It is not used by any node and should be removed from the model.\n",
      "2022-05-06 12:34:39.603876326 [W:onnxruntime:, graph.cc:3515 CleanUnusedInitializersAndNodeArgs] Removing initializer 'cache_node_onnx::Div_719'. It is not used by any node and should be removed from the model.\n",
      "2022-05-06 12:34:39.603882003 [W:onnxruntime:, graph.cc:3515 CleanUnusedInitializersAndNodeArgs] Removing initializer 'cache_node_onnx::Div_1306'. It is not used by any node and should be removed from the model.\n",
      "2022-05-06 12:34:39.603892426 [W:onnxruntime:, graph.cc:3515 CleanUnusedInitializersAndNodeArgs] Removing initializer 'cache_node_onnx::Div_1558'. It is not used by any node and should be removed from the model.\n",
      "2022-05-06 12:34:39.603897246 [W:onnxruntime:, graph.cc:3515 CleanUnusedInitializersAndNodeArgs] Removing initializer 'cache_node_onnx::Div_1608'. It is not used by any node and should be removed from the model.\n",
      "2022-05-06 12:34:39.603902614 [W:onnxruntime:, graph.cc:3515 CleanUnusedInitializersAndNodeArgs] Removing initializer 'cache_node_onnx::Div_551'. It is not used by any node and should be removed from the model.\n",
      "2022-05-06 12:34:39.603908086 [W:onnxruntime:, graph.cc:3515 CleanUnusedInitializersAndNodeArgs] Removing initializer 'cache_node_onnx::Div_1256'. It is not used by any node and should be removed from the model.\n",
      "2022-05-06 12:34:39.603912084 [W:onnxruntime:, graph.cc:3515 CleanUnusedInitializersAndNodeArgs] Removing initializer 'cache_node_onnx::Div_1776'. It is not used by any node and should be removed from the model.\n",
      "2022-05-06 12:34:39.603915898 [W:onnxruntime:, graph.cc:3515 CleanUnusedInitializersAndNodeArgs] Removing initializer 'cache_node_onnx::Div_1860'. It is not used by any node and should be removed from the model.\n",
      "2022-05-06 12:34:39.603919945 [W:onnxruntime:, graph.cc:3515 CleanUnusedInitializersAndNodeArgs] Removing initializer 'cache_node_onnx::Div_467'. It is not used by any node and should be removed from the model.\n",
      "2022-05-06 12:34:39.603923989 [W:onnxruntime:, graph.cc:3515 CleanUnusedInitializersAndNodeArgs] Removing initializer 'cache_node_onnx::Div_1474'. It is not used by any node and should be removed from the model.\n",
      "2022-05-06 12:34:39.603927965 [W:onnxruntime:, graph.cc:3515 CleanUnusedInitializersAndNodeArgs] Removing initializer 'cache_node_onnx::Div_1927'. It is not used by any node and should be removed from the model.\n",
      "2022-05-06 12:34:39.603933845 [W:onnxruntime:, graph.cc:3515 CleanUnusedInitializersAndNodeArgs] Removing initializer 'cache_node_onnx::Div_2011'. It is not used by any node and should be removed from the model.\n",
      "2022-05-06 12:34:39.603939501 [W:onnxruntime:, graph.cc:3515 CleanUnusedInitializersAndNodeArgs] Removing initializer 'cache_node_onnx::Div_2078'. It is not used by any node and should be removed from the model.\n",
      "2022-05-06 12:34:39.603943747 [W:onnxruntime:, graph.cc:3515 CleanUnusedInitializersAndNodeArgs] Removing initializer 'cache_node_onnx::Div_1759'. It is not used by any node and should be removed from the model.\n",
      "2022-05-06 12:34:39.603948052 [W:onnxruntime:, graph.cc:3515 CleanUnusedInitializersAndNodeArgs] Removing initializer 'cache_node_onnx::Div_2162'. It is not used by any node and should be removed from the model.\n",
      "2022-05-06 12:34:39.604358499 [W:onnxruntime:, graph.cc:3515 CleanUnusedInitializersAndNodeArgs] Removing initializer 'onnx::Div_2485'. It is not used by any node and should be removed from the model.\n",
      "2022-05-06 12:34:39.604365971 [W:onnxruntime:, graph.cc:3515 CleanUnusedInitializersAndNodeArgs] Removing initializer 'onnx::Div_2386'. It is not used by any node and should be removed from the model.\n",
      "2022-05-06 12:34:39.604371727 [W:onnxruntime:, graph.cc:3515 CleanUnusedInitializersAndNodeArgs] Removing initializer 'onnx::Div_1563'. It is not used by any node and should be removed from the model.\n",
      "2022-05-06 12:34:39.604376053 [W:onnxruntime:, graph.cc:3515 CleanUnusedInitializersAndNodeArgs] Removing initializer 'onnx::Div_1037'. It is not used by any node and should be removed from the model.\n",
      "2022-05-06 12:34:39.604382151 [W:onnxruntime:, graph.cc:3515 CleanUnusedInitializersAndNodeArgs] Removing initializer 'onnx::Div_856'. It is not used by any node and should be removed from the model.\n",
      "2022-05-06 12:34:39.604385764 [W:onnxruntime:, graph.cc:3515 CleanUnusedInitializersAndNodeArgs] Removing initializer 'onnx::Div_839'. It is not used by any node and should be removed from the model.\n",
      "2022-05-06 12:34:39.604390330 [W:onnxruntime:, graph.cc:3515 CleanUnusedInitializersAndNodeArgs] Removing initializer 'onnx::Div_757'. It is not used by any node and should be removed from the model.\n",
      "2022-05-06 12:34:39.604394388 [W:onnxruntime:, graph.cc:3515 CleanUnusedInitializersAndNodeArgs] Removing initializer 'onnx::Div_675'. It is not used by any node and should be removed from the model.\n",
      "2022-05-06 12:34:39.604398326 [W:onnxruntime:, graph.cc:3515 CleanUnusedInitializersAndNodeArgs] Removing initializer 'onnx::Div_658'. It is not used by any node and should be removed from the model.\n",
      "2022-05-06 12:34:39.604403293 [W:onnxruntime:, graph.cc:3515 CleanUnusedInitializersAndNodeArgs] Removing initializer 'onnx::Div_576'. It is not used by any node and should be removed from the model.\n",
      "2022-05-06 12:34:39.604407374 [W:onnxruntime:, graph.cc:3515 CleanUnusedInitializersAndNodeArgs] Removing initializer 'onnx::Div_2123'. It is not used by any node and should be removed from the model.\n",
      "2022-05-06 12:34:39.604413028 [W:onnxruntime:, graph.cc:3515 CleanUnusedInitializersAndNodeArgs] Removing initializer 'onnx::Div_494'. It is not used by any node and should be removed from the model.\n",
      "2022-05-06 12:34:39.604417048 [W:onnxruntime:, graph.cc:3515 CleanUnusedInitializersAndNodeArgs] Removing initializer 'onnx::Div_1218'. It is not used by any node and should be removed from the model.\n",
      "2022-05-06 12:34:39.604420752 [W:onnxruntime:, graph.cc:3515 CleanUnusedInitializersAndNodeArgs] Removing initializer 'onnx::Div_938'. It is not used by any node and should be removed from the model.\n",
      "2022-05-06 12:34:39.604426310 [W:onnxruntime:, graph.cc:3515 CleanUnusedInitializersAndNodeArgs] Removing initializer 'onnx::Div_252'. It is not used by any node and should be removed from the model.\n",
      "2022-05-06 12:34:39.604437488 [W:onnxruntime:, graph.cc:3515 CleanUnusedInitializersAndNodeArgs] Removing initializer 'onnx::Div_1020'. It is not used by any node and should be removed from the model.\n",
      "2022-05-06 12:34:39.604441221 [W:onnxruntime:, graph.cc:3515 CleanUnusedInitializersAndNodeArgs] Removing initializer 'onnx::Div_1761'. It is not used by any node and should be removed from the model.\n",
      "2022-05-06 12:34:39.604446046 [W:onnxruntime:, graph.cc:3515 CleanUnusedInitializersAndNodeArgs] Removing initializer 'onnx::Div_477'. It is not used by any node and should be removed from the model.\n",
      "2022-05-06 12:34:39.604450859 [W:onnxruntime:, graph.cc:3515 CleanUnusedInitializersAndNodeArgs] Removing initializer 'onnx::Div_376'. It is not used by any node and should be removed from the model.\n",
      "2022-05-06 12:34:39.604455808 [W:onnxruntime:, graph.cc:3515 CleanUnusedInitializersAndNodeArgs] Removing initializer 'onnx::Div_1925'. It is not used by any node and should be removed from the model.\n",
      "2022-05-06 12:34:39.604459975 [W:onnxruntime:, graph.cc:3515 CleanUnusedInitializersAndNodeArgs] Removing initializer 'onnx::Div_2468'. It is not used by any node and should be removed from the model.\n",
      "2022-05-06 12:34:39.604465471 [W:onnxruntime:, graph.cc:3515 CleanUnusedInitializersAndNodeArgs] Removing initializer 'onnx::Div_1119'. It is not used by any node and should be removed from the model.\n",
      "2022-05-06 12:34:39.604471269 [W:onnxruntime:, graph.cc:3515 CleanUnusedInitializersAndNodeArgs] Removing initializer 'onnx::Div_1744'. It is not used by any node and should be removed from the model.\n",
      "2022-05-06 12:34:39.604474855 [W:onnxruntime:, graph.cc:3515 CleanUnusedInitializersAndNodeArgs] Removing initializer 'onnx::Div_2304'. It is not used by any node and should be removed from the model.\n",
      "2022-05-06 12:34:39.604483348 [W:onnxruntime:, graph.cc:3515 CleanUnusedInitializersAndNodeArgs] Removing initializer 'onnx::Div_1201'. It is not used by any node and should be removed from the model.\n",
      "2022-05-06 12:34:39.604502031 [W:onnxruntime:, graph.cc:3515 CleanUnusedInitializersAndNodeArgs] Removing initializer 'onnx::Div_1580'. It is not used by any node and should be removed from the model.\n",
      "2022-05-06 12:34:39.604509796 [W:onnxruntime:, graph.cc:3515 CleanUnusedInitializersAndNodeArgs] Removing initializer 'onnx::Div_1382'. It is not used by any node and should be removed from the model.\n",
      "2022-05-06 12:34:39.604513081 [W:onnxruntime:, graph.cc:3515 CleanUnusedInitializersAndNodeArgs] Removing initializer 'onnx::Div_1399'. It is not used by any node and should be removed from the model.\n",
      "2022-05-06 12:34:39.604516652 [W:onnxruntime:, graph.cc:3515 CleanUnusedInitializersAndNodeArgs] Removing initializer 'onnx::Div_2024'. It is not used by any node and should be removed from the model.\n",
      "2022-05-06 12:34:39.604521279 [W:onnxruntime:, graph.cc:3515 CleanUnusedInitializersAndNodeArgs] Removing initializer 'onnx::Div_1481'. It is not used by any node and should be removed from the model.\n",
      "2022-05-06 12:34:39.604524856 [W:onnxruntime:, graph.cc:3515 CleanUnusedInitializersAndNodeArgs] Removing initializer 'onnx::Div_1300'. It is not used by any node and should be removed from the model.\n",
      "2022-05-06 12:34:39.604531958 [W:onnxruntime:, graph.cc:3515 CleanUnusedInitializersAndNodeArgs] Removing initializer 'onnx::Div_1662'. It is not used by any node and should be removed from the model.\n",
      "2022-05-06 12:34:39.604536604 [W:onnxruntime:, graph.cc:3515 CleanUnusedInitializersAndNodeArgs] Removing initializer 'onnx::Div_2106'. It is not used by any node and should be removed from the model.\n",
      "2022-05-06 12:34:39.604541911 [W:onnxruntime:, graph.cc:3515 CleanUnusedInitializersAndNodeArgs] Removing initializer 'onnx::Div_1843'. It is not used by any node and should be removed from the model.\n",
      "2022-05-06 12:34:39.604546338 [W:onnxruntime:, graph.cc:3515 CleanUnusedInitializersAndNodeArgs] Removing initializer 'onnx::Div_1942'. It is not used by any node and should be removed from the model.\n",
      "2022-05-06 12:34:39.604549890 [W:onnxruntime:, graph.cc:3515 CleanUnusedInitializersAndNodeArgs] Removing initializer 'onnx::Div_2205'. It is not used by any node and should be removed from the model.\n",
      "2022-05-06 12:34:39.604555121 [W:onnxruntime:, graph.cc:3515 CleanUnusedInitializersAndNodeArgs] Removing initializer 'onnx::Div_2287'. It is not used by any node and should be removed from the model.\n",
      "2022-05-06 12:34:39.669534390 [W:onnxruntime:, graph.cc:3515 CleanUnusedInitializersAndNodeArgs] Removing initializer 'cache_node_onnx::Pow_2223'. It is not used by any node and should be removed from the model.\n",
      "2022-05-06 12:34:39.669551388 [W:onnxruntime:, graph.cc:3515 CleanUnusedInitializersAndNodeArgs] Removing initializer 'cache_node_onnx::Pow_2206'. It is not used by any node and should be removed from the model.\n",
      "2022-05-06 12:34:39.669556304 [W:onnxruntime:, graph.cc:3515 CleanUnusedInitializersAndNodeArgs] Removing initializer 'cache_node_onnx::Div_409'. It is not used by any node and should be removed from the model.\n",
      "2022-05-06 12:34:39.669560122 [W:onnxruntime:, graph.cc:3515 CleanUnusedInitializersAndNodeArgs] Removing initializer 'cache_node_onnx::Pow_948'. It is not used by any node and should be removed from the model.\n",
      "2022-05-06 12:34:39.669564533 [W:onnxruntime:, graph.cc:3515 CleanUnusedInitializersAndNodeArgs] Removing initializer 'cache_node_onnx::Add_1857'. It is not used by any node and should be removed from the model.\n",
      "2022-05-06 12:34:39.669568744 [W:onnxruntime:, graph.cc:3515 CleanUnusedInitializersAndNodeArgs] Removing initializer 'cache_node_onnx::Add_2209'. It is not used by any node and should be removed from the model.\n",
      "2022-05-06 12:34:39.669573642 [W:onnxruntime:, graph.cc:3515 CleanUnusedInitializersAndNodeArgs] Removing initializer 'cache_node_onnx::Pow_1451'. It is not used by any node and should be removed from the model.\n",
      "2022-05-06 12:34:39.669578351 [W:onnxruntime:, graph.cc:3515 CleanUnusedInitializersAndNodeArgs] Removing initializer 'cache_node_onnx::Add_1924'. It is not used by any node and should be removed from the model.\n",
      "2022-05-06 12:34:39.669584008 [W:onnxruntime:, graph.cc:3515 CleanUnusedInitializersAndNodeArgs] Removing initializer 'cache_node_onnx::Pow_562'. It is not used by any node and should be removed from the model.\n",
      "2022-05-06 12:34:39.669588677 [W:onnxruntime:, graph.cc:3515 CleanUnusedInitializersAndNodeArgs] Removing initializer 'cache_node_onnx::Pow_1619'. It is not used by any node and should be removed from the model.\n",
      "2022-05-06 12:34:39.669594476 [W:onnxruntime:, graph.cc:3515 CleanUnusedInitializersAndNodeArgs] Removing initializer 'cache_node_onnx::Add_2226'. It is not used by any node and should be removed from the model.\n",
      "2022-05-06 12:34:39.669598850 [W:onnxruntime:, graph.cc:3515 CleanUnusedInitializersAndNodeArgs] Removing initializer 'cache_node_onnx::Pow_797'. It is not used by any node and should be removed from the model.\n",
      "2022-05-06 12:34:39.669602424 [W:onnxruntime:, graph.cc:3515 CleanUnusedInitializersAndNodeArgs] Removing initializer 'cache_node_onnx::Pow_545'. It is not used by any node and should be removed from the model.\n",
      "2022-05-06 12:34:39.669607606 [W:onnxruntime:, graph.cc:3515 CleanUnusedInitializersAndNodeArgs] Removing initializer 'cache_node_onnx::Add_2008'. It is not used by any node and should be removed from the model.\n",
      "2022-05-06 12:34:39.669611639 [W:onnxruntime:, graph.cc:3515 CleanUnusedInitializersAndNodeArgs] Removing initializer 'cache_node_onnx::Pow_461'. It is not used by any node and should be removed from the model.\n",
      "2022-05-06 12:34:39.669615845 [W:onnxruntime:, graph.cc:3515 CleanUnusedInitializersAndNodeArgs] Removing initializer 'cache_node_onnx::Pow_847'. It is not used by any node and should be removed from the model.\n",
      "2022-05-06 12:34:39.669621212 [W:onnxruntime:, graph.cc:3515 CleanUnusedInitializersAndNodeArgs] Removing initializer 'cache_node_onnx::Pow_646'. It is not used by any node and should be removed from the model.\n",
      "2022-05-06 12:34:39.669625073 [W:onnxruntime:, graph.cc:3515 CleanUnusedInitializersAndNodeArgs] Removing initializer 'cache_node_onnx::Unsqueeze_252'. It is not used by any node and should be removed from the model.\n",
      "2022-05-06 12:34:39.669630112 [W:onnxruntime:, graph.cc:3515 CleanUnusedInitializersAndNodeArgs] Removing initializer 'cache_node_onnx::Mul_411'. It is not used by any node and should be removed from the model.\n",
      "2022-05-06 12:34:39.669633875 [W:onnxruntime:, graph.cc:3515 CleanUnusedInitializersAndNodeArgs] Removing initializer 'cache_node_onnx::Pow_1250'. It is not used by any node and should be removed from the model.\n",
      "2022-05-06 12:34:39.669638675 [W:onnxruntime:, graph.cc:3515 CleanUnusedInitializersAndNodeArgs] Removing initializer 'cache_node_onnx::Pow_1015'. It is not used by any node and should be removed from the model.\n",
      "2022-05-06 12:34:39.669644596 [W:onnxruntime:, graph.cc:3515 CleanUnusedInitializersAndNodeArgs] Removing initializer 'cache_node_onnx::Add_1622'. It is not used by any node and should be removed from the model.\n",
      "2022-05-06 12:34:39.669648273 [W:onnxruntime:, graph.cc:3515 CleanUnusedInitializersAndNodeArgs] Removing initializer 'cache_node_onnx::Pow_864'. It is not used by any node and should be removed from the model.\n",
      "2022-05-06 12:34:39.669653010 [W:onnxruntime:, graph.cc:3515 CleanUnusedInitializersAndNodeArgs] Removing initializer 'cache_node_onnx::Pow_713'. It is not used by any node and should be removed from the model.\n",
      "2022-05-06 12:34:39.669659191 [W:onnxruntime:, graph.cc:3515 CleanUnusedInitializersAndNodeArgs] Removing initializer 'cache_node_onnx::Pow_696'. It is not used by any node and should be removed from the model.\n",
      "2022-05-06 12:34:39.669663558 [W:onnxruntime:, graph.cc:3515 CleanUnusedInitializersAndNodeArgs] Removing initializer 'cache_node_onnx::Pow_998'. It is not used by any node and should be removed from the model.\n",
      "2022-05-06 12:34:39.669668305 [W:onnxruntime:, graph.cc:3515 CleanUnusedInitializersAndNodeArgs] Removing initializer 'cache_node_onnx::Pow_1770'. It is not used by any node and should be removed from the model.\n",
      "2022-05-06 12:34:39.669672596 [W:onnxruntime:, graph.cc:3515 CleanUnusedInitializersAndNodeArgs] Removing initializer 'cache_node_onnx::Pow_314'. It is not used by any node and should be removed from the model.\n",
      "2022-05-06 12:34:39.669678831 [W:onnxruntime:, graph.cc:3515 CleanUnusedInitializersAndNodeArgs] Removing initializer 'cache_node_onnx::Add_1320'. It is not used by any node and should be removed from the model.\n",
      "2022-05-06 12:34:39.669683213 [W:onnxruntime:, graph.cc:3515 CleanUnusedInitializersAndNodeArgs] Removing initializer 'cache_node_onnx::Unsqueeze_254'. It is not used by any node and should be removed from the model.\n",
      "2022-05-06 12:34:39.669687238 [W:onnxruntime:, graph.cc:3515 CleanUnusedInitializersAndNodeArgs] Removing initializer 'cache_node_onnx::Pow_2156'. It is not used by any node and should be removed from the model.\n",
      "2022-05-06 12:34:39.669692803 [W:onnxruntime:, graph.cc:3515 CleanUnusedInitializersAndNodeArgs] Removing initializer 'cache_node_onnx::Pow_1552'. It is not used by any node and should be removed from the model.\n",
      "2022-05-06 12:34:39.669698385 [W:onnxruntime:, graph.cc:3515 CleanUnusedInitializersAndNodeArgs] Removing initializer 'cache_node_onnx::Pow_1300'. It is not used by any node and should be removed from the model.\n",
      "2022-05-06 12:34:39.669703705 [W:onnxruntime:, graph.cc:3515 CleanUnusedInitializersAndNodeArgs] Removing initializer 'cache_node_onnx::ConstantOfShape_266'. It is not used by any node and should be removed from the model.\n",
      "2022-05-06 12:34:39.669707572 [W:onnxruntime:, graph.cc:3515 CleanUnusedInitializersAndNodeArgs] Removing initializer 'cache_node_onnx::Pow_1166'. It is not used by any node and should be removed from the model.\n",
      "2022-05-06 12:34:39.669713596 [W:onnxruntime:, graph.cc:3515 CleanUnusedInitializersAndNodeArgs] Removing initializer 'cache_node_onnx::Pow_2005'. It is not used by any node and should be removed from the model.\n",
      "2022-05-06 12:34:39.669717127 [W:onnxruntime:, graph.cc:3515 CleanUnusedInitializersAndNodeArgs] Removing initializer 'cache_node_onnx::Pow_1854'. It is not used by any node and should be removed from the model.\n",
      "2022-05-06 12:34:39.669721351 [W:onnxruntime:, graph.cc:3515 CleanUnusedInitializersAndNodeArgs] Removing initializer 'cache_node_onnx::Pow_1317'. It is not used by any node and should be removed from the model.\n",
      "2022-05-06 12:34:39.669725791 [W:onnxruntime:, graph.cc:3515 CleanUnusedInitializersAndNodeArgs] Removing initializer 'cache_node_onnx::Pow_1401'. It is not used by any node and should be removed from the model.\n",
      "2022-05-06 12:34:39.669729349 [W:onnxruntime:, graph.cc:3515 CleanUnusedInitializersAndNodeArgs] Removing initializer 'cache_node_onnx::Pow_1099'. It is not used by any node and should be removed from the model.\n",
      "2022-05-06 12:34:39.669732794 [W:onnxruntime:, graph.cc:3515 CleanUnusedInitializersAndNodeArgs] Removing initializer 'cache_node_onnx::Add_1404'. It is not used by any node and should be removed from the model.\n",
      "2022-05-06 12:34:39.669737228 [W:onnxruntime:, graph.cc:3515 CleanUnusedInitializersAndNodeArgs] Removing initializer 'cache_node_onnx::Add_1454'. It is not used by any node and should be removed from the model.\n",
      "2022-05-06 12:34:39.669740745 [W:onnxruntime:, graph.cc:3515 CleanUnusedInitializersAndNodeArgs] Removing initializer 'cache_node_onnx::Pow_1468'. It is not used by any node and should be removed from the model.\n",
      "2022-05-06 12:34:39.669744824 [W:onnxruntime:, graph.cc:3515 CleanUnusedInitializersAndNodeArgs] Removing initializer 'cache_node_onnx::Add_1471'. It is not used by any node and should be removed from the model.\n",
      "2022-05-06 12:34:39.669748445 [W:onnxruntime:, graph.cc:3515 CleanUnusedInitializersAndNodeArgs] Removing initializer 'cache_node_onnx::Pow_1602'. It is not used by any node and should be removed from the model.\n",
      "2022-05-06 12:34:39.669753351 [W:onnxruntime:, graph.cc:3515 CleanUnusedInitializersAndNodeArgs] Removing initializer 'cache_node_onnx::Add_1605'. It is not used by any node and should be removed from the model.\n",
      "2022-05-06 12:34:39.669758867 [W:onnxruntime:, graph.cc:3515 CleanUnusedInitializersAndNodeArgs] Removing initializer 'cache_node_onnx::Add_1907'. It is not used by any node and should be removed from the model.\n",
      "2022-05-06 12:34:39.669762466 [W:onnxruntime:, graph.cc:3515 CleanUnusedInitializersAndNodeArgs] Removing initializer 'cache_node_onnx::Pow_1703'. It is not used by any node and should be removed from the model.\n",
      "2022-05-06 12:34:39.669765909 [W:onnxruntime:, graph.cc:3515 CleanUnusedInitializersAndNodeArgs] Removing initializer 'cache_node_onnx::Pow_2055'. It is not used by any node and should be removed from the model.\n",
      "2022-05-06 12:34:39.669769439 [W:onnxruntime:, graph.cc:3515 CleanUnusedInitializersAndNodeArgs] Removing initializer 'cache_node_onnx::Add_1706'. It is not used by any node and should be removed from the model.\n",
      "2022-05-06 12:34:39.669773170 [W:onnxruntime:, graph.cc:3515 CleanUnusedInitializersAndNodeArgs] Removing initializer 'cache_node_onnx::Pow_1753'. It is not used by any node and should be removed from the model.\n",
      "2022-05-06 12:34:39.669776772 [W:onnxruntime:, graph.cc:3515 CleanUnusedInitializersAndNodeArgs] Removing initializer 'cache_node_onnx::Add_1756'. It is not used by any node and should be removed from the model.\n",
      "2022-05-06 12:34:39.669780879 [W:onnxruntime:, graph.cc:3515 CleanUnusedInitializersAndNodeArgs] Removing initializer 'cache_node_onnx::Add_1773'. It is not used by any node and should be removed from the model.\n",
      "2022-05-06 12:34:39.669785272 [W:onnxruntime:, graph.cc:3515 CleanUnusedInitializersAndNodeArgs] Removing initializer 'cache_node_onnx::Pow_1904'. It is not used by any node and should be removed from the model.\n",
      "2022-05-06 12:34:39.669789081 [W:onnxruntime:, graph.cc:3515 CleanUnusedInitializersAndNodeArgs] Removing initializer 'cache_node_onnx::Pow_1921'. It is not used by any node and should be removed from the model.\n",
      "2022-05-06 12:34:39.669793673 [W:onnxruntime:, graph.cc:3515 CleanUnusedInitializersAndNodeArgs] Removing initializer 'cache_node_onnx::Add_2058'. It is not used by any node and should be removed from the model.\n",
      "2022-05-06 12:34:39.669797254 [W:onnxruntime:, graph.cc:3515 CleanUnusedInitializersAndNodeArgs] Removing initializer 'cache_node_onnx::Pow_1149'. It is not used by any node and should be removed from the model.\n",
      "2022-05-06 12:34:39.669800786 [W:onnxruntime:, graph.cc:3515 CleanUnusedInitializersAndNodeArgs] Removing initializer 'cache_node_onnx::Pow_2072'. It is not used by any node and should be removed from the model.\n",
      "2022-05-06 12:34:39.669804430 [W:onnxruntime:, graph.cc:3515 CleanUnusedInitializersAndNodeArgs] Removing initializer 'cache_node_onnx::Add_2075'. It is not used by any node and should be removed from the model.\n",
      "2022-05-06 12:34:39.669808467 [W:onnxruntime:, graph.cc:3515 CleanUnusedInitializersAndNodeArgs] Removing initializer 'cache_node_onnx::Add_1555'. It is not used by any node and should be removed from the model.\n",
      "2022-05-06 12:34:39.669811986 [W:onnxruntime:, graph.cc:3515 CleanUnusedInitializersAndNodeArgs] Removing initializer 'cache_node_onnx::Add_2159'. It is not used by any node and should be removed from the model.\n",
      "2022-05-06 12:34:39.670225718 [W:onnxruntime:, graph.cc:3515 CleanUnusedInitializersAndNodeArgs] Removing initializer 'onnx::Add_2482'. It is not used by any node and should be removed from the model.\n",
      "2022-05-06 12:34:39.670231375 [W:onnxruntime:, graph.cc:3515 CleanUnusedInitializersAndNodeArgs] Removing initializer 'onnx::Pow_2479'. It is not used by any node and should be removed from the model.\n",
      "2022-05-06 12:34:39.670235169 [W:onnxruntime:, graph.cc:3515 CleanUnusedInitializersAndNodeArgs] Removing initializer 'onnx::Add_2465'. It is not used by any node and should be removed from the model.\n",
      "2022-05-06 12:34:39.670239570 [W:onnxruntime"
     ]
    }
   ],
   "source": [
    "model = model.cuda()\n",
    "model_decoder = model_decoder.cuda()\n",
    "input_ids = input_ids.cuda()\n",
    "model = model.eval()\n",
    "model_decoder = model_decoder.eval()\n",
    "enc_onnx = create_model_for_provider(\"test-enc.onnx\", \"CUDAExecutionProvider\")\n",
    "enc_onnx_binding: IOBinding = enc_onnx.io_binding()\n",
    "dec_onnx = create_model_for_provider(model_def.SerializeToString(), \"CUDAExecutionProvider\")\n",
    "dec_onnx_binding: IOBinding = dec_onnx.io_binding()"
   ]
  },
  {
   "cell_type": "markdown",
   "metadata": {
    "collapsed": false,
    "pycharm": {
     "name": "#%% md\n"
    }
   },
   "source": [
    "## Benchmark new model on real scenario\n",
    "\n",
    "TODO: print graph of cache / no cache latency for each seq len + show how to justify what we measure\n",
    "TODO: convert the model to FP16 + add some explanation regarding aggressive conversion https://pytorch.org/docs/stable/amp.html?utm_source=pocket_mylist\n",
    "TODO: add experiment with TensorRT in mixed precision\n",
    "TODO: try https://github.com/microsoft/onnxruntime/pull/11320 + https://github.com/microsoft/onnxruntime/pull/8702 + https://github.com/microsoft/onnxruntime/issues/11254"
   ]
  },
  {
   "cell_type": "code",
   "execution_count": 12,
   "metadata": {
    "execution": {
     "iopub.execute_input": "2022-05-06T11:34:40.258459Z",
     "iopub.status.busy": "2022-05-06T11:34:40.258245Z",
     "iopub.status.idle": "2022-05-06T11:34:40.326042Z",
     "shell.execute_reply": "2022-05-06T11:34:40.325518Z"
    },
    "pycharm": {
     "name": "#%%\n"
    }
   },
   "outputs": [
    {
     "name": "stderr",
     "output_type": "stream",
     "text": [
      ":, graph.cc:3515 CleanUnusedInitializersAndNodeArgs] Removing initializer 'onnx::Add_2383'. It is not used by any node and should be removed from the model.\n",
      "2022-05-06 12:34:39.670243907 [W:onnxruntime:, graph.cc:3515 CleanUnusedInitializersAndNodeArgs] Removing initializer 'onnx::Pow_2380'. It is not used by any node and should be removed from the model.\n",
      "2022-05-06 12:34:39.670253756 [W:onnxruntime:, graph.cc:3515 CleanUnusedInitializersAndNodeArgs] Removing initializer 'onnx::Pow_751'. It is not used by any node and should be removed from the model.\n",
      "2022-05-06 12:34:39.670258654 [W:onnxruntime:, graph.cc:3515 CleanUnusedInitializersAndNodeArgs] Removing initializer 'onnx::Pow_1656'. It is not used by any node and should be removed from the model.\n",
      "2022-05-06 12:34:39.670262571 [W:onnxruntime:, graph.cc:3515 CleanUnusedInitializersAndNodeArgs] Removing initializer 'onnx::Pow_570'. It is not used by any node and should be removed from the model.\n",
      "2022-05-06 12:34:39.670270346 [W:onnxruntime:, graph.cc:3515 CleanUnusedInitializersAndNodeArgs] Removing initializer 'onnx::Pow_1755'. It is not used by any node and should be removed from the model.\n",
      "2022-05-06 12:34:39.670274315 [W:onnxruntime:, graph.cc:3515 CleanUnusedInitializersAndNodeArgs] Removing initializer 'onnx::Pow_2281'. It is not used by any node and should be removed from the model.\n",
      "2022-05-06 12:34:39.670278546 [W:onnxruntime:, graph.cc:3515 CleanUnusedInitializersAndNodeArgs] Removing initializer 'onnx::Pow_471'. It is not used by any node and should be removed from the model.\n",
      "2022-05-06 12:34:39.670283720 [W:onnxruntime:, graph.cc:3515 CleanUnusedInitializersAndNodeArgs] Removing initializer 'onnx::Add_1577'. It is not used by any node and should be removed from the model.\n",
      "2022-05-06 12:34:39.670287566 [W:onnxruntime:, graph.cc:3515 CleanUnusedInitializersAndNodeArgs] Removing initializer 'onnx::Unsqueeze_202'. It is not used by any node and should be removed from the model.\n",
      "2022-05-06 12:34:39.670292488 [W:onnxruntime:, graph.cc:3515 CleanUnusedInitializersAndNodeArgs] Removing initializer 'onnx::Pow_1212'. It is not used by any node and should be removed from the model.\n",
      "2022-05-06 12:34:39.670296091 [W:onnxruntime:, graph.cc:3515 CleanUnusedInitializersAndNodeArgs] Removing initializer 'onnx::Add_1560'. It is not used by any node and should be removed from the model.\n",
      "2022-05-06 12:34:39.670299716 [W:onnxruntime:, graph.cc:3515 CleanUnusedInitializersAndNodeArgs] Removing initializer 'onnx::Pow_932'. It is not used by any node and should be removed from the model.\n",
      "2022-05-06 12:34:39.670303332 [W:onnxruntime:, graph.cc:3515 CleanUnusedInitializersAndNodeArgs] Removing initializer 'onnx::Unsqueeze_200'. It is not used by any node and should be removed from the model.\n",
      "2022-05-06 12:34:39.670307374 [W:onnxruntime:, graph.cc:3515 CleanUnusedInitializersAndNodeArgs] Removing initializer 'onnx::Add_1758'. It is not used by any node and should be removed from the model.\n",
      "2022-05-06 12:34:39.670312157 [W:onnxruntime:, graph.cc:3515 CleanUnusedInitializersAndNodeArgs] Removing initializer 'onnx::Add_1922'. It is not used by any node and should be removed from the model.\n",
      "2022-05-06 12:34:39.670315724 [W:onnxruntime:, graph.cc:3515 CleanUnusedInitializersAndNodeArgs] Removing initializer 'onnx::Pow_652'. It is not used by any node and should be removed from the model.\n",
      "2022-05-06 12:34:39.670319484 [W:onnxruntime:, graph.cc:3515 CleanUnusedInitializersAndNodeArgs] Removing initializer 'onnx::Pow_1393'. It is not used by any node and should be removed from the model.\n",
      "2022-05-06 12:34:39.670325323 [W:onnxruntime:, graph.cc:3515 CleanUnusedInitializersAndNodeArgs] Removing initializer 'onnx::Div_335'. It is not used by any node and should be removed from the model.\n",
      "2022-05-06 12:34:39.670329685 [W:onnxruntime:, graph.cc:3515 CleanUnusedInitializersAndNodeArgs] Removing initializer 'onnx::Add_2021'. It is not used by any node and should be removed from the model.\n",
      "2022-05-06 12:34:39.670333187 [W:onnxruntime:, graph.cc:3515 CleanUnusedInitializersAndNodeArgs] Removing initializer 'onnx::Pow_1031'. It is not used by any node and should be removed from the model.\n",
      "2022-05-06 12:34:39.670339609 [W:onnxruntime:, graph.cc:3515 CleanUnusedInitializersAndNodeArgs] Removing initializer 'onnx::Pow_669'. It is not used by any node and should be removed from the model.\n",
      "2022-05-06 12:34:39.670344432 [W:onnxruntime:, graph.cc:3515 CleanUnusedInitializersAndNodeArgs] Removing initializer 'onnx::Add_2202'. It is not used by any node and should be removed from the model.\n",
      "2022-05-06 12:34:39.670348813 [W:onnxruntime:, graph.cc:3515 CleanUnusedInitializersAndNodeArgs] Removing initializer 'onnx::Pow_833'. It is not used by any node and should be removed from the model.\n",
      "2022-05-06 12:34:39.670353915 [W:onnxruntime:, graph.cc:3515 CleanUnusedInitializersAndNodeArgs] Removing initializer 'onnx::Pow_2100'. It is not used by any node and should be removed from the model.\n",
      "2022-05-06 12:34:39.670362557 [W:onnxruntime:, graph.cc:3515 CleanUnusedInitializersAndNodeArgs] Removing initializer 'onnx::Pow_370'. It is not used by any node and should be removed from the model.\n",
      "2022-05-06 12:34:39.670366392 [W:onnxruntime:, graph.cc:3515 CleanUnusedInitializersAndNodeArgs] Removing initializer 'onnx::Mul_337'. It is not used by any node and should be removed from the model.\n",
      "2022-05-06 12:34:39.670372197 [W:onnxruntime:, graph.cc:3515 CleanUnusedInitializersAndNodeArgs] Removing initializer 'onnx::Pow_2199'. It is not used by any node and should be removed from the model.\n",
      "2022-05-06 12:34:39.670376426 [W:onnxruntime:, graph.cc:3515 CleanUnusedInitializersAndNodeArgs] Removing initializer 'onnx::Add_1379'. It is not used by any node and should be removed from the model.\n",
      "2022-05-06 12:34:39.670379935 [W:onnxruntime:, graph.cc:3515 CleanUnusedInitializersAndNodeArgs] Removing initializer 'onnx::Pow_1195'. It is not used by any node and should be removed from the model.\n",
      "2022-05-06 12:34:39.670384559 [W:onnxruntime:, graph.cc:3515 CleanUnusedInitializersAndNodeArgs] Removing initializer 'onnx::Add_2301'. It is not used by any node and should be removed from the model.\n",
      "2022-05-06 12:34:39.670388724 [W:onnxruntime:, graph.cc:3515 CleanUnusedInitializersAndNodeArgs] Removing initializer 'onnx::Pow_1294'. It is not used by any node and should be removed from the model.\n",
      "2022-05-06 12:34:39.670392427 [W:onnxruntime:, graph.cc:3515 CleanUnusedInitializersAndNodeArgs] Removing initializer 'onnx::Add_1396'. It is not used by any node and should be removed from the model.\n",
      "2022-05-06 12:34:39.670396195 [W:onnxruntime:, graph.cc:3515 CleanUnusedInitializersAndNodeArgs] Removing initializer 'onnx::Add_1939'. It is not used by any node and should be removed from the model.\n",
      "2022-05-06 12:34:39.670400255 [W:onnxruntime:, graph.cc:3515 CleanUnusedInitializersAndNodeArgs] Removing initializer 'onnx::Add_1840'. It is not used by any node and should be removed from the model.\n",
      "2022-05-06 12:34:39.670404767 [W:onnxruntime:, graph.cc:3515 CleanUnusedInitializersAndNodeArgs] Removing initializer 'onnx::Pow_1376'. It is not used by any node and should be removed from the model.\n",
      "2022-05-06 12:34:39.670408485 [W:onnxruntime:, graph.cc:3515 CleanUnusedInitializersAndNodeArgs] Removing initializer 'onnx::Pow_488'. It is not used by any node and should be removed from the model.\n",
      "2022-05-06 12:34:39.670413318 [W:onnxruntime:, graph.cc:3515 CleanUnusedInitializersAndNodeArgs] Removing initializer 'onnx::Pow_1475'. It is not used by any node and should be removed from the model.\n",
      "2022-05-06 12:34:39.670416853 [W:onnxruntime:, graph.cc:3515 CleanUnusedInitializersAndNodeArgs] Removing initializer 'onnx::Pow_2462'. It is not used by any node and should be removed from the model.\n",
      "2022-05-06 12:34:39.670421236 [W:onnxruntime:, graph.cc:3515 CleanUnusedInitializersAndNodeArgs] Removing initializer 'onnx::Add_1297'. It is not used by any node and should be removed from the model.\n",
      "2022-05-06 12:34:39.670425275 [W:onnxruntime:, graph.cc:3515 CleanUnusedInitializersAndNodeArgs] Removing initializer 'onnx::Pow_1014'. It is not used by any node and should be removed from the model.\n",
      "2022-05-06 12:34:39.670429812 [W:onnxruntime:, graph.cc:3515 CleanUnusedInitializersAndNodeArgs] Removing initializer 'onnx::Pow_1557'. It is not used by any node and should be removed from the model.\n",
      "2022-05-06 12:34:39.670433425 [W:onnxruntime:, graph.cc:3515 CleanUnusedInitializersAndNodeArgs] Removing initializer 'onnx::Pow_1574'. It is not used by any node and should be removed from the model.\n",
      "2022-05-06 12:34:39.670437164 [W:onnxruntime:, graph.cc:3515 CleanUnusedInitializersAndNodeArgs] Removing initializer 'onnx::Pow_1113'. It is not used by any node and should be removed from the model.\n",
      "2022-05-06 12:34:39.670441113 [W:onnxruntime:, graph.cc:3515 CleanUnusedInitializersAndNodeArgs] Removing initializer 'onnx::Add_1659'. It is not used by any node and should be removed from the model.\n",
      "2022-05-06 12:34:39.670444682 [W:onnxruntime:, graph.cc:3515 CleanUnusedInitializersAndNodeArgs] Removing initializer 'onnx::Pow_850'. It is not used by any node and should be removed from the model.\n",
      "2022-05-06 12:34:39.670448326 [W:onnxruntime:, graph.cc:3515 CleanUnusedInitializersAndNodeArgs] Removing initializer 'onnx::Pow_246'. It is not used by any node and should be removed from the model.\n",
      "2022-05-06 12:34:39.670451708 [W:onnxruntime:, graph.cc:3515 CleanUnusedInitializersAndNodeArgs] Removing initializer 'onnx::Pow_1936'. It is not used by any node and should be removed from the model.\n",
      "2022-05-06 12:34:39.670455131 [W:onnxruntime:, graph.cc:3515 CleanUnusedInitializersAndNodeArgs] Removing initializer 'onnx::Add_1478'. It is not used by any node and should be removed from the model.\n",
      "2022-05-06 12:34:39.670459649 [W:onnxruntime:, graph.cc:3515 CleanUnusedInitializersAndNodeArgs] Removing initializer 'onnx::Pow_1738'. It is not used by any node and should be removed from the model.\n",
      "2022-05-06 12:34:39.670463231 [W:onnxruntime:, graph.cc:3515 CleanUnusedInitializersAndNodeArgs] Removing initializer 'onnx::ConstantOfShape_214'. It is not used by any node and should be removed from the model.\n",
      "2022-05-06 12:34:39.670466806 [W:onnxruntime:, graph.cc:3515 CleanUnusedInitializersAndNodeArgs] Removing initializer 'onnx::Pow_2117'. It is not used by any node and should be removed from the model.\n",
      "2022-05-06 12:34:39.670470287 [W:onnxruntime:, graph.cc:3515 CleanUnusedInitializersAndNodeArgs] Removing initializer 'onnx::Add_1741'. It is not used by any node and should be removed from the model.\n",
      "2022-05-06 12:34:39.670474105 [W:onnxruntime:, graph.cc:3515 CleanUnusedInitializersAndNodeArgs] Removing initializer 'onnx::Pow_1837'. It is not used by any node and should be removed from the model.\n",
      "2022-05-06 12:34:39.670478287 [W:onnxruntime:, graph.cc:3515 CleanUnusedInitializersAndNodeArgs] Removing initializer 'onnx::Pow_1919'. It is not used by any node and should be removed from the model.\n",
      "2022-05-06 12:34:39.670482729 [W:onnxruntime:, graph.cc:3515 CleanUnusedInitializersAndNodeArgs] Removing initializer 'onnx::Pow_2018'. It is not used by any node and should be removed from the model.\n",
      "2022-05-06 12:34:39.670486585 [W:onnxruntime:, graph.cc:3515 CleanUnusedInitializersAndNodeArgs] Removing initializer 'onnx::Add_2103'. It is not used by any node and should be removed from the model.\n",
      "2022-05-06 12:34:39.670490035 [W:onnxruntime:, graph.cc:3515 CleanUnusedInitializersAndNodeArgs] Removing initializer 'onnx::Add_2120'. It is not used by any node and should be removed from the model.\n",
      "2022-05-06 12:34:39.670494401 [W:onnxruntime:, graph.cc:3515 CleanUnusedInitializersAndNodeArgs] Removing initializer 'onnx::Add_2284'. It is not used by any node and should be removed from the model.\n",
      "2022-05-06 12:34:39.670498186 [W:onnxruntime:, graph.cc:3515 CleanUnusedInitializersAndNodeArgs] Removing initializer 'onnx::Pow_2298'. It is not used by any node and should be removed from the model.\n",
      "2022-05-06 12:34:39.732996058 [W:onnxruntime:, graph.cc:3515 CleanUnusedInitializersAndNodeArgs] Removing initializer 'cache_node_onnx::Expand_267'. It is not used by any node and should be removed from the model.\n",
      "2022-05-06 12:34:39.733427302 [W:onnxruntime:, graph.cc:3515 CleanUnusedInitializersAndNodeArgs] Removing initializer 'onnx::Expand_215'. It is not used by any node and should be removed from the model.\n"
     ]
    }
   ],
   "source": [
    "model = model.half()\n",
    "with torch.inference_mode():\n",
    "    out_enc_pytorch: BaseModelOutputWithPastAndCrossAttentions = model.encoder(input_ids=input_ids)\n",
    "    previous_step_pytorch: BaseModelOutputWithPastAndCrossAttentions = model_decoder(\n",
    "        input_ids=input_ids[:, :-1], encoder_hidden_states=out_enc_pytorch.last_hidden_state\n",
    "    )\n",
    "    out_dec_pytorch: BaseModelOutputWithPastAndCrossAttentions = model_decoder(\n",
    "        input_ids=input_ids, encoder_hidden_states=out_enc_pytorch.last_hidden_state\n",
    "    )"
   ]
  },
  {
   "cell_type": "code",
   "execution_count": 13,
   "metadata": {
    "execution": {
     "iopub.execute_input": "2022-05-06T11:34:40.328272Z",
     "iopub.status.busy": "2022-05-06T11:34:40.328124Z",
     "iopub.status.idle": "2022-05-06T11:34:40.399692Z",
     "shell.execute_reply": "2022-05-06T11:34:40.399196Z"
    },
    "pycharm": {
     "name": "#%%\n"
    }
   },
   "outputs": [],
   "source": [
    "def decoder_pytorch_inference(decoder_input_ids: torch.Tensor, encoder_hidden_states: torch.Tensor, **_):\n",
    "    with torch.inference_mode():\n",
    "        return model_decoder(input_ids=decoder_input_ids, encoder_hidden_states=encoder_hidden_states)\n",
    "\n",
    "\n",
    "def decoder_onnx_inference(\n",
    "    decoder_input_ids: torch.Tensor,\n",
    "    encoder_hidden_states: torch.Tensor,\n",
    "    enable_cache: torch.Tensor,\n",
    "    past_key_values: Optional[torch.Tensor],\n",
    "):\n",
    "    inputs_onnx_dict = {\n",
    "        \"input_ids\": decoder_input_ids,\n",
    "        \"encoder_hidden_states\": encoder_hidden_states,\n",
    "        \"enable_cache\": enable_cache,\n",
    "    }\n",
    "\n",
    "    if past_key_values is not None:\n",
    "        for index, (k_dec, v_dec, k_enc, v_enc) in enumerate(past_key_values):\n",
    "            inputs_onnx_dict[f\"past_key_values.{index}.decoder.key\"] = k_dec\n",
    "            inputs_onnx_dict[f\"past_key_values.{index}.decoder.value\"] = v_dec\n",
    "            inputs_onnx_dict[f\"past_key_values.{index}.encoder.key\"] = k_enc\n",
    "            inputs_onnx_dict[f\"past_key_values.{index}.encoder.value\"] = v_enc\n",
    "\n",
    "    result_dict = inference_onnx_binding(\n",
    "        model_onnx=dec_onnx,\n",
    "        inputs=inputs_onnx_dict,\n",
    "        binding=dec_onnx_binding,  # recycle the binding\n",
    "        device=decoder_input_ids.device.type,\n",
    "        clone_tensor=False,  # no memory copy -> best perf and lowest memory footprint!\n",
    "    )\n",
    "    past_states = list()\n",
    "    for index in range(model.config.num_layers):\n",
    "        kv = (\n",
    "            result_dict[f\"present.{index}.decoder.key\"],\n",
    "            result_dict[f\"present.{index}.decoder.value\"],\n",
    "            result_dict[f\"present.{index}.encoder.key\"],\n",
    "            result_dict[f\"present.{index}.encoder.value\"],\n",
    "        )\n",
    "        past_states.append(kv)\n",
    "    return BaseModelOutputWithPastAndCrossAttentions(\n",
    "        last_hidden_state=result_dict[\"logits\"],\n",
    "        past_key_values=past_states,\n",
    "    )\n",
    "\n",
    "\n",
    "out_dec_onnx_no_cache = decoder_onnx_inference(\n",
    "    decoder_input_ids=input_ids,\n",
    "    encoder_hidden_states=out_enc_pytorch.last_hidden_state,\n",
    "    enable_cache=torch.tensor([False], device=\"cuda\", dtype=torch.bool),\n",
    "    past_key_values=None,\n",
    ")\n",
    "are_equal(a=out_dec_onnx_no_cache.last_hidden_state[:, -1:, :], b=out_dec_pytorch.last_hidden_state[:, -1:, :])\n",
    "\n",
    "# check that past states are identical between ONNX and Pytorch\n",
    "assert len(out_dec_onnx_no_cache.past_key_values) == len(out_dec_pytorch.past_key_values)\n",
    "for (o_dec_k, o_dev_v, o_enc_k, o_enc_v), (p_dec_k, p_dev_v, p_enc_k, p_enc_v) in zip(\n",
    "    out_dec_onnx_no_cache.past_key_values, out_dec_pytorch.past_key_values\n",
    "):\n",
    "    are_equal(a=o_dec_k, b=p_dec_k)\n",
    "    are_equal(a=o_dev_v, b=p_dev_v)\n",
    "    are_equal(a=o_enc_k, b=p_enc_k)\n",
    "    are_equal(a=o_enc_v, b=p_enc_v)"
   ]
  },
  {
   "cell_type": "code",
   "execution_count": 14,
   "metadata": {
    "execution": {
     "iopub.execute_input": "2022-05-06T11:34:40.401970Z",
     "iopub.status.busy": "2022-05-06T11:34:40.401780Z",
     "iopub.status.idle": "2022-05-06T11:34:40.465506Z",
     "shell.execute_reply": "2022-05-06T11:34:40.465077Z"
    },
    "pycharm": {
     "name": "#%%\n"
    }
   },
   "outputs": [],
   "source": [
    "out_dec_onnx_cache = decoder_onnx_inference(\n",
    "    decoder_input_ids=input_ids[:, -1:],\n",
    "    encoder_hidden_states=out_enc_pytorch.last_hidden_state,\n",
    "    enable_cache=torch.tensor([True], device=\"cuda\", dtype=torch.bool),\n",
    "    past_key_values=previous_step_pytorch.past_key_values,\n",
    ")\n",
    "\n",
    "are_equal(a=out_dec_onnx_cache.last_hidden_state[:, -1:, :], b=out_dec_pytorch.last_hidden_state[:, -1:, :])\n",
    "\n",
    "# check that past states are identical between ONNX and Pytorch\n",
    "assert len(out_dec_onnx_cache.past_key_values) == len(out_dec_pytorch.past_key_values)\n",
    "for (o_dec_k, o_dev_v, o_enc_k, o_enc_v), (p_dec_k, p_dev_v, p_enc_k, p_enc_v) in zip(\n",
    "    out_dec_onnx_cache.past_key_values, out_dec_pytorch.past_key_values\n",
    "):\n",
    "    are_equal(a=o_dec_k, b=p_dec_k)\n",
    "    are_equal(a=o_dev_v, b=p_dev_v)\n",
    "    are_equal(a=o_enc_k, b=p_enc_k)\n",
    "    are_equal(a=o_enc_v, b=p_enc_v)"
   ]
  },
  {
   "cell_type": "code",
   "execution_count": 15,
   "metadata": {
    "execution": {
     "iopub.execute_input": "2022-05-06T11:34:40.467688Z",
     "iopub.status.busy": "2022-05-06T11:34:40.467558Z",
     "iopub.status.idle": "2022-05-06T11:34:40.718766Z",
     "shell.execute_reply": "2022-05-06T11:34:40.718348Z"
    },
    "pycharm": {
     "name": "#%%\n"
    }
   },
   "outputs": [
    {
     "name": "stdout",
     "output_type": "stream",
     "text": [
      "ONNX:\n",
      "Ce modèle est rapide!\n",
      "Pytorch:\n",
      "Ce modèle est rapide!\n"
     ]
    }
   ],
   "source": [
    "def encoder_onnx_inference(input_ids: torch.Tensor, **_) -> BaseModelOutputWithPastAndCrossAttentions:\n",
    "    last_hidden_state = inference_onnx_binding(\n",
    "        model_onnx=enc_onnx,  # noqa: F821\n",
    "        inputs={\"input_ids\": input_ids},\n",
    "        device=input_ids.device.type,\n",
    "        binding=enc_onnx_binding,\n",
    "    )[\"output\"]\n",
    "    return BaseModelOutputWithPastAndCrossAttentions(last_hidden_state=last_hidden_state.type(torch.float16))\n",
    "\n",
    "\n",
    "def encoder_pytorch_inference(input_ids, **_) -> BaseModelOutputWithPastAndCrossAttentions:\n",
    "    with torch.inference_mode():\n",
    "        res = model.encoder(input_ids=input_ids).type(torch.float16)\n",
    "        return res\n",
    "\n",
    "\n",
    "# https://github.com/NVIDIA/TensorRT/blob/main/demo/HuggingFace/T5/export.py\n",
    "class ExtT5(torch.nn.Module, GenerationMixin):\n",
    "    def __init__(self, config: PretrainedConfig, device: torch.device, encoder_func: Callable, decoder_func: Callable):\n",
    "        super(ExtT5, self).__init__()\n",
    "        self.main_input_name = \"input_ids\"  # https://github.com/huggingface/transformers/pull/14803\n",
    "        self.config: PretrainedConfig = config\n",
    "        self.device: torch.device = device\n",
    "\n",
    "        self.encoder_func = encoder_func\n",
    "        self.decoder_func = decoder_func\n",
    "        self.use_cache = True\n",
    "        self.timings = list()\n",
    "\n",
    "    def get_encoder(self):\n",
    "        return self.encoder_func\n",
    "\n",
    "    def get_decoder(self):\n",
    "        return self.decoder_func\n",
    "\n",
    "    def set_cache(self, enable: bool) -> None:\n",
    "        self.use_cache = enable\n",
    "\n",
    "    # from transformers library (modeling_t5.py)\n",
    "    def _reorder_cache(self, past, beam_idx):\n",
    "        reordered_decoder_past = ()\n",
    "        for layer_past_states in past:\n",
    "            # get the correct batch idx from layer past batch dim\n",
    "            # batch dim of `past` is at 2nd position\n",
    "            reordered_layer_past_states = ()\n",
    "            for layer_past_state in layer_past_states:\n",
    "                # need to set correct `past` for each of the four key / value states\n",
    "                reordered_layer_past_states = reordered_layer_past_states + (\n",
    "                    layer_past_state.index_select(0, beam_idx),\n",
    "                )\n",
    "\n",
    "            assert reordered_layer_past_states[0].shape == layer_past_states[0].shape\n",
    "            assert len(reordered_layer_past_states) == len(layer_past_states)\n",
    "\n",
    "            reordered_decoder_past = reordered_decoder_past + (reordered_layer_past_states,)\n",
    "        return reordered_decoder_past\n",
    "\n",
    "    def prepare_inputs_for_generation(self, input_ids, past=None, use_cache=None, **kwargs) -> Dict[str, torch.Tensor]:\n",
    "        params = {\n",
    "            \"encoder_hidden_states\": kwargs[\"encoder_outputs\"][\"last_hidden_state\"],\n",
    "        }\n",
    "        if past is None:  # this is the 1st inferred token\n",
    "            self.timings = list()\n",
    "        if not self.use_cache:\n",
    "            past = None\n",
    "        if past is None:\n",
    "            params[self.main_input_name] = input_ids\n",
    "            params[\"enable_cache\"] = torch.tensor([False], device=\"cuda\", dtype=torch.bool)\n",
    "        else:\n",
    "            params[self.main_input_name] = input_ids[:, -1:]\n",
    "            params[\"enable_cache\"] = torch.tensor([True], device=\"cuda\", dtype=torch.bool)\n",
    "            params[\"past_key_values\"] = past\n",
    "\n",
    "        return params\n",
    "\n",
    "    def forward(\n",
    "        self,\n",
    "        input_ids: torch.Tensor,\n",
    "        encoder_hidden_states: torch.Tensor,\n",
    "        enable_cache: torch.Tensor,\n",
    "        past_key_values: Optional[torch.Tensor] = None,\n",
    "        **_,\n",
    "    ):\n",
    "        start_timer = time()\n",
    "        dec_output = self.get_decoder()(\n",
    "            decoder_input_ids=input_ids,\n",
    "            encoder_hidden_states=encoder_hidden_states,\n",
    "            enable_cache=enable_cache,\n",
    "            past_key_values=past_key_values,\n",
    "        )\n",
    "        self.timings.append(time() - start_timer)\n",
    "        return Seq2SeqLMOutput(logits=dec_output.last_hidden_state, past_key_values=dec_output.past_key_values)\n",
    "\n",
    "\n",
    "model_gen = (\n",
    "    ExtT5(\n",
    "        config=model.config,\n",
    "        device=model.device,\n",
    "        encoder_func=encoder_onnx_inference,  # encoder_pytorch_inference\n",
    "        decoder_func=decoder_onnx_inference,  # decoder_pytorch_inference\n",
    "    )\n",
    "    .cuda()\n",
    "    .eval()\n",
    ")\n",
    "\n",
    "torch.cuda.synchronize()\n",
    "with torch.inference_mode():\n",
    "    print(\"ONNX:\")\n",
    "    print(\n",
    "        tokenizer.decode(\n",
    "            model_gen.generate(\n",
    "                inputs=input_ids,\n",
    "                min_length=2,\n",
    "                max_length=60,\n",
    "                num_beams=4,\n",
    "                no_repeat_ngram_size=2,\n",
    "            )[0],\n",
    "            skip_special_tokens=True,\n",
    "        )\n",
    "    )\n",
    "    print(\"Pytorch:\")\n",
    "    print(\n",
    "        tokenizer.decode(\n",
    "            model.generate(\n",
    "                input_ids=input_ids,\n",
    "                min_length=2,\n",
    "                max_length=60,\n",
    "                num_beams=4,\n",
    "                no_repeat_ngram_size=2,\n",
    "            )[0],\n",
    "            skip_special_tokens=True,\n",
    "        )\n",
    "    )"
   ]
  },
  {
   "cell_type": "code",
   "execution_count": 16,
   "metadata": {
    "execution": {
     "iopub.execute_input": "2022-05-06T11:34:40.722039Z",
     "iopub.status.busy": "2022-05-06T11:34:40.721572Z",
     "iopub.status.idle": "2022-05-06T11:36:18.376778Z",
     "shell.execute_reply": "2022-05-06T11:36:18.376353Z"
    },
    "pycharm": {
     "name": "#%%\n"
    }
   },
   "outputs": [
    {
     "name": "stdout",
     "output_type": "stream",
     "text": [
      "seq len: 256 / # beam (batch size): 1\n",
      "ONNX: 1.8136825561523438, including inference: 1.7161219120025635 (94.6%)\n",
      "ONNX + cache: 1.5642004013061523, including inference: 1.4654550552368164 (93.7%)\n",
      "Pytorch: 4.8225977420806885, including inference: 4.743687391281128 (98.4%)\n",
      "Pytorch + cache: 4.003555774688721, including inference: 3.9207491874694824 (97.9%)\n",
      "seq len: 1000 / # beam (batch size): 4\n",
      "ONNX: 21.066399574279785, including inference: 19.685880422592163 (93.4%)\n",
      "ONNX + cache: 8.74390983581543, including inference: 7.414133787155151 (84.8%)\n",
      "Pytorch: 37.259653091430664, including inference: 36.52219104766846 (98.0%)\n",
      "Pytorch + cache: 18.368754863739014, including inference: 17.176666975021362 (93.5%)\n"
     ]
    }
   ],
   "source": [
    "def print_timings(name: str, total: float, inference: float):\n",
    "    percent_inference = 100*inference / total\n",
    "    print(f\"{name}: {total}, including inference: {inference} ({percent_inference:.1f}%)\")\n",
    "\n",
    "all_timings: Dict[str, Dict[str, List[float]]] = dict()\n",
    "for seq_len, num_beam in [(256, 1), (1000, 4)]:\n",
    "    timings = dict()\n",
    "\n",
    "    print(f\"seq len: {seq_len} / # beam (batch size): {num_beam}\")\n",
    "    task = \"ONNX\"\n",
    "    with nvtx.annotate(task, color=\"red\"):\n",
    "        model_gen.set_cache(enable=False)\n",
    "        start = time()\n",
    "        model_gen.generate(inputs=input_ids, max_length=seq_len, num_beams=num_beam, min_length=seq_len)\n",
    "        print_timings(name=task, total=time() - start, inference=sum(model_gen.timings))\n",
    "        timings[f\"{task}\"] = model_gen.timings\n",
    "\n",
    "    task = \"ONNX + cache\"\n",
    "    with nvtx.annotate(task, color=\"red\"):\n",
    "        model_gen.set_cache(enable=True)\n",
    "        start = time()\n",
    "        model_gen.generate(inputs=input_ids, max_length=seq_len, num_beams=num_beam, min_length=seq_len)\n",
    "        print_timings(name=task, total=time() - start, inference=sum(model_gen.timings))\n",
    "        timings[f\"{task}\"] = model_gen.timings\n",
    "\n",
    "    # monckey patching of forward function to add a timer per generated token\n",
    "    old_fw = model.forward\n",
    "    timing_pytorch = list()\n",
    "\n",
    "\n",
    "    def new_fw(self, *args, **kwargs):\n",
    "        timer_start = time()\n",
    "        res = old_fw(self, *args, **kwargs)\n",
    "        torch.cuda.synchronize()  # makes timings correct without having significant impact on e2e latency\n",
    "        timing_pytorch.append(time() - timer_start)\n",
    "        return res\n",
    "\n",
    "\n",
    "    model.forward = new_fw.__get__(model)\n",
    "    task = \"Pytorch\"\n",
    "    with nvtx.annotate(task, color=\"orange\"):\n",
    "        model.config.use_cache = False\n",
    "        with torch.inference_mode():\n",
    "            with torch.cuda.amp.autocast():\n",
    "                start = time()\n",
    "                model.generate(inputs=input_ids, max_length=seq_len, num_beams=num_beam, min_length=seq_len)\n",
    "                torch.cuda.synchronize()\n",
    "                print_timings(name=\"Pytorch\", total=time() - start, inference=sum(timing_pytorch))\n",
    "        timing_pytorch_no_cache = copy(timing_pytorch)\n",
    "        timings[f\"{task}\"] = copy(timing_pytorch)\n",
    "        timing_pytorch.clear()\n",
    "\n",
    "    task = \"Pytorch + cache\"\n",
    "    with nvtx.annotate(\"Pytorch + cache\", color=\"green\"):\n",
    "        model.config.use_cache = True\n",
    "        with torch.inference_mode():\n",
    "            with torch.cuda.amp.autocast():\n",
    "                start = time()\n",
    "                model.generate(inputs=input_ids, max_length=seq_len, num_beams=num_beam, min_length=seq_len)\n",
    "                torch.cuda.synchronize()\n",
    "                print_timings(name=\"Pytorch + cache\", total=time() - start, inference=sum(timing_pytorch))\n",
    "        timings[f\"{task}\"] = copy(timing_pytorch)\n",
    "        timing_pytorch.clear()\n",
    "    all_timings[f\"{seq_len} / {num_beam}\"] = timings\n",
    "    model.forward = old_fw"
   ]
  },
  {
   "cell_type": "code",
   "execution_count": 17,
   "metadata": {
    "execution": {
     "iopub.execute_input": "2022-05-06T11:36:18.381690Z",
     "iopub.status.busy": "2022-05-06T11:36:18.381238Z",
     "iopub.status.idle": "2022-05-06T11:36:19.586735Z",
     "shell.execute_reply": "2022-05-06T11:36:19.586316Z"
    },
    "pycharm": {
     "name": "#%%\n"
    }
   },
   "outputs": [
    {
     "data": {
      "image/png": "[encoded data removed]",
      "text/plain": [
       "<Figure size 864x576 with 4 Axes>"
      ]
     },
     "metadata": {},
     "output_type": "display_data"
    }
   ],
   "source": [
    "import seaborn as sns\n",
    "\n",
    "sns.set_style('darkgrid')       # darkgrid, whitegrid, dark, white and ticks\n",
    "plt.rc('axes', titlesize=15)    # fontsize of the axes title\n",
    "plt.rc('axes', labelsize=14)    # fontsize of the x and y labels\n",
    "plt.rc('xtick', labelsize=13)   # fontsize of the tick labels\n",
    "plt.rc('ytick', labelsize=13)   # fontsize of the tick labels\n",
    "plt.rc('legend', fontsize=15)   # legend fontsize\n",
    "plt.rc('font', size=13)         # controls default text sizes\n",
    "\n",
    "colors = sns.color_palette(\"deep\")\n",
    "fig = plt.figure(constrained_layout=True, figsize=(12, 8))\n",
    "subfigs = fig.subfigures(nrows=2, ncols=1)\n",
    "\n",
    "fig.supxlabel('seq len (# tokens)')\n",
    "fig.supylabel('latency (s)')\n",
    "fig.suptitle(\"Small seq len and greedy search doesn't tell the whole (inference) story...\")\n",
    "for row, (plot_name, timings) in enumerate(all_timings.items()):\n",
    "    subfigs[row].suptitle(f\"setup #{1+row}: {plot_name} (seq len / beam search)\")\n",
    "    axs = subfigs[row].subplots(nrows=1, ncols=2)\n",
    "    for col, accumulated in enumerate([False, True]):\n",
    "        plot_axis = axs[col]\n",
    "        for index, (k, v) in enumerate(timings.items()):\n",
    "            axis = range(len(v))\n",
    "            color = colors[index]\n",
    "            v = np.cumsum(v) if accumulated else v\n",
    "            plot_axis.scatter(axis, v,label=k, s=2)\n",
    "\n",
    "        title = f\"latency for the full sequence\" if accumulated else f\"latency for each token\"\n",
    "        plot_axis.title.set_text(title)\n",
    "\n",
    "# legend deduplication\n",
    "handles, labels = plt.gca().get_legend_handles_labels()\n",
    "by_label = dict(zip(labels, handles))\n",
    "fig.legend(by_label.values(), by_label.keys(), bbox_to_anchor=(1, 1), loc=\"upper left\", markerscale=5)\n",
    "plt.show()"
   ]
  },
  {
   "cell_type": "markdown",
   "metadata": {
    "pycharm": {
     "name": "#%% md\n"
    }
   },
   "source": [
    "# TODO change axis name to better describe what they are, in particular manage encoder and decoder models with common names\n",
    "\n",
    "\n",
    "link to https://github.com/microsoft/onnxruntime/pull/10651 !"
   ]
  },
  {
   "cell_type": "code",
   "execution_count": 18,
   "metadata": {
    "execution": {
     "iopub.execute_input": "2022-05-06T11:36:19.590646Z",
     "iopub.status.busy": "2022-05-06T11:36:19.590458Z",
     "iopub.status.idle": "2022-05-06T11:36:44.110166Z",
     "shell.execute_reply": "2022-05-06T11:36:44.109768Z"
    },
    "pycharm": {
     "name": "#%%\n"
    }
   },
   "outputs": [
    {
     "name": "stderr",
     "output_type": "stream",
     "text": [
      "2022-05-06 12:36:20.005357436 [W:onnxruntime:, graph.cc:3515 CleanUnusedInitializersAndNodeArgs] Removing initializer 'cache_node_onnx::Div_803'. It is not used by any node and should be removed from the model.\n",
      "2022-05-06 12:36:20.005389299 [W:onnxruntime:, graph.cc:3515 CleanUnusedInitializersAndNodeArgs] Removing initializer 'cache_node_onnx::Div_954'. It is not used by any node and should be removed from the model.\n",
      "2022-05-06 12:36:20.005393754 [W:onnxruntime:, graph.cc:3515 CleanUnusedInitializersAndNodeArgs] Removing initializer 'cache_node_onnx::Div_702'. It is not used by any node and should be removed from the model.\n",
      "2022-05-06 12:36:20.005397541 [W:onnxruntime:, graph.cc:3515 CleanUnusedInitializersAndNodeArgs] Removing initializer 'cache_node_onnx::Div_1709'. It is not used by any node and should be removed from the model.\n",
      "2022-05-06 12:36:20.005401476 [W:onnxruntime:, graph.cc:3515 CleanUnusedInitializersAndNodeArgs] Removing initializer 'cache_node_onnx::Div_652'. It is not used by any node and should be removed from the model.\n",
      "2022-05-06 12:36:20.005408164 [W:onnxruntime:, graph.cc:3515 CleanUnusedInitializersAndNodeArgs] Removing initializer 'cache_node_onnx::Div_2212'. It is not used by any node and should be removed from the model.\n",
      "2022-05-06 12:36:20.005412863 [W:onnxruntime:, graph.cc:3515 CleanUnusedInitializersAndNodeArgs] Removing initializer 'cache_node_onnx::Div_1004'. It is not used by any node and should be removed from the model.\n",
      "2022-05-06 12:36:20.005417099 [W:onnxruntime:, graph.cc:3515 CleanUnusedInitializersAndNodeArgs] Removing initializer 'cache_node_onnx::Div_1457'. It is not used by any node and should be removed from the model.\n",
      "2022-05-06 12:36:20.005426179 [W:onnxruntime:, graph.cc:3515 CleanUnusedInitializersAndNodeArgs] Removing initializer 'cache_node_onnx::Div_2061'. It is not used by any node and should be removed from the model.\n",
      "2022-05-06 12:36:20.005430340 [W:onnxruntime:, graph.cc:3515 CleanUnusedInitializersAndNodeArgs] Removing initializer 'cache_node_onnx::Div_870'. It is not used by any node and should be removed from the model.\n",
      "2022-05-06 12:36:20.005435314 [W:onnxruntime:, graph.cc:3515 CleanUnusedInitializersAndNodeArgs] Removing initializer 'cache_node_onnx::Div_1323'. It is not used by any node and should be removed from the model.\n",
      "2022-05-06 12:36:20.005440116 [W:onnxruntime:, graph.cc:3515 CleanUnusedInitializersAndNodeArgs] Removing initializer 'cache_node_onnx::Div_853'. It is not used by any node and should be removed from the model.\n",
      "2022-05-06 12:36:20.005444155 [W:onnxruntime:, graph.cc:3515 CleanUnusedInitializersAndNodeArgs] Removing initializer 'cache_node_onnx::Div_1155'. It is not used by any node and should be removed from the model.\n",
      "2022-05-06 12:36:20.005451115 [W:onnxruntime:, graph.cc:3515 CleanUnusedInitializersAndNodeArgs] Removing initializer 'cache_node_onnx::Div_1625'. It is not used by any node and should be removed from the model.\n",
      "2022-05-06 12:36:20.005454707 [W:onnxruntime:, graph.cc:3515 CleanUnusedInitializersAndNodeArgs] Removing initializer 'cache_node_onnx::Div_1910'. It is not used by any node and should be removed from the model.\n",
      "2022-05-06 12:36:20.005459469 [W:onnxruntime:, graph.cc:3515 CleanUnusedInitializersAndNodeArgs] Removing initializer 'cache_node_onnx::Div_568'. It is not used by any node and should be removed from the model.\n",
      "2022-05-06 12:36:20.005462938 [W:onnxruntime:, graph.cc:3515 CleanUnusedInitializersAndNodeArgs] Removing initializer 'cache_node_onnx::Div_320'. It is not used by any node and should be removed from the model.\n",
      "2022-05-06 12:36:20.005469126 [W:onnxruntime:, graph.cc:3515 CleanUnusedInitializersAndNodeArgs] Removing initializer 'cache_node_onnx::Div_2229'. It is not used by any node and should be removed from the model.\n",
      "2022-05-06 12:36:20.005473555 [W:onnxruntime:, graph.cc:3515 CleanUnusedInitializersAndNodeArgs] Removing initializer 'cache_node_onnx::Div_1407'. It is not used by any node and should be removed from the model.\n",
      "2022-05-06 12:36:20.005481379 [W:onnxruntime:, graph.cc:3515 CleanUnusedInitializersAndNodeArgs] Removing initializer 'cache_node_onnx::Div_1021'. It is not used by any node and should be removed from the model.\n",
      "2022-05-06 12:36:20.005486275 [W:onnxruntime:, graph.cc:3515 CleanUnusedInitializersAndNodeArgs] Removing initializer 'cache_node_onnx::Div_1105'. It is not used by any node and should be removed from the model.\n",
      "2022-05-06 12:36:20.005491085 [W:onnxruntime:, graph.cc:3515 CleanUnusedInitializersAndNodeArgs] Removing initializer 'cache_node_onnx::Div_1172'. It is not used by any node and should be removed from the model.\n",
      "2022-05-06 12:36:20.005494983 [W:onnxruntime:, graph.cc:3515 CleanUnusedInitializersAndNodeArgs] Removing initializer 'cache_node_onnx::Div_719'. It is not used by any node and should be removed from the model.\n",
      "2022-05-06 12:36:20.005501721 [W:onnxruntime:, graph.cc:3515 CleanUnusedInitializersAndNodeArgs] Removing initializer 'cache_node_onnx::Div_1306'. It is not used by any node and should be removed from the model.\n",
      "2022-05-06 12:36:20.005508877 [W:onnxruntime:, graph.cc:3515 CleanUnusedInitializersAndNodeArgs] Removing initializer 'cache_node_onnx::Div_1558'. It is not used by any node and should be removed from the model.\n",
      "2022-05-06 12:36:20.005512876 [W:onnxruntime:, graph.cc:3515 CleanUnusedInitializersAndNodeArgs] Removing initializer 'cache_node_onnx::Div_1608'. It is not used by any node and should be removed from the model.\n",
      "2022-05-06 12:36:20.005517387 [W:onnxruntime:, graph.cc:3515 CleanUnusedInitializersAndNodeArgs] Removing initializer 'cache_node_onnx::Div_551'. It is not used by any node and should be removed from the model.\n",
      "2022-05-06 12:36:20.005522110 [W:onnxruntime:, graph.cc:3515 CleanUnusedInitializersAndNodeArgs] Removing initializer 'cache_node_onnx::Div_1256'. It is not used by any node and should be removed from the model.\n",
      "2022-05-06 12:36:20.005525485 [W:onnxruntime:, graph.cc:3515 CleanUnusedInitializersAndNodeArgs] Removing initializer 'cache_node_onnx::Div_1776'. It is not used by any node and should be removed from the model.\n",
      "2022-05-06 12:36:20.005529109 [W:onnxruntime:, graph.cc:3515 CleanUnusedInitializersAndNodeArgs] Removing initializer 'cache_node_onnx::Div_1860'. It is not used by any node and should be removed from the model.\n",
      "2022-05-06 12:36:20.005532564 [W:onnxruntime:, graph.cc:3515 CleanUnusedInitializersAndNodeArgs] Removing initializer 'cache_node_onnx::Div_467'. It is not used by any node and should be removed from the model.\n",
      "2022-05-06 12:36:20.005536143 [W:onnxruntime:, graph.cc:3515 CleanUnusedInitializersAndNodeArgs] Removing initializer 'cache_node_onnx::Div_1474'. It is not used by any node and should be removed from the model.\n",
      "2022-05-06 12:36:20.005539705 [W:onnxruntime:, graph.cc:3515 CleanUnusedInitializersAndNodeArgs] Removing initializer 'cache_node_onnx::Div_1927'. It is not used by any node and should be removed from the model.\n",
      "2022-05-06 12:36:20.005544699 [W:onnxruntime:, graph.cc:3515 CleanUnusedInitializersAndNodeArgs] Removing initializer 'cache_node_onnx::Div_2011'. It is not used by any node and should be removed from the model.\n",
      "2022-05-06 12:36:20.005549634 [W:onnxruntime:, graph.cc:3515 CleanUnusedInitializersAndNodeArgs] Removing initializer 'cache_node_onnx::Div_2078'. It is not used by any node and should be removed from the model.\n",
      "2022-05-06 12:36:20.005553423 [W:onnxruntime:, graph.cc:3515 CleanUnusedInitializersAndNodeArgs] Removing initializer 'cache_node_onnx::Div_1759'. It is not used by any node and should be removed from the model.\n",
      "2022-05-06 12:36:20.005557388 [W:onnxruntime:, graph.cc:3515 CleanUnusedInitializersAndNodeArgs] Removing initializer 'cache_node_onnx::Div_2162'. It is not used by any node and should be removed from the model.\n",
      "2022-05-06 12:36:20.005921178 [W:onnxruntime:, graph.cc:3515 CleanUnusedInitializersAndNodeArgs] Removing initializer 'onnx::Div_2485'. It is not used by any node and should be removed from the model.\n",
      "2022-05-06 12:36:20.005927673 [W:onnxruntime:, graph.cc:3515 CleanUnusedInitializersAndNodeArgs] Removing initializer 'onnx::Div_2386'. It is not used by any node and should be removed from the model.\n",
      "2022-05-06 12:36:20.005932916 [W:onnxruntime:, graph.cc:3515 CleanUnusedInitializersAndNodeArgs] Removing initializer 'onnx::Div_1563'. It is not used by any node and should be removed from the model.\n",
      "2022-05-06 12:36:20.005936837 [W:onnxruntime:, graph.cc:3515 CleanUnusedInitializersAndNodeArgs] Removing initializer 'onnx::Div_1037'. It is not used by any node and should be removed from the model.\n",
      "2022-05-06 12:36:20.005941628 [W:onnxruntime:, graph.cc:3515 CleanUnusedInitializersAndNodeArgs] Removing initializer 'onnx::Div_856'. It is not used by any node and should be removed from the model.\n",
      "2022-05-06 12:36:20.005946385 [W:onnxruntime:, graph.cc:3515 CleanUnusedInitializersAndNodeArgs] Removing initializer 'onnx::Div_839'. It is not used by any node and should be removed from the model.\n",
      "2022-05-06 12:36:20.005949839 [W:onnxruntime:, graph.cc:3515 CleanUnusedInitializersAndNodeArgs] Removing initializer 'onnx::Div_757'. It is not used by any node and should be removed from the model.\n",
      "2022-05-06 12:36:20.005953545 [W:onnxruntime:, graph.cc:3515 CleanUnusedInitializersAndNodeArgs] Removing initializer 'onnx::Div_675'. It is not used by any node and should be removed from the model.\n",
      "2022-05-06 12:36:20.005957313 [W:onnxruntime:, graph.cc:3515 CleanUnusedInitializersAndNodeArgs] Removing initializer 'onnx::Div_658'. It is not used by any node and should be removed from the model.\n",
      "2022-05-06 12:36:20.005961764 [W:onnxruntime:, graph.cc:3515 CleanUnusedInitializersAndNodeArgs] Removing initializer 'onnx::Div_576'. It is not used by any node and should be removed from the model.\n",
      "2022-05-06 12:36:20.005965541 [W:onnxruntime:, graph.cc:3515 CleanUnusedInitializersAndNodeArgs] Removing initializer 'onnx::Div_2123'. It is not used by any node and should be removed from the model.\n",
      "2022-05-06 12:36:20.005970367 [W:onnxruntime:, graph.cc:3515 CleanUnusedInitializersAndNodeArgs] Removing initializer 'onnx::Div_494'. It is not used by any node and should be removed from the model.\n",
      "2022-05-06 12:36:20.005974069 [W:onnxruntime:, graph.cc:3515 CleanUnusedInitializersAndNodeArgs] Removing initializer 'onnx::Div_1218'. It is not used by any node and should be removed from the model.\n",
      "2022-05-06 12:36:20.005977718 [W:onnxruntime:, graph.cc:3515 CleanUnusedInitializersAndNodeArgs] Removing initializer 'onnx::Div_938'. It is not used by any node and should be removed from the model.\n",
      "2022-05-06 12:36:20.005982504 [W:onnxruntime:, graph.cc:3515 CleanUnusedInitializersAndNodeArgs] Removing initializer 'onnx::Div_252'. It is not used by any node and should be removed from the model.\n",
      "2022-05-06 12:36:20.005992137 [W:onnxruntime:, graph.cc:3515 CleanUnusedInitializersAndNodeArgs] Removing initializer 'onnx::Div_1020'. It is not used by any node and should be removed from the model.\n",
      "2022-05-06 12:36:20.005995946 [W:onnxruntime:, graph.cc:3515 CleanUnusedInitializersAndNodeArgs] Removing initializer 'onnx::Div_1761'. It is not used by any node and should be removed from the model.\n",
      "2022-05-06 12:36:20.006000638 [W:onnxruntime:, graph.cc:3515 CleanUnusedInitializersAndNodeArgs] Removing initializer 'onnx::Div_477'. It is not used by any node and should be removed from the model.\n",
      "2022-05-06 12:36:20.006004566 [W:onnxruntime:, graph.cc:3515 CleanUnusedInitializersAndNodeArgs] Removing initializer 'onnx::Div_376'. It is not used by any node and should be removed from the model.\n",
      "2022-05-06 12:36:20.006009183 [W:onnxruntime:, graph.cc:3515 CleanUnusedInitializersAndNodeArgs] Removing initializer 'onnx::Div_1925'. It is not used by any node and should be removed from the model.\n",
      "2022-05-06 12:36:20.006012985 [W:onnxruntime:, graph.cc:3515 CleanUnusedInitializersAndNodeArgs] Removing initializer 'onnx::Div_2468'. It is not used by any node and should be removed from the model.\n",
      "2022-05-06 12:36:20.006017725 [W:onnxruntime:, graph.cc:3515 CleanUnusedInitializersAndNodeArgs] Removing initializer 'onnx::Div_1119'. It is not used by any node and should be removed from the model.\n",
      "2022-05-06 12:36:20.006022315 [W:onnxruntime:, graph.cc:3515 CleanUnusedInitializersAndNodeArgs] Removing initializer 'onnx::Div_1744'. It is not used by any node and should be removed from the model.\n",
      "2022-05-06 12:36:20.006025858 [W:onnxruntime:, graph.cc:3515 CleanUnusedInitializersAndNodeArgs] Removing initializer 'onnx::Div_2304'. It is not used by any node and should be removed from the model.\n",
      "2022-05-06 12:36:20.006032332 [W:onnxruntime:, graph.cc:3515 CleanUnusedInitializersAndNodeArgs] Removing initializer 'onnx::Div_1201'. It is not used by any node and should be removed from the model.\n",
      "2022-05-06 12:36:20.006036586 [W:onnxruntime:, graph.cc:3515 CleanUnusedInitializersAndNodeArgs] Removing initializer 'onnx::Div_1580'. It is not used by any node and should be removed from the model.\n",
      "2022-05-06 12:36:20.006043013 [W:onnxruntime:, graph.cc:3515 CleanUnusedInitializersAndNodeArgs] Removing initializer 'onnx::Div_1382'. It is not used by any node and should be removed from the model.\n",
      "2022-05-06 12:36:20.006046368 [W:onnxruntime:, graph.cc:3515 CleanUnusedInitializersAndNodeArgs] Removing initializer 'onnx::Div_1399'. It is not used by any node and should be removed from the model.\n",
      "2022-05-06 12:36:20.006049878 [W:onnxruntime:, graph.cc:3515 CleanUnusedInitializersAndNodeArgs] Removing initializer 'onnx::Div_2024'. It is not used by any node and should be removed from the model.\n",
      "2022-05-06 12:36:20.006054044 [W:onnxruntime:, graph.cc:3515 CleanUnusedInitializersAndNodeArgs] Removing initializer 'onnx::Div_1481'. It is not used by any node and should be removed from the model.\n",
      "2022-05-06 12:36:20.006057783 [W:onnxruntime:, graph.cc:3515 CleanUnusedInitializersAndNodeArgs] Removing initializer 'onnx::Div_1300'. It is not used by any node and should be removed from the model.\n",
      "2022-05-06 12:36:20.006063825 [W:onnxruntime:, graph.cc:3515 CleanUnusedInitializersAndNodeArgs] Removing initializer 'onnx::Div_1662'. It is not used by any node and should be removed from the model.\n",
      "2022-05-06 12:36:20.006067668 [W:onnxruntime:, graph.cc:3515 CleanUnusedInitializersAndNodeArgs] Removing initializer 'onnx::Div_2106'. It is not used by any node and should be removed from the model.\n",
      "2022-05-06 12:36:20.006072809 [W:onnxruntime:, graph.cc:3515 CleanUnusedInitializersAndNodeArgs] Removing initializer 'onnx::Div_1843'. It is not used by any node and should be removed from the model.\n",
      "2022-05-06 12:36:20.006077083 [W:onnxruntime:, graph.cc:3515 CleanUnusedInitializersAndNodeArgs] Removing initializer 'onnx::Div_1942'. It is not used by any node and should be removed from the model.\n",
      "2022-05-06 12:36:20.006080664 [W:onnxruntime:, graph.cc:3515 CleanUnusedInitializersAndNodeArgs] Removing initializer 'onnx::Div_2205'. It is not used by any node and should be removed from the model.\n",
      "2022-05-06 12:36:20.006085668 [W:onnxruntime:, graph.cc:3515 CleanUnusedInitializersAndNodeArgs] Removing initializer 'onnx::Div_2287'. It is not used by any node and should be removed from the model.\n",
      "2022-05-06 12:36:20.064065330 [W:onnxruntime:, graph.cc:3515 CleanUnusedInitializersAndNodeArgs] Removing initializer 'cache_node_onnx::Pow_2223'. It is not used by any node and should be removed from the model.\n",
      "2022-05-06 12:36:20.064080695 [W:onnxruntime:, graph.cc:3515 CleanUnusedInitializersAndNodeArgs] Removing initializer 'cache_node_onnx::Pow_2206'. It is not used by any node and should be removed from the model.\n",
      "2022-05-06 12:36:20.064085098 [W:onnxruntime:, graph.cc:3515 CleanUnusedInitializersAndNodeArgs] Removing initializer 'cache_node_onnx::Div_409'. It is not used by any node and should be removed from the model.\n",
      "2022-05-06 12:36:20.064088618 [W:onnxruntime:, graph.cc:3515 CleanUnusedInitializersAndNodeArgs] Removing initializer 'cache_node_onnx::Pow_948'. It is not used by any node and should be removed from the model.\n",
      "2022-05-06 12:36:20.064092654 [W:onnxruntime:, graph.cc:3515 CleanUnusedInitializersAndNodeArgs] Removing initializer 'cache_node_onnx::Add_1857'. It is not used by any node and should be removed from the model.\n",
      "2022-05-06 12:36:20.064096579 [W:onnxruntime:, graph.cc:3515 CleanUnusedInitializersAndNodeArgs] Removing initializer 'cache_node_onnx::Add_2209'. It is not used by any node and should be removed from the model.\n",
      "2022-05-06 12:36:20.064100790 [W:onnxruntime:, graph.cc:3515 CleanUnusedInitializersAndNodeArgs] Removing initializer 'cache_node_onnx::Pow_1451'. It is not used by any node and should be removed from the model.\n",
      "2022-05-06 12:36:20.064104814 [W:onnxruntime:, graph.cc:3515 CleanUnusedInitializersAndNodeArgs] Removing initializer 'cache_node_onnx::Add_1924'. It is not used by any node and should be removed from the model.\n",
      "2022-05-06 12:36:20.064110577 [W:onnxruntime:, graph.cc:3515 CleanUnusedInitializersAndNodeArgs] Removing initializer 'cache_node_onnx::Pow_562'. It is not used by any node and should be removed from the model.\n",
      "2022-05-06 12:36:20.064114531 [W:onnxruntime:, graph.cc:3515 CleanUnusedInitializersAndNodeArgs] Removing initializer 'cache_node_onnx::Pow_1619'. It is not used by any node and should be removed from the model.\n",
      "2022-05-06 12:36:20.064119202 [W:onnxruntime:, graph.cc:3515 CleanUnusedInitializersAndNodeArgs] Removing initializer 'cache_node_onnx::Add_2226'. It is not used by any node and should be removed from the model.\n",
      "2022-05-06 12:36:20.064122965 [W:onnxruntime:, graph.cc:3515 CleanUnusedInitializersAndNodeArgs] Removing initializer 'cache_node_onnx::Pow_797'. It is not used by any node and should be removed from the model.\n",
      "2022-05-06 12:36:20.064126516 [W:onnxruntime:, graph.cc:3515 CleanUnusedInitializersAndNodeArgs] Removing initializer 'cache_node_onnx::Pow_545'. It is not used by any node and should be removed from the model.\n",
      "2022-05-06 12:36:20.064130617 [W:onnxruntime:, graph.cc:3515 CleanUnusedInitializersAndNodeArgs] Removing initializer 'cache_node_onnx::Add_2008'. It is not used by any node and should be removed from the model.\n",
      "2022-05-06 12:36:20.064134278 [W:onnxruntime:, graph.cc:3515 CleanUnusedInitializersAndNodeArgs] Removing initializer 'cache_node_onnx::Pow_461'. It is not used by any node and should be removed from the model.\n",
      "2022-05-06 12:36:20.064137956 [W:onnxruntime:, graph.cc:3515 CleanUnusedInitializersAndNodeArgs] Removing initializer 'cache_node_onnx::Pow_847'. It is not used by any node and should be removed from the model.\n",
      "2022-05-06 12:36:20.064142527 [W:onnxruntime:, graph.cc:3515 CleanUnusedInitializersAndNodeArgs] Removing initializer 'cache_node_onnx::Pow_646'. It is not used by any node and should be removed from the model.\n",
      "2022-05-06 12:36:20.064146284 [W:onnxruntime:, graph.cc:3515 CleanUnusedInitializersAndNodeArgs] Removing initializer 'cache_node_onnx::Unsqueeze_252'. It is not used by any node and should be removed from the model.\n",
      "2022-05-06 12:36:20.064150567 [W:onnxruntime:, graph.cc:3515 CleanUnusedInitializersAndNodeArgs] Removing initializer 'cache_node_onnx::Mul_411'. It is not used by any node and should be removed from the model.\n",
      "2022-05-06 12:36:20.064154362 [W:onnxruntime:, graph.cc:3515 CleanUnusedInitializersAndNodeArgs] Removing initializer 'cache_node_onnx::Pow_1250'. It is not used by any node and should be removed from the model.\n",
      "2022-05-06 12:36:20.064158632 [W:onnxruntime:, graph.cc:3515 CleanUnusedInitializersAndNodeArgs] Removing initializer 'cache_node_onnx::Pow_1015'. It is not used by any node and should be removed from the model.\n",
      "2022-05-06 12:36:20.064162890 [W:onnxruntime:, graph.cc:3515 CleanUnusedInitializersAndNodeArgs] Removing initializer 'cache_node_onnx::Add_1622'. It is not used by any node and should be removed from the model.\n",
      "2022-05-06 12:36:20.064166350 [W:onnxruntime:, graph.cc:3515 CleanUnusedInitializersAndNodeArgs] Removing initializer 'cache_node_onnx::Pow_864'. It is not used by any node and should be removed from the model.\n",
      "2022-05-06 12:36:20.064170373 [W:onnxruntime:, graph.cc:3515 CleanUnusedInitializersAndNodeArgs] Removing initializer 'cache_node_onnx::Pow_713'. It is not used by any node and should be removed from the model.\n",
      "2022-05-06 12:36:20.064175244 [W:onnxruntime:, graph.cc:3515 CleanUnusedInitializersAndNodeArgs] Removing initializer 'cache_node_onnx::Pow_696'. It is not used by any node and should be removed from the model.\n",
      "2022-05-06 12:36:20.064179154 [W:onnxruntime:, graph.cc:3515 CleanUnusedInitializersAndNodeArgs] Removing initializer 'cache_node_onnx::Pow_998'. It is not used by any node and should be removed from the model.\n",
      "2022-05-06 12:36:20.064183272 [W:onnxruntime:, graph.cc:3515 CleanUnusedInitializersAndNodeArgs] Removing initializer 'cache_node_onnx::Pow_1770'. It is not used by any node and should be removed from the model.\n",
      "2022-05-06 12:36:20.064187329 [W:onnxruntime:, graph.cc:3515 CleanUnusedInitializersAndNodeArgs] Removing initializer 'cache_node_onnx::Pow_314'. It is not used by any node and should be removed from the model.\n",
      "2022-05-06 12:36:20.064192294 [W:onnxruntime:, graph.cc:3515 CleanUnusedInitializersAndNodeArgs] Removing initializer 'cache_node_onnx::Add_1320'. It is not used by any node and should be removed from the model.\n",
      "2022-05-06 12:36:20.064196448 [W:onnxruntime:, graph.cc:3515 CleanUnusedInitializersAndNodeArgs] Removing initializer 'cache_node_onnx::Unsqueeze_254'. It is not used by any node and should be removed from the model.\n",
      "2022-05-06 12:36:20.064200057 [W:onnxruntime:, graph.cc:3515 CleanUnusedInitializersAndNodeArgs] Removing initializer 'cache_node_onnx::Pow_2156'. It is not used by any node and should be removed from the model.\n",
      "2022-05-06 12:36:20.064204530 [W:onnxruntime:, graph.cc:3515 CleanUnusedInitializersAndNodeArgs] Removing initializer 'cache_node_onnx::Pow_1552'. It is not used by any node and should be removed from the model.\n",
      "2022-05-06 12:36:20.064208917 [W:onnxruntime:, graph.cc:3515 CleanUnusedInitializersAndNodeArgs] Removing initializer 'cache_node_onnx::Pow_1300'. It is not used by any node and should be removed from the model.\n",
      "2022-05-06 12:36:20.064213814 [W:onnxruntime:, graph.cc:3515 CleanUnusedInitializersAndNodeArgs] Removing initializer 'cache_node_onnx::ConstantOfShape_266'. It is not used by any node and should be removed from the model.\n",
      "2022-05-06 12:36:20.064217441 [W:onnxruntime:, graph.cc:3515 CleanUnusedInitializersAndNodeArgs] Removing initializer 'cache_node_onnx::Pow_1166'. It is not used by any node and should be removed from the model.\n",
      "2022-05-06 12:36:20.064222540 [W:onnxruntime:, graph.cc:3515 CleanUnusedInitializersAndNodeArgs] Removing initializer 'cache_node_onnx::Pow_2005'. It is not used by any node and should be removed from the model.\n",
      "2022-05-06 12:36:20.064226050 [W:onnxruntime:, graph.cc:3515 CleanUnusedInitializersAndNodeArgs] Removing initializer 'cache_node_onnx::Pow_1854'. It is not used by any node and should be removed from the model.\n",
      "2022-05-06 12:36:20.064229659 [W:onnxruntime:, graph.cc:3515 CleanUnusedInitializersAndNodeArgs] Removing initializer 'cache_node_onnx::Pow_1317'. It is not used by any node and should be removed from the model.\n",
      "2022-05-06 12:36:20.064233618 [W:onnxruntime:, graph.cc:3515 CleanUnusedInitializersAndNodeArgs] Removing initializer 'cache_node_onnx::Pow_1401'. It is not used by any node and should be removed from the model.\n",
      "2022-05-06 12:36:20.064237013 [W:onnxruntime:, graph.cc:3515 CleanUnusedInitializersAndNodeArgs] Removing initializer 'cache_node_onnx::Pow_1099'. It is not used by any node and should be removed from the model.\n",
      "2022-05-06 12:36:20.064240511 [W:onnxruntime:, graph.cc:3515 CleanUnusedInitializersAndNodeArgs] Removing initializer 'cache_node_onnx::Add_1404'. It is not used by any node and should be removed from the model.\n",
      "2022-05-06 12:36:20.064244280 [W:onnxruntime:, graph.cc:3515 CleanUnusedInitializersAndNodeArgs] Removing initializer 'cache_node_onnx::Add_1454'. It is not used by any node and should be removed from the model.\n",
      "2022-05-06 12:36:20.064247729 [W:onnxruntime:, graph.cc:3515 CleanUnusedInitializersAndNodeArgs] Removing initializer 'cache_node_onnx::Pow_1468'. It is not used by any node and should be removed from the model.\n",
      "2022-05-06 12:36:20.064251359 [W:onnxruntime:, graph.cc:3515 CleanUnusedInitializersAndNodeArgs] Removing initializer 'cache_node_onnx::Add_1471'. It is not used by any node and should be removed from the model.\n",
      "2022-05-06 12:36:20.064254714 [W:onnxruntime:, graph.cc:3515 CleanUnusedInitializersAndNodeArgs] Removing initializer 'cache_node_onnx::Pow_1602'. It is not used by any node and should be removed from the model.\n",
      "2022-05-06 12:36:20.064258965 [W:onnxruntime:, graph.cc:3515 CleanUnusedInitializersAndNodeArgs] Removing initializer 'cache_node_onnx::Add_1605'. It is not used by any node and should be removed from the model.\n",
      "2022-05-06 12:36:20.064263847 [W:onnxruntime:, graph.cc:3515 CleanUnusedInitializersAndNodeArgs] Removing initializer 'cache_node_onnx::Add_1907'. It is not used by any node and should be removed from the model.\n",
      "2022-05-06 12:36:20.064278983 [W:onnxruntime:, graph.cc:3515 CleanUnusedInitializersAndNodeArgs] Removing initializer 'cache_node_onnx::Pow_1703'. It is not used by any node and should be removed from the model.\n",
      "2022-05-06 12:36:20.064282190 [W:onnxruntime:, graph.cc:3515 CleanUnusedInitializersAndNodeArgs] Removing initializer 'cache_node_onnx::Pow_2055'. It is not used by any node and should be removed from the model.\n",
      "2022-05-06 12:36:20.064285319 [W:onnxruntime:, graph.cc:3515 CleanUnusedInitializersAndNodeArgs] Removing initializer 'cache_node_onnx::Add_1706'. It is not used by any node and should be removed from the model.\n",
      "2022-05-06 12:36:20.064288577 [W:onnxruntime:, graph.cc:3515 CleanUnusedInitializersAndNodeArgs] Removing initializer 'cache_node_onnx::Pow_1753'. It is not used by any node and should be removed from the model.\n",
      "2022-05-06 12:36:20.064291826 [W:onnxruntime:, graph.cc:3515 CleanUnusedInitializersAndNodeArgs] Removing initializer 'cache_node_onnx::Add_1756'. It is not used by any node and should be removed from the model.\n",
      "2022-05-06 12:36:20.064295384 [W:onnxruntime:, graph.cc:3515 CleanUnusedInitializersAndNodeArgs] Removing initializer 'cache_node_onnx::Add_1773'. It is not used by any node and should be removed from the model.\n",
      "2022-05-06 12:36:20.064299061 [W:onnxruntime:, graph.cc:3515 CleanUnusedInitializersAndNodeArgs] Removing initializer 'cache_node_onnx::Pow_1904'. It is not used by any node and should be removed from the model.\n",
      "2022-05-06 12:36:20.064302367 [W:onnxruntime:, graph.cc:3515 CleanUnusedInitializersAndNodeArgs] Removing initializer 'cache_node_onnx::Pow_1921'. It is not used by any node and should be removed from the model.\n",
      "2022-05-06 12:36:20.064306463 [W:onnxruntime:, graph.cc:3515 CleanUnusedInitializersAndNodeArgs] Removing initializer 'cache_node_onnx::Add_2058'. It is not used by any node and should be removed from the model.\n",
      "2022-05-06 12:36:20.064309685 [W:onnxruntime:, graph.cc:3515 CleanUnusedInitializersAndNodeArgs] Removing initializer 'cache_node_onnx::Pow_1149'. It is not used by any node and should be removed from the model.\n",
      "2022-05-06 12:36:20.064312938 [W:onnxruntime:, graph.cc:3515 CleanUnusedInitializersAndNodeArgs] Removing initializer 'cache_node_onnx::Pow_2072'. It is not used by any node and should be removed from the model.\n",
      "2022-05-06 12:36:20.064316062 [W:onnxruntime:, graph.cc:3515 CleanUnusedInitializersAndNodeArgs] Removing initializer 'cache_node_onnx::Add_2075'. It is not used by any node and should be removed from the model.\n",
      "2022-05-06 12:36:20.064319681 [W:onnxruntime:, graph.cc:3515 CleanUnusedInitializersAndNodeArgs] Removing initializer 'cache_node_onnx::Add_1555'. It is not used by any node and should be removed from the model.\n",
      "2022-05-06 12:36:20.064322798 [W:onnxruntime:, graph.cc:3515 CleanUnusedInitializersAndNodeArgs] Removing initializer 'cache_node_onnx::Add_2159'. It is not used by any node and should be removed from the model.\n",
      "2022-05-06 12:36:20.064654385 [W:onnxruntime:, graph.cc:3515 CleanUnusedInitializersAndNodeArgs] Removing initializer 'onnx::Add_2482'. It is not used by any node and should be removed from the model.\n",
      "2022-05-06 12:36:20.064659720 [W:onnxruntime:, graph.cc:3515 CleanUnusedInitializersAndNodeArgs] Removing initializer 'onnx::Pow_2479'. It is not used by any node and should be removed from the model.\n",
      "2022-05-06 12:36:20.064663186 [W:onnxruntime:, graph.cc:3515 CleanUnusedInitializersAndNodeArgs] Removing initializer 'onnx::Add_2465'. It is not used by any node and should be removed from the model.\n",
      "2022-05-06 12:36:20.064666698 [W:onnxruntime:, graph.cc:3515 CleanUnusedInitializersAndNodeArgs] Removing initializer 'onnx::Add_2383'. It is not used by any node and should be removed from the model.\n",
      "2022-05-06 12:36:20.064670870 [W:onnxruntime:, graph.cc:3515 CleanUnusedInitializersAndNodeArgs] Removing initializer 'onnx::Pow_2380'. It is not used by any node and should be removed from the model.\n",
      "2022-05-06 12:36:20.064677277 [W:onnxruntime:, graph.cc:3515 CleanUnusedInitializersAndNodeArgs] Removing initializer 'onnx::Pow_751'. It is not used by any node and should be removed from the model.\n",
      "2022-05-06 12:36:20.064681284 [W:onnxruntime:, graph.cc:3515 CleanUnusedInitializersAndNodeArgs] Removing initializer 'onnx::Pow_1656'. It is not used by any node and should be removed from the model.\n",
      "2022-05-06 12:36:20.064684687 [W:onnxruntime:, graph.cc:3515 CleanUnusedInitializersAndNodeArgs] Removing initializer 'onnx::Pow_570'. It is not used by any node and should be removed from the model.\n",
      "2022-05-06 12:36:20.064689664 [W:onnxruntime:, graph.cc:3515 CleanUnusedInitializersAndNodeArgs] Removing initializer 'onnx::Pow_1755'. It is not used by any node and should be removed from the model.\n",
      "2022-05-06 12:36:20.064693165 [W:onnxruntime:, graph.cc:3515 CleanUnusedInitializersAndNodeArgs] Removing initializer 'onnx::Pow_2281'. It is not used by any node and should be removed from the model.\n",
      "2022-05-06 12:36:20.064696848 [W:onnxruntime:, graph.cc:3515 CleanUnusedInitializersAndNodeArgs] Removing initializer 'onnx::Pow_471'. It is not used by any node and should be removed from the model.\n",
      "2022-05-06 12:36:20.064700840 [W:onnxruntime:, graph.cc:3515 CleanUnusedInitializersAndNodeArgs] Removing initializer 'onnx::Add_1577'. It is not used by any node and should be removed from the model.\n",
      "2022-05-06 12:36:20.064704242 [W:onnxruntime:, graph.cc:3515 CleanUnusedInitializersAndNodeArgs] Removing initializer 'onnx::Unsqueeze_202'. It is not used by any node and should be removed from the model.\n",
      "2022-05-06 12:36:20.064708209 [W:onnxruntime:, graph.cc:3515 CleanUnusedInitializersAndNodeArgs] Removing initializer 'onnx::Pow_1212'. It is not used by any node and should be removed from the model.\n",
      "2022-05-06 12:36:20.064711462 [W:onnxruntime:, graph.cc:3515 CleanUnusedInitializersAndNodeArgs] Removing initializer 'onnx::Add_1560'. It is not used by any node and should be removed from the model.\n",
      "2022-05-06 12:36:20.064714662 [W:onnxruntime:, graph.cc:3515 CleanUnusedInitializersAndNodeArgs] Removing initializer 'onnx::Pow_932'. It is not used by any node and should be removed from the model.\n",
      "2022-05-06 12:36:20.064717909 [W:onnxruntime:, graph.cc:3515 CleanUnusedInitializersAndNodeArgs] Removing initializer 'onnx::Unsqueeze_200'. It is not used by any node and should be removed from the model.\n",
      "2022-05-06 12:36:20.064721269 [W:onnxruntime:, graph.cc:3515 CleanUnusedInitializersAndNodeArgs] Removing initializer 'onnx::Add_1758'. It is not used by any node and should be removed from the model.\n",
      "2022-05-06 12:36:20.064725019 [W:onnxruntime:, graph.cc:3515 CleanUnusedInitializersAndNodeArgs] Removing initializer 'onnx::Add_1922'. It is not used by any node and should be removed from the model.\n",
      "2022-05-06 12:36:20.064728065 [W:onnxruntime:, graph.cc:3515 CleanUnusedInitializersAndNodeArgs] Removing initializer 'onnx::Pow_652'. It is not used by any node and should be removed from the model.\n",
      "2022-05-06 12:36:20.064731337 [W:onnxruntime:, graph.cc:3515 CleanUnusedInitializersAndNodeArgs] Removing initializer 'onnx::Pow_1393'. It is not used by any node and should be removed from the model.\n",
      "2022-05-06 12:36:20.064736028 [W:onnxruntime:, graph.cc:3515 CleanUnusedInitializersAndNodeArgs] Removing initializer 'onnx::Div_335'. It is not used by any node and should be removed from the model.\n",
      "2022-05-06 12:36:20.064739541 [W:onnxruntime:, graph.cc:3515 CleanUnusedInitializersAndNodeArgs] Removing initializer 'onnx::Add_2021'. It is not used by any node and should be removed from the model.\n",
      "2022-05-06 12:36:20.064742798 [W:onnxruntime:, graph.cc:3515 CleanUnusedInitializersAndNodeArgs] Removing initializer 'onnx::Pow_1031'. It is not used by any node and should be removed from the model.\n",
      "2022-05-06 12:36:20.064747854 [W:onnxruntime:, graph.cc:3515 CleanUnusedInitializersAndNodeArgs] Removing initializer 'onnx::Pow_669'. It is not used by any node and should be removed from the model.\n",
      "2022-05-06 12:36:20.064751764 [W:onnxruntime:, graph.cc:3515 CleanUnusedInitializersAndNodeArgs] Removing initializer 'onnx::Add_2202'. It is not used by any node and should be removed from the model.\n",
      "2022-05-06 12:36:20.064755409 [W:onnxruntime:, graph.cc:3515 CleanUnusedInitializersAndNodeArgs] Removing initializer 'onnx::Pow_833'. It is not used by any node and should be removed from the model.\n",
      "2022-05-06 12:36:20.064759096 [W:onnxruntime:, graph.cc:3515 CleanUnusedInitializersAndNodeArgs] Removing initializer 'onnx::Pow_2100'. It is not used by any node and should be removed from the model.\n",
      "2022-05-06 12:36:20.064762219 [W:onnxruntime:, graph.cc:3515 CleanUnusedInitializersAndNodeArgs] Removing initializer 'onnx::Pow_370'. It is not used by any node and should be removed from the model.\n",
      "2022-05-06 12:36:20.064765384 [W:onnxruntime:, graph.cc:3515 CleanUnusedInitializersAndNodeArgs] Removing initializer 'onnx::Mul_337'. It is not used by any node and should be removed from the model.\n",
      "2022-05-06 12:36:20.064769794 [W:onnxruntime:, graph.cc:3515 CleanUnusedInitializersAndNodeArgs] Removing initializer 'onnx::Pow_2199'. It is not used by any node and should be removed from the model.\n",
      "2022-05-06 12:36:20.064773085 [W:onnxruntime:, graph.cc:3515 CleanUnusedInitializersAndNodeArgs] Removing initializer 'onnx::Add_1379'. It is not used by any node and should be removed from the model.\n",
      "2022-05-06 12:36:20.064776234 [W:onnxruntime:, graph.cc:3515 CleanUnusedInitializersAndNodeArgs] Removing initializer 'onnx::Pow_1195'. It is not used by any node and should be removed from the model.\n",
      "2022-05-06 12:36:20.064779860 [W:onnxruntime:, graph.cc:3515 CleanUnusedInitializersAndNodeArgs] Removing initializer 'onnx::Add_2301'. It is not used by any node and should be removed from the model.\n",
      "2022-05-06 12:36:20.064783490 [W:onnxruntime:, graph.cc:3515 CleanUnusedInitializersAndNodeArgs] Removing initializer 'onnx::Pow_1294'. It is not used by any node and should be removed from the model.\n",
      "2022-05-06 12:36:20.064786703 [W:onnxruntime:, graph.cc:3515 CleanUnusedInitializersAndNodeArgs] Removing initializer 'onnx::Add_1396'. It is not used by any node and should be removed from the model.\n",
      "2022-05-06 12:36:20.064789820 [W:onnxruntime:, graph.cc:3515 CleanUnusedInitializersAndNodeArgs] Removing initializer 'onnx::Add_1939'. It is not used by any node and should be removed from the model.\n",
      "2022-05-06 12:36:20.064793175 [W:onnxruntime:, graph.cc:3515 CleanUnusedInitializersAndNodeArgs] Removing initializer 'onnx::Add_1840'. It is not used by any node and should be removed from the model.\n",
      "2022-05-06 12:36:20.064796979 [W:onnxruntime:, graph.cc:3515 CleanUnusedInitializersAndNodeArgs] Removing initializer 'onnx::Pow_1376'. It is not used by any node and should be removed from the model.\n",
      "2022-05-06 12:36:20.064800346 [W:onnxruntime:, graph.cc:3515 CleanUnusedInitializersAndNodeArgs] Removing initializer 'onnx::Pow_488'. It is not used by any node and should be removed from the model.\n",
      "2022-05-06 12:36:20.064804101 [W:onnxruntime:, graph.cc:3515 CleanUnusedInitializersAndNodeArgs] Removing initializer 'onnx::Pow_1475'. It is not used by any node and should be removed from the model.\n",
      "2022-05-06 12:36:20.064807226 [W:onnxruntime:, graph.cc:3515 CleanUnusedInitializersAndNodeArgs] Removing initializer 'onnx::Pow_2462'. It is not used by any node and should be removed from the model.\n",
      "2022-05-06 12:36:20.064810795 [W:onnxruntime:, graph.cc:3515 CleanUnusedInitializersAndNodeArgs] Removing initializer 'onnx::Add_1297'. It is not used by any node and should be removed from the model.\n",
      "2022-05-06 12:36:20.064814225 [W:onnxruntime:, graph.cc:3515 CleanUnusedInitializersAndNodeArgs] Removing initializer 'onnx::Pow_1014'. It is not used by any node and should be removed from the model.\n",
      "2022-05-06 12:36:20.064818182 [W:onnxruntime:, graph.cc:3515 CleanUnusedInitializersAndNodeArgs] Removing initializer 'onnx::Pow_1557'. It is not used by any node and should be removed from the model.\n",
      "2022-05-06 12:36:20.064821500 [W:onnxruntime:, graph.cc:3515 CleanUnusedInitializersAndNodeArgs] Removing initializer 'onnx::Pow_1574'. It is not used by any node and should be removed from the model.\n",
      "2022-05-06 12:36:20.064824721 [W:onnxruntime:, graph.cc:3515 CleanUnusedInitializersAndNodeArgs] Removing initializer 'onnx::Pow_1113'. It is not used by any node and should be removed from the model.\n",
      "2022-05-06 12:36:20.064828186 [W:onnxruntime:, graph.cc:3515 CleanUnusedInitializersAndNodeArgs] Removing initializer 'onnx::Add_1659'. It is not used by any node and should be removed from the model.\n",
      "2022-05-06 12:36:20.064831245 [W:onnxruntime:, graph.cc:3515 CleanUnusedInitializersAndNodeArgs] Removing initializer 'onnx::Pow_850'. It is not used by any node and should be removed from the model.\n",
      "2022-05-06 12:36:20.064834378 [W:onnxruntime:, graph.cc:3515 CleanUnusedInitializersAndNodeArgs] Removing initializer 'onnx::Pow_246'. It is not used by any node and should be removed from the model.\n",
      "2022-05-06 12:36:20.064837401 [W:onnxruntime:, graph.cc:3515 CleanUnusedInitializersAndNodeArgs] Removing initializer 'onnx::Pow_1936'. It is not used by any node and should be removed from the model.\n",
      "2022-05-06 12:36:20.064840447 [W:onnxruntime:, graph.cc:3515 CleanUnusedInitializersAndNodeArgs] Removing initializer 'onnx::Add_1478'. It is not used by any node and should be removed from the model.\n",
      "2022-05-06 12:36:20.064844103 [W:onnxruntime:, graph.cc:3515 CleanUnusedInitializersAndNodeArgs] Removing initializer 'onnx::Pow_1738'. It is not used by any node and should be removed from the model.\n",
      "2022-05-06 12:36:20.064847210 [W:onnxruntime:, graph.cc:3515 CleanUnusedInitializersAndNodeArgs] Removing initializer 'onnx::ConstantOfShape_214'. It is not used by any node and should be removed from the model.\n",
      "2022-05-06 12:36:20.064850603 [W:onnxruntime:, graph.cc:3515 CleanUnusedInitializersAndNodeArgs] Removing initializer 'onnx::Pow_2117'. It is not used by any node and should be removed from the model.\n",
      "2022-05-06 12:36:20.064853656 [W:onnxruntime:, graph.cc:3515 CleanUnusedInitializersAndNodeArgs] Removing initializer 'onnx::Add_1741'. It is not used by any node and should be removed from the model.\n",
      "2022-05-06 12:36:20.064857050 [W:onnxruntime:, graph.cc:3515 CleanUnusedInitializersAndNodeArgs] Removing initializer 'onnx::Pow_1837'. It is not used by any node and should be removed from the model.\n",
      "2022-05-06 12:36:20.064860469 [W:onnxruntime:, graph.cc:3515 CleanUnusedInitializersAndNodeArgs] Removing initializer 'onnx::Pow_1919'. It is not used by any node and should be removed from the model.\n",
      "2022-05-06 12:36:20.064864189 [W:onnxruntime:, graph.cc:3515 CleanUnusedInitializersAndNodeArgs] Removing initializer 'onnx::Pow_2018'. It is not used by any node and should be removed from the model.\n",
      "2022-05-06 12:36:20.064867448 [W:onnxruntime:, graph.cc:3515 CleanUnusedInitializersAndNodeArgs] Removing initializer 'onnx::Add_2103'. It is not used by any node and should be removed from the model.\n",
      "2022-05-06 12:36:20.064870579 [W:onnxruntime:, graph.cc:3515 CleanUnusedInitializersAndNodeArgs] Removing initializer 'onnx::Add_2120'. It is not used by any node and should be removed from the model.\n",
      "2022-05-06 12:36:20.064874368 [W:onnxruntime:, graph.cc:3515 CleanUnusedInitializersAndNodeArgs] Removing initializer 'onnx::Add_2284'. It is not used by any node and should be removed from the model.\n",
      "2022-05-06 12:36:20.064877628 [W:onnxruntime:, graph.cc:3515 CleanUnusedInitializersAndNodeArgs] Removing initializer 'onnx::Pow_2298'. It is not used by any node and should be removed from the model.\n",
      "2022-05-06 12:36:20.116996958 [W:onnxruntime:, graph.cc:3515 CleanUnusedInitializersAndNodeArgs] Removing initializer 'cache_node_onnx::Expand_267'. It is not used by any node and should be removed from the model.\n",
      "2022-05-06 12:36:20.117320637 [W:onnxruntime:, graph.cc:3515 CleanUnusedInitializersAndNodeArgs] Removing initializer 'onnx::Expand_215'. It is not used by any node and should be removed from the model.\n",
      "2022-05-06 12:36:28.068517828 [E:onnxruntime:, profiler.cc:93 EndTimeAndRecordEvent] Maximum number of events reached, could not record profile event.\n"
     ]
    },
    {
     "name": "stdout",
     "output_type": "stream",
     "text": [
      "onnxruntime_profile__2022-05-06_13-36-19.json\n"
     ]
    }
   ],
   "source": [
    "dec_onnx = create_model_for_provider(model_def.SerializeToString(), \"CUDAExecutionProvider\", enable_profiling=True)\n",
    "dec_onnx_binding: IOBinding = dec_onnx.io_binding()\n",
    "# max # events: 1000**2\n",
    "# https://github.com/microsoft/onnxruntime/blob/a4b5fa334aa939fb159bdc571ed3d56ca8d31fc7/onnxruntime/core/common/profiler.cc#L10\n",
    "_ = model_gen.generate(inputs=input_ids, max_length=seq_len, num_beams=num_beam, min_length=seq_len)\n",
    "profile_name = dec_onnx.end_profiling()\n",
    "print(profile_name)"
   ]
  },
  {
   "cell_type": "code",
   "execution_count": 19,
   "metadata": {
    "execution": {
     "iopub.execute_input": "2022-05-06T11:36:44.112256Z",
     "iopub.status.busy": "2022-05-06T11:36:44.112110Z",
     "iopub.status.idle": "2022-05-06T11:36:54.967434Z",
     "shell.execute_reply": "2022-05-06T11:36:54.966922Z"
    },
    "pycharm": {
     "name": "#%%\n"
    }
   },
   "outputs": [],
   "source": [
    "import json\n",
    "with open(profile_name) as f:\n",
    "    content = json.load(f)\n",
    "from collections import defaultdict\n",
    "\n",
    "op_timings = defaultdict(lambda: 0)\n",
    "for c in content:\n",
    "    if 'op_name' not in c['args']:\n",
    "        continue\n",
    "    op_name = c['args']['op_name']\n",
    "    if op_name == \"If\":\n",
    "        continue  # subgraph\n",
    "    time_taken = c['dur']\n",
    "    op_timings[op_name] += time_taken"
   ]
  },
  {
   "cell_type": "code",
   "execution_count": 20,
   "metadata": {
    "execution": {
     "iopub.execute_input": "2022-05-06T11:36:54.971634Z",
     "iopub.status.busy": "2022-05-06T11:36:54.971413Z",
     "iopub.status.idle": "2022-05-06T11:36:55.111224Z",
     "shell.execute_reply": "2022-05-06T11:36:55.110631Z"
    },
    "pycharm": {
     "name": "#%%\n"
    }
   },
   "outputs": [
    {
     "data": {
      "image/png": "[encoded data removed]",
      "text/plain": [
       "<Figure size 432x288 with 1 Axes>"
      ]
     },
     "metadata": {},
     "output_type": "display_data"
    }
   ],
   "source": [
    "import operator\n",
    "\n",
    "op_timings_filter = dict(sorted(op_timings.items(), key=operator.itemgetter(1), reverse=True)[:10])\n",
    "total_kernel_timing = sum(op_timings.values())\n",
    "op_timings_percent = {k: 100*v/total_kernel_timing for k, v in op_timings_filter.items()}\n",
    "\n",
    "plt.barh(list(op_timings_percent.keys()), list(op_timings_percent.values()))\n",
    "plt.title(\"Time spent per kernel\\n(top 10 kernels)\")\n",
    "plt.xlabel(\"% total inference time\")\n",
    "plt.show()"
   ]
  },
  {
   "cell_type": "code",
   "execution_count": null,
   "metadata": {
    "pycharm": {
     "name": "#%%\n"
    }
   },
   "outputs": [],
   "source": []
  }
 ],
 "metadata": {
  "kernelspec": {
   "display_name": "Python 3 (ipykernel)",
   "language": "python",
   "name": "python3"
  },
  "language_info": {
   "codemirror_mode": {
    "name": "ipython",
    "version": 3
   },
   "file_extension": ".py",
   "mimetype": "text/x-python",
   "name": "python",
   "nbconvert_exporter": "python",
   "pygments_lexer": "ipython3",
   "version": "3.9.12"
  }
 },
 "nbformat": 4,
 "nbformat_minor": 1
}