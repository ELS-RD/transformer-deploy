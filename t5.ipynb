{
 "cells": [
  {
   "cell_type": "code",
   "execution_count": 1,
   "metadata": {
    "execution": {
     "iopub.execute_input": "2022-05-05T10:27:34.438413Z",
     "iopub.status.busy": "2022-05-05T10:27:34.438012Z",
     "iopub.status.idle": "2022-05-05T10:27:35.004781Z",
     "shell.execute_reply": "2022-05-05T10:27:35.004285Z"
    },
    "pycharm": {
     "name": "#%%\n"
    }
   },
   "outputs": [
    {
     "name": "stdout",
     "output_type": "stream",
     "text": [
      "Thu May  5 12:27:34 2022       \r\n",
      "+-----------------------------------------------------------------------------+\r\n",
      "| NVIDIA-SMI 510.60.02    Driver Version: 510.60.02    CUDA Version: 11.6     |\r\n",
      "|-------------------------------+----------------------+----------------------+\r\n",
      "| GPU  Name        Persistence-M| Bus-Id        Disp.A | Volatile Uncorr. ECC |\r\n",
      "| Fan  Temp  Perf  Pwr:Usage/Cap|         Memory-Usage | GPU-Util  Compute M. |\r\n",
      "|                               |                      |               MIG M. |\r\n",
      "|===============================+======================+======================|\r\n",
      "|   0  NVIDIA GeForce ...  Off  | 00000000:03:00.0  On |                  N/A |\r\n",
      "| 46%   49C    P8    42W / 350W |    308MiB / 24576MiB |      0%      Default |\r\n",
      "|                               |                      |                  N/A |\r\n",
      "+-------------------------------+----------------------+----------------------+\r\n",
      "                                                                               \r\n",
      "+-----------------------------------------------------------------------------+\r\n",
      "| Processes:                                                                  |\r\n",
      "|  GPU   GI   CI        PID   Type   Process name                  GPU Memory |\r\n",
      "|        ID   ID                                                   Usage      |\r\n",
      "|=============================================================================|\r\n",
      "|    0   N/A  N/A      1677      G   /usr/lib/xorg/Xorg                186MiB |\r\n",
      "|    0   N/A  N/A      4718      G   ...ome-remote-desktop-daemon        4MiB |\r\n",
      "|    0   N/A  N/A      7285      G   /usr/bin/gnome-shell               39MiB |\r\n",
      "|    0   N/A  N/A      8831      G   ...on/Bin/AgentConnectix.bin        4MiB |\r\n",
      "|    0   N/A  N/A    699207      G   ...veSuggestionsOnlyOnDemand       41MiB |\r\n",
      "|    0   N/A  N/A   1263001      G   ...113052261268123669,131072       28MiB |\r\n",
      "+-----------------------------------------------------------------------------+\r\n"
     ]
    }
   ],
   "source": [
    "! nvidia-smi"
   ]
  },
  {
   "cell_type": "code",
   "execution_count": 2,
   "metadata": {
    "execution": {
     "iopub.execute_input": "2022-05-05T10:27:35.007888Z",
     "iopub.status.busy": "2022-05-05T10:27:35.007694Z",
     "iopub.status.idle": "2022-05-05T10:27:36.800272Z",
     "shell.execute_reply": "2022-05-05T10:27:36.799481Z"
    },
    "pycharm": {
     "name": "#%%\n"
    }
   },
   "outputs": [],
   "source": [
    "from time import time\n",
    "from typing import Callable, Dict, Optional\n",
    "import matplotlib.pylab as plt\n",
    "from onnxruntime import IOBinding\n",
    "import numpy as np\n",
    "import onnx\n",
    "import torch\n",
    "from onnx import GraphProto, ModelProto, helper\n",
    "from torch.nn import Linear\n",
    "from transformers import AutoModelForSeq2SeqLM, AutoTokenizer, PretrainedConfig, T5ForConditionalGeneration, TensorType\n",
    "from transformers.generation_utils import GenerationMixin\n",
    "from transformers.modeling_outputs import BaseModelOutputWithPastAndCrossAttentions, Seq2SeqLMOutput\n",
    "from transformers.models.t5.modeling_t5 import T5Stack\n",
    "\n",
    "from transformer_deploy.backends.ort_utils import create_model_for_provider, inference_onnx_binding\n",
    "from transformer_deploy.backends.pytorch_utils import convert_to_onnx"
   ]
  },
  {
   "cell_type": "markdown",
   "metadata": {
    "pycharm": {
     "name": "#%% md\n"
    }
   },
   "source": [
    "# Loading Hugging Face model / tokenizer\n",
    "\n",
    "We use a specific branch of OnnxRuntime with a better management of if/else/then ONNX node:\n",
    "\n",
    "```shell\n",
    "git clone --recursive https://github.com/Microsoft/onnxruntime\n",
    "cd onnxruntime\n",
    "git fetch origin hari/location_plan_implicit_inputs\n",
    "git checkout -b hari/location_plan_implicit_inputs FETCH_HEAD\n",
    "CUDACXX=/usr/local/cuda-11.4/bin/nvcc ./build.sh \\\n",
    "    --config Release \\\n",
    "    --build_wheel \\\n",
    "    --parallel \\\n",
    "    --use_cuda \\\n",
    "    --cuda_home /usr/local/cuda-11.4 \\\n",
    "    --cudnn_home /usr/lib/x86_\n",
    "    -linux-gnu/ \\\n",
    "    --skip_test\n",
    "```\n",
    "\n",
    "> to clear previous compilation, delete content of `./build` folder"
   ]
  },
  {
   "cell_type": "code",
   "execution_count": 3,
   "metadata": {
    "execution": {
     "iopub.execute_input": "2022-05-05T10:27:36.804760Z",
     "iopub.status.busy": "2022-05-05T10:27:36.804251Z",
     "iopub.status.idle": "2022-05-05T10:27:48.522070Z",
     "shell.execute_reply": "2022-05-05T10:27:48.521553Z"
    },
    "pycharm": {
     "name": "#%%\n"
    }
   },
   "outputs": [],
   "source": [
    "model_name = \"t5-base\"\n",
    "tokenizer = AutoTokenizer.from_pretrained(model_name)\n",
    "input_ids: torch.Tensor = tokenizer(\"Studies show that\", return_tensors=TensorType.PYTORCH).input_ids\n",
    "input_ids = input_ids.to(\"cuda\")\n",
    "model: T5ForConditionalGeneration = AutoModelForSeq2SeqLM.from_pretrained(model_name)\n",
    "model = model.eval()\n",
    "model = model.to(\"cuda\")\n",
    "model.config.use_cache = True\n",
    "out_enc: BaseModelOutputWithPastAndCrossAttentions = model.encoder(input_ids=input_ids)\n",
    "out_full: Seq2SeqLMOutput = model(input_ids=input_ids, decoder_input_ids=input_ids)\n",
    "num_layers = model.config.num_layers\n",
    "\n",
    "\n",
    "def are_equal(a: torch.Tensor, b: torch.Tensor, atol: float = 2e-1) -> None:\n",
    "    assert np.allclose(a=a.detach().cpu().numpy(), b=b.detach().cpu().numpy(), atol=atol), f\"{a}\\n\\nVS\\n\\n{b}\""
   ]
  },
  {
   "cell_type": "markdown",
   "metadata": {
    "pycharm": {
     "name": "#%% md\n"
    }
   },
   "source": [
    "# Export to ONNX\n",
    "\n",
    "## Export encoder part"
   ]
  },
  {
   "cell_type": "code",
   "execution_count": 4,
   "metadata": {
    "execution": {
     "iopub.execute_input": "2022-05-05T10:27:48.526348Z",
     "iopub.status.busy": "2022-05-05T10:27:48.526123Z",
     "iopub.status.idle": "2022-05-05T10:27:54.744704Z",
     "shell.execute_reply": "2022-05-05T10:27:54.744172Z"
    },
    "pycharm": {
     "name": "#%%\n"
    }
   },
   "outputs": [],
   "source": [
    "model = model.to(\"cuda\")\n",
    "\n",
    "convert_to_onnx(\n",
    "    model_pytorch=model.encoder,\n",
    "    output_path=\"test-enc.onnx\",\n",
    "    inputs_pytorch={\"input_ids\": input_ids},\n",
    "    var_output_seq=True,\n",
    "    quantization=False,\n",
    ")\n",
    "\n",
    "enc_onnx = create_model_for_provider(\"test-enc.onnx\", \"CUDAExecutionProvider\")\n",
    "enc_onnx_out = inference_onnx_binding(\n",
    "    model_onnx=enc_onnx,\n",
    "    inputs={\"input_ids\": input_ids},\n",
    "    device=input_ids.device.type,\n",
    ")[\"output\"]\n",
    "\n",
    "are_equal(a=enc_onnx_out, b=out_enc.last_hidden_state)"
   ]
  },
  {
   "cell_type": "markdown",
   "metadata": {
    "pycharm": {
     "name": "#%% md\n"
    }
   },
   "source": [
    "## Export decoder\n",
    "\n",
    "### Wrapper to include some post processing on the decoder output\n",
    "\n",
    "The post processing is mainly a projection of the decoder output on a matrix with one of its dimension equal to model vocabulary size, so we have scores for each possible token."
   ]
  },
  {
   "cell_type": "code",
   "execution_count": 5,
   "metadata": {
    "execution": {
     "iopub.execute_input": "2022-05-05T10:27:54.748230Z",
     "iopub.status.busy": "2022-05-05T10:27:54.747848Z",
     "iopub.status.idle": "2022-05-05T10:27:54.778206Z",
     "shell.execute_reply": "2022-05-05T10:27:54.777669Z"
    },
    "pycharm": {
     "name": "#%%\n"
    }
   },
   "outputs": [],
   "source": [
    "from typing import Tuple\n",
    "\n",
    "\n",
    "class ExportT5(torch.nn.Module):\n",
    "    def __init__(self, decoder: T5Stack, lm_head: Linear):\n",
    "        super(ExportT5, self).__init__()\n",
    "        self.decoder = decoder\n",
    "        self.lm_head = lm_head\n",
    "\n",
    "    def forward(self, input_ids: torch.Tensor, encoder_hidden_states: torch.Tensor, past_key_values: Tuple = None):\n",
    "        out_dec = self.decoder.forward(\n",
    "            input_ids=input_ids, encoder_hidden_states=encoder_hidden_states, past_key_values=past_key_values\n",
    "        )\n",
    "        # Rescale output before projecting on vocab\n",
    "        out_dec[\"last_hidden_state\"] = out_dec[\"last_hidden_state\"] * (model.model_dim**-0.5)\n",
    "        out_dec[\"last_hidden_state\"] = self.lm_head(out_dec[\"last_hidden_state\"])\n",
    "        return out_dec\n",
    "\n",
    "\n",
    "model.cuda()\n",
    "model_decoder = ExportT5(decoder=model.decoder, lm_head=model.lm_head).eval()\n",
    "out_model_export: torch.Tensor = model_decoder(input_ids=input_ids, encoder_hidden_states=out_enc.last_hidden_state)\n",
    "\n",
    "are_equal(a=out_model_export[\"last_hidden_state\"], b=out_full.logits)"
   ]
  },
  {
   "cell_type": "markdown",
   "metadata": {
    "pycharm": {
     "name": "#%% md\n"
    }
   },
   "source": [
    "### Export decoder part to ONNX\n",
    "\n",
    "Export 2 versions of the decoder, one without cache support and one with it.\n",
    "Both models share most of their weights."
   ]
  },
  {
   "cell_type": "code",
   "execution_count": 6,
   "metadata": {
    "execution": {
     "iopub.execute_input": "2022-05-05T10:27:54.781330Z",
     "iopub.status.busy": "2022-05-05T10:27:54.780978Z",
     "iopub.status.idle": "2022-05-05T10:28:18.495033Z",
     "shell.execute_reply": "2022-05-05T10:28:18.494501Z"
    },
    "pycharm": {
     "name": "#%%\n"
    }
   },
   "outputs": [
    {
     "name": "stderr",
     "output_type": "stream",
     "text": [
      "/home/geantvert/.local/share/virtualenvs/fast_transformer/lib/python3.9/site-packages/transformers/modeling_utils.py:529: TracerWarning: Converting a tensor to a Python boolean might cause the trace to be incorrect. We can't record the data flow of Python values, so this value will be treated as a constant in the future. This means that the trace might not generalize to other inputs!\n",
      "  if causal_mask.shape[1] < attention_mask.shape[1]:\n",
      "In-place op on output of tensor.shape. See https://pytorch.org/docs/master/onnx.html#avoid-inplace-operations-when-using-tensor-shape-in-tracing-mode\n",
      "In-place op on output of tensor.shape. See https://pytorch.org/docs/master/onnx.html#avoid-inplace-operations-when-using-tensor-shape-in-tracing-mode\n"
     ]
    }
   ],
   "source": [
    "model_decoder.cuda()\n",
    "# decoder output one step before\n",
    "out_dec_pytorch = model_decoder(input_ids=input_ids[:, :-1], encoder_hidden_states=out_enc.last_hidden_state)\n",
    "\n",
    "model_inputs = {\n",
    "    \"input_ids\": input_ids[:, -1:].type(torch.int32),\n",
    "    \"encoder_hidden_states\": out_enc.last_hidden_state,\n",
    "    \"past_key_values\": out_dec_pytorch.past_key_values,\n",
    "}\n",
    "\n",
    "# TODO replace hard coded axis names by generated one when generation works as expected\n",
    "input_names = [\"input_ids\", \"encoder_hidden_states\"]\n",
    "\n",
    "for i in range(num_layers):\n",
    "    input_names.append(f\"past_key_values.{i}.decoder.key\")\n",
    "    input_names.append(f\"past_key_values.{i}.decoder.value\")\n",
    "    input_names.append(f\"past_key_values.{i}.encoder.key\")\n",
    "    input_names.append(f\"past_key_values.{i}.encoder.value\")\n",
    "\n",
    "output_names = [\"logits\"]\n",
    "\n",
    "for i in range(num_layers):\n",
    "    output_names.append(f\"present.{i}.decoder.key\")\n",
    "    output_names.append(f\"present.{i}.decoder.value\")\n",
    "    output_names.append(f\"present.{i}.encoder.key\")\n",
    "    output_names.append(f\"present.{i}.encoder.value\")\n",
    "\n",
    "dynamic_axis = {\n",
    "    \"input_ids\": {0: \"batch\", 1: \"encoder_sequence\"},\n",
    "    \"encoder_hidden_states\": {0: \"batch\", 1: \"encoder_sequence\"},\n",
    "    \"logits\": {0: \"batch\", 1: \"decoder_sequence\"},\n",
    "}\n",
    "\n",
    "\n",
    "for i in range(num_layers):\n",
    "    dynamic_axis[f\"past_key_values.{i}.decoder.key\"] = {0: \"batch\", 2: \"past_decoder_sequence\"}\n",
    "    dynamic_axis[f\"past_key_values.{i}.decoder.value\"] = {0: \"batch\", 2: \"past_decoder_sequence\"}\n",
    "    dynamic_axis[f\"past_key_values.{i}.encoder.key\"] = {0: \"batch\", 2: \"past_encoder_sequence\"}\n",
    "    dynamic_axis[f\"past_key_values.{i}.encoder.value\"] = {0: \"batch\", 2: \"past_encoder_sequence\"}\n",
    "\n",
    "    dynamic_axis[f\"present.{i}.decoder.key\"] = {0: \"batch\", 2: \"past_decoder_sequence + sequence\"}\n",
    "    dynamic_axis[f\"present.{i}.decoder.value\"] = {0: \"batch\", 2: \"past_decoder_sequence + sequence\"}\n",
    "    dynamic_axis[f\"present.{i}.encoder.key\"] = {0: \"batch\", 2: \"past_encoder_sequence\"}\n",
    "    dynamic_axis[f\"present.{i}.encoder.value\"] = {0: \"batch\", 2: \"past_encoder_sequence\"}\n",
    "\n",
    "\n",
    "with torch.no_grad():\n",
    "    model.config.return_dict = True\n",
    "    model.eval()\n",
    "\n",
    "    # export can works with named args but the dict containing named args as to be last element of the args tuple\n",
    "    torch.onnx.export(\n",
    "        model_decoder,\n",
    "        (model_inputs,),\n",
    "        f=\"test-dec-cache.onnx\",\n",
    "        input_names=input_names,\n",
    "        output_names=output_names,\n",
    "        dynamic_axes=dynamic_axis,\n",
    "        do_constant_folding=True,\n",
    "        opset_version=13,\n",
    "    )\n",
    "\n",
    "model_inputs_no_cache = {\n",
    "    \"input_ids\": input_ids.type(dtype=torch.int32),\n",
    "    \"encoder_hidden_states\": out_enc.last_hidden_state,\n",
    "}\n",
    "\n",
    "with torch.no_grad():\n",
    "    model.config.return_dict = True\n",
    "    model.eval()\n",
    "\n",
    "    # export can works with named args but the dict containing named args as to be last element of the args tuple\n",
    "    torch.onnx.export(\n",
    "        model_decoder,\n",
    "        (model_inputs_no_cache,),\n",
    "        f=\"test-dec-no-cache.onnx\",\n",
    "        input_names=list(model_inputs_no_cache.keys()),\n",
    "        output_names=output_names,\n",
    "        dynamic_axes={k: v for k, v in dynamic_axis.items() if \"past_key_values\" not in k},\n",
    "        do_constant_folding=True,\n",
    "        opset_version=13,\n",
    "    )\n",
    "_ = model_decoder.cpu()  # free cuda memory"
   ]
  },
  {
   "cell_type": "markdown",
   "metadata": {
    "collapsed": false,
    "pycharm": {
     "name": "#%% md\n"
    }
   },
   "source": [
    "# Conversion to FP16\n",
    "\n",
    "The only truly random input is `input ids` (aka token ids).\n",
    "The range of realistic values of `input ids` is known: each dimension can only be a positive integer lower than the vocabulary size.\n",
    "For other inputs of the model (ouput of encoder, past states), it's a bit more complicated.\n",
    "In theory it can be any value in the FP32 range, but because of how models are initialized and trained, most of them are close to 0.\n",
    "To avoid too  much guessing, we have decided to just take the output of the real model being fed random `input ids`."
   ]
  },
  {
   "cell_type": "code",
   "execution_count": 7,
   "metadata": {
    "execution": {
     "iopub.execute_input": "2022-05-05T10:28:18.499475Z",
     "iopub.status.busy": "2022-05-05T10:28:18.499121Z",
     "iopub.status.idle": "2022-05-05T10:31:34.545742Z",
     "shell.execute_reply": "2022-05-05T10:31:34.545072Z"
    },
    "pycharm": {
     "name": "#%%\n"
    }
   },
   "outputs": [],
   "source": [
    "from transformer_deploy.backends.ort_utils import get_keep_fp32_nodes\n",
    "from transformer_deploy.backends.ort_utils import convert_fp16\n",
    "\n",
    "\n",
    "def get_random_input_no_cache() -> Dict[str, torch.Tensor]:\n",
    "    batch = 2\n",
    "    seq_len = 512\n",
    "    random_input_ids = torch.randint(\n",
    "        low=2, high=tokenizer.vocab_size, size=(batch, seq_len), dtype=torch.int32, device=\"cuda\"\n",
    "    )\n",
    "    inputs = {\"input_ids\": random_input_ids}\n",
    "    encoder_hidden_states = inference_onnx_binding(\n",
    "        model_onnx=enc_onnx,\n",
    "        inputs=inputs,\n",
    "        device=\"cuda\",\n",
    "        clone_tensor=False,\n",
    "    )[\"output\"]\n",
    "    inputs[\"encoder_hidden_states\"] = encoder_hidden_states\n",
    "    return inputs\n",
    "\n",
    "\n",
    "keep_fp32_no_cache = get_keep_fp32_nodes(\n",
    "    onnx_model_path=\"test-dec-no-cache.onnx\", get_input=get_random_input_no_cache, nb_try=1000\n",
    ")\n",
    "\n",
    "onnx_model_no_cache_fp16 = onnx.load(\"test-dec-no-cache.onnx\")\n",
    "onnx_model_no_cache_fp16 = convert_fp16(onnx_model=onnx_model_no_cache_fp16, nodes_to_exclude=keep_fp32_no_cache)\n",
    "onnx.save(onnx_model_no_cache_fp16, \"test-dec-no-cache-fp16.onnx\")"
   ]
  },
  {
   "cell_type": "code",
   "execution_count": 8,
   "metadata": {
    "execution": {
     "iopub.execute_input": "2022-05-05T10:31:34.551129Z",
     "iopub.status.busy": "2022-05-05T10:31:34.550747Z",
     "iopub.status.idle": "2022-05-05T10:35:11.336731Z",
     "shell.execute_reply": "2022-05-05T10:35:11.335642Z"
    },
    "pycharm": {
     "name": "#%%\n"
    }
   },
   "outputs": [],
   "source": [
    "dec_no_cache_ort_model = create_model_for_provider(\"test-dec-no-cache.onnx\", \"CUDAExecutionProvider\")\n",
    "\n",
    "# thread sur FP16 marche pas\n",
    "# https://github.com/microsoft/onnxruntime/issues/11119=\n",
    "# use info from tokenizer size and max shape provided through the command line\n",
    "def get_random_input_cache() -> Dict[str, torch.Tensor]:\n",
    "    inputs = get_random_input_no_cache()\n",
    "    dec_past_states = inference_onnx_binding(\n",
    "        model_onnx=dec_no_cache_ort_model,\n",
    "        inputs=inputs,\n",
    "        device=\"cuda\",\n",
    "        clone_tensor=False,\n",
    "    )\n",
    "    for k, v in dec_past_states.items():\n",
    "        if k == \"logits\":\n",
    "            continue\n",
    "        new_k = k.replace(\"present\", \"past_key_values\")\n",
    "        inputs[new_k] = v\n",
    "    batch, _ = inputs[\"input_ids\"].shape\n",
    "    complement = torch.randint(low=0, high=tokenizer.vocab_size, size=(batch, 1), dtype=torch.int32, device=\"cuda\")\n",
    "    inputs[\"input_ids\"] = torch.concat(tensors=[inputs[\"input_ids\"], complement], dim=1)\n",
    "    return inputs\n",
    "\n",
    "\n",
    "keep_fp32_cache = get_keep_fp32_nodes(\n",
    "    onnx_model_path=\"test-dec-cache.onnx\", get_input=get_random_input_cache, nb_try=1000\n",
    ")\n",
    "\n",
    "onnx_model_cache_fp16 = onnx.load(\"test-dec-cache.onnx\")\n",
    "onnx_model_cache_fp16 = convert_fp16(onnx_model=onnx_model_cache_fp16, nodes_to_exclude=keep_fp32_cache)\n",
    "onnx.save(onnx_model_cache_fp16, \"test-dec-cache-fp16.onnx\")\n",
    "del dec_no_cache_ort_model  # free cuda memory"
   ]
  },
  {
   "cell_type": "markdown",
   "metadata": {
    "collapsed": false,
    "pycharm": {
     "name": "#%% md\n"
    }
   },
   "source": [
    "### Merge ONNX computation graph to deduplicate weights\n",
    "\n",
    "TODO remove unecessary initializer to avoid warning messages"
   ]
  },
  {
   "cell_type": "code",
   "execution_count": 9,
   "metadata": {
    "execution": {
     "iopub.execute_input": "2022-05-05T10:35:11.342398Z",
     "iopub.status.busy": "2022-05-05T10:35:11.342084Z",
     "iopub.status.idle": "2022-05-05T10:35:19.301911Z",
     "shell.execute_reply": "2022-05-05T10:35:19.300757Z"
    },
    "pycharm": {
     "name": "#%%\n"
    }
   },
   "outputs": [
    {
     "name": "stdout",
     "output_type": "stream",
     "text": [
      "name: cache_node_onnx::Slice_2276 - size: 0.01\n",
      "name: cache_node_onnx::Slice_2277 - size: 0.01\n",
      "name: cache_node_onnx::Slice_2287 - size: 0.01\n",
      "name: cache_node_onnx::Slice_2288 - size: 0.01\n"
     ]
    }
   ],
   "source": [
    "prefix = \"cache_node_\"\n",
    "mapping_initializer_cache_to_no_cache = dict()\n",
    "to_add = list()\n",
    "for node_cache in onnx_model_cache_fp16.graph.initializer:\n",
    "    found = False\n",
    "    for node_no_cache in onnx_model_no_cache_fp16.graph.initializer:\n",
    "        if node_cache.raw_data == node_no_cache.raw_data:\n",
    "            found = True\n",
    "            mapping_initializer_cache_to_no_cache[node_cache.name] = node_no_cache.name\n",
    "            break\n",
    "    if not found:\n",
    "        node_cache.name = prefix + node_cache.name\n",
    "        to_add.append(node_cache)\n",
    "        mapping_initializer_cache_to_no_cache[node_cache.name] = node_cache.name\n",
    "        print(f\"name: {node_cache.name} - size: {len(node_cache.raw_data)/1024:.2f}\")\n",
    "\n",
    "onnx_model_no_cache_fp16.graph.initializer.extend(to_add)\n",
    "# I/O model names should not be prefixed\n",
    "model_io_names = [n.name for n in list(onnx_model_cache_fp16.graph.input) + list(onnx_model_cache_fp16.graph.output)]\n",
    "\n",
    "for node in onnx_model_cache_fp16.graph.node:\n",
    "    for index, input_name in enumerate(node.input):\n",
    "        if input_name in model_io_names:\n",
    "            continue\n",
    "        node.input[index] = mapping_initializer_cache_to_no_cache.get(input_name, prefix + input_name)\n",
    "    for index, output_name in enumerate(node.output):\n",
    "        if output_name in model_io_names:\n",
    "            continue\n",
    "        node.output[index] = prefix + output_name\n",
    "    node.name = prefix + node.name\n",
    "model_io_names = [n.name for n in list(onnx_model_cache_fp16.graph.input) + list(onnx_model_cache_fp16.graph.output)]\n",
    "\n",
    "prefix = \"init_\"\n",
    "cache = dict()\n",
    "for node in onnx_model_no_cache_fp16.graph.initializer:\n",
    "    if node.name in model_io_names:\n",
    "        new_name = prefix + node.name\n",
    "        cache[node.name] = new_name\n",
    "        node.name = new_name\n",
    "\n",
    "for node in onnx_model_no_cache_fp16.graph.node:\n",
    "    for input_index, n in enumerate(node.input):\n",
    "        node.input[input_index] = cache.get(n, n)\n",
    "\n",
    "# mandatory for subgraph in if/else node\n",
    "assert len(onnx_model_cache_fp16.graph.output) == len(onnx_model_no_cache_fp16.graph.output)\n",
    "\n",
    "graph_cache: onnx.GraphProto = onnx.helper.make_graph(\n",
    "    nodes=list(onnx_model_cache_fp16.graph.node),\n",
    "    name=\"graph-cache\",\n",
    "    inputs=[],\n",
    "    outputs=list(onnx_model_cache_fp16.graph.output),\n",
    "    initializer=[],\n",
    ")\n",
    "\n",
    "graph_no_cache: onnx.GraphProto = onnx.helper.make_graph(\n",
    "    nodes=list(onnx_model_no_cache_fp16.graph.node),\n",
    "    name=\"graph-no-cache\",\n",
    "    inputs=[],\n",
    "    outputs=list(onnx_model_no_cache_fp16.graph.output),\n",
    "    initializer=[],\n",
    ")\n",
    "\n",
    "enable_cache_input = onnx.helper.make_tensor_value_info(name=\"enable_cache\", elem_type=onnx.TensorProto.BOOL, shape=[1])\n",
    "\n",
    "if_node = onnx.helper.make_node(\n",
    "    op_type=\"If\",\n",
    "    inputs=[\"enable_cache\"],\n",
    "    outputs=[o.name for o in list(onnx_model_no_cache_fp16.graph.output)],\n",
    "    then_branch=graph_cache,\n",
    "    else_branch=graph_no_cache,\n",
    ")\n",
    "\n",
    "if_graph_def: GraphProto = helper.make_graph(\n",
    "    nodes=[if_node],\n",
    "    name=\"if-model\",\n",
    "    inputs=list(onnx_model_cache_fp16.graph.input) + [enable_cache_input],\n",
    "    outputs=list(onnx_model_no_cache_fp16.graph.output),\n",
    "    initializer=list(onnx_model_no_cache_fp16.graph.initializer),\n",
    ")\n",
    "\n",
    "\n",
    "model_def: ModelProto = helper.make_model(\n",
    "    if_graph_def, producer_name=\"onnx-example\", opset_imports=[helper.make_opsetid(onnx.defs.ONNX_DOMAIN, 13)]\n",
    ")\n",
    "onnx.save(model_def, \"test-dec-if.onnx\")"
   ]
  },
  {
   "cell_type": "markdown",
   "metadata": {
    "collapsed": false,
    "pycharm": {
     "name": "#%% md\n"
    }
   },
   "source": [
    "When a name appears in both the initializer list and the graph input list, a runtime MAY allow a caller to specify a value for this (input) name overriding the value specified in the initializer and a runtime MAY allow users to omit specifying a value for this (input) name, choosing the value specified in the initializer. Names of constants that are not meant to be overridden by the caller should appear only in the initializer list and not in the graph input list. In models with IR version >= 4, in nested subgraphs used as attribute values, users MUST NOT use the same name as both a subgraph initializer and subgraph input unless the corresponding op's specification explicitly allows it. In models with IR version <= 3, users MAY use the same name as both a subgraph initializer and subgraph input, but this is restricted to support constants via initializers that are not intended to correspond to any actual inputs passed from the node into the subgraph. In particular, the control-flow operator semantics determines the set of inputs supplied to the execution of the subgraph, and these input names MUST NOT appear as subgraph initializers. Subgraph initializer names must appear in the graph input list after the actual inputs. This allows the actual inputs and formal inputs to be matched positionally.\n",
    "https://github.com/onnx/onnx/blob/ee4888c24510787bb8c61ebcba43ef252744e648/docs/IR.md"
   ]
  },
  {
   "cell_type": "markdown",
   "metadata": {
    "collapsed": false,
    "pycharm": {
     "name": "#%% md\n"
    }
   },
   "source": [
    "### Check ONNX decoder output\n",
    "\n",
    "Compare ONNX output with and without cache, plus compare with Pytorch output."
   ]
  },
  {
   "cell_type": "code",
   "execution_count": 10,
   "metadata": {
    "execution": {
     "iopub.execute_input": "2022-05-05T10:35:19.306176Z",
     "iopub.status.busy": "2022-05-05T10:35:19.305882Z",
     "iopub.status.idle": "2022-05-05T10:35:20.780358Z",
     "shell.execute_reply": "2022-05-05T10:35:20.779016Z"
    },
    "pycharm": {
     "name": "#%%\n"
    }
   },
   "outputs": [
    {
     "name": "stderr",
     "output_type": "stream",
     "text": [
      "2022-05-05 11:35:20.128309369 [W:onnxruntime:, graph.cc:3515 CleanUnusedInitializersAndNodeArgs] Removing initializer 'cache_node_onnx::Div_803'. It is not used by any node and should be removed from the model.\n",
      "2022-05-05 11:35:20.128328267 [W:onnxruntime:, graph.cc:3515 CleanUnusedInitializersAndNodeArgs] Removing initializer 'cache_node_onnx::Div_954'. It is not used by any node and should be removed from the model.\n",
      "2022-05-05 11:35:20.128332213 [W:onnxruntime:, graph.cc:3515 CleanUnusedInitializersAndNodeArgs] Removing initializer 'cache_node_onnx::Div_702'. It is not used by any node and should be removed from the model.\n",
      "2022-05-05 11:35:20.128335633 [W:onnxruntime:, graph.cc:3515 CleanUnusedInitializersAndNodeArgs] Removing initializer 'cache_node_onnx::Div_1709'. It is not used by any node and should be removed from the model.\n",
      "2022-05-05 11:35:20.128338993 [W:onnxruntime:, graph.cc:3515 CleanUnusedInitializersAndNodeArgs] Removing initializer 'cache_node_onnx::Div_652'. It is not used by any node and should be removed from the model.\n",
      "2022-05-05 11:35:20.128344573 [W:onnxruntime:, graph.cc:3515 CleanUnusedInitializersAndNodeArgs] Removing initializer 'cache_node_onnx::Div_2212'. It is not used by any node and should be removed from the model.\n",
      "2022-05-05 11:35:20.128349846 [W:onnxruntime:, graph.cc:3515 CleanUnusedInitializersAndNodeArgs] Removing initializer 'cache_node_onnx::Div_1004'. It is not used by any node and should be removed from the model.\n",
      "2022-05-05 11:35:20.128353678 [W:onnxruntime:, graph.cc:3515 CleanUnusedInitializersAndNodeArgs] Removing initializer 'cache_node_onnx::Div_1457'. It is not used by any node and should be removed from the model.\n",
      "2022-05-05 11:35:20.128360636 [W:onnxruntime:, graph.cc:3515 CleanUnusedInitializersAndNodeArgs] Removing initializer 'cache_node_onnx::Div_2061'. It is not used by any node and should be removed from the model.\n",
      "2022-05-05 11:35:20.128364330 [W:onnxruntime:, graph.cc:3515 CleanUnusedInitializersAndNodeArgs] Removing initializer 'cache_node_onnx::Div_870'. It is not used by any node and should be removed from the model.\n",
      "2022-05-05 11:35:20.128368153 [W:onnxruntime:, graph.cc:3515 CleanUnusedInitializersAndNodeArgs] Removing initializer 'cache_node_onnx::Div_1323'. It is not used by any node and should be removed from the model.\n",
      "2022-05-05 11:35:20.128372468 [W:onnxruntime:, graph.cc:3515 CleanUnusedInitializersAndNodeArgs] Removing initializer 'cache_node_onnx::Div_853'. It is not used by any node and should be removed from the model.\n",
      "2022-05-05 11:35:20.128376150 [W:onnxruntime:, graph.cc:3515 CleanUnusedInitializersAndNodeArgs] Removing initializer 'cache_node_onnx::Div_1155'. It is not used by any node and should be removed from the model.\n",
      "2022-05-05 11:35:20.128381210 [W:onnxruntime:, graph.cc:3515 CleanUnusedInitializersAndNodeArgs] Removing initializer 'cache_node_onnx::Div_1625'. It is not used by any node and should be removed from the model.\n",
      "2022-05-05 11:35:20.128384818 [W:onnxruntime:, graph.cc:3515 CleanUnusedInitializersAndNodeArgs] Removing initializer 'cache_node_onnx::Div_1910'. It is not used by any node and should be removed from the model.\n",
      "2022-05-05 11:35:20.128388609 [W:onnxruntime:, graph.cc:3515 CleanUnusedInitializersAndNodeArgs] Removing initializer 'cache_node_onnx::Div_568'. It is not used by any node and should be removed from the model.\n",
      "2022-05-05 11:35:20.128391931 [W:onnxruntime:, graph.cc:3515 CleanUnusedInitializersAndNodeArgs] Removing initializer 'cache_node_onnx::Div_320'. It is not used by any node and should be removed from the model.\n",
      "2022-05-05 11:35:20.128397131 [W:onnxruntime:, graph.cc:3515 CleanUnusedInitializersAndNodeArgs] Removing initializer 'cache_node_onnx::Div_2229'. It is not used by any node and should be removed from the model.\n",
      "2022-05-05 11:35:20.128400671 [W:onnxruntime:, graph.cc:3515 CleanUnusedInitializersAndNodeArgs] Removing initializer 'cache_node_onnx::Div_1407'. It is not used by any node and should be removed from the model.\n",
      "2022-05-05 11:35:20.128407202 [W:onnxruntime:, graph.cc:3515 CleanUnusedInitializersAndNodeArgs] Removing initializer 'cache_node_onnx::Div_1021'. It is not used by any node and should be removed from the model.\n",
      "2022-05-05 11:35:20.128414042 [W:onnxruntime:, graph.cc:3515 CleanUnusedInitializersAndNodeArgs] Removing initializer 'cache_node_onnx::Div_1105'. It is not used by any node and should be removed from the model.\n",
      "2022-05-05 11:35:20.128418429 [W:onnxruntime:, graph.cc:3515 CleanUnusedInitializersAndNodeArgs] Removing initializer 'cache_node_onnx::Div_1172'. It is not used by any node and should be removed from the model.\n",
      "2022-05-05 11:35:20.128422157 [W:onnxruntime:, graph.cc:3515 CleanUnusedInitializersAndNodeArgs] Removing initializer 'cache_node_onnx::Div_719'. It is not used by any node and should be removed from the model.\n",
      "2022-05-05 11:35:20.128426513 [W:onnxruntime:, graph.cc:3515 CleanUnusedInitializersAndNodeArgs] Removing initializer 'cache_node_onnx::Div_1306'. It is not used by any node and should be removed from the model.\n",
      "2022-05-05 11:35:20.128431903 [W:onnxruntime:, graph.cc:3515 CleanUnusedInitializersAndNodeArgs] Removing initializer 'cache_node_onnx::Div_1558'. It is not used by any node and should be removed from the model.\n",
      "2022-05-05 11:35:20.128435543 [W:onnxruntime:, graph.cc:3515 CleanUnusedInitializersAndNodeArgs] Removing initializer 'cache_node_onnx::Div_1608'. It is not used by any node and should be removed from the model.\n",
      "2022-05-05 11:35:20.128439691 [W:onnxruntime:, graph.cc:3515 CleanUnusedInitializersAndNodeArgs] Removing initializer 'cache_node_onnx::Div_551'. It is not used by any node and should be removed from the model.\n",
      "2022-05-05 11:35:20.128444361 [W:onnxruntime:, graph.cc:3515 CleanUnusedInitializersAndNodeArgs] Removing initializer 'cache_node_onnx::Div_1256'. It is not used by any node and should be removed from the model.\n",
      "2022-05-05 11:35:20.128447631 [W:onnxruntime:, graph.cc:3515 CleanUnusedInitializersAndNodeArgs] Removing initializer 'cache_node_onnx::Div_1776'. It is not used by any node and should be removed from the model.\n",
      "2022-05-05 11:35:20.128451010 [W:onnxruntime:, graph.cc:3515 CleanUnusedInitializersAndNodeArgs] Removing initializer 'cache_node_onnx::Div_1860'. It is not used by any node and should be removed from the model.\n",
      "2022-05-05 11:35:20.128454490 [W:onnxruntime:, graph.cc:3515 CleanUnusedInitializersAndNodeArgs] Removing initializer 'cache_node_onnx::Div_467'. It is not used by any node and should be removed from the model.\n",
      "2022-05-05 11:35:20.128457788 [W:onnxruntime:, graph.cc:3515 CleanUnusedInitializersAndNodeArgs] Removing initializer 'cache_node_onnx::Div_1474'. It is not used by any node and should be removed from the model.\n",
      "2022-05-05 11:35:20.128461157 [W:onnxruntime:, graph.cc:3515 CleanUnusedInitializersAndNodeArgs] Removing initializer 'cache_node_onnx::Div_1927'. It is not used by any node and should be removed from the model.\n",
      "2022-05-05 11:35:20.128465618 [W:onnxruntime:, graph.cc:3515 CleanUnusedInitializersAndNodeArgs] Removing initializer 'cache_node_onnx::Div_2011'. It is not used by any node and should be removed from the model.\n",
      "2022-05-05 11:35:20.128469923 [W:onnxruntime:, graph.cc:3515 CleanUnusedInitializersAndNodeArgs] Removing initializer 'cache_node_onnx::Div_2078'. It is not used by any node and should be removed from the model.\n",
      "2022-05-05 11:35:20.128473330 [W:onnxruntime:, graph.cc:3515 CleanUnusedInitializersAndNodeArgs] Removing initializer 'cache_node_onnx::Div_1759'. It is not used by any node and should be removed from the model.\n",
      "2022-05-05 11:35:20.128477153 [W:onnxruntime:, graph.cc:3515 CleanUnusedInitializersAndNodeArgs] Removing initializer 'cache_node_onnx::Div_2162'. It is not used by any node and should be removed from the model.\n",
      "2022-05-05 11:35:20.128813364 [W:onnxruntime:, graph.cc:3515 CleanUnusedInitializersAndNodeArgs] Removing initializer 'onnx::Div_2485'. It is not used by any node and should be removed from the model.\n",
      "2022-05-05 11:35:20.128819030 [W:onnxruntime:, graph.cc:3515 CleanUnusedInitializersAndNodeArgs] Removing initializer 'onnx::Div_2386'. It is not used by any node and should be removed from the model.\n",
      "2022-05-05 11:35:20.128825270 [W:onnxruntime:, graph.cc:3515 CleanUnusedInitializersAndNodeArgs] Removing initializer 'onnx::Div_1563'. It is not used by any node and should be removed from the model.\n",
      "2022-05-05 11:35:20.128828871 [W:onnxruntime:, graph.cc:3515 CleanUnusedInitializersAndNodeArgs] Removing initializer 'onnx::Div_1037'. It is not used by any node and should be removed from the model.\n",
      "2022-05-05 11:35:20.128833284 [W:onnxruntime:, graph.cc:3515 CleanUnusedInitializersAndNodeArgs] Removing initializer 'onnx::Div_856'. It is not used by any node and should be removed from the model.\n",
      "2022-05-05 11:35:20.128836680 [W:onnxruntime:, graph.cc:3515 CleanUnusedInitializersAndNodeArgs] Removing initializer 'onnx::Div_839'. It is not used by any node and should be removed from the model.\n",
      "2022-05-05 11:35:20.128839906 [W:onnxruntime:, graph.cc:3515 CleanUnusedInitializersAndNodeArgs] Removing initializer 'onnx::Div_757'. It is not used by any node and should be removed from the model.\n",
      "2022-05-05 11:35:20.128843379 [W:onnxruntime:, graph.cc:3515 CleanUnusedInitializersAndNodeArgs] Removing initializer 'onnx::Div_675'. It is not used by any node and should be removed from the model.\n",
      "2022-05-05 11:35:20.128846823 [W:onnxruntime:, graph.cc:3515 CleanUnusedInitializersAndNodeArgs] Removing initializer 'onnx::Div_658'. It is not used by any node and should be removed from the model.\n",
      "2022-05-05 11:35:20.128850764 [W:onnxruntime:, graph.cc:3515 CleanUnusedInitializersAndNodeArgs] Removing initializer 'onnx::Div_576'. It is not used by any node and should be removed from the model.\n",
      "2022-05-05 11:35:20.128854352 [W:onnxruntime:, graph.cc:3515 CleanUnusedInitializersAndNodeArgs] Removing initializer 'onnx::Div_2123'. It is not used by any node and should be removed from the model.\n",
      "2022-05-05 11:35:20.128858474 [W:onnxruntime:, graph.cc:3515 CleanUnusedInitializersAndNodeArgs] Removing initializer 'onnx::Div_494'. It is not used by any node and should be removed from the model.\n",
      "2022-05-05 11:35:20.128861930 [W:onnxruntime:, graph.cc:3515 CleanUnusedInitializersAndNodeArgs] Removing initializer 'onnx::Div_1218'. It is not used by any node and should be removed from the model.\n",
      "2022-05-05 11:35:20.128865226 [W:onnxruntime:, graph.cc:3515 CleanUnusedInitializersAndNodeArgs] Removing initializer 'onnx::Div_938'. It is not used by any node and should be removed from the model.\n",
      "2022-05-05 11:35:20.128869501 [W:onnxruntime:, graph.cc:3515 CleanUnusedInitializersAndNodeArgs] Removing initializer 'onnx::Div_252'. It is not used by any node and should be removed from the model.\n",
      "2022-05-05 11:35:20.128876037 [W:onnxruntime:, graph.cc:3515 CleanUnusedInitializersAndNodeArgs] Removing initializer 'onnx::Div_1020'. It is not used by any node and should be removed from the model.\n",
      "2022-05-05 11:35:20.128879406 [W:onnxruntime:, graph.cc:3515 CleanUnusedInitializersAndNodeArgs] Removing initializer 'onnx::Div_1761'. It is not used by any node and should be removed from the model.\n",
      "2022-05-05 11:35:20.128883614 [W:onnxruntime:, graph.cc:3515 CleanUnusedInitializersAndNodeArgs] Removing initializer 'onnx::Div_477'. It is not used by any node and should be removed from the model.\n",
      "2022-05-05 11:35:20.128887244 [W:onnxruntime:, graph.cc:3515 CleanUnusedInitializersAndNodeArgs] Removing initializer 'onnx::Div_376'. It is not used by any node and should be removed from the model.\n",
      "2022-05-05 11:35:20.128891455 [W:onnxruntime:, graph.cc:3515 CleanUnusedInitializersAndNodeArgs] Removing initializer 'onnx::Div_1925'. It is not used by any node and should be removed from the model.\n",
      "2022-05-05 11:35:20.128895127 [W:onnxruntime:, graph.cc:3515 CleanUnusedInitializersAndNodeArgs] Removing initializer 'onnx::Div_2468'. It is not used by any node and should be removed from the model.\n",
      "2022-05-05 11:35:20.128899650 [W:onnxruntime:, graph.cc:3515 CleanUnusedInitializersAndNodeArgs] Removing initializer 'onnx::Div_1119'. It is not used by any node and should be removed from the model.\n",
      "2022-05-05 11:35:20.128904463 [W:onnxruntime:, graph.cc:3515 CleanUnusedInitializersAndNodeArgs] Removing initializer 'onnx::Div_1744'. It is not used by any node and should be removed from the model.\n",
      "2022-05-05 11:35:20.128907857 [W:onnxruntime:, graph.cc:3515 CleanUnusedInitializersAndNodeArgs] Removing initializer 'onnx::Div_2304'. It is not used by any node and should be removed from the model.\n",
      "2022-05-05 11:35:20.128913744 [W:onnxruntime:, graph.cc:3515 CleanUnusedInitializersAndNodeArgs] Removing initializer 'onnx::Div_1201'. It is not used by any node and should be removed from the model.\n",
      "2022-05-05 11:35:20.128917071 [W:onnxruntime:, graph.cc:3515 CleanUnusedInitializersAndNodeArgs] Removing initializer 'onnx::Div_1580'. It is not used by any node and should be removed from the model.\n",
      "2022-05-05 11:35:20.128922576 [W:onnxruntime:, graph.cc:3515 CleanUnusedInitializersAndNodeArgs] Removing initializer 'onnx::Div_1382'. It is not used by any node and should be removed from the model.\n",
      "2022-05-05 11:35:20.128925825 [W:onnxruntime:, graph.cc:3515 CleanUnusedInitializersAndNodeArgs] Removing initializer 'onnx::Div_1399'. It is not used by any node and should be removed from the model.\n",
      "2022-05-05 11:35:20.128929233 [W:onnxruntime:, graph.cc:3515 CleanUnusedInitializersAndNodeArgs] Removing initializer 'onnx::Div_2024'. It is not used by any node and should be removed from the model.\n",
      "2022-05-05 11:35:20.128933190 [W:onnxruntime:, graph.cc:3515 CleanUnusedInitializersAndNodeArgs] Removing initializer 'onnx::Div_1481'. It is not used by any node and should be removed from the model.\n",
      "2022-05-05 11:35:20.128936844 [W:onnxruntime:, graph.cc:3515 CleanUnusedInitializersAndNodeArgs] Removing initializer 'onnx::Div_1300'. It is not used by any node and should be removed from the model.\n",
      "2022-05-05 11:35:20.128942235 [W:onnxruntime:, graph.cc:3515 CleanUnusedInitializersAndNodeArgs] Removing initializer 'onnx::Div_1662'. It is not used by any node and should be removed from the model.\n",
      "2022-05-05 11:35:20.128945850 [W:onnxruntime:, graph.cc:3515 CleanUnusedInitializersAndNodeArgs] Removing initializer 'onnx::Div_2106'. It is not used by any node and should be removed from the model.\n",
      "2022-05-05 11:35:20.128950761 [W:onnxruntime:, graph.cc:3515 CleanUnusedInitializersAndNodeArgs] Removing initializer 'onnx::Div_1843'. It is not used by any node and should be removed from the model.\n",
      "2022-05-05 11:35:20.128954655 [W:onnxruntime:, graph.cc:3515 CleanUnusedInitializersAndNodeArgs] Removing initializer 'onnx::Div_1942'. It is not used by any node and should be removed from the model.\n",
      "2022-05-05 11:35:20.128958147 [W:onnxruntime:, graph.cc:3515 CleanUnusedInitializersAndNodeArgs] Removing initializer 'onnx::Div_2205'. It is not used by any node and should be removed from the model.\n",
      "2022-05-05 11:35:20.128962776 [W:onnxruntime:, graph.cc:3515 CleanUnusedInitializersAndNodeArgs] Removing initializer 'onnx::Div_2287'. It is not used by any node and should be removed from the model.\n",
      "2022-05-05 11:35:20.187352642 [W:onnxruntime:, graph.cc:3515 CleanUnusedInitializersAndNodeArgs] Removing initializer 'cache_node_onnx::Pow_2223'. It is not used by any node and should be removed from the model.\n",
      "2022-05-05 11:35:20.187364632 [W:onnxruntime:, graph.cc:3515 CleanUnusedInitializersAndNodeArgs] Removing initializer 'cache_node_onnx::Pow_2206'. It is not used by any node and should be removed from the model.\n",
      "2022-05-05 11:35:20.187368577 [W:onnxruntime:, graph.cc:3515 CleanUnusedInitializersAndNodeArgs] Removing initializer 'cache_node_onnx::Div_409'. It is not used by any node and should be removed from the model.\n",
      "2022-05-05 11:35:20.187371765 [W:onnxruntime:, graph.cc:3515 CleanUnusedInitializersAndNodeArgs] Removing "
     ]
    }
   ],
   "source": [
    "model = model.cuda()\n",
    "model_decoder = model_decoder.cuda()\n",
    "input_ids = input_ids.cuda()\n",
    "model = model.eval()\n",
    "model_decoder = model_decoder.eval()\n",
    "enc_onnx = create_model_for_provider(\"test-enc.onnx\", \"CUDAExecutionProvider\")\n",
    "enc_onnx_binding: IOBinding = enc_onnx.io_binding()\n",
    "dec_onnx = create_model_for_provider(model_def.SerializeToString(), \"CUDAExecutionProvider\")\n",
    "dec_onnx_binding: IOBinding = dec_onnx.io_binding()"
   ]
  },
  {
   "cell_type": "markdown",
   "metadata": {
    "collapsed": false,
    "pycharm": {
     "name": "#%% md\n"
    }
   },
   "source": [
    "## Benchmark new model on real scenario\n",
    "\n",
    "TODO: print graph of cache / no cache latency for each seq len + show how to justify what we measure\n",
    "TODO: convert the model to FP16 + add some explanation regarding aggressive conversion https://pytorch.org/docs/stable/amp.html?utm_source=pocket_mylist\n",
    "TODO: add experiment with TensorRT in mixed precision\n",
    "TODO: try https://github.com/microsoft/onnxruntime/pull/11320 + https://github.com/microsoft/onnxruntime/pull/8702 + https://github.com/microsoft/onnxruntime/issues/11254"
   ]
  },
  {
   "cell_type": "code",
   "execution_count": 11,
   "metadata": {
    "execution": {
     "iopub.execute_input": "2022-05-05T10:35:20.784906Z",
     "iopub.status.busy": "2022-05-05T10:35:20.784560Z",
     "iopub.status.idle": "2022-05-05T10:35:20.827464Z",
     "shell.execute_reply": "2022-05-05T10:35:20.826999Z"
    },
    "pycharm": {
     "name": "#%%\n"
    }
   },
   "outputs": [
    {
     "name": "stderr",
     "output_type": "stream",
     "text": [
      "initializer 'cache_node_onnx::Pow_948'. It is not used by any node and should be removed from the model.\n",
      "2022-05-05 11:35:20.187375310 [W:onnxruntime:, graph.cc:3515 CleanUnusedInitializersAndNodeArgs] Removing initializer 'cache_node_onnx::Add_1857'. It is not used by any node and should be removed from the model.\n",
      "2022-05-05 11:35:20.187380298 [W:onnxruntime:, graph.cc:3515 CleanUnusedInitializersAndNodeArgs] Removing initializer 'cache_node_onnx::Add_2209'. It is not used by any node and should be removed from the model.\n",
      "2022-05-05 11:35:20.187383946 [W:onnxruntime:, graph.cc:3515 CleanUnusedInitializersAndNodeArgs] Removing initializer 'cache_node_onnx::Pow_1451'. It is not used by any node and should be removed from the model.\n",
      "2022-05-05 11:35:20.187387639 [W:onnxruntime:, graph.cc:3515 CleanUnusedInitializersAndNodeArgs] Removing initializer 'cache_node_onnx::Add_1924'. It is not used by any node and should be removed from the model.\n",
      "2022-05-05 11:35:20.187390793 [W:onnxruntime:, graph.cc:3515 CleanUnusedInitializersAndNodeArgs] Removing initializer 'cache_node_onnx::Pow_562'. It is not used by any node and should be removed from the model.\n",
      "2022-05-05 11:35:20.187394191 [W:onnxruntime:, graph.cc:3515 CleanUnusedInitializersAndNodeArgs] Removing initializer 'cache_node_onnx::Pow_1619'. It is not used by any node and should be removed from the model.\n",
      "2022-05-05 11:35:20.187398469 [W:onnxruntime:, graph.cc:3515 CleanUnusedInitializersAndNodeArgs] Removing initializer 'cache_node_onnx::Add_2226'. It is not used by any node and should be removed from the model.\n",
      "2022-05-05 11:35:20.187401919 [W:onnxruntime:, graph.cc:3515 CleanUnusedInitializersAndNodeArgs] Removing initializer 'cache_node_onnx::Pow_797'. It is not used by any node and should be removed from the model.\n",
      "2022-05-05 11:35:20.187405037 [W:onnxruntime:, graph.cc:3515 CleanUnusedInitializersAndNodeArgs] Removing initializer 'cache_node_onnx::Pow_545'. It is not used by any node and should be removed from the model.\n",
      "2022-05-05 11:35:20.187408972 [W:onnxruntime:, graph.cc:3515 CleanUnusedInitializersAndNodeArgs] Removing initializer 'cache_node_onnx::Add_2008'. It is not used by any node and should be removed from the model.\n",
      "2022-05-05 11:35:20.187412163 [W:onnxruntime:, graph.cc:3515 CleanUnusedInitializersAndNodeArgs] Removing initializer 'cache_node_onnx::Pow_461'. It is not used by any node and should be removed from the model.\n",
      "2022-05-05 11:35:20.187415537 [W:onnxruntime:, graph.cc:3515 CleanUnusedInitializersAndNodeArgs] Removing initializer 'cache_node_onnx::Pow_847'. It is not used by any node and should be removed from the model.\n",
      "2022-05-05 11:35:20.187419747 [W:onnxruntime:, graph.cc:3515 CleanUnusedInitializersAndNodeArgs] Removing initializer 'cache_node_onnx::Pow_646'. It is not used by any node and should be removed from the model.\n",
      "2022-05-05 11:35:20.187423112 [W:onnxruntime:, graph.cc:3515 CleanUnusedInitializersAndNodeArgs] Removing initializer 'cache_node_onnx::Unsqueeze_252'. It is not used by any node and should be removed from the model.\n",
      "2022-05-05 11:35:20.187426983 [W:onnxruntime:, graph.cc:3515 CleanUnusedInitializersAndNodeArgs] Removing initializer 'cache_node_onnx::Mul_411'. It is not used by any node and should be removed from the model.\n",
      "2022-05-05 11:35:20.187430123 [W:onnxruntime:, graph.cc:3515 CleanUnusedInitializersAndNodeArgs] Removing initializer 'cache_node_onnx::Pow_1250'. It is not used by any node and should be removed from the model.\n",
      "2022-05-05 11:35:20.187433912 [W:onnxruntime:, graph.cc:3515 CleanUnusedInitializersAndNodeArgs] Removing initializer 'cache_node_onnx::Pow_1015'. It is not used by any node and should be removed from the model.\n",
      "2022-05-05 11:35:20.187437803 [W:onnxruntime:, graph.cc:3515 CleanUnusedInitializersAndNodeArgs] Removing initializer 'cache_node_onnx::Add_1622'. It is not used by any node and should be removed from the model.\n",
      "2022-05-05 11:35:20.187440858 [W:onnxruntime:, graph.cc:3515 CleanUnusedInitializersAndNodeArgs] Removing initializer 'cache_node_onnx::Pow_864'. It is not used by any node and should be removed from the model.\n",
      "2022-05-05 11:35:20.187444630 [W:onnxruntime:, graph.cc:3515 CleanUnusedInitializersAndNodeArgs] Removing initializer 'cache_node_onnx::Pow_713'. It is not used by any node and should be removed from the model.\n",
      "2022-05-05 11:35:20.187449609 [W:onnxruntime:, graph.cc:3515 CleanUnusedInitializersAndNodeArgs] Removing initializer 'cache_node_onnx::Pow_696'. It is not used by any node and should be removed from the model.\n",
      "2022-05-05 11:35:20.187453406 [W:onnxruntime:, graph.cc:3515 CleanUnusedInitializersAndNodeArgs] Removing initializer 'cache_node_onnx::Pow_998'. It is not used by any node and should be removed from the model.\n",
      "2022-05-05 11:35:20.187457333 [W:onnxruntime:, graph.cc:3515 CleanUnusedInitializersAndNodeArgs] Removing initializer 'cache_node_onnx::Pow_1770'. It is not used by any node and should be removed from the model.\n",
      "2022-05-05 11:35:20.187460498 [W:onnxruntime:, graph.cc:3515 CleanUnusedInitializersAndNodeArgs] Removing initializer 'cache_node_onnx::Pow_314'. It is not used by any node and should be removed from the model.\n",
      "2022-05-05 11:35:20.187464981 [W:onnxruntime:, graph.cc:3515 CleanUnusedInitializersAndNodeArgs] Removing initializer 'cache_node_onnx::Add_1320'. It is not used by any node and should be removed from the model.\n",
      "2022-05-05 11:35:20.187468644 [W:onnxruntime:, graph.cc:3515 CleanUnusedInitializersAndNodeArgs] Removing initializer 'cache_node_onnx::Unsqueeze_254'. It is not used by any node and should be removed from the model.\n",
      "2022-05-05 11:35:20.187471954 [W:onnxruntime:, graph.cc:3515 CleanUnusedInitializersAndNodeArgs] Removing initializer 'cache_node_onnx::Pow_2156'. It is not used by any node and should be removed from the model.\n",
      "2022-05-05 11:35:20.187476150 [W:onnxruntime:, graph.cc:3515 CleanUnusedInitializersAndNodeArgs] Removing initializer 'cache_node_onnx::Pow_1552'. It is not used by any node and should be removed from the model.\n",
      "2022-05-05 11:35:20.187480285 [W:onnxruntime:, graph.cc:3515 CleanUnusedInitializersAndNodeArgs] Removing initializer 'cache_node_onnx::Pow_1300'. It is not used by any node and should be removed from the model.\n",
      "2022-05-05 11:35:20.187484306 [W:onnxruntime:, graph.cc:3515 CleanUnusedInitializersAndNodeArgs] Removing initializer 'cache_node_onnx::ConstantOfShape_266'. It is not used by any node and should be removed from the model.\n",
      "2022-05-05 11:35:20.187487572 [W:onnxruntime:, graph.cc:3515 CleanUnusedInitializersAndNodeArgs] Removing initializer 'cache_node_onnx::Pow_1166'. It is not used by any node and should be removed from the model.\n",
      "2022-05-05 11:35:20.187491967 [W:onnxruntime:, graph.cc:3515 CleanUnusedInitializersAndNodeArgs] Removing initializer 'cache_node_onnx::Pow_2005'. It is not used by any node and should be removed from the model.\n",
      "2022-05-05 11:35:20.187495210 [W:onnxruntime:, graph.cc:3515 CleanUnusedInitializersAndNodeArgs] Removing initializer 'cache_node_onnx::Pow_1854'. It is not used by any node and should be removed from the model.\n",
      "2022-05-05 11:35:20.187498483 [W:onnxruntime:, graph.cc:3515 CleanUnusedInitializersAndNodeArgs] Removing initializer 'cache_node_onnx::Pow_1317'. It is not used by any node and should be removed from the model.\n",
      "2022-05-05 11:35:20.187501967 [W:onnxruntime:, graph.cc:3515 CleanUnusedInitializersAndNodeArgs] Removing initializer 'cache_node_onnx::Pow_1401'. It is not used by any node and should be removed from the model.\n",
      "2022-05-05 11:35:20.187505080 [W:onnxruntime:, graph.cc:3515 CleanUnusedInitializersAndNodeArgs] Removing initializer 'cache_node_onnx::Pow_1099'. It is not used by any node and should be removed from the model.\n",
      "2022-05-05 11:35:20.187508122 [W:onnxruntime:, graph.cc:3515 CleanUnusedInitializersAndNodeArgs] Removing initializer 'cache_node_onnx::Add_1404'. It is not used by any node and should be removed from the model.\n",
      "2022-05-05 11:35:20.187511387 [W:onnxruntime:, graph.cc:3515 CleanUnusedInitializersAndNodeArgs] Removing initializer 'cache_node_onnx::Add_1454'. It is not used by any node and should be removed from the model.\n",
      "2022-05-05 11:35:20.187514519 [W:onnxruntime:, graph.cc:3515 CleanUnusedInitializersAndNodeArgs] Removing initializer 'cache_node_onnx::Pow_1468'. It is not used by any node and should be removed from the model.\n",
      "2022-05-05 11:35:20.187518449 [W:onnxruntime:, graph.cc:3515 CleanUnusedInitializersAndNodeArgs] Removing initializer 'cache_node_onnx::Add_1471'. It is not used by any node and should be removed from the model.\n",
      "2022-05-05 11:35:20.187521558 [W:onnxruntime:, graph.cc:3515 CleanUnusedInitializersAndNodeArgs] Removing initializer 'cache_node_onnx::Pow_1602'. It is not used by any node and should be removed from the model.\n",
      "2022-05-05 11:35:20.187525614 [W:onnxruntime:, graph.cc:3515 CleanUnusedInitializersAndNodeArgs] Removing initializer 'cache_node_onnx::Add_1605'. It is not used by any node and should be removed from the model.\n",
      "2022-05-05 11:35:20.187529587 [W:onnxruntime:, graph.cc:3515 CleanUnusedInitializersAndNodeArgs] Removing initializer 'cache_node_onnx::Add_1907'. It is not used by any node and should be removed from the model.\n",
      "2022-05-05 11:35:20.187532791 [W:onnxruntime:, graph.cc:3515 CleanUnusedInitializersAndNodeArgs] Removing initializer 'cache_node_onnx::Pow_1703'. It is not used by any node and should be removed from the model.\n",
      "2022-05-05 11:35:20.187535931 [W:onnxruntime:, graph.cc:3515 CleanUnusedInitializersAndNodeArgs] Removing initializer 'cache_node_onnx::Pow_2055'. It is not used by any node and should be removed from the model.\n",
      "2022-05-05 11:35:20.187539170 [W:onnxruntime:, graph.cc:3515 CleanUnusedInitializersAndNodeArgs] Removing initializer 'cache_node_onnx::Add_1706'. It is not used by any node and should be removed from the model.\n",
      "2022-05-05 11:35:20.187542494 [W:onnxruntime:, graph.cc:3515 CleanUnusedInitializersAndNodeArgs] Removing initializer 'cache_node_onnx::Pow_1753'. It is not used by any node and should be removed from the model.\n",
      "2022-05-05 11:35:20.187545710 [W:onnxruntime:, graph.cc:3515 CleanUnusedInitializersAndNodeArgs] Removing initializer 'cache_node_onnx::Add_1756'. It is not used by any node and should be removed from the model.\n",
      "2022-05-05 11:35:20.187549293 [W:onnxruntime:, graph.cc:3515 CleanUnusedInitializersAndNodeArgs] Removing initializer 'cache_node_onnx::Add_1773'. It is not used by any node and should be removed from the model.\n",
      "2022-05-05 11:35:20.187552861 [W:onnxruntime:, graph.cc:3515 CleanUnusedInitializersAndNodeArgs] Removing initializer 'cache_node_onnx::Pow_1904'. It is not used by any node and should be removed from the model.\n",
      "2022-05-05 11:35:20.187556205 [W:onnxruntime:, graph.cc:3515 CleanUnusedInitializersAndNodeArgs] Removing initializer 'cache_node_onnx::Pow_1921'. It is not used by any node and should be removed from the model.\n",
      "2022-05-05 11:35:20.187560294 [W:onnxruntime:, graph.cc:3515 CleanUnusedInitializersAndNodeArgs] Removing initializer 'cache_node_onnx::Add_2058'. It is not used by any node and should be removed from the model.\n",
      "2022-05-05 11:35:20.187563582 [W:onnxruntime:, graph.cc:3515 CleanUnusedInitializersAndNodeArgs] Removing initializer 'cache_node_onnx::Pow_1149'. It is not used by any node and should be removed from the model.\n",
      "2022-05-05 11:35:20.187566773 [W:onnxruntime:, graph.cc:3515 CleanUnusedInitializersAndNodeArgs] Removing initializer 'cache_node_onnx::Pow_2072'. It is not used by any node and should be removed from the model.\n",
      "2022-05-05 11:35:20.187569912 [W:onnxruntime:, graph.cc:3515 CleanUnusedInitializersAndNodeArgs] Removing initializer 'cache_node_onnx::Add_2075'. It is not used by any node and should be removed from the model.\n",
      "2022-05-05 11:35:20.187573398 [W:onnxruntime:, graph.cc:3515 CleanUnusedInitializersAndNodeArgs] Removing initializer 'cache_node_onnx::Add_1555'. It is not used by any node and should be removed from the model.\n",
      "2022-05-05 11:35:20.187576525 [W:onnxruntime:, graph.cc:3515 CleanUnusedInitializersAndNodeArgs] Removing initializer 'cache_node_onnx::Add_2159'. It is not used by any node and should be removed from the model.\n",
      "2022-05-05 11:35:20.187910324 [W:onnxruntime:, graph.cc:3515 CleanUnusedInitializersAndNodeArgs] Removing initializer 'onnx::Add_2482'. It is not used by any node and should be removed from the model.\n",
      "2022-05-05 11:35:20.187916213 [W:onnxruntime:, graph.cc:3515 CleanUnusedInitializersAndNodeArgs] Removing initializer 'onnx::Pow_2479'. It is not used by any node and should be removed from the model.\n",
      "2022-05-05 11:35:20.187919541 [W:onnxruntime:, graph.cc:3515 CleanUnusedInitializersAndNodeArgs] Removing initializer 'onnx::Add_2465'. It is not used by any node and should be removed from the model.\n",
      "2022-05-05 11:35:20.187923103 [W:onnxruntime:, graph.cc:3515 CleanUnusedInitializersAndNodeArgs] Removing initializer 'onnx::Add_2383'. It is not used by any node and should be removed from the model.\n",
      "2022-05-05 11:35:20.187926129 [W:onnxruntime:, graph.cc:3515 CleanUnusedInitializersAndNodeArgs] Removing initializer 'onnx::Pow_2380'. It is not used by any node and should be removed from the model.\n",
      "2022-05-05 11:35:20.187931987 [W:onnxruntime:, graph.cc:3515 CleanUnusedInitializersAndNodeArgs] Removing initializer 'onnx::Pow_751'. It is not used by any node and should be removed from the model.\n",
      "2022-05-05 11:35:20.187935836 [W:onnxruntime:, graph.cc:3515 CleanUnusedInitializersAndNodeArgs] Removing initializer 'onnx::Pow_1656'. It is not used by any node and should be removed from the model.\n",
      "2022-05-05 11:35:20.187939083 [W:onnxruntime:, graph.cc:3515 CleanUnusedInitializersAndNodeArgs] Removing initializer 'onnx::Pow_570'. It is not used by any node and should be removed from the model.\n",
      "2022-05-05 11:35:20.187943811 [W:onnxruntime:, graph.cc:3515 CleanUnusedInitializersAndNodeArgs] Removing initializer 'onnx::Pow_1755'. It is not used by any node and should be removed from the model.\n",
      "2022-05-05 11:35:20.187947237 [W:onnxruntime:, graph.cc:3515 CleanUnusedInitializersAndNodeArgs] Removing initializer 'onnx::Pow_2281'. It is not used by any node and should be removed from the model.\n",
      "2022-05-05 11:35:20.187950795 [W:onnxruntime:, graph.cc:3515 CleanUnusedInitializersAndNodeArgs] Removing initializer 'onnx::Pow_471'. It is not used by any node and should be removed from the model.\n",
      "2022-05-05 11:35:20.187954495 [W:onnxruntime:, graph.cc:3515 CleanUnusedInitializersAndNodeArgs] Removing initializer 'onnx::Add_1577'. It is not used by any node and should be removed from the model.\n",
      "2022-05-05 11:35:20.187957791 [W:onnxruntime:, graph.cc:3515 CleanUnusedInitializersAndNodeArgs] Removing initializer 'onnx::Unsqueeze_202'. It is not used by any node and should be removed from the model.\n",
      "2022-05-05 11:35:20.187961643 [W:onnxruntime:, graph.cc:3515 CleanUnusedInitializersAndNodeArgs] Removing initializer 'onnx::Pow_1212'. It is not used by any node and should be removed from the model.\n",
      "2022-05-05 11:35:20.187964813 [W:onnxruntime:, graph.cc:3515 CleanUnusedInitializersAndNodeArgs] Removing initializer 'onnx::Add_1560'. It is not used by any node and should be removed from the model.\n",
      "2022-05-05 11:35:20.187967869 [W:onnxruntime:, graph.cc:3515 CleanUnusedInitializersAndNodeArgs] Removing initializer 'onnx::Pow_932'. It is not used by any node and should be removed from the model.\n",
      "2022-05-05 11:35:20.187971023 [W:onnxruntime:, graph.cc:3515 CleanUnusedInitializersAndNodeArgs] Removing initializer 'onnx::Unsqueeze_200'. It is not used by any node and should be removed from the model.\n",
      "2022-05-05 11:35:20.187974372 [W:onnxruntime:, graph.cc:3515 CleanUnusedInitializersAndNodeArgs] Removing initializer 'onnx::Add_1758'. It is not used by any node and should be removed from the model.\n",
      "2022-05-05 11:35:20.187977947 [W:onnxruntime:, graph.cc:3515 CleanUnusedInitializersAndNodeArgs] Removing initializer 'onnx::Add_1922'. It is not used by any node and should be removed from the model.\n",
      "2022-05-05 11:35:20.187981063 [W:onnxruntime:, graph.cc:3515 CleanUnusedInitializersAndNodeArgs] Removing initializer 'onnx::Pow_652'. It is not used by any node and should be removed from the model.\n",
      "2022-05-05 11:35:20.187984174 [W:onnxruntime:, graph.cc:3515 CleanUnusedInitializersAndNodeArgs] Removing initializer 'onnx::Pow_1393'. It is not used by any node and should be removed from the model.\n",
      "2022-05-05 11:35:20.187989073 [W:onnxruntime:, graph.cc:3515 CleanUnusedInitializersAndNodeArgs] Removing initializer 'onnx::Div_335'. It is not used by any node and should be removed from the model.\n",
      "2022-05-05 11:35:20.187992511 [W:onnxruntime:, graph.cc:3515 CleanUnusedInitializersAndNodeArgs] Removing initializer 'onnx::Add_2021'. It is not used by any node and should be removed from the model.\n",
      "2022-05-05 11:35:20.187995634 [W:onnxruntime:, graph.cc:3515 CleanUnusedInitializersAndNodeArgs] Removing initializer 'onnx::Pow_1031'. It is not used by any node and should be removed from the model.\n",
      "2022-05-05 11:35:20.188000036 [W:onnxruntime:, graph.cc:3515 CleanUnusedInitializersAndNodeArgs] Removing initializer 'onnx::Pow_669'. It is not used by any node and should be removed from the model.\n",
      "2022-05-05 11:35:20.188003957 [W:onnxruntime:, graph.cc:3515 CleanUnusedInitializersAndNodeArgs] Removing initializer 'onnx::Add_2202'. It is not used by any node and should be removed from the model.\n",
      "2022-05-05 11:35:20.188007536 [W:onnxruntime:, graph.cc:3515 CleanUnusedInitializersAndNodeArgs] Removing initializer 'onnx::Pow_833'. It is not used by any node and should be removed from the model.\n",
      "2022-05-05 11:35:20.188011135 [W:onnxruntime:, graph.cc:3515 CleanUnusedInitializersAndNodeArgs] Removing initializer 'onnx::Pow_2100'. It is not used by any node and should be removed from the model.\n",
      "2022-05-05 11:35:20.188014278 [W:onnxruntime:, graph.cc:3515 CleanUnusedInitializersAndNodeArgs] Removing initializer 'onnx::Pow_370'. It is not used by any node and should be removed from the model.\n",
      "2022-05-05 11:35:20.188017484 [W:onnxruntime:, graph.cc:3515 CleanUnusedInitializersAndNodeArgs] Removing initializer 'onnx::Mul_337'. It is not used by any node and should be removed from the model.\n",
      "2022-05-05 11:35:20.188033364 [W:onnxruntime:, graph.cc:3515 CleanUnusedInitializersAndNodeArgs] Removing initializer 'onnx::Pow_2199'. It is not used by any node and should be removed from the model.\n",
      "2022-05-05 11:35:20.188037196 [W:onnxruntime:, graph.cc:3515 CleanUnusedInitializersAndNodeArgs] Removing initializer 'onnx::Add_1379'. It is not used by any node and should be removed from the model.\n",
      "2022-05-05 11:35:20.188051866 [W:onnxruntime:, graph.cc:3515 CleanUnusedInitializersAndNodeArgs] Removing initializer 'onnx::Pow_1195'. It is not used by any node and should be removed from the model.\n",
      "2022-05-05 11:35:20.188055553 [W:onnxruntime:, graph.cc:3515 CleanUnusedInitializersAndNodeArgs] Removing initializer 'onnx::Add_2301'. It is not used by any node and should be removed from the model.\n",
      "2022-05-05 11:35:20.188059043 [W:onnxruntime:, graph.cc:3515 CleanUnusedInitializersAndNodeArgs] Removing initializer 'onnx::Pow_1294'. It is not used by any node and should be removed from the model.\n",
      "2022-05-05 11:35:20.188062244 [W:onnxruntime:, graph.cc:3515 CleanUnusedInitializersAndNodeArgs] Removing initializer 'onnx::Add_1396'. It is not used by any node and should be removed from the model.\n",
      "2022-05-05 11:35:20.188065382 [W:onnxruntime:, graph.cc:3515 CleanUnusedInitializersAndNodeArgs] Removing initializer 'onnx::Add_1939'. It is not used by any node and should be removed from the model.\n",
      "2022-05-05 11:35:20.188068774 [W:onnxruntime:, graph.cc:3515 CleanUnusedInitializersAndNodeArgs] Removing initializer 'onnx::Add_1840'. It is not used by any node and should be removed from the model.\n",
      "2022-05-05 11:35:20.188072369 [W:onnxruntime:, graph.cc:3515 CleanUnusedInitializersAndNodeArgs] Removing initializer 'onnx::Pow_1376'. It is not used by any node and should be removed from the model.\n",
      "2022-05-05 11:35:20.188075622 [W:onnxruntime:, graph.cc:3515 CleanUnusedInitializersAndNodeArgs] Removing initializer 'onnx::Pow_488'. It is not used by any node and should be removed from the model.\n",
      "2022-05-05 11:35:20.188079292 [W:onnxruntime:, graph.cc:3515 CleanUnusedInitializersAndNodeArgs] Removing initializer 'onnx::Pow_1475'. It is not used by any node and should be removed from the model.\n",
      "2022-05-05 11:35:20.188082951 [W:onnxruntime:, graph.cc:3515 CleanUnusedInitializersAndNodeArgs] Removing initializer 'onnx::Pow_2462'. It is not used by any node and should be removed from the model.\n",
      "2022-05-05 11:35:20.188086503 [W:onnxruntime:, graph.cc:3515 CleanUnusedInitializersAndNodeArgs] Removing initializer 'onnx::Add_1297'. It is not used by any node and should be removed from the model.\n",
      "2022-05-05 11:35:20.188089869 [W:onnxruntime:, graph.cc:3515 CleanUnusedInitializersAndNodeArgs] Removing initializer 'onnx::Pow_1014'. It is not used by any node and should be removed from the model.\n",
      "2022-05-05 11:35:20.188093225 [W:onnxruntime:, graph.cc:3515 CleanUnusedInitializersAndNodeArgs] Removing initializer 'onnx::Pow_1557'. It is not used by any node and should be removed from the model.\n",
      "2022-05-05 11:35:20.188096387 [W:onnxruntime:, graph.cc:3515 CleanUnusedInitializersAndNodeArgs] Removing initializer 'onnx::Pow_1574'. It is not used by any node and should be removed from the model.\n",
      "2022-05-05 11:35:20.188099652 [W:onnxruntime:, graph.cc:3515 CleanUnusedInitializersAndNodeArgs] Removing initializer 'onnx::Pow_1113'. It is not used by any node and should be removed from the model.\n",
      "2022-05-05 11:35:20.188116951 [W:onnxruntime:, graph.cc:3515 CleanUnusedInitializersAndNodeArgs] Removing initializer 'onnx::Add_1659'. It is not used by any node and should be removed from the model.\n",
      "2022-05-05 11:35:20.188120431 [W:onnxruntime:, graph.cc:3515 CleanUnusedInitializersAndNodeArgs] Removing initializer 'onnx::Pow_850'. It is not used by any node and should be removed from the model.\n",
      "2022-05-05 11:35:20.188123667 [W:onnxruntime:, graph.cc:3515 CleanUnusedInitializersAndNodeArgs] Removing initializer 'onnx::Pow_246'. It is not used by any node and should be removed from the model.\n",
      "2022-05-05 11:35:20.188126960 [W:onnxruntime:, graph.cc:3515 CleanUnusedInitializersAndNodeArgs] Removing initializer 'onnx::Pow_1936'. It is not used by any node and should be removed from the model.\n",
      "2022-05-05 11:35:20.188130233 [W:onnxruntime:, graph.cc:3515 CleanUnusedInitializersAndNodeArgs] Removing initializer 'onnx::Add_1478'. It is not used by any node and should be removed from the model.\n",
      "2022-05-05 11:35:20.188134151 [W:onnxruntime:, graph.cc:3515 CleanUnusedInitializersAndNodeArgs] Removing initializer 'onnx::Pow_1738'. It is not used by any node and should be removed from the model.\n",
      "2022-05-05 11:35:20.188137473 [W:onnxruntime:, graph.cc:3515 CleanUnusedInitializersAndNodeArgs] Removing initializer 'onnx::ConstantOfShape_214'. It is not used by any node and should be removed from the model.\n",
      "2022-05-05 11:35:20.188140965 [W:onnxruntime:, graph.cc:3515 CleanUnusedInitializersAndNodeArgs] Removing initializer 'onnx::Pow_2117'. It is not used by any node and should be removed from the model.\n",
      "2022-05-05 11:35:20.188144268 [W:onnxruntime:, graph.cc:3515 CleanUnusedInitializersAndNodeArgs] Removing initializer 'onnx::Add_1741'. It is not used by any node and should be removed from the model.\n",
      "2022-05-05 11:35:20.188147839 [W:onnxruntime:, graph.cc:3515 CleanUnusedInitializersAndNodeArgs] Removing initializer 'onnx::Pow_1837'. It is not used by any node and should be removed from the model.\n",
      "2022-05-05 11:35:20.188151473 [W:onnxruntime:, graph.cc:3515 CleanUnusedInitializersAndNodeArgs] Removing initializer 'onnx::Pow_1919'. It is not used by any node and should be removed from the model.\n",
      "2022-05-05 11:35:20.188155547 [W:onnxruntime:, graph.cc:3515 CleanUnusedInitializersAndNodeArgs] Removing initializer 'onnx::Pow_2018'. It is not used by any node and should be removed from the model.\n",
      "2022-05-05 11:35:20.188159067 [W:onnxruntime:, graph.cc:3515 CleanUnusedInitializersAndNodeArgs] Removing initializer 'onnx::Add_2103'. It is not used by any node and should be removed from the model.\n",
      "2022-05-05 11:35:20.188162368 [W:onnxruntime:, graph.cc:3515 CleanUnusedInitializersAndNodeArgs] Removing initializer 'onnx::Add_2120'. It is not used by any node and should be removed from the model.\n",
      "2022-05-05 11:35:20.188166822 [W:onnxruntime:, graph.cc:3515 CleanUnusedInitializersAndNodeArgs] Removing initializer 'onnx::Add_2284'. It is not used by any node and should be removed from the model.\n",
      "2022-05-05 11:35:20.188170366 [W:onnxruntime:, graph.cc:3515 CleanUnusedInitializersAndNodeArgs] Removing initializer 'onnx::Pow_2298'. It is not used by any node and should be removed from the model.\n",
      "2022-05-05 11:35:20.243528259 [W:onnxruntime:, graph.cc:3515 CleanUnusedInitializersAndNodeArgs] Removing initializer 'cache_node_onnx::Expand_267'. It is not used by any node and should be removed from the model.\n",
      "2022-05-05 11:35:20.243853133 [W:onnxruntime:, graph.cc:3515 CleanUnusedInitializersAndNodeArgs] Removing initializer 'onnx::Expand_215'. It is not used by any node and should be removed from the model.\n"
     ]
    }
   ],
   "source": [
    "with torch.inference_mode():\n",
    "    out_enc_pytorch: BaseModelOutputWithPastAndCrossAttentions = model.encoder(input_ids=input_ids)\n",
    "    previous_step_pytorch: BaseModelOutputWithPastAndCrossAttentions = model_decoder(\n",
    "        input_ids=input_ids[:, :-1], encoder_hidden_states=out_enc_pytorch.last_hidden_state\n",
    "    )\n",
    "    out_dec_pytorch: BaseModelOutputWithPastAndCrossAttentions = model_decoder(\n",
    "        input_ids=input_ids, encoder_hidden_states=out_enc_pytorch.last_hidden_state\n",
    "    )"
   ]
  },
  {
   "cell_type": "code",
   "execution_count": 12,
   "metadata": {
    "execution": {
     "iopub.execute_input": "2022-05-05T10:35:20.832601Z",
     "iopub.status.busy": "2022-05-05T10:35:20.832380Z",
     "iopub.status.idle": "2022-05-05T10:35:20.857646Z",
     "shell.execute_reply": "2022-05-05T10:35:20.857216Z"
    },
    "pycharm": {
     "name": "#%%\n"
    }
   },
   "outputs": [],
   "source": [
    "def decoder_pytorch_inference(decoder_input_ids: torch.Tensor, encoder_hidden_states: torch.Tensor, **_):\n",
    "    with torch.inference_mode():\n",
    "        return model_decoder(input_ids=decoder_input_ids, encoder_hidden_states=encoder_hidden_states)\n",
    "\n",
    "\n",
    "def decoder_onnx_inference(\n",
    "    decoder_input_ids: torch.Tensor,\n",
    "    encoder_hidden_states: torch.Tensor,\n",
    "    enable_cache: torch.Tensor,\n",
    "    past_key_values: Optional[torch.Tensor],\n",
    "):\n",
    "    inputs_onnx_dict = {\n",
    "        \"input_ids\": decoder_input_ids,\n",
    "        \"encoder_hidden_states\": encoder_hidden_states,\n",
    "        \"enable_cache\": enable_cache,\n",
    "    }\n",
    "\n",
    "    if past_key_values is not None:\n",
    "        for index, (k_dec, v_dec, k_enc, v_enc) in enumerate(past_key_values):\n",
    "            inputs_onnx_dict[f\"past_key_values.{index}.decoder.key\"] = k_dec\n",
    "            inputs_onnx_dict[f\"past_key_values.{index}.decoder.value\"] = v_dec\n",
    "            inputs_onnx_dict[f\"past_key_values.{index}.encoder.key\"] = k_enc\n",
    "            inputs_onnx_dict[f\"past_key_values.{index}.encoder.value\"] = v_enc\n",
    "\n",
    "    result_dict = inference_onnx_binding(\n",
    "        model_onnx=dec_onnx,\n",
    "        inputs=inputs_onnx_dict,\n",
    "        binding=dec_onnx_binding,  # recycle the binding\n",
    "        device=decoder_input_ids.device.type,\n",
    "        clone_tensor=False,  # no memory copy -> best perf and lowest memory footprint!\n",
    "    )\n",
    "    past_states = list()\n",
    "    for index in range(model.config.num_layers):\n",
    "        kv = (\n",
    "            result_dict[f\"present.{index}.decoder.key\"],\n",
    "            result_dict[f\"present.{index}.decoder.value\"],\n",
    "            result_dict[f\"present.{index}.encoder.key\"],\n",
    "            result_dict[f\"present.{index}.encoder.value\"],\n",
    "        )\n",
    "        past_states.append(kv)\n",
    "    return BaseModelOutputWithPastAndCrossAttentions(\n",
    "        last_hidden_state=result_dict[\"logits\"],\n",
    "        past_key_values=past_states,\n",
    "    )\n",
    "\n",
    "\n",
    "out_dec_onnx_no_cache = decoder_onnx_inference(\n",
    "    decoder_input_ids=input_ids,\n",
    "    encoder_hidden_states=out_enc_pytorch.last_hidden_state,\n",
    "    enable_cache=torch.tensor([False], device=\"cuda\", dtype=torch.bool),\n",
    "    past_key_values=None,\n",
    ")\n",
    "are_equal(a=out_dec_onnx_no_cache.last_hidden_state[:, -1:, :], b=out_dec_pytorch.last_hidden_state[:, -1:, :])\n",
    "\n",
    "# check that past states are identical between ONNX and Pytorch\n",
    "assert len(out_dec_onnx_no_cache.past_key_values) == len(out_dec_pytorch.past_key_values)\n",
    "for (o_dec_k, o_dev_v, o_enc_k, o_enc_v), (p_dec_k, p_dev_v, p_enc_k, p_enc_v) in zip(\n",
    "    out_dec_onnx_no_cache.past_key_values, out_dec_pytorch.past_key_values\n",
    "):\n",
    "    are_equal(a=o_dec_k, b=p_dec_k)\n",
    "    are_equal(a=o_dev_v, b=p_dev_v)\n",
    "    are_equal(a=o_enc_k, b=p_enc_k)\n",
    "    are_equal(a=o_enc_v, b=p_enc_v)"
   ]
  },
  {
   "cell_type": "code",
   "execution_count": 13,
   "metadata": {
    "execution": {
     "iopub.execute_input": "2022-05-05T10:35:20.861461Z",
     "iopub.status.busy": "2022-05-05T10:35:20.861311Z",
     "iopub.status.idle": "2022-05-05T10:35:20.880311Z",
     "shell.execute_reply": "2022-05-05T10:35:20.879875Z"
    },
    "pycharm": {
     "name": "#%%\n"
    }
   },
   "outputs": [],
   "source": [
    "out_dec_onnx_cache = decoder_onnx_inference(\n",
    "    decoder_input_ids=input_ids[:, -1:],\n",
    "    encoder_hidden_states=out_enc_pytorch.last_hidden_state,\n",
    "    enable_cache=torch.tensor([True], device=\"cuda\", dtype=torch.bool),\n",
    "    past_key_values=previous_step_pytorch.past_key_values,\n",
    ")\n",
    "\n",
    "are_equal(a=out_dec_onnx_cache.last_hidden_state[:, -1:, :], b=out_dec_pytorch.last_hidden_state[:, -1:, :])\n",
    "\n",
    "# check that past states are identical between ONNX and Pytorch\n",
    "assert len(out_dec_onnx_cache.past_key_values) == len(out_dec_pytorch.past_key_values)\n",
    "for (o_dec_k, o_dev_v, o_enc_k, o_enc_v), (p_dec_k, p_dev_v, p_enc_k, p_enc_v) in zip(\n",
    "    out_dec_onnx_cache.past_key_values, out_dec_pytorch.past_key_values\n",
    "):\n",
    "    are_equal(a=o_dec_k, b=p_dec_k)\n",
    "    are_equal(a=o_dev_v, b=p_dev_v)\n",
    "    are_equal(a=o_enc_k, b=p_enc_k)\n",
    "    are_equal(a=o_enc_v, b=p_enc_v)"
   ]
  },
  {
   "cell_type": "code",
   "execution_count": 14,
   "metadata": {
    "execution": {
     "iopub.execute_input": "2022-05-05T10:35:20.883424Z",
     "iopub.status.busy": "2022-05-05T10:35:20.883276Z",
     "iopub.status.idle": "2022-05-05T10:35:22.020117Z",
     "shell.execute_reply": "2022-05-05T10:35:22.019641Z"
    },
    "pycharm": {
     "name": "#%%\n"
    }
   },
   "outputs": [
    {
     "name": "stdout",
     "output_type": "stream",
     "text": [
      "<pad> study shows that 80% of the world's population is affluent or faecially affiliated.</s>\n",
      "<pad><extra_id_0>.<extra_id_1>. Studies show that 80% of the world's population is influenced by dietary habits. Research shows that the majority of people who are overweight or obese are more likely to be obese than their peers.</s>\n"
     ]
    }
   ],
   "source": [
    "def encoder_onnx_inference(input_ids: torch.Tensor, **_) -> BaseModelOutputWithPastAndCrossAttentions:\n",
    "    last_hidden_state = inference_onnx_binding(\n",
    "        model_onnx=enc_onnx,  # noqa: F821\n",
    "        inputs={\"input_ids\": input_ids},\n",
    "        device=input_ids.device.type,\n",
    "        binding=enc_onnx_binding,\n",
    "    )[\"output\"]\n",
    "    return BaseModelOutputWithPastAndCrossAttentions(last_hidden_state=last_hidden_state.type(torch.float32))\n",
    "\n",
    "\n",
    "def encoder_pytorch_inference(input_ids, **_) -> BaseModelOutputWithPastAndCrossAttentions:\n",
    "    with torch.inference_mode():\n",
    "        res = model.encoder(input_ids=input_ids).type(torch.float32)\n",
    "        return res\n",
    "\n",
    "\n",
    "# https://github.com/NVIDIA/TensorRT/blob/main/demo/HuggingFace/T5/export.py\n",
    "class ExtT5(torch.nn.Module, GenerationMixin):\n",
    "    def __init__(self, config: PretrainedConfig, device: torch.device, encoder_func: Callable, decoder_func: Callable):\n",
    "        super(ExtT5, self).__init__()\n",
    "        self.main_input_name = \"input_ids\"  # https://github.com/huggingface/transformers/pull/14803\n",
    "        self.config: PretrainedConfig = config\n",
    "        self.device: torch.device = device\n",
    "\n",
    "        self.encoder_func = encoder_func\n",
    "        self.decoder_func = decoder_func\n",
    "        self.use_cache = True\n",
    "        self.timings = list()\n",
    "\n",
    "    def get_encoder(self):\n",
    "        return self.encoder_func\n",
    "\n",
    "    def get_decoder(self):\n",
    "        return self.decoder_func\n",
    "\n",
    "    def set_cache(self, enable: bool) -> None:\n",
    "        self.use_cache = enable\n",
    "\n",
    "    # from transformers library (modeling_t5.py)\n",
    "    def _reorder_cache(self, past, beam_idx):\n",
    "        reordered_decoder_past = ()\n",
    "        for layer_past_states in past:\n",
    "            # get the correct batch idx from layer past batch dim\n",
    "            # batch dim of `past` is at 2nd position\n",
    "            reordered_layer_past_states = ()\n",
    "            for layer_past_state in layer_past_states:\n",
    "                # need to set correct `past` for each of the four key / value states\n",
    "                reordered_layer_past_states = reordered_layer_past_states + (\n",
    "                    layer_past_state.index_select(0, beam_idx),\n",
    "                )\n",
    "\n",
    "            assert reordered_layer_past_states[0].shape == layer_past_states[0].shape\n",
    "            assert len(reordered_layer_past_states) == len(layer_past_states)\n",
    "\n",
    "            reordered_decoder_past = reordered_decoder_past + (reordered_layer_past_states,)\n",
    "        return reordered_decoder_past\n",
    "\n",
    "    def prepare_inputs_for_generation(self, input_ids, past=None, use_cache=None, **kwargs) -> Dict[str, torch.Tensor]:\n",
    "        params = {\n",
    "            \"encoder_hidden_states\": kwargs[\"encoder_outputs\"][\"last_hidden_state\"],\n",
    "        }\n",
    "        if past is None:  # this is the 1st inferred token\n",
    "            self.timings = list()\n",
    "        if not self.use_cache:\n",
    "            past = None\n",
    "        if past is None:\n",
    "            params[self.main_input_name] = input_ids\n",
    "            params[\"enable_cache\"] = torch.tensor([False], device=\"cuda\", dtype=torch.bool)\n",
    "        else:\n",
    "            params[self.main_input_name] = input_ids[:, -1:]\n",
    "            params[\"enable_cache\"] = torch.tensor([True], device=\"cuda\", dtype=torch.bool)\n",
    "            params[\"past_key_values\"] = past\n",
    "\n",
    "        return params\n",
    "\n",
    "    def forward(\n",
    "        self,\n",
    "        input_ids: torch.Tensor,\n",
    "        encoder_hidden_states: torch.Tensor,\n",
    "        enable_cache: torch.Tensor,\n",
    "        past_key_values: Optional[torch.Tensor] = None,\n",
    "        **_,\n",
    "    ):\n",
    "        start_timer = time()\n",
    "        dec_output = self.get_decoder()(\n",
    "            decoder_input_ids=input_ids,\n",
    "            encoder_hidden_states=encoder_hidden_states,\n",
    "            enable_cache=enable_cache,\n",
    "            past_key_values=past_key_values,\n",
    "        )\n",
    "        self.timings.append(time() - start_timer)\n",
    "        return Seq2SeqLMOutput(logits=dec_output.last_hidden_state, past_key_values=dec_output.past_key_values)\n",
    "\n",
    "\n",
    "model_gen = (\n",
    "    ExtT5(\n",
    "        config=model.config,\n",
    "        device=model.device,\n",
    "        encoder_func=encoder_onnx_inference,  # encoder_pytorch_inference\n",
    "        decoder_func=decoder_onnx_inference,  # decoder_pytorch_inference\n",
    "    )\n",
    "    .cuda()\n",
    "    .eval()\n",
    ")\n",
    "\n",
    "torch.cuda.synchronize()\n",
    "with torch.inference_mode():\n",
    "    print(\n",
    "        tokenizer.decode(\n",
    "            model_gen.generate(\n",
    "                inputs=input_ids,\n",
    "                min_length=30,\n",
    "                max_length=60,\n",
    "                num_beams=4,\n",
    "                no_repeat_ngram_size=2,\n",
    "            )[0],\n",
    "            skip_special_tokens=False,\n",
    "        )\n",
    "    )\n",
    "    print(\n",
    "        tokenizer.decode(\n",
    "            model.generate(\n",
    "                input_ids=input_ids,\n",
    "                min_length=30,\n",
    "                max_length=60,\n",
    "                num_beams=4,\n",
    "                no_repeat_ngram_size=2,\n",
    "            )[0],\n",
    "            skip_special_tokens=False,\n",
    "        )\n",
    "    )"
   ]
  },
  {
   "cell_type": "code",
   "execution_count": 15,
   "metadata": {
    "execution": {
     "iopub.execute_input": "2022-05-05T10:35:22.024026Z",
     "iopub.status.busy": "2022-05-05T10:35:22.023620Z",
     "iopub.status.idle": "2022-05-05T10:38:01.084668Z",
     "shell.execute_reply": "2022-05-05T10:38:01.084204Z"
    },
    "pycharm": {
     "name": "#%%\n"
    }
   },
   "outputs": [
    {
     "name": "stdout",
     "output_type": "stream",
     "text": [
      "ONNX: 45.13586139678955\n",
      "model: 42.57213044166565\n",
      "ONNX + cache: 13.34917950630188\n",
      "model: 11.047776699066162\n",
      "Pytorch: 78.02505421638489\n",
      "model: 76.64945149421692\n",
      "Pytorch + cache: 22.538686990737915\n",
      "model: 20.461787700653076\n"
     ]
    }
   ],
   "source": [
    "from nvtx import nvtx\n",
    "from copy import copy\n",
    "\n",
    "content_len = 1400\n",
    "num_beam = 4\n",
    "\n",
    "with nvtx.annotate(\"ONNX\", color=\"red\"):\n",
    "    model_gen.set_cache(enable=False)\n",
    "    start = time()\n",
    "    model_gen.generate(inputs=input_ids, max_length=content_len, num_beams=num_beam, min_length=content_len)\n",
    "    print(f\"ONNX: {time() - start}\")\n",
    "    print(f\"model: {sum(model_gen.timings)}\")\n",
    "    timing_onnx_no_cache = model_gen.timings\n",
    "\n",
    "with nvtx.annotate(\"ONNX\", color=\"red\"):\n",
    "    model_gen.set_cache(enable=True)\n",
    "    start = time()\n",
    "    model_gen.generate(inputs=input_ids, max_length=content_len, num_beams=num_beam, min_length=content_len)\n",
    "    print(f\"ONNX + cache: {time() - start}\")\n",
    "    print(f\"model: {sum(model_gen.timings)}\")\n",
    "    timing_onnx_cache = model_gen.timings\n",
    "\n",
    "# monckey patching of forward function to add a timer per generated token\n",
    "old_fw = model.forward\n",
    "timing_pytorch = list()\n",
    "\n",
    "\n",
    "def new_fw(self, *args, **kwargs):\n",
    "    timer_start = time()\n",
    "    res = old_fw(self, *args, **kwargs)\n",
    "    torch.cuda.synchronize()  # makes timings correct without having significant impact on e2e latency\n",
    "    timing_pytorch.append(time() - timer_start)\n",
    "    return res\n",
    "\n",
    "\n",
    "model.forward = new_fw.__get__(model)\n",
    "\n",
    "with nvtx.annotate(\"Pytorch\", color=\"orange\"):\n",
    "    model.config.use_cache = False\n",
    "    with torch.inference_mode():\n",
    "        with torch.cuda.amp.autocast():\n",
    "            start = time()\n",
    "            model.generate(inputs=input_ids, max_length=content_len, num_beams=num_beam, min_length=content_len)\n",
    "            torch.cuda.synchronize()\n",
    "            print(f\"Pytorch: {time() - start}\")\n",
    "            print(f\"model: {sum(timing_pytorch)}\")\n",
    "    timing_pytorch_no_cache = copy(timing_pytorch)\n",
    "    timing_pytorch.clear()\n",
    "\n",
    "with nvtx.annotate(\"Pytorch + cache\", color=\"green\"):\n",
    "    model.config.use_cache = True\n",
    "    with torch.inference_mode():\n",
    "        with torch.cuda.amp.autocast():\n",
    "            start = time()\n",
    "            model.generate(inputs=input_ids, max_length=content_len, num_beams=num_beam, min_length=content_len)\n",
    "            torch.cuda.synchronize()\n",
    "            print(f\"Pytorch + cache: {time() - start}\")\n",
    "            print(f\"model: {sum(timing_pytorch)}\")\n",
    "    timing_pytorch_cache = copy(timing_pytorch)\n",
    "    timing_pytorch.clear()\n",
    "model.forward = old_fw"
   ]
  },
  {
   "cell_type": "code",
   "execution_count": 16,
   "metadata": {
    "execution": {
     "iopub.execute_input": "2022-05-05T10:38:01.088067Z",
     "iopub.status.busy": "2022-05-05T10:38:01.087717Z",
     "iopub.status.idle": "2022-05-05T10:38:01.310385Z",
     "shell.execute_reply": "2022-05-05T10:38:01.309929Z"
    },
    "pycharm": {
     "name": "#%%\n"
    }
   },
   "outputs": [
    {
     "data": {
      "text/plain": [
       "<matplotlib.legend.Legend at 0x7fb94cb71fd0>"
      ]
     },
     "execution_count": 16,
     "metadata": {},
     "output_type": "execute_result"
    },
    {
     "data": {
      "image/png": "[encoded data removed]",
      "text/plain": [
       "<Figure size 432x288 with 1 Axes>"
      ]
     },
     "metadata": {
      "needs_background": "light"
     },
     "output_type": "display_data"
    }
   ],
   "source": [
    "axis = range(len(timing_onnx_no_cache))\n",
    "plt.scatter(axis, timing_onnx_no_cache, marker=\"o\", color=\"red\", label=\"ONNX\", s=1)\n",
    "plt.scatter(axis, timing_onnx_cache, marker=\"o\", color=\"purple\", label=\"ONNX + cache\", s=1)\n",
    "plt.scatter(axis, timing_pytorch_no_cache, marker=\"o\", color=\"cyan\", label=\"Pytroch\", s=1)\n",
    "plt.scatter(axis, timing_pytorch_cache, marker=\"o\", color=\"green\", label=\"Pytroch + cache\", s=1)\n",
    "plt.legend()"
   ]
  },
  {
   "cell_type": "code",
   "execution_count": 17,
   "metadata": {
    "execution": {
     "iopub.execute_input": "2022-05-05T10:38:01.313039Z",
     "iopub.status.busy": "2022-05-05T10:38:01.312900Z",
     "iopub.status.idle": "2022-05-05T10:38:01.513830Z",
     "shell.execute_reply": "2022-05-05T10:38:01.513286Z"
    },
    "pycharm": {
     "name": "#%%\n"
    }
   },
   "outputs": [
    {
     "data": {
      "text/plain": [
       "<matplotlib.legend.Legend at 0x7fb93c349850>"
      ]
     },
     "execution_count": 17,
     "metadata": {},
     "output_type": "execute_result"
    },
    {
     "data": {
      "image/png": "[encoded data removed]",
      "text/plain": [
       "<Figure size 432x288 with 1 Axes>"
      ]
     },
     "metadata": {
      "needs_background": "light"
     },
     "output_type": "display_data"
    }
   ],
   "source": [
    "axis = range(len(timing_onnx_no_cache))\n",
    "plt.scatter(axis, np.cumsum(timing_onnx_no_cache), marker=\"o\", color=\"red\", label=\"ONNX\", s=1)\n",
    "plt.scatter(axis, np.cumsum(timing_onnx_cache), marker=\"o\", color=\"purple\", label=\"ONNX + cache\", s=1)\n",
    "plt.scatter(axis, np.cumsum(timing_pytorch_no_cache), marker=\"o\", color=\"cyan\", label=\"Pytroch\", s=1)\n",
    "plt.scatter(axis, np.cumsum(timing_pytorch_cache), marker=\"o\", color=\"green\", label=\"Pytroch + cache\", s=1)\n",
    "plt.legend()"
   ]
  },
  {
   "cell_type": "markdown",
   "metadata": {
    "collapsed": false,
    "pycharm": {
     "name": "#%% md\n"
    }
   },
   "source": [
    "# TODO change axis name to better describe what they are, in particular manage encoder and decoder models with common names\n",
    "\n",
    "\n",
    "link to https://github.com/microsoft/onnxruntime/pull/10651 !"
   ]
  }
 ],
 "metadata": {
  "kernelspec": {
   "display_name": "Python 3 (ipykernel)",
   "language": "python",
   "name": "python3"
  },
  "language_info": {
   "codemirror_mode": {
    "name": "ipython",
    "version": 3
   },
   "file_extension": ".py",
   "mimetype": "text/x-python",
   "name": "python",
   "nbconvert_exporter": "python",
   "pygments_lexer": "ipython3",
   "version": "3.9.12"
  }
 },
 "nbformat": 4,
 "nbformat_minor": 1
}